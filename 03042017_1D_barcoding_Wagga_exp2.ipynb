{
 "cells": [
  {
   "cell_type": "code",
   "execution_count": 15,
   "metadata": {
    "collapsed": true
   },
   "outputs": [],
   "source": [
    "%matplotlib inline"
   ]
  },
  {
   "cell_type": "code",
   "execution_count": 7,
   "metadata": {
    "collapsed": false
   },
   "outputs": [],
   "source": [
    "################################################################################\n",
    "# SCRIPT ONE - READ DISTRIBUTION ANALYSIS FROM BASECALLED READS IN FASTA FILES #\n",
    "################################################################################\n",
    "\n",
    "\n",
    "### IMPORTING MODULES AND DEFINING INPUT-NECESSARY PARAMETERS ###\n",
    "\n",
    "# Importing relevant modules: \n",
    "# * dataframe - pandas \n",
    "# * graphs - matplotlib \n",
    "# * tools - numpy, random, fnmatch, os\n",
    "# * fasta to dataframe conversion - SeqIO\n",
    "import numpy as np\n",
    "import matplotlib.pyplot as plt\n",
    "import matplotlib\n",
    "import os\n",
    "import shutil\n",
    "import pandas as pd\n",
    "import random\n",
    "import collections\n",
    "import math\n",
    "from pandas.tools.plotting import table\n",
    "from itertools import product\n",
    "from Bio import SeqIO\n",
    "from ete3 import NCBITaxa\n",
    "\n",
    "\n",
    "# define root directory within which to create a subdirectory system\n",
    "# define input paths for basecalled read fasta files, rgbesthit and ncbibesthit files\n",
    "work_dir = os.path.abspath('../analysis/') + '/'\n",
    "fasta_input_dir_path = os.path.abspath('../raw_fasta/')+ '/'\n",
    "rgbesthit_input_dir_path = os.path.abspath('../blast/') + '/'\n",
    "ncbibesthit_input_dir_path = os.path.abspath('../blast/')+ '/'\n",
    "\n",
    "\n",
    "# parameters that need to be hard-coded: \n",
    "# - the barcodes tested for\n",
    "# - the reference genome tag list, unique identifiers decided on from the sseqids of the ref genomes\n",
    "# - the reference genome full species names, in the same order as the ref genome tags\n",
    "good_barcodes = ['BC07', 'BC08', 'BC09', 'BC10', 'BC11']\n",
    "ref_genome_tag_list = ['TGAC', 'Zymo', 'Ptri', 'Pst', 'tig']\n",
    "ref_genome_species_list = ['Wheat', \n",
    "                        'Zymoseptoria tritici', \n",
    "                        'Pyrenophore tritici-repentis', \n",
    "                        'P. striformis f. sp. tritici WA', \n",
    "                        'Parastagonospora nodorum']\n",
    "\n",
    "\n",
    "#-------------------------------------------------------------------------------\n",
    "\n",
    "### CREATING THE SUBDIRECTORY SYSTEM INSIDE A SPECIFIED MAIN DIRECTORY ###\n",
    "\n",
    "# Functions that generate main work directories and subdirectories for:\n",
    "# * data (all fasta files)\n",
    "# * blast (all blast output files)\n",
    "# * analysis (all dataframe summary and graph files)\n",
    "# when given a top directory path\n",
    "def create_main_directories(top_dir):\n",
    "    \"\"\"Given a top work directory, creates 3 main subdirectories - data, blast and analysis\"\"\"\n",
    "    main_directory_list = ['data/', 'blast/', 'output/']\n",
    "    for new_direct in main_directory_list:\n",
    "        if not os.path.exists(top_dir + new_direct):\n",
    "            os.makedirs(top_dir + new_direct)\n",
    "\n",
    "def create_data_subdirectories(top_dir):\n",
    "    data_subdirectory_list = ['basecalled/',\n",
    "                        'rghityes/',\n",
    "                        'rghitno/',\n",
    "                        'rghitsamples/']\n",
    "    data_subsubdirectory_list = ['ncbihityes/',\n",
    "                                 'ncbihitno/']\n",
    "    for new_subdirect in data_subdirectory_list:\n",
    "        if not os.path.exists(top_dir + 'data/' + new_subdirect):\n",
    "            os.makedirs(top_dir + 'data/' + new_subdirect)\n",
    "    for new_subsubdirect in data_subsubdirectory_list:\n",
    "        if not os.path.exists(top_dir + 'data/rghitno/' + new_subsubdirect):\n",
    "            os.makedirs(top_dir + 'data/rghitno/' + new_subsubdirect)\n",
    "\n",
    "def create_blast_subdirectories(top_dir):\n",
    "    blast_subdirectory_list = ['rgbesthit/',\n",
    "                               'ncbibesthit/']\n",
    "    for new_subdirect in blast_subdirectory_list:\n",
    "        if not os.path.exists(top_dir + 'blast/' + new_subdirect):\n",
    "            os.makedirs(top_dir + 'blast/' + new_subdirect)\n",
    "\n",
    "def create_analysis_subdirectories(top_dir):\n",
    "    analysis_subdirectory_list = ['graphs/',\n",
    "                                  'tables/',\n",
    "                               'summaries/']\n",
    "    for new_subdirect in analysis_subdirectory_list:\n",
    "        if not os.path.exists(top_dir + 'analysis/' + new_subdirect):\n",
    "            os.makedirs(top_dir + 'analysis/' + new_subdirect)\n",
    "\n",
    "\n",
    "# Apply previous functions to generate data, blast and analysis directories and subdirectories:\n",
    "create_main_directories(work_dir)\n",
    "create_data_subdirectories(work_dir)\n",
    "create_blast_subdirectories(work_dir)\n",
    "create_analysis_subdirectories(work_dir)\n",
    "\n",
    "\n",
    "#-------------------------------------------------------------------------------\n",
    "\n",
    "### MOVING THE BASECALLED FASTA FILES FROM AN INPUT FOLDER TO THE ~/DATA/BASECALLED SUB-DIRECTORY ###\n",
    "\n",
    "# Define a function that extracts the file type from the fastas\n",
    "def get_file_type(string, delimiter):\n",
    "    file_type = string.split(delimiter)\n",
    "    return delimiter + file_type[-1]\n",
    "\n",
    "\n",
    "#Extracts fasta files from the initial input folder and moves them to ~/data/basecalled to be manipulated\n",
    "fasta_input_file_names = [x for x in os.listdir(fasta_input_dir_path) if x.endswith('.fa')]\n",
    "fasta_input_file_names.sort()\n",
    "if fasta_input_file_names:\n",
    "    for fasta_file in fasta_input_file_names:\n",
    "        if os.path.exists(fasta_input_dir_path + fasta_file):\n",
    "            if not os.path.exists(work_dir + 'data/basecalled/' + fasta_file):\n",
    "                shutil.copy2(fasta_input_dir_path + fasta_file, work_dir + 'data/basecalled/' + fasta_file)\n",
    "    fasta_file_type = get_file_type(fasta_input_file_names[-1], '.')\n",
    "\n",
    "    \n",
    "#-------------------------------------------------------------------------------\n",
    "\n",
    "### EXTRACT BARCODES AND FASTA IDS FROM THE FASTA FILES IN ~/DATA/BASECALLED ###\n",
    "  \n",
    "#Generates a list of all fasta files present in data/basecalled\n",
    "basecalled_file_names = os.listdir(work_dir + 'data/basecalled')\n",
    "basecalled_fasta_file_names = [x for x in basecalled_file_names if x.endswith(fasta_file_type)]\n",
    "basecalled_fasta_file_names.sort()\n",
    "\n",
    "\n",
    "#Make a list of all available barcodes the basecalled reads are sorted into, based on fasta file names\n",
    "basecalled_fasta_barcodes = []\n",
    "for bcs in range(0, len(basecalled_fasta_file_names)):\n",
    "    bclabel_index = ''\n",
    "    if int(basecalled_fasta_file_names[bcs].rfind('BC')) > int(basecalled_fasta_file_names[bcs].rfind('NB')):\n",
    "        bclabel_index = int(basecalled_fasta_file_names[bcs].rfind('BC'))\n",
    "    else:\n",
    "        bclabel_index = int(basecalled_fasta_file_names[bcs].rfind('NB'))\n",
    "    basecalled_fasta_barcodes.append(basecalled_fasta_file_names[bcs][bclabel_index:bclabel_index + 4]) #Convert to a search parameter? Try this Yiheng!\n",
    "\n",
    "####working up to here\n"
   ]
  },
  {
   "cell_type": "code",
   "execution_count": 8,
   "metadata": {
    "collapsed": false
   },
   "outputs": [
    {
     "name": "stdout",
     "output_type": "stream",
     "text": [
      "2302_Wagga_1D_barcoding.Metrichor.BC00_2.pass.fa\n",
      "2302_Wagga_1D_barcoding.Metrichor.BC07_2.pass.fa\n",
      "2302_Wagga_1D_barcoding.Metrichor.BC08_2.pass.fa\n",
      "2302_Wagga_1D_barcoding.Metrichor.BC09_2.pass.fa\n",
      "2302_Wagga_1D_barcoding.Metrichor.BC10_2.pass.fa\n",
      "2302_Wagga_1D_barcoding.Metrichor.BC11_2.pass.fa\n"
     ]
    }
   ],
   "source": [
    "#Extracts the ID from the basecalled file names (everything before BC/NB??.fa)\n",
    "basecalled_fasta_file_id_list = []\n",
    "for file_name in basecalled_fasta_file_names:\n",
    "    print(file_name)\n",
    "    bclabel_index = ''\n",
    "    if int(file_name.rfind('BC')) > int(file_name.rfind('NB')):\n",
    "        bclabel_index = int(file_name.rfind('BC'))\n",
    "        basecalled_fasta_file_id_list.append(file_name[0:bclabel_index])\n",
    "    else:\n",
    "        bclabel_index = int(file_name.rfind('NB'))\n",
    "        basecalled_fasta_file_id_list.append(file_name[0:bclabel_index])\n",
    "  \n",
    "basecalled_fasta_file_id = list(set(basecalled_fasta_file_id_list))[0]\n",
    "#print(basecalled_fasta_file_id)  "
   ]
  },
  {
   "cell_type": "code",
   "execution_count": 11,
   "metadata": {
    "collapsed": true
   },
   "outputs": [],
   "source": [
    "#-------------------------------------------------------------------------------\n",
    "\n",
    "### GENERATE SUMMARY OF ALL BASECALLED READS (READ ID, BARCODE, LENGTH, GOOD OR BAD BARCODE) ###\n",
    "\n",
    "#Specifies all barcodes and bad barcodes (good_barcodes is previously defined)\n",
    "all_barcodes = basecalled_fasta_barcodes\n",
    "bad_barcodes = sorted(list(set(all_barcodes) - set(good_barcodes)))\n",
    "\n",
    "\n",
    "#Create lengths.txt file to summarise read_id, barcode and length for basecalled reads, save in analysis/summaries/\n",
    "analysis_summaries_path = work_dir + 'analysis/summaries/'\n",
    "#maybe change the name of this variable\n",
    "complete_path_and_name = os.path.join(analysis_summaries_path, basecalled_fasta_file_id + \"lengths.txt\")\n",
    "lengths_txt = open(complete_path_and_name, \"w\")\n",
    "print(\"Read_id,Barcode,Length,Quality\", file=lengths_txt)\n",
    "\n",
    "\n",
    "# From each read, write read_id, barcode, length, and good/bad barcode info into the text file.\n",
    "# All other barcodes besides the good barcodes are labelled under 'NB00'\n",
    "os.chdir(work_dir + 'data/basecalled/')\n",
    "for bcs, fa_file in zip(basecalled_fasta_barcodes, basecalled_fasta_file_names):\n",
    "    for seq in SeqIO.parse(open(fa_file), 'fasta'):\n",
    "        if bcs in good_barcodes:\n",
    "            print(seq.id + \",\" + bcs + \",\" + str(len(seq)) + \",\" + 'Good', file=lengths_txt)\n",
    "        elif bcs in bad_barcodes:\n",
    "            print(seq.id + \",\" + 'NB00' + \",\" + str(len(seq)) + \",\" + 'Bad', file=lengths_txt)\n",
    "        else:\n",
    "            continue\n",
    "lengths_txt.close()\n",
    "os.chdir(work_dir)"
   ]
  },
  {
   "cell_type": "code",
   "execution_count": 16,
   "metadata": {
    "collapsed": false
   },
   "outputs": [
    {
     "data": {
      "image/png": "[encoded data removed]",
      "text/plain": [
       "<matplotlib.figure.Figure at 0x7f17231ad438>"
      ]
     },
     "metadata": {},
     "output_type": "display_data"
    }
   ],
   "source": [
    "#-------------------------------------------------------------------------------\n",
    "\n",
    "### ANALYSE BASECALLED READ SUMMARY (GET MAX, MIN, MEAN, MEDIAN, COUNT) ###\n",
    "\n",
    "# Convert the lengths.txt file to a manipulatible pandas dataframe\n",
    "basecalled_df = pd.read_csv(complete_path_and_name)\n",
    "\n",
    "\n",
    "# Summarises the dataframe to show read count, sum, max, mean, median of read lengths per barcode\n",
    "basecalled_df_pivot = basecalled_df.pivot_table(values='Length', \n",
    "                                                index='Barcode', \n",
    "                                                aggfunc=[len, np.sum, np.max, np.mean, np.median],\n",
    "                                                fill_value=0, \n",
    "                                                margins=True)\n",
    "basecalled_df_pivot.index.name = None\n",
    "\n",
    "for clmns in ['len', 'amax', 'median']:\n",
    "    basecalled_df_pivot[clmns] = basecalled_df_pivot[clmns].apply(lambda x: int(x))\n",
    "basecalled_df_pivot['sum'] = basecalled_df_pivot['sum'].apply(lambda x: \"{0:.3f}\".format(int(x)/1000000))\n",
    "basecalled_df_pivot['mean'] = basecalled_df_pivot['mean'].apply(lambda x: \"{0:.2f}\".format(x))\n",
    "basecalled_df_pivot_formal = basecalled_df_pivot.copy() #titles have whitespace, make fancier\n",
    "basecalled_df_pivot_formal.rename(columns={'len': 'Number of Reads', \n",
    "                                    'sum': 'Total Length (Mbp)',\n",
    "                                    'amax': 'Max Length (bp)',\n",
    "                                    'mean': 'Mean Length (bp)',\n",
    "                                    'median': 'Median Length (bp)'}, inplace=True)\n",
    "\n",
    "\n",
    "# Saves the table summary in the ~/analysis/tables/ subdirectory\n",
    "fig = plt.figure(figsize=(9,2))\n",
    "ax = fig.add_subplot(1, 1, 1, frame_on=False)\n",
    "ax.xaxis.set_visible(False)  # hide the x axis\n",
    "ax.yaxis.set_visible(False)  # hide the y axis\n",
    "\n",
    "table(ax, basecalled_df_pivot_formal, loc='center')\n",
    "\n",
    "plt.savefig(os.path.join(work_dir + 'analysis/tables/', \n",
    "                        basecalled_fasta_file_id + \"_basecalled_reads_summary.png\"))\n",
    "\n"
   ]
  },
  {
   "cell_type": "code",
   "execution_count": 33,
   "metadata": {
    "collapsed": true
   },
   "outputs": [],
   "source": []
  },
  {
   "cell_type": "code",
   "execution_count": null,
   "metadata": {
    "collapsed": true
   },
   "outputs": [],
   "source": []
  },
  {
   "cell_type": "code",
   "execution_count": 37,
   "metadata": {
    "collapsed": false
   },
   "outputs": [
    {
     "data": {
      "image/png": "[encoded data removed]",
      "text/plain": [
       "<matplotlib.figure.Figure at 0x7f17214ad400>"
      ]
     },
     "metadata": {},
     "output_type": "display_data"
    },
    {
     "data": {
      "image/png": "[encoded data removed]",
      "text/plain": [
       "<matplotlib.figure.Figure at 0x7f172184e668>"
      ]
     },
     "metadata": {},
     "output_type": "display_data"
    }
   ],
   "source": [
    "\n",
    "#-------------------------------------------------------------------------------\n",
    "\n",
    "### CONSTRUCT HISTOGRAMS CHARTING READ DISTRIBUTION, BASED FROM THE DATAFRAME ###\n",
    "bc_list = basecalled_df_pivot.index\n",
    "bc_list = list(bc_list)\n",
    "bc_list.remove('All')\n",
    "# Function that generates a random colour\n",
    "def random_color(x=1):\n",
    "    r = lambda: random.randint(0,255)\n",
    "    return ('#%02X%02X%02X' % (r(),r(),r()))\n",
    "\n",
    "\n",
    "#Generates a histogram showing the total read length distribution for all basecalled reads\n",
    "plt.figure(figsize=(10,5))\n",
    "basecalled_df.Length.hist(bins=30)\n",
    "\n",
    "plt.title('Basecalled Reads - Total Read Length Distribution', y=1.03, fontsize='x-large', fontweight='bold')\n",
    "\n",
    "plt.xlabel('Read Length', fontsize=16)\n",
    "plt.xticks(np.arange(0, basecalled_df.Length.max() + 1, 2000))\n",
    "plt.xlim([-1000, basecalled_df.Length.max() + 1000])\n",
    "\n",
    "plt.ylabel('Read Count', fontsize=16)\n",
    "\n",
    "for idx, clmn_name in enumerate(list(basecalled_df_pivot_formal.columns)):\n",
    "    plt.annotate(clmn_name + ' = ' + str(basecalled_df_pivot_formal[clmn_name]['All']), \n",
    "                 xy=(1, 1), \n",
    "                 xycoords='axes fraction', \n",
    "                 fontsize=16, \n",
    "                 fontweight='normal',\n",
    "                 xytext=(-20, -30 - 30*idx), \n",
    "                 textcoords='offset points', \n",
    "                 ha='right', \n",
    "                 va='top')\n",
    "    \n",
    "plt.savefig(work_dir + 'analysis/graphs/' + basecalled_fasta_file_id + 'basecalled_read_distribution_total.png', bbox_inches='tight')\n",
    "\n",
    "\n",
    "#Generates a histogram showing the total read length distribution for all basecalled reads per barcode\n",
    "basecalled_barcodes = list(basecalled_df['Barcode'].unique())\n",
    "\n",
    "if len(list(basecalled_df['Barcode'].unique())) % 2 == 0:\n",
    "    no_of_subplots = len(basecalled_barcodes)\n",
    "else:\n",
    "    no_of_subplots = len(basecalled_barcodes) + 1\n",
    "\n",
    "#Always 2 columns, bc-count/2 rows \n",
    "no_of_subplots_pair = [int(no_of_subplots/2), 2]\n",
    "\n",
    "#Produce pairs of indices correlating to the coordinates of the subplots\n",
    "subplot_coordinates = list(product(range(no_of_subplots_pair[0]), range(no_of_subplots_pair[1])))\n",
    "subplot_coordinates_list = [list(l) for l in subplot_coordinates]\n",
    "subplot_coordinates_list_rows = [i[0] for i in subplot_coordinates_list]\n",
    "subplot_coordinates_list_columns = [i[1] for i in subplot_coordinates_list]\n",
    "\n",
    "fig, ax = plt.subplots(no_of_subplots_pair[0], no_of_subplots_pair[1], figsize=(15,10))\n",
    "\n",
    "xmax = int(basecalled_df.Length.max())\n",
    "\n",
    "max_count_list = []\n",
    "for bcs in list(basecalled_df['Barcode'].unique()):\n",
    "    max_count_list.append(np.histogram(basecalled_df.loc[basecalled_df['Barcode'] == bcs]['Length'], 60)[0].max())\n",
    "max_count_list.sort()\n",
    "max_count_list_max = max_count_list[-1]\n",
    "max_count_list_max_digits = len(str(max_count_list_max))\n",
    "exact_ylim = (int(max_count_list_max / 10**(max_count_list_max_digits-1))+1)*(10**(max_count_list_max_digits-1))\n",
    "\n",
    "def applyGroupHistograms(ax_ind1, ax_ind2, bcs):\n",
    "    ax[ax_ind1, ax_ind2].hist(basecalled_df.groupby('Barcode')['Length'].get_group(bcs), \n",
    "                              bins=range(0, xmax, int(xmax/60)), \n",
    "                              color=random_color(), \n",
    "                              alpha=0.8)\n",
    "    ax[ax_ind1, ax_ind2].set_title(bcs)\n",
    "    ax[ax_ind1, ax_ind2].set_xlabel('Read Length')\n",
    "    ax[ax_ind1, ax_ind2].set_ylabel('Read Count');\n",
    "    ax[ax_ind1, ax_ind2].set_xlim([-1000, basecalled_df['Length'].max() + 1000])\n",
    "    ax[ax_ind1, ax_ind2].set_xticks(np.arange(0, xmax + 1, 2000))\n",
    "    ax[ax_ind1, ax_ind2].set_ylim(0, exact_ylim)\n",
    "    ax[ax_ind1, ax_ind2].grid(True, which='Major')\n",
    "    \n",
    "    for idx, clmn_name in enumerate(['Number of Reads', 'Total Length (Mbp)', 'Median Length (bp)']):\n",
    "        ax[ax_ind1, ax_ind2].annotate(clmn_name + ' = ' + str(basecalled_df_pivot_formal[clmn_name][bcs]), \n",
    "                     xy=(1, 1), \n",
    "                     xycoords='axes fraction', \n",
    "                     fontsize=16, \n",
    "                     fontweight='normal',\n",
    "                     xytext=(-20, -25 - 30*idx), \n",
    "                     textcoords='offset points', \n",
    "                     ha='right', \n",
    "                     va='top')\n",
    "\n",
    "for ax_ind1, ax_ind2, bcs, in zip(subplot_coordinates_list_rows, subplot_coordinates_list_columns, bc_list):\n",
    "    applyGroupHistograms(ax_ind1, ax_ind2, bcs)    \n",
    "\n",
    "if len(list(basecalled_df['Barcode'].unique())) != 0:\n",
    "    plt.delaxes(ax[subplot_coordinates_list_rows[-1], subplot_coordinates_list_columns[-1]])\n",
    "\n",
    "plt.suptitle('Basecalled Reads - Read Length Distribution By Barcode', \n",
    "             y=1.03, \n",
    "             fontsize='x-large', \n",
    "             fontweight='bold')\n",
    "plt.tight_layout()\n",
    "plt.savefig(work_dir + 'analysis/graphs/' + basecalled_fasta_file_id + 'basecalled_read_distribution_bcsort.png', bbox_inches='tight')    \n",
    "    \n"
   ]
  },
  {
   "cell_type": "code",
   "execution_count": null,
   "metadata": {
    "collapsed": false
   },
   "outputs": [],
   "source": []
  },
  {
   "cell_type": "code",
   "execution_count": null,
   "metadata": {
    "collapsed": false
   },
   "outputs": [],
   "source": [
    "### BREAK ###"
   ]
  },
  {
   "cell_type": "code",
   "execution_count": null,
   "metadata": {
    "collapsed": true
   },
   "outputs": [],
   "source": []
  },
  {
   "cell_type": "code",
   "execution_count": null,
   "metadata": {
    "collapsed": true
   },
   "outputs": [],
   "source": [
    "### DATAFRAME ANALYSIS - COLLATION OF RGBESTHIT DATA ###"
   ]
  },
  {
   "cell_type": "code",
   "execution_count": null,
   "metadata": {
    "collapsed": true
   },
   "outputs": [],
   "source": [
    "#Extracts rgblast files from the initial input folder and moves them to data/basecalled to be manipulated\n",
    "rgblast_input_file_names = os.listdir(rgblast_input_dir_path)\n",
    "rgblast_input_file_names.sort()\n",
    "if rgblast_input_file_names:\n",
    "    rgblast_file_type = get_file_type(rgblast_input_file_names[-1], '.')\n",
    "\n",
    "    for rgblast_file in rgblast_input_file_names:\n",
    "        if os.path.exists(rgblast_input_dir_path + rgblast_file):\n",
    "            if not os.path.exists(work_dir + 'blast/rgbesthit/' + rgblast_file):\n",
    "                os.rename(rgblast_input_dir_path + rgblast_file, work_dir + 'blast/rgbesthit/' + rgblast_file)"
   ]
  },
  {
   "cell_type": "code",
   "execution_count": null,
   "metadata": {
    "collapsed": false
   },
   "outputs": [],
   "source": [
    "# creates a list of all the reference genome blast besthit file names in blast/rgbesthit\n",
    "rgblast_file_names = os.listdir(work_dir + 'blast/rgbesthit')\n",
    "rgblast_besthit_file_names = [x for x in rgblast_file_names if rgblast_file_type in x]\n",
    "rgblast_besthit_file_names.sort()"
   ]
  },
  {
   "cell_type": "code",
   "execution_count": null,
   "metadata": {
    "collapsed": false
   },
   "outputs": [],
   "source": [
    "#Extracts the reference genome blast id from the rgblast hit file names\n",
    "rgblast_file_id_list = []\n",
    "for file_name in rgblast_besthit_file_names:\n",
    "    start = file_name.find(fasta_file_type)\n",
    "    end = file_name.find(rgblast_file_type)\n",
    "    rgblast_file_id_list.append(file_name[start+len(fasta_file_type):end])\n",
    "rgblast_file_id = list(set(rgblast_file_id_list))[0]"
   ]
  },
  {
   "cell_type": "code",
   "execution_count": null,
   "metadata": {
    "collapsed": false
   },
   "outputs": [],
   "source": [
    "#Make a list of all available barcodes the rgbesthit reads are sorted into, based on rgbesthit file names\n",
    "blast_besthit_file_names_idstrip = [file_name.strip(basecalled_fasta_file_id) for file_name in rgblast_besthit_file_names]\n",
    "rgblast_besthit_barcodes = []\n",
    "for bcs in range(0, len(rgblast_besthit_file_names_idstrip)):\n",
    "    bclabel_index = ''\n",
    "    if int(rgblast_besthit_file_names_idstrip[bcs].find('BC')) > int(rgblast_besthit_file_names_idstrip[bcs].find('NB')):\n",
    "        bclabel_index = int(rgblast_besthit_file_names_idstrip[bcs].find('BC'))\n",
    "    else:\n",
    "        bclabel_index = int(rgblast_besthit_file_names_idstrip[bcs].find('NB'))\n",
    "    rgblast_besthit_barcodes.append(rgblast_besthit_file_names_idstrip[bcs][bclabel_index:bclabel_index + 4])"
   ]
  },
  {
   "cell_type": "code",
   "execution_count": null,
   "metadata": {
    "collapsed": true
   },
   "outputs": [],
   "source": []
  },
  {
   "cell_type": "code",
   "execution_count": null,
   "metadata": {
    "collapsed": false
   },
   "outputs": [],
   "source": []
  },
  {
   "cell_type": "code",
   "execution_count": null,
   "metadata": {
    "collapsed": false
   },
   "outputs": [],
   "source": [
    "#Makes a dictionary - key (barcode) : value (dataframe of rgblast hit results per barcode)\n",
    "os.chdir(work_dir + 'blast/rgbesthit')\n",
    "rgblast_dfs_dict = {}\n",
    "blast_output_parameters = ['qseqid', 'sseqid', 'evalue', 'bitscore', 'length', 'pident', 'nident']\n",
    "for bcs, besthit_file in zip(rgblast_besthit_barcodes, rgblast_besthit_file_names):\n",
    "    if rgblast_file_id in besthit_file:\n",
    "        rgblast_dfs_dict[bcs] = pd.read_table(besthit_file, delim_whitespace=True, \n",
    "                                           names=blast_output_parameters) #hardcoded\n",
    "for bcs in rgblast_dfs_dict.keys():\n",
    "    rgblast_dfs_dict[bcs]['barcode'] = bcs"
   ]
  },
  {
   "cell_type": "code",
   "execution_count": null,
   "metadata": {
    "collapsed": false
   },
   "outputs": [],
   "source": [
    "# NECESSARY TO HARD CODE - Must supply two lists of equal length, in the desired order: \n",
    "# one corresponding to unique letter combos in the sseqid ids (tags)\n",
    "# one corresponding to the full names of the reference genomes used\n",
    "\n",
    "def assign_species_from_sseqid(x):\n",
    "    for rg_tag, rg_full in zip(ref_genome_tag_list, ref_genome_species_list):    \n",
    "        if rg_tag in str(x):\n",
    "            return rg_full\n",
    "    else:\n",
    "        return 'N/A'\n",
    "\n",
    "for bcs in rgblast_dfs_dict.keys():\n",
    "    rgblast_dfs_dict[bcs]['species'] = rgblast_dfs_dict[bcs]['sseqid'].apply(assign_species_from_sseqid)\n"
   ]
  },
  {
   "cell_type": "code",
   "execution_count": null,
   "metadata": {
    "collapsed": false
   },
   "outputs": [],
   "source": [
    "#Combining the BC00 reads from BLAST\n",
    "if 'BC00' in rgblast_dfs_dict.keys():\n",
    "    rgblast_dfs_dict['BC00']['barcode'] = 'NB00'\n",
    "\n",
    "#Combine all the reference genome hit dataframes across all barcodes\n",
    "rgblast_df_list = []\n",
    "for bcs in rgblast_dfs_dict.keys():\n",
    "    rgblast_df_list.append(rgblast_dfs_dict[bcs])\n",
    "    \n",
    "rgblast_df_joint = pd.concat(rgblast_df_list, axis=0, ignore_index=True)\n",
    "rgblast_df_joint.sort_values('barcode', ascending=True, inplace=True)\n",
    "rgblast_df_joint.reset_index(drop=True, inplace=True)"
   ]
  },
  {
   "cell_type": "code",
   "execution_count": null,
   "metadata": {
    "collapsed": false
   },
   "outputs": [],
   "source": [
    "#Create a pivot table showing all reference genome hit counts for each barcode\n",
    "rgblast_df_joint_pivot = rgblast_df_joint.pivot_table(values='nident', index='barcode', columns='species', aggfunc='count', fill_value=0, margins=True)\n",
    "rgblast_df_joint_pivot = rgblast_df_joint_pivot.applymap(int)\n",
    "rgblast_df_joint_pivot.index.name = None\n",
    "rgblast_df_joint_pivot.columns.name = None"
   ]
  },
  {
   "cell_type": "code",
   "execution_count": null,
   "metadata": {
    "collapsed": false
   },
   "outputs": [],
   "source": [
    "#Save pivot table to analysis/tables/\n",
    "fig = plt.figure(figsize=(11,2))\n",
    "ax = fig.add_subplot(1, 1, 1, frame_on=False)\n",
    "ax.xaxis.set_visible(False)  # hide the x axis\n",
    "ax.yaxis.set_visible(False)  # hide the y axis\n",
    "\n",
    "table(ax, rgblast_df_joint_pivot, loc='center')\n",
    "\n",
    "plt.savefig(os.path.join(work_dir + 'analysis/tables/', \n",
    "                        basecalled_fasta_file_id + \"_rgblasthit_reads_summary.png\"))\n"
   ]
  },
  {
   "cell_type": "code",
   "execution_count": null,
   "metadata": {
    "collapsed": false
   },
   "outputs": [],
   "source": []
  },
  {
   "cell_type": "code",
   "execution_count": null,
   "metadata": {
    "collapsed": false
   },
   "outputs": [],
   "source": []
  },
  {
   "cell_type": "code",
   "execution_count": null,
   "metadata": {
    "collapsed": false
   },
   "outputs": [],
   "source": [
    "#Removes the 'all' column (for graphing purposes)\n",
    "rgblast_df_joint_pivot_noall = rgblast_df_joint_pivot.drop('All', axis=1)"
   ]
  },
  {
   "cell_type": "code",
   "execution_count": null,
   "metadata": {
    "collapsed": false
   },
   "outputs": [],
   "source": [
    "# Construct a grouped bar chart showing the reference genome hit counts per barcode (log y axis)\n",
    "def generateGBGforRGHC(dropmaxspecies=False):\n",
    "    n_groups = len(rgblast_df_joint_pivot_noall.index.values)\n",
    "\n",
    "    max_genome = str(rgblast_df_joint_pivot_noall.ix['All'].idxmax(axis=1))\n",
    "\n",
    "    spc_list = list(rgblast_df_joint_pivot_noall.columns)\n",
    "    \n",
    "    if dropmaxspecies == True:\n",
    "        spc_list.remove(max_genome)\n",
    "\n",
    "    n_species_dict = {}\n",
    "    for spc in spc_list:\n",
    "        n_species_dict[spc] = tuple(rgblast_df_joint_pivot_noall[spc])\n",
    "\n",
    "    n_nohit = tuple(basecalled_df_pivot['len'].values - rgblast_df_joint_pivot['All'].values)    \n",
    "    \n",
    "    fig, ax = plt.subplots(figsize=(7,3))\n",
    "\n",
    "    index = np.arange(n_groups)\n",
    "    bar_width = 0.13\n",
    "    opacity = 0.4\n",
    "\n",
    "    if dropmaxspecies == False:\n",
    "        plt.bar(index - bar_width*2, \n",
    "            n_nohit, \n",
    "            bar_width,\n",
    "            alpha = opacity,\n",
    "            log = True,\n",
    "            color = 'k',\n",
    "            label = 'No Hit')\n",
    "\n",
    "        for idx, spc in enumerate(spc_list):\n",
    "            plt.bar(index - bar_width + bar_width*idx, \n",
    "                n_species_dict[spc], \n",
    "                bar_width,\n",
    "                alpha = opacity,\n",
    "                log = True,\n",
    "                color = random_color(x),\n",
    "                label = spc)\n",
    "    else:\n",
    "        for idx, spc in enumerate(spc_list):\n",
    "            plt.bar(index - bar_width + bar_width*idx, \n",
    "                n_species_dict[spc], \n",
    "                bar_width,\n",
    "                alpha = opacity,\n",
    "                color = random_color(x),\n",
    "                label = spc)\n",
    "            \n",
    "    def generate_upper_ylim(graph_max):\n",
    "        \"\"\"Takes a value, counts the digits and outputs a value corresponding to 10*digits\"\"\"\n",
    "        digits = len(str(graph_max))\n",
    "        round_up = 10**(digits)\n",
    "        return round_up\n",
    "\n",
    "    plt.xlabel('Barcode')\n",
    "    plt.xticks(index + bar_width*1.2, tuple(rgblast_df_joint_pivot_noall.index.values))\n",
    "\n",
    "    plt.ylabel('Number of Reads')\n",
    "    if dropmaxspecies == False:\n",
    "        plt.ylim(0, generate_upper_ylim(rgblast_df_joint_pivot['All'].values.max()))\n",
    "    else:\n",
    "        rgblast_df_joint_pivot_nomaxspecies = rgblast_df_joint_pivot_noall.copy()\n",
    "        rgblast_df_joint_pivot_nomaxspecies.drop(max_genome, axis=1, inplace=True)\n",
    "        rgblast_df_joint_pivot_nomaxspecies['All'] = rgblast_df_joint_pivot_nomaxspecies.sum(axis=1)\n",
    "        plt.ylim(0, (rgblast_df_joint_pivot_nomaxspecies['All'].values.max()+1)/2)\n",
    "\n",
    "    plt.title('Number of Reads Hitting Specific Reference Genomes', y=1.08)\n",
    "    plt.legend(loc='center left', bbox_to_anchor=(1.01, 0.5), fontsize=10)\n",
    "    plt.grid(b=None, which='major', axis='y', linestyle='dashed', linewidth=0.2)\n",
    "    plt.margins(x=0.1)\n",
    "    plt.tick_params(top=\"off\", right=\"off\", bottom='off')\n",
    "    plt.tight_layout()\n",
    "    if dropmaxspecies == False:\n",
    "        plt.savefig(work_dir + 'analysis/graphs/' + basecalled_fasta_file_id + 'ref_genome_hit_counts.png', bbox_inches='tight')\n",
    "    else:\n",
    "        plt.savefig(work_dir + 'analysis/graphs/' + basecalled_fasta_file_id + 'ref_genome_hit_counts_nomaxspecies.png', bbox_inches='tight')"
   ]
  },
  {
   "cell_type": "code",
   "execution_count": null,
   "metadata": {
    "collapsed": false
   },
   "outputs": [],
   "source": [
    "#Generate the graphs\n",
    "generateGBGforRGHC(dropmaxspecies=False)\n",
    "generateGBGforRGHC(dropmaxspecies=True)"
   ]
  },
  {
   "cell_type": "code",
   "execution_count": null,
   "metadata": {
    "collapsed": true
   },
   "outputs": [],
   "source": []
  },
  {
   "cell_type": "code",
   "execution_count": null,
   "metadata": {
    "collapsed": false
   },
   "outputs": [],
   "source": []
  },
  {
   "cell_type": "code",
   "execution_count": null,
   "metadata": {
    "collapsed": false
   },
   "outputs": [],
   "source": [
    "#Changes rgblast pivot table count results to rgblast % within each barcode\n",
    "rgblast_joint_pivot_table_pc = rgblast_df_joint_pivot.copy()\n",
    "\n",
    "for spcs in rgblast_joint_pivot_table_pc.columns:\n",
    "    rgblast_joint_pivot_table_pc[str(spcs) + '%'] = np.round((rgblast_joint_pivot_table_pc[spcs] / rgblast_joint_pivot_table_pc['All'] * 100), 3)\n",
    "for spcs in rgblast_joint_pivot_table_pc.columns:\n",
    "    if '%' not in spcs:\n",
    "        rgblast_joint_pivot_table_pc.drop(spcs, axis=1, inplace=True)\n",
    "    \n",
    "rgblast_joint_pivot_table_pc.drop('All%', axis=1, inplace=True)"
   ]
  },
  {
   "cell_type": "code",
   "execution_count": null,
   "metadata": {
    "collapsed": false
   },
   "outputs": [],
   "source": [
    "# Construct a grouped bar chart showing the reference genome hit % per barcode (log y axis)\n",
    "def generateGBGPCforRGHC(dropmaxspecies=False):\n",
    "    n_groups = len(rgblast_joint_pivot_table_pc.index.values)\n",
    "\n",
    "    max_genome = str(rgblast_joint_pivot_table_pc.ix['All'].idxmax(axis=1))\n",
    "\n",
    "    pos = list(range(len(rgblast_joint_pivot_table_pc[max_genome])))\n",
    "    width = 0.15\n",
    "    \n",
    "    columns_pc = list(rgblast_joint_pivot_table_pc.columns)\n",
    "    columns_nopc = list(map(lambda x:x.strip(\"%\"), columns_pc))\n",
    "    if dropmaxspecies == True:\n",
    "        columns_pc = [x for x in columns_pc if x != max_genome]\n",
    "        columns_nopc = [x for x in columns_nopc if x != max_genome.strip('%')]\n",
    "    \n",
    "    barcodes = list(rgblast_joint_pivot_table_pc.index)\n",
    "    fig, ax = plt.subplots(figsize=(8,3))\n",
    "\n",
    "    for ref_genome in columns_pc:  \n",
    "        plt.bar([p + width*int(columns_pc.index(ref_genome)) for p in pos], \n",
    "                rgblast_joint_pivot_table_pc[ref_genome], \n",
    "                width, \n",
    "                alpha=0.5, \n",
    "                color=random_color(x), \n",
    "                label=None)\n",
    "        \n",
    "    ax.set_ylabel('% of Reads', fontsize=14)\n",
    "    \n",
    "    rgblast_joint_pivot_table_pc_nomaxspecies = rgblast_joint_pivot_table_pc.copy()\n",
    "    rgblast_joint_pivot_table_pc_nomaxspecies.drop(max_genome, axis=1, inplace=True)\n",
    "    rgblast_joint_pivot_table_pc_nomaxspecies['All'] = rgblast_joint_pivot_table_pc_nomaxspecies.sum(axis=1)\n",
    "    \n",
    "    ax.set_ylim([0, int(rgblast_joint_pivot_table_pc_nomaxspecies['All'].values.max()+1)])\n",
    "    ax.set_yticks(range(0, int(rgblast_joint_pivot_table_pc_nomaxspecies['All'].values.max()+2), 1))\n",
    "    ax.set_xlabel('Barcode', fontsize=14)\n",
    "    ax.set_xticks([p + 2.5 * width for p in pos])\n",
    "    ax.set_xticklabels(barcodes)\n",
    "    ax.tick_params(top=\"off\", right=\"off\", bottom='off')\n",
    "    ax.set_title('Reads Hitting Reference Genomes - % Hit Per Genome By Barcode', y=1.08, fontweight='bold', fontsize=16)\n",
    "    \n",
    "    if dropmaxspecies == False:\n",
    "        for idx, bcs in enumerate(barcodes):\n",
    "            ax.annotate(str(float(\"{0:.2f}\".format(rgblast_joint_pivot_table_pc[max_genome][bcs]))), \n",
    "                     xy=(0.06, 0.95), xycoords='axes fraction', fontsize=10, xytext=(55*idx, 0), textcoords='offset points', \n",
    "                     ha='left', va='top')\n",
    "    \n",
    "    plt.xlim(min(pos) - width, max(pos) + 0.3 + width*4)\n",
    "    plt.legend(columns_nopc, loc='center left', bbox_to_anchor=(1.01, 0.5), fontsize=18, prop={'weight':'normal'})\n",
    "    plt.grid(b=None, which='major', axis='y', linestyle='dashed', linewidth=0.2)\n",
    "    if dropmaxspecies == False:\n",
    "        plt.savefig(work_dir + 'analysis/graphs/' + basecalled_fasta_file_id + 'ref_genome_hit_percentage.png', bbox_inches='tight')\n",
    "    else:\n",
    "        plt.savefig(work_dir + 'analysis/graphs/' + basecalled_fasta_file_id + 'ref_genome_hit_percentage_nomaxspecies.png', bbox_inches='tight')"
   ]
  },
  {
   "cell_type": "code",
   "execution_count": null,
   "metadata": {
    "collapsed": false
   },
   "outputs": [],
   "source": [
    "#Construct the graphs\n",
    "generateGBGPCforRGHC(dropmaxspecies=False)\n",
    "generateGBGPCforRGHC(dropmaxspecies=True)"
   ]
  },
  {
   "cell_type": "code",
   "execution_count": null,
   "metadata": {
    "collapsed": false
   },
   "outputs": [],
   "source": []
  },
  {
   "cell_type": "code",
   "execution_count": null,
   "metadata": {
    "collapsed": true
   },
   "outputs": [],
   "source": []
  },
  {
   "cell_type": "code",
   "execution_count": null,
   "metadata": {
    "collapsed": false
   },
   "outputs": [],
   "source": [
    "#Generate subsamples of your reference genome hits to be blasted\n",
    "os.chdir(work_dir + 'data/basecalled/')\n",
    "blast_hit_sample_id = \".blasthitsample_\"\n",
    "data_rghitsamples_path = work_dir + 'data/rghitsamples/'\n",
    "\n",
    "def generate_blasthit_samples(bcs, smp, rpts):\n",
    "    for rpt in range(1, rpts+1):\n",
    "        \n",
    "        rgblast_df_joint_sample = rgblast_df_joint.loc[rgblast_df_joint['barcode'] == str(bcs)].sample(n = smp)\n",
    "        rgblast_df_joint_sample_list = list(rgblast_df_joint_sample['qseqid'].values)\n",
    "        \n",
    "        rgblasthitsample_id = rgblast_file_id + blast_hit_sample_id + str(rpt) + fasta_file_type\n",
    "        rgblasthitsample_file = basecalled_fasta_file_id + bcs + rgblasthitsample_id\n",
    "\n",
    "        rgblasthitsample_sequences = []\n",
    "        if bcs == 'NB00':\n",
    "            for badbcs in bad_barcodes:\n",
    "                for seq in SeqIO.parse(open(basecalled_fasta_file_id + str(badbcs) + fasta_file_type), 'fasta'):\n",
    "                    if seq.id in rgblast_df_joint_sample_list:\n",
    "                        rgblasthitsample_sequences.append(seq)\n",
    "            SeqIO.write(rgblasthitsample_sequences, os.path.join(data_rghitsamples_path, \n",
    "                                                                 rgblasthitsample_file), \"fasta\")\n",
    "        else:\n",
    "            for seq in SeqIO.parse(open(basecalled_fasta_file_id + str(bcs) + fasta_file_type), 'fasta'):\n",
    "                if seq.id in rgblast_df_joint_sample_list:\n",
    "                    rgblasthitsample_sequences.append(seq)\n",
    "            SeqIO.write(rgblasthitsample_sequences, os.path.join(data_rghitsamples_path, \n",
    "                                                                 rgblasthitsample_file), \"fasta\")\n",
    "        \n",
    "            "
   ]
  },
  {
   "cell_type": "code",
   "execution_count": null,
   "metadata": {
    "collapsed": false
   },
   "outputs": [],
   "source": [
    "# Generate samples\n",
    "for bcs in good_barcodes:\n",
    "    generate_blasthit_samples(bcs, 1000, 3)\n",
    "generate_blasthit_samples('NB00', 500, 3)"
   ]
  },
  {
   "cell_type": "code",
   "execution_count": null,
   "metadata": {
    "collapsed": false
   },
   "outputs": [],
   "source": []
  },
  {
   "cell_type": "code",
   "execution_count": null,
   "metadata": {
    "collapsed": true
   },
   "outputs": [],
   "source": []
  },
  {
   "cell_type": "code",
   "execution_count": null,
   "metadata": {
    "collapsed": false
   },
   "outputs": [],
   "source": [
    "#def generate_notblasted_counts(bcs):\n",
    "    #read_id_list = ''\n",
    "    #read_id_list = basecalled_df.groupby('Barcode')['Read_id'].get_group(bcs).tolist()\n",
    "    #qseqid_list = ''\n",
    "    #qseqid_list = rgblast_df_joint.groupby('barcode')['qseqid'].get_group(bcs).tolist()\n",
    "    #not_rgblasted_list = sorted(list(set(read_id_list) - set(qseqid_list)))\n",
    "    #print(len(read_id_list))\n",
    "    #print(len(qseqid_list))\n",
    "    #print(len(not_rgblasted_list))\n",
    "    \n",
    "#generate_notblasted_counts('BC03')"
   ]
  },
  {
   "cell_type": "code",
   "execution_count": null,
   "metadata": {
    "collapsed": false
   },
   "outputs": [],
   "source": [
    "#Generates fasta files with/without the reads hitting the reference genomes, \n",
    "#sorts them to their appropriate folder location\n",
    "os.chdir(work_dir + 'data/basecalled/')\n",
    "def generate_rghit_fasta(bcs, rghit):\n",
    "    \"\"\"Takes basecalled.df, and list of read_ids from rgblast_df_joint. For a single barcode:\n",
    "    - if rghit is yes, extract a fasta file with all the reads hitting the reference genomes to data/rghityes\n",
    "    - if rghit is no, extract a fasta file with all the reads not hitting the reference genomes to data/rghitno\"\"\"\n",
    "    os.chdir(work_dir + 'data/basecalled/')\n",
    "    read_id_list = basecalled_df.groupby('Barcode')['Read_id'].get_group(bcs).tolist()\n",
    "    qseqid_list = rgblast_df_joint.groupby('barcode')['qseqid'].get_group(bcs).tolist()\n",
    "\n",
    "    if rghit == 'Yes':\n",
    "        rgblasted_hit_id = '.blasthit'\n",
    "        rgblasthit_id = rgblast_file_id + rgblasted_hit_id + fasta_file_type\n",
    "        rgblasthit_file = basecalled_fasta_file_id + bcs + rgblasthit_id\n",
    "        \n",
    "        if bcs == 'NB00':\n",
    "            rghityes = []\n",
    "            for badbcs in bad_barcodes:\n",
    "                rghityes_NB00 = ''\n",
    "                rghityes_NB00 = (rec for rec in SeqIO.parse(basecalled_fasta_file_id + str(badbcs) + fasta_file_type, 'fasta') if rec.id in qseqid_list) \n",
    "                rghityes.extend(rghityes_NB00)\n",
    "            count = ''\n",
    "            count = SeqIO.write(rghityes, os.path.join(work_dir + 'data/rghityes/', rgblasthit_file), \"fasta\")\n",
    "        else:\n",
    "            rghityes = ''\n",
    "            rghityes = (rec for rec in SeqIO.parse(basecalled_fasta_file_id + str(bcs) + fasta_file_type, 'fasta') if rec.id in qseqid_list) \n",
    "            count = ''\n",
    "            count = SeqIO.write(rghityes, os.path.join(work_dir + 'data/rghityes/', rgblasthit_file), \"fasta\")\n",
    "            \n",
    "    if rghit == 'No':   \n",
    "        norgblasted_hit_id = '.noblasthit'\n",
    "        norgblasthit_id = rgblast_file_id + norgblasted_hit_id + fasta_file_type\n",
    "        norgblasthit_file = basecalled_fasta_file_id + bcs + norgblasthit_id\n",
    "        \n",
    "        if bcs == 'NB00':\n",
    "            rghitno = []\n",
    "            for badbcs in bad_barcodes:\n",
    "                rghitno_NB00 = ''\n",
    "                rghitno_NB00 = (rec for rec in SeqIO.parse(basecalled_fasta_file_id + str(badbcs) + fasta_file_type, 'fasta') if rec.id not in qseqid_list) \n",
    "                rghitno.extend(rghitno_NB00)\n",
    "            count = ''\n",
    "            count = SeqIO.write(rghitno, os.path.join(work_dir + 'data/rghitno/', norgblasthit_file), \"fasta\")\n",
    "        else:\n",
    "            rghitno = ''\n",
    "            rghitno = (rec for rec in SeqIO.parse(basecalled_fasta_file_id + str(bcs) + fasta_file_type, 'fasta') if rec.id not in qseqid_list) \n",
    "            count = ''\n",
    "            count = SeqIO.write(rghitno, os.path.join(work_dir + 'data/rghitno/', norgblasthit_file), \"fasta\")"
   ]
  },
  {
   "cell_type": "code",
   "execution_count": null,
   "metadata": {
    "collapsed": true
   },
   "outputs": [],
   "source": [
    "for bcs in list(rgblast_df_joint.barcode.unique()):\n",
    "    generate_rghit_fasta(bcs, 'Yes')"
   ]
  },
  {
   "cell_type": "code",
   "execution_count": null,
   "metadata": {
    "collapsed": true
   },
   "outputs": [],
   "source": [
    "for bcs in list(rgblast_df_joint.barcode.unique()):\n",
    "    generate_rghit_fasta(bcs, 'No')"
   ]
  },
  {
   "cell_type": "code",
   "execution_count": null,
   "metadata": {
    "collapsed": false
   },
   "outputs": [],
   "source": []
  },
  {
   "cell_type": "code",
   "execution_count": null,
   "metadata": {
    "collapsed": false
   },
   "outputs": [],
   "source": []
  },
  {
   "cell_type": "code",
   "execution_count": null,
   "metadata": {
    "collapsed": false
   },
   "outputs": [],
   "source": [
    "#create a table summarising blasted counts, hit vs no hit counts and %\n",
    "rgblasted_count_df = pd.concat([basecalled_df_pivot['len'], rgblast_df_joint_pivot['All']],  axis=1)\n",
    "rgblasted_count_df.applymap(lambda x: int(x))\n",
    "rgblasted_count_df.rename(columns={'len' : 'RGCount', 'All' : 'RGHitYes'}, inplace=True)\n",
    "rgblasted_count_df['RGHitNo'] = rgblasted_count_df['RGCount'] - rgblasted_count_df['RGHitYes']\n",
    "rgblasted_count_df['RGHitYes%'] = np.round((rgblasted_count_df['RGHitYes'] / rgblasted_count_df['RGCount'] * 100), 3)\n",
    "rgblasted_count_df['RGHitNo%'] = np.round((rgblasted_count_df['RGHitNo'] / rgblasted_count_df['RGCount'] * 100), 3)"
   ]
  },
  {
   "cell_type": "code",
   "execution_count": null,
   "metadata": {
    "collapsed": false
   },
   "outputs": [],
   "source": [
    "rgblasted_count_df_noall = rgblasted_count_df.drop('All')"
   ]
  },
  {
   "cell_type": "code",
   "execution_count": null,
   "metadata": {
    "collapsed": true
   },
   "outputs": [],
   "source": [
    "### Saves pivot table summary in analysis/tables/ folder ###\n",
    "fig = plt.figure(figsize=(10,2))\n",
    "ax = fig.add_subplot(1, 1, 1, frame_on=False)\n",
    "ax.xaxis.set_visible(False)  # hide the x axis\n",
    "ax.yaxis.set_visible(False)  # hide the y axis\n",
    "\n",
    "table(ax, rgblasted_count_df, loc='center')\n",
    "\n",
    "plt.savefig(os.path.join(work_dir + 'analysis/tables/', \n",
    "                        basecalled_fasta_file_id + \"rgblast_hit_vs_nohit_summary.png\"))"
   ]
  },
  {
   "cell_type": "code",
   "execution_count": null,
   "metadata": {
    "collapsed": false
   },
   "outputs": [],
   "source": [
    "#two qualitative variables - barcode, blasted vs no hit vs hit\n",
    "#one quantitative - read count\n",
    "n_groups = len(rgblasted_count_df_noall.index.values)\n",
    "\n",
    "bar_labels = ['Blasted', 'Blasted and Hit', 'Blasted and No Hit']\n",
    "counts = [tuple(rgblasted_count_df_noall['RGCount']),\n",
    "          tuple(rgblasted_count_df_noall['RGHitYes']),\n",
    "          tuple(rgblasted_count_df_noall['RGHitNo'])]\n",
    "\n",
    "fig, ax = plt.subplots(figsize=(6.5,3))\n",
    "\n",
    "index = np.arange(n_groups)\n",
    "bar_width = 0.15\n",
    "opacity = 0.4\n",
    "\n",
    "for idx, (lbl, cnts) in enumerate(zip(bar_labels, counts)):\n",
    "    plt.bar(index + bar_width*idx, cnts, bar_width,\n",
    "                 alpha=opacity,\n",
    "                 color=random_color(x),\n",
    "                 label=lbl)\n",
    "    \n",
    "plt.xlabel('Barcode')\n",
    "plt.ylabel('Read Count')\n",
    "plt.title('Number of Reads Blasted and Hit To Reference Genomes', y=1.08)\n",
    "plt.xticks(index + bar_width*1.5, tuple(rgblasted_count_df_noall.index.values))\n",
    "plt.tick_params(right='off', top='off', bottom='off')\n",
    "plt.legend(loc='center left', bbox_to_anchor=(1.01, 0.5), fontsize=10)\n",
    "plt.grid(b=None, which='major', axis='y', linestyle='dashed', linewidth=0.2)\n",
    "plt.margins(x=0.1)\n",
    "\n",
    "plt.tight_layout()\n",
    "plt.savefig(work_dir + 'analysis/graphs/' + basecalled_fasta_file_id + 'ref_genome_hit_and_nohit_counts.png', bbox_inches='tight')"
   ]
  },
  {
   "cell_type": "code",
   "execution_count": null,
   "metadata": {
    "collapsed": true
   },
   "outputs": [],
   "source": [
    "#two qualitative variables - barcode, no hit vs hit\n",
    "#one quantitative - read count\n",
    "n_groups = len(rgblasted_count_df_noall.index.values)\n",
    "\n",
    "bar_labels = ['Blasted and Hit', 'Blasted and No Hit']\n",
    "counts = [tuple(rgblasted_count_df_noall['RGHitYes%']),\n",
    "          tuple(rgblasted_count_df_noall['RGHitNo%'])]\n",
    "\n",
    "fig, ax = plt.subplots(figsize=(6.5,3))\n",
    "\n",
    "index = np.arange(n_groups)\n",
    "bar_width = 0.15\n",
    "opacity = 0.4\n",
    "\n",
    "for idx, (lbl, cnts) in enumerate(zip(bar_labels, counts)):\n",
    "    plt.bar(index + bar_width*idx, cnts, bar_width,\n",
    "                 alpha=opacity,\n",
    "                 color=random_color(x),\n",
    "                 label=lbl)\n",
    "\n",
    "plt.xlabel('Barcode')\n",
    "plt.ylabel('% of Reads Per Barcode')\n",
    "plt.title('% of Reads Blasted and Hit To Reference Genomes', y=1.08)\n",
    "plt.xticks(index + bar_width, tuple(rgblasted_count_df_noall.index.values), y=-0.01)\n",
    "plt.tick_params(top='off', right='off')\n",
    "plt.legend(loc='center left', bbox_to_anchor=(1.01, 0.5), fontsize=12)\n",
    "plt.grid(b=None, which='major', axis='y', linestyle='dashed', linewidth=0.2)\n",
    "plt.margins(x=0.1)\n",
    "\n",
    "plt.tight_layout()\n",
    "plt.savefig(work_dir + 'analysis/graphs/' + basecalled_fasta_file_id + 'ref_genome_hit_and_nohit_percentage.png', bbox_inches='tight')"
   ]
  },
  {
   "cell_type": "code",
   "execution_count": null,
   "metadata": {
    "collapsed": true
   },
   "outputs": [],
   "source": []
  },
  {
   "cell_type": "code",
   "execution_count": null,
   "metadata": {
    "collapsed": true
   },
   "outputs": [],
   "source": []
  },
  {
   "cell_type": "code",
   "execution_count": null,
   "metadata": {
    "collapsed": true
   },
   "outputs": [],
   "source": [
    "#Generate taxonomic database from ete3\n",
    "ncbi = NCBITaxa()"
   ]
  },
  {
   "cell_type": "code",
   "execution_count": null,
   "metadata": {
    "collapsed": true
   },
   "outputs": [],
   "source": [
    "#Extracts ncbiblast files from the initial input folder and moves them to data/basecalled to be manipulated\n",
    "ncbiblast_input_file_names = os.listdir(ncbiblast_input_dir_path)\n",
    "ncbiblast_input_file_names.sort()\n",
    "if ncbiblast_input_file_names:\n",
    "    ncbiblast_file_type = get_file_type(ncbiblast_input_file_names[-1], '.')\n",
    "\n",
    "    for ncbiblast_file in ncbiblast_input_file_names:\n",
    "        if os.path.exists(ncbiblast_input_dir_path + ncbiblast_file):\n",
    "            if not os.path.exists(work_dir + 'blast/ncbibesthit/' + ncbiblast_file):\n",
    "                os.rename(ncbiblast_input_dir_path + ncbiblast_file, work_dir + 'blast/ncbibesthit/' + ncbiblast_file)"
   ]
  },
  {
   "cell_type": "code",
   "execution_count": null,
   "metadata": {
    "collapsed": true
   },
   "outputs": [],
   "source": [
    "#Gets a list of all the ncbiblast hit file names from .blast/ncbibesthit\n",
    "# creates a list of all the reference genome blast besthit file names\n",
    "#Generates a list of all the fasta files present in data/basecalled\n",
    "ncbiblast_file_names = os.listdir(work_dir + 'blast/ncbibesthit')\n",
    "ncbiblast_besthit_file_names = [x for x in ncbiblast_file_names if ncbiblast_file_type in x]\n",
    "ncbiblast_besthit_file_names.sort()"
   ]
  },
  {
   "cell_type": "code",
   "execution_count": null,
   "metadata": {
    "collapsed": false
   },
   "outputs": [],
   "source": [
    "#Extracts the ncbi blast id from the ncbiblast hit file names\n",
    "ncbiblast_file_id_list = []\n",
    "for file_name in ncbiblast_besthit_file_names:\n",
    "    start = file_name.find(fasta_file_type)\n",
    "    end = file_name.rfind(ncbiblast_file_type)\n",
    "    ncbiblast_file_id_list.append(file_name[start+len(fasta_file_type):end])\n",
    "ncbiblast_file_id = list(set(ncbiblast_file_id_list))[0]"
   ]
  },
  {
   "cell_type": "code",
   "execution_count": null,
   "metadata": {
    "collapsed": false
   },
   "outputs": [],
   "source": [
    "#Make a list of all available barcodes the ncbibesthit reads are sorted into, based on ncbibesthit file names\n",
    "ncbiblast_besthit_file_names_idstrip = [file_name.strip(basecalled_fasta_file_id) for file_name in ncbiblast_besthit_file_names]\n",
    "ncbiblast_besthit_barcodes = []\n",
    "for bcs in range(0, len(ncbiblast_besthit_file_names_idstrip)):\n",
    "    bclabel_index = ''\n",
    "    if int(ncbiblast_besthit_file_names_idstrip[bcs].find('BC')) > int(ncbiblast_besthit_file_names_idstrip[bcs].find('NB')):\n",
    "        bclabel_index = int(ncbiblast_besthit_file_names_idstrip[bcs].find('BC'))\n",
    "    else:\n",
    "        bclabel_index = int(ncbiblast_besthit_file_names_idstrip[bcs].find('NB'))\n",
    "    ncbiblast_besthit_barcodes.append(ncbiblast_besthit_file_names_idstrip[bcs][bclabel_index:bclabel_index + 4])"
   ]
  },
  {
   "cell_type": "code",
   "execution_count": null,
   "metadata": {
    "collapsed": true
   },
   "outputs": [],
   "source": []
  },
  {
   "cell_type": "code",
   "execution_count": null,
   "metadata": {
    "collapsed": true
   },
   "outputs": [],
   "source": []
  },
  {
   "cell_type": "code",
   "execution_count": null,
   "metadata": {
    "collapsed": false
   },
   "outputs": [],
   "source": [
    "#Reads each ncbiblast_besthit file as a dataframe, appends a column with the relevant barcode\n",
    "os.chdir(work_dir + 'blast/ncbibesthit')\n",
    "ncbiblast_dfs_dict = {}\n",
    "blast_output_parameters = ['qseqid', 'sseqid', 'evalue', 'bitscore', 'length', \n",
    "                           'pident', 'nident', 'sgi', 'sacc', 'staxids', 'sscinames', \n",
    "                           'scomnames', 'sskingdoms', 'barcode']\n",
    "for bcs, besthit_file in zip(ncbiblast_besthit_barcodes, ncbiblast_besthit_file_names):\n",
    "    if ncbiblast_file_id in besthit_file:\n",
    "        ncbiblast_dfs_dict[bcs] = pd.read_table(besthit_file, \n",
    "                                                delim_whitespace=False,\n",
    "                                                names=blast_output_parameters) #hardcoded\n",
    "for bcs in ncbiblast_dfs_dict.keys():\n",
    "    ncbiblast_dfs_dict[bcs]['barcode'] = bcs"
   ]
  },
  {
   "cell_type": "code",
   "execution_count": null,
   "metadata": {
    "collapsed": false
   },
   "outputs": [],
   "source": [
    "#Combining the bad barcode reads from BLAST into NB00\n",
    "if 'BC00' in ncbiblast_dfs_dict.keys():\n",
    "    ncbiblast_dfs_dict['BC00']['barcode'] = 'NB00'\n",
    "\n",
    "#Joining the dataframes for individual barcodes together\n",
    "ncbiblast_df_list = []\n",
    "for bcs in ncbiblast_dfs_dict.keys():\n",
    "    ncbiblast_df_list.append(ncbiblast_dfs_dict[bcs])\n",
    "    \n",
    "ncbiblast_df_joint = pd.concat(ncbiblast_df_list, axis=0, ignore_index=True)\n",
    "ncbiblast_df_joint.sort_values('barcode', ascending=True, inplace=True)\n",
    "ncbiblast_df_joint.reset_index(drop=True, inplace=True)"
   ]
  },
  {
   "cell_type": "code",
   "execution_count": null,
   "metadata": {
    "collapsed": false
   },
   "outputs": [],
   "source": []
  },
  {
   "cell_type": "code",
   "execution_count": null,
   "metadata": {
    "collapsed": true
   },
   "outputs": [],
   "source": []
  },
  {
   "cell_type": "code",
   "execution_count": null,
   "metadata": {
    "collapsed": true
   },
   "outputs": [],
   "source": [
    "#Function to generate taxonomy columns based on NCBITaxa results for NCBI hit dataframe, \n",
    "#Appends these taxcnomy columns to the joint ncbiblast dataframe\n",
    "def search_rank_output_name_append_column(df, staxid_column, rank_search):\n",
    "    \"\"\"Input df, staxid_column from same df and rank_search (a desired taxonomic rank \n",
    "    from each staxid's lineage), outputs taxonomic name corresponding to rank_search or 'Unclassified' if\n",
    "    unavailable and appends to df row by row\"\"\"\n",
    "    rank_list = []\n",
    "    for read_ind in range(0, len(staxid_column)):\n",
    "        taxid = ''\n",
    "        if ';' in str(staxid_column[read_ind]):\n",
    "            taxid = staxid_column[read_ind].split(';')[0]\n",
    "        else:\n",
    "            taxid = staxid_column[read_ind]\n",
    "        \n",
    "        taxid_lineage = ''\n",
    "        taxid_lineage = ncbi.get_lineage(taxid)\n",
    "        \n",
    "        names = ''\n",
    "        names = ncbi.get_taxid_translator(taxid_lineage)\n",
    "        \n",
    "        ranks = ''\n",
    "        ranks = ncbi.get_rank(taxid_lineage) #Dict\n",
    "        \n",
    "        ranks2names = ''\n",
    "        ranks2names = {ranks[k]:names[k] for k in names.keys() & ranks}\n",
    "        \n",
    "        if rank_search in ranks2names.keys():\n",
    "            rank_list.append(ranks2names[rank_search])#if rank in dict, print name\n",
    "        else:\n",
    "            rank_list.append('Unclassified')\n",
    "    df[rank_search] = rank_list\n",
    "# NOTE: Appending is always slow, try and find a better way e.g df.apply to a column based on staxids column"
   ]
  },
  {
   "cell_type": "code",
   "execution_count": null,
   "metadata": {
    "collapsed": false
   },
   "outputs": [],
   "source": [
    "#Appends columns to joint_NCBI_df_taxonomy corresponding to desired taxonomic ranks for metagenomic analysis\n",
    "ncbiblast_df_joint_taxonomy = ncbiblast_df_joint.copy()\n",
    "main_taxonomic_ranks = ['superkingdom', 'phylum', 'class', 'order', 'family', 'genus', 'species']\n",
    "for ranks in main_taxonomic_ranks:\n",
    "    search_rank_output_name_append_column(ncbiblast_df_joint_taxonomy, \n",
    "                                          ncbiblast_df_joint_taxonomy['staxids'], \n",
    "                                          ranks)\n",
    "    \n",
    "#Removing unncessary columns from joint_NCBI_df_taxonomy\n",
    "for columns in ['scomnames', 'sskingdoms', 'sscinames']:\n",
    "    del ncbiblast_df_joint_taxonomy[columns] "
   ]
  },
  {
   "cell_type": "code",
   "execution_count": null,
   "metadata": {
    "collapsed": true
   },
   "outputs": [],
   "source": []
  },
  {
   "cell_type": "code",
   "execution_count": null,
   "metadata": {
    "collapsed": false
   },
   "outputs": [],
   "source": []
  },
  {
   "cell_type": "code",
   "execution_count": null,
   "metadata": {
    "collapsed": false
   },
   "outputs": [],
   "source": [
    "#Defines a function to make manual adjustments to the NCBI taxonomic sorting\n",
    "def manually_adjust_ncbi_taxonomy(rank_select, entry_select, ranks_to_edit, new_entry):\n",
    "    \"\"\"Select dataframe entries to edit by a specific rank (rank_select) \n",
    "    and entry related to that rank (entry_select), \n",
    "    provide a list of ranks to edit for those selected entries (ranks_to_edit),\n",
    "    replace these ranks with a new entry (new_entry)\"\"\"\n",
    "    if entry_select in list(ncbiblast_df_joint_taxonomy_adj[rank_select].unique()):\n",
    "        selection = (ncbiblast_df_joint_taxonomy_adj[rank_select] == entry_select)\n",
    "        selected_tax_ranks = ranks_to_edit\n",
    "        for ranks in selected_tax_ranks:\n",
    "            ncbiblast_df_joint_taxonomy_adj[ranks][selection] = new_entry"
   ]
  },
  {
   "cell_type": "code",
   "execution_count": null,
   "metadata": {
    "collapsed": false
   },
   "outputs": [],
   "source": [
    "#Make two manual adjustments for this sample set\n",
    "manually_adjust_ncbi_taxonomy('species', \n",
    "                            'Cloning vector lambda TXF97', \n",
    "                            ['superkingdom', 'phylum', 'class', 'order', 'family', 'genus'], \n",
    "                            '(Cloning vector lambda TXF97)')\n",
    "\n",
    "manually_adjust_ncbi_taxonomy('superkingdom', \n",
    "                            'Viruses', \n",
    "                            ['phylum', 'class'], \n",
    "                            'dsDNA viruses, no RNA stage')"
   ]
  },
  {
   "cell_type": "code",
   "execution_count": null,
   "metadata": {
    "collapsed": true
   },
   "outputs": [],
   "source": []
  },
  {
   "cell_type": "code",
   "execution_count": null,
   "metadata": {
    "collapsed": true
   },
   "outputs": [],
   "source": []
  },
  {
   "cell_type": "code",
   "execution_count": null,
   "metadata": {
    "collapsed": true
   },
   "outputs": [],
   "source": [
    "#count pivot table of dataframe with taxonomic columns: \n",
    "#rows - rank names, columns - barcode, sorted by desired class\n",
    "def generate_ncbi_taxonomy_pivot(tax_df, rank, bcs, num):\n",
    "    \"\"\"From tax_df, generate a pivot table listing num rank counts, sorted by bcs\"\"\"\n",
    "    pivot_table = tax_df.pivot_table(values='nident', \n",
    "                                            index=rank, \n",
    "                                            columns='barcode', \n",
    "                                            aggfunc='count', \n",
    "                                            fill_value=0, \n",
    "                                            margins=True)\n",
    "    pivot_table.columns.name = None\n",
    "    return pivot_table.sort_values(bcs, axis=0, ascending=False).head(n=num)"
   ]
  },
  {
   "cell_type": "code",
   "execution_count": null,
   "metadata": {
    "collapsed": true
   },
   "outputs": [],
   "source": [
    "# % pivot table of dataframe with taxonomic columns: \n",
    "#rows - rank names, columns - barcode, sorted by desired class\n",
    "def generate_ncbi_taxonomy_pivot_pc(tax_df, rank, bcs, num):\n",
    "    \"\"\"From tax_df, generate a pivot table listing num rank %, sorted ascending by bcs\"\"\"\n",
    "    pivot_table_pc = tax_df.pivot_table(values='nident', \n",
    "                                        index=rank, \n",
    "                                        columns='barcode', \n",
    "                                        aggfunc='count', \n",
    "                                        fill_value=0, \n",
    "                                        margins=True)\n",
    "    pivot_table_pc.columns.name = None\n",
    "    \n",
    "    for brcs in pivot_table_pc.columns:\n",
    "        pivot_table_pc[str(brcs) + '%'] = pivot_table_pc[brcs].apply(lambda x: (x / pivot_table_pc[brcs].loc['All'])*100)\n",
    "    for brcs in pivot_table_pc.columns:\n",
    "        if '%' not in brcs:\n",
    "            pivot_table_pc.drop(brcs, axis=1, inplace=True)\n",
    "    pivot_table_pc.drop('All', axis=0, inplace=True)\n",
    "\n",
    "    pivot_table_pc2 = pivot_table_pc.sort_values(str(bcs) + '%', axis=0, ascending=False)\n",
    "    return pivot_table_pc2.applymap(lambda x: '%.3f' % x).head(n=num)"
   ]
  },
  {
   "cell_type": "code",
   "execution_count": null,
   "metadata": {
    "collapsed": false
   },
   "outputs": [],
   "source": []
  },
  {
   "cell_type": "code",
   "execution_count": null,
   "metadata": {
    "collapsed": true
   },
   "outputs": [],
   "source": []
  },
  {
   "cell_type": "code",
   "execution_count": null,
   "metadata": {
    "collapsed": false
   },
   "outputs": [],
   "source": [
    "#count pivot table of dataframe with taxonomic columns, includes reference genomes set across all ranks: \n",
    "#rows - rank names, columns - barcode, sorted by desired class\n",
    "def generate_all_hits_pivot(rank, bcs, num, dropmaxspecies=False):\n",
    "    \"\"\"generate a pivot table listing num rank counts, sorted ascending by bcs\"\"\"\n",
    "    blast_and_NCBI_df_list = [generate_ncbi_taxonomy_pivot(ncbiblast_df_joint_taxonomy_adj, rank, bcs, len(ncbiblast_df_joint_taxonomy_adj)), \n",
    "                    rgblast_df_joint_pivot.transpose()]\n",
    "    blast_and_NCBI_hits = pd.concat(blast_and_NCBI_df_list)\n",
    "    blast_and_NCBI_hits_sum = blast_and_NCBI_hits.groupby(blast_and_NCBI_hits.index).sum()\n",
    "    \n",
    "    max_genome = str(rgblast_df_joint_pivot_noall.ix['All'].idxmax(axis=1))\n",
    "    \n",
    "    if dropmaxspecies == True:\n",
    "        blast_and_NCBI_hits_sum.loc['All'] = blast_and_NCBI_hits_sum.loc['All'] - blast_and_NCBI_hits_sum.loc[max_genome]\n",
    "        blast_and_NCBI_hits_sum.drop(max_genome, axis=0, inplace=True)\n",
    "    \n",
    "    return blast_and_NCBI_hits_sum.sort_values(bcs, axis=0, ascending=False).head(n=num)"
   ]
  },
  {
   "cell_type": "code",
   "execution_count": null,
   "metadata": {
    "collapsed": false
   },
   "outputs": [],
   "source": [
    "# % pivot table of dataframe with taxonomic columns, includes reference genomes set across all ranks: \n",
    "#rows - rank names, columns - barcode, sorted by desired class\n",
    "def generate_all_hits_pivot_pc(rank, bcs, num, dropmaxspecies=False):\n",
    "    \"\"\"generate a pivot table listing num rank %, sorted ascending by bcs\"\"\"\n",
    "    blast_and_NCBI_df_list = [generate_ncbi_taxonomy_pivot(ncbiblast_df_joint_taxonomy_adj, rank, bcs, len(ncbiblast_df_joint_taxonomy_adj)), \n",
    "                    rgblast_df_joint_pivot.transpose()]\n",
    "    blast_and_NCBI_hits = pd.concat(blast_and_NCBI_df_list)\n",
    "    blast_and_NCBI_hits_sum = blast_and_NCBI_hits.groupby(blast_and_NCBI_hits.index).sum()\n",
    "    \n",
    "    max_genome = str(rgblast_df_joint_pivot_noall.ix['All'].idxmax(axis=1))\n",
    "    \n",
    "    if dropmaxspecies == True:\n",
    "        blast_and_NCBI_hits_sum.loc['All'] = blast_and_NCBI_hits_sum.loc['All'] - blast_and_NCBI_hits_sum.loc[max_genome]\n",
    "        blast_and_NCBI_hits_sum.drop(max_genome, axis=0, inplace=True)\n",
    "    \n",
    "    for brcs in blast_and_NCBI_hits_sum.columns:\n",
    "        blast_and_NCBI_hits_sum[str(brcs) + '%'] = blast_and_NCBI_hits_sum[brcs].apply(lambda x: (x / blast_and_NCBI_hits_sum[brcs].loc['All'])*100)\n",
    "    for brcs in blast_and_NCBI_hits_sum.columns:\n",
    "        if '%' not in brcs:\n",
    "            blast_and_NCBI_hits_sum.drop(brcs, axis=1, inplace=True)\n",
    "    blast_and_NCBI_hits_sum.drop('All', axis=0, inplace=True)\n",
    "    \n",
    "    blast_and_NCBI_hits_sum2 = blast_and_NCBI_hits_sum.sort_values(str(bcs) + '%', axis=0, ascending=False)\n",
    "    return blast_and_NCBI_hits_sum2.applymap(lambda x: '%.3f' % x).head(n=num)"
   ]
  },
  {
   "cell_type": "code",
   "execution_count": null,
   "metadata": {
    "collapsed": false
   },
   "outputs": [],
   "source": []
  },
  {
   "cell_type": "code",
   "execution_count": null,
   "metadata": {
    "collapsed": false
   },
   "outputs": [],
   "source": []
  },
  {
   "cell_type": "code",
   "execution_count": null,
   "metadata": {
    "collapsed": false
   },
   "outputs": [],
   "source": [
    "#Assesses number of barcodes, generates necessary number of plots (even) and relevant indexing system\n",
    "ncbiblast_barcodes = list(ncbiblast_df_joint_taxonomy_adj['barcode'].unique())\n",
    "\n",
    "if len(list(ncbiblast_df_joint_taxonomy_adj['barcode'].unique())) % 2 == 0:\n",
    "    no_of_subplots = len(ncbiblast_barcodes)\n",
    "else:\n",
    "    no_of_subplots = len(ncbiblast_barcodes) + 1\n",
    "\n",
    "#Always 2 columns, bc-count/2 rows \n",
    "no_of_subplots_pair = [int(no_of_subplots/2), 2]\n",
    "\n",
    "#Produce pairs of indices correlating to the coordinates of the subplots\n",
    "subplot_coordinates = list(product(range(no_of_subplots_pair[0]), range(no_of_subplots_pair[1])))\n",
    "subplot_coordinates_list = [list(l) for l in subplot_coordinates]\n",
    "subplot_coordinates_list_rows = [i[0] for i in subplot_coordinates_list]\n",
    "subplot_coordinates_list_columns = [i[1] for i in subplot_coordinates_list]\n",
    "\n",
    "fig, ax = plt.subplots(no_of_subplots_pair[1], no_of_subplots_pair[0], figsize=(20, 6))\n",
    "\n",
    "def applyTaxPlotStyle(ax_ind1, ax_ind2, bcs, rank):\n",
    "    labels = ''\n",
    "    labels = tuple(generate_ncbi_taxonomy_pivot_pc(ncbiblast_df_joint_taxonomy_adj, rank, bcs, 10)[bcs + '%'].index)\n",
    "    y_pos = ''\n",
    "    y_pos = np.arange(len(labels))\n",
    "    sizes = ''\n",
    "    sizes = tuple([float(i) for i in generate_ncbi_taxonomy_pivot_pc(ncbiblast_df_joint_taxonomy_adj, rank, bcs, 10)[bcs + '%']])\n",
    "\n",
    "    ax[ax_ind1, ax_ind2].barh(y_pos, sizes, align='center', alpha=0.4, color=random_color(x))\n",
    "    ax[ax_ind1, ax_ind2].set_yticks(y_pos)\n",
    "    ax[ax_ind1, ax_ind2].set_yticklabels(labels)\n",
    "    ax[ax_ind1, ax_ind2].tick_params(top=\"off\", right=\"off\", left=\"off\")\n",
    "    ax[ax_ind1, ax_ind2].set_xlabel('% Total Reads Hitting NCBI')\n",
    "    ax[ax_ind1, ax_ind2].set_xticks(range(0, 110, 10))\n",
    "    ax[ax_ind1, ax_ind2].set_title(bcs)\n",
    "    ax[ax_ind1, ax_ind2].invert_yaxis()\n",
    "    ax[ax_ind1, ax_ind2].grid(b=None, which='major', axis='x', linestyle='dashed', linewidth=0.2)\n",
    "    ax[ax_ind1, ax_ind2].annotate('E = 0.00001', \n",
    "             xy=(1.06, 0.3), xycoords='axes fraction', fontsize=10, xytext=(-20, -30), textcoords='offset points', \n",
    "             ha='right', va='bottom')\n",
    "    \n",
    "def generateTaxSubplots(search_rank):\n",
    "    for ax_ind1, ax_ind2, bcs, in zip(subplot_coordinates_list_columns, subplot_coordinates_list_rows, bc_list):\n",
    "        applyTaxPlotStyle(ax_ind1, ax_ind2, bcs, search_rank)    \n",
    "\n",
    "    if len(list(ncbiblast_df_joint_taxonomy_adj['barcode'].unique())) != 0:\n",
    "        plt.delaxes(ax[subplot_coordinates_list_columns[-1], subplot_coordinates_list_rows[-1]])\n",
    "    \n",
    "    plt.suptitle('Reads Hitting NCBI Database - % By ' + str(search_rank).title() + ' By Barcode', \n",
    "             fontsize='x-large',\n",
    "             y=1.02,\n",
    "             fontweight=\"bold\")\n",
    "    \n",
    "    plt.subplots_adjust(left=None, bottom=None, right=None, top=None, wspace=1.4, hspace=0.4)\n",
    "    plt.tight_layout()\n",
    "    plt.savefig(work_dir + 'analysis/graphs/' + basecalled_fasta_file_id + 'ncbi_hit_percentage_' + search_rank + '.png', bbox_inches='tight')\n",
    "            \n",
    "generateTaxSubplots('genus')"
   ]
  },
  {
   "cell_type": "code",
   "execution_count": null,
   "metadata": {
    "collapsed": false
   },
   "outputs": [],
   "source": [
    "fig, ax = plt.subplots(no_of_subplots_pair[1], no_of_subplots_pair[0], figsize=(20, 6))\n",
    "generateTaxSubplots('species')"
   ]
  },
  {
   "cell_type": "code",
   "execution_count": null,
   "metadata": {
    "collapsed": true
   },
   "outputs": [],
   "source": []
  },
  {
   "cell_type": "code",
   "execution_count": null,
   "metadata": {
    "collapsed": false
   },
   "outputs": [],
   "source": []
  },
  {
   "cell_type": "code",
   "execution_count": null,
   "metadata": {
    "collapsed": false
   },
   "outputs": [],
   "source": [
    "#Assesses number of barcodes, generates necessary number of plots (even) and relevant indexing system\n",
    "ncbiblast_barcodes = list(ncbiblast_df_joint_taxonomy_adj['barcode'].unique())\n",
    "\n",
    "if len(list(ncbiblast_df_joint_taxonomy_adj['barcode'].unique())) % 2 == 0:\n",
    "    no_of_subplots = len(ncbiblast_barcodes)\n",
    "else:\n",
    "    no_of_subplots = len(ncbiblast_barcodes) + 1\n",
    "\n",
    "#Always 2 columns, bc-count/2 rows \n",
    "no_of_subplots_pair = [int(no_of_subplots/2), 2]\n",
    "\n",
    "#Produce pairs of indices correlating to the coordinates of the subplots\n",
    "subplot_coordinates = list(product(range(no_of_subplots_pair[0]), range(no_of_subplots_pair[1])))\n",
    "subplot_coordinates_list = [list(l) for l in subplot_coordinates]\n",
    "subplot_coordinates_list_rows = [i[0] for i in subplot_coordinates_list]\n",
    "subplot_coordinates_list_columns = [i[1] for i in subplot_coordinates_list]\n",
    "\n",
    "fig, ax = plt.subplots(no_of_subplots_pair[1], no_of_subplots_pair[0], figsize=(20, 6))\n",
    "max_genome = str(rgblast_df_joint_pivot_noall.ix['All'].idxmax(axis=1))\n",
    "\n",
    "def applyTaxPlotStyle(ax_ind1, ax_ind2, bcs, rank):\n",
    "    cycol_one = ''\n",
    "    cycol_one = random_color(x)\n",
    "    labels = ''\n",
    "    labels = tuple(generate_all_hits_pivot_pc(rank, bcs, 10, dropmaxspecies=False)[bcs + '%'].index)\n",
    "    y_pos = ''\n",
    "    y_pos = np.arange(len(labels))\n",
    "    sizes = ''\n",
    "    sizes = tuple([float(i) for i in generate_all_hits_pivot_pc(rank, bcs, 10, dropmaxspecies=False)[bcs + '%']])\n",
    "\n",
    "    colors = []\n",
    "    for name in labels:\n",
    "        if name in list(rgblast_df_joint_pivot.columns):\n",
    "            colors.append('k')\n",
    "        else:\n",
    "            colors.append(cycol_one)\n",
    "    \n",
    "    ax[ax_ind1, ax_ind2].barh(y_pos, sizes, align='center', alpha=0.4, color=colors)\n",
    "    ax[ax_ind1, ax_ind2].set_yticks(y_pos)\n",
    "    ax[ax_ind1, ax_ind2].set_yticklabels(labels)\n",
    "    ax[ax_ind1, ax_ind2].tick_params(top=\"off\", right=\"off\", left=\"off\")\n",
    "    \n",
    "    exact_xlim = int(float(generate_all_hits_pivot_pc(rank, 'BC04', len(ncbiblast_df_joint_taxonomy_adj), dropmaxspecies=False).drop(max_genome).values.max())+1)\n",
    "    \n",
    "    ax[ax_ind1, ax_ind2].set_xlim([0, exact_xlim])\n",
    "    ax[ax_ind1, ax_ind2].set_xlabel('% Total Reads Hitting Blast or NCBI')\n",
    "    ax[ax_ind1, ax_ind2].set_xticks(range(0, exact_xlim+1, 1))\n",
    "    ax[ax_ind1, ax_ind2].set_title(bcs)\n",
    "    ax[ax_ind1, ax_ind2].invert_yaxis()\n",
    "    ax[ax_ind1, ax_ind2].grid(b=None, which='major', axis='x', linestyle='dashed', linewidth=0.2)\n",
    "    ax[ax_ind1, ax_ind2].annotate(max_genome + ' = ' + str(sizes[0]) + '%', \n",
    "             xy=(1.06, 0.3), xycoords='axes fraction', fontsize=10, xytext=(-20, -30), textcoords='offset points', \n",
    "             ha='right', va='bottom')\n",
    "    ax[ax_ind1, ax_ind2].annotate('E = 0.00001', \n",
    "             xy=(1.06, 0.4), xycoords='axes fraction', fontsize=10, xytext=(-20, -30), textcoords='offset points', \n",
    "             ha='right', va='bottom')\n",
    "    \n",
    "def generateTaxRGSubplots(search_rank):\n",
    "    for ax_ind1, ax_ind2, bcs, in zip(subplot_coordinates_list_columns, subplot_coordinates_list_rows, bc_list):\n",
    "        applyTaxPlotStyle(ax_ind1, ax_ind2, bcs, search_rank)    \n",
    "\n",
    "    if len(list(ncbiblast_df_joint_taxonomy_adj['barcode'].unique())) != 0:\n",
    "        plt.delaxes(ax[subplot_coordinates_list_columns[-1], subplot_coordinates_list_rows[-1]])\n",
    "    \n",
    "    plt.suptitle('Reads Hitting Reference Genomes or NCBI Database - % By ' + str(search_rank).title() + ' By Barcode', \n",
    "             fontsize='x-large',\n",
    "             y=1.02,\n",
    "             fontweight=\"bold\")\n",
    "    \n",
    "    plt.subplots_adjust(left=None, bottom=None, right=None, top=None, wspace=1.4, hspace=0.4)\n",
    "    plt.tight_layout()\n",
    "    plt.savefig(work_dir + 'analysis/graphs/' + basecalled_fasta_file_id + 'ncbi_and_ref_genome_hit_percentage_' + search_rank + '.png', bbox_inches='tight')\n",
    "\n",
    "generateTaxRGSubplots('genus')"
   ]
  },
  {
   "cell_type": "code",
   "execution_count": null,
   "metadata": {
    "collapsed": false
   },
   "outputs": [],
   "source": [
    "fig, ax = plt.subplots(no_of_subplots_pair[1], no_of_subplots_pair[0], figsize=(20, 7))\n",
    "generateTaxRGSubplots('species')"
   ]
  },
  {
   "cell_type": "code",
   "execution_count": null,
   "metadata": {
    "collapsed": false
   },
   "outputs": [],
   "source": []
  },
  {
   "cell_type": "code",
   "execution_count": null,
   "metadata": {
    "collapsed": false
   },
   "outputs": [],
   "source": []
  },
  {
   "cell_type": "code",
   "execution_count": null,
   "metadata": {
    "collapsed": false
   },
   "outputs": [],
   "source": [
    "print(basecalled_fasta_file_id)\n",
    "print(blast_hit_sample_id)\n",
    "norgblasted_hit_id = '.noblasthit'\n",
    "print(rgblasted_hit_id)\n",
    "print(ncbiblast_file_id)\n",
    "print(rgblast_file_id)\n",
    "print(fasta_file_type)\n",
    "print(rgblast_file_type)"
   ]
  },
  {
   "cell_type": "code",
   "execution_count": null,
   "metadata": {
    "collapsed": false
   },
   "outputs": [],
   "source": [
    "def generate_ncbihit_fasta(bcs, ncbihit):\n",
    "    \"\"\"Takes basecalled.df, and list of read_ids from ncbiblast_df_joint. For a single barcode:\n",
    "    - if rghit is yes, extract a fasta file with all the reads hitting the reference genomes to data/rghityes\n",
    "    - if rghit is no, extract a fasta file with all the reads not hitting the reference genomes to data/rghitno\"\"\"\n",
    "    os.chdir(work_dir + 'data/rghitno/')\n",
    "    read_id_list = basecalled_df.groupby('Barcode')['Read_id'].get_group(bcs).tolist()\n",
    "    ncbi_qseqid_list = ncbiblast_df_joint.groupby('barcode')['qseqid'].get_group(bcs).tolist()\n",
    "    norgblasthit_file = basecalled_fasta_file_id + bcs + rgblast_file_id + norgblasted_hit_id + fasta_file_type\n",
    "    \n",
    "    if ncbihit == 'Yes':\n",
    "        ncbiblasted_hit_id = '.blasthit'\n",
    "        ncbiblasthit_id = ncbiblast_file_id + ncbiblasted_hit_id + fasta_file_type\n",
    "        ncbiblasthit_file = basecalled_fasta_file_id + bcs + rgblast_file_id + rgblast_file_type + ncbiblasthit_id\n",
    "\n",
    "        ncbihityes = ''\n",
    "        ncbihityes = (rec for rec in SeqIO.parse(norgblasthit_file, 'fasta') if rec.id in ncbi_qseqid_list) \n",
    "        count = ''\n",
    "        count = SeqIO.write(ncbihityes, os.path.join(work_dir + 'data/rghitno/ncbihityes', ncbiblasthit_file), \"fasta\")\n",
    "            \n",
    "    if ncbihit == 'No':\n",
    "        noncbiblasted_hit_id = '.noblasthit'\n",
    "        noncbiblasthit_id = ncbiblast_file_id + noncbiblasted_hit_id + fasta_file_type\n",
    "        noncbiblasthit_file = basecalled_fasta_file_id + bcs + rgblast_file_id + rgblast_file_type + noncbiblasthit_id\n",
    "        \n",
    "        ncbihitno = ''\n",
    "        ncbihitno = (rec for rec in SeqIO.parse(norgblasthit_file, 'fasta') if rec.id not in ncbi_qseqid_list) \n",
    "        count = ''\n",
    "        count = SeqIO.write(ncbihitno, os.path.join(work_dir + 'data/rghitno/ncbihitno', noncbiblasthit_file), \"fasta\")"
   ]
  },
  {
   "cell_type": "code",
   "execution_count": null,
   "metadata": {
    "collapsed": false
   },
   "outputs": [],
   "source": [
    "for bcs in list(ncbiblast_df_joint.barcode.unique()):\n",
    "    generate_ncbihit_fasta(bcs, 'Yes')"
   ]
  },
  {
   "cell_type": "code",
   "execution_count": null,
   "metadata": {
    "collapsed": false
   },
   "outputs": [],
   "source": [
    "for bcs in list(ncbiblast_df_joint.barcode.unique()):\n",
    "    generate_ncbihit_fasta(bcs, 'No')"
   ]
  },
  {
   "cell_type": "code",
   "execution_count": null,
   "metadata": {
    "collapsed": true
   },
   "outputs": [],
   "source": []
  },
  {
   "cell_type": "code",
   "execution_count": null,
   "metadata": {
    "collapsed": true
   },
   "outputs": [],
   "source": [
    "ncbiblast_df_joint_pivot = ncbiblast_df_joint.pivot_table(values='nident', index='barcode', columns='staxids', aggfunc='count', fill_value=0, margins=True)\n",
    "ncbiblast_df_joint_pivot = ncbiblast_df_joint_pivot.applymap(int)\n",
    "ncbiblast_df_joint_pivot.index.name = None\n",
    "ncbiblast_df_joint_pivot.columns.name = None"
   ]
  },
  {
   "cell_type": "code",
   "execution_count": null,
   "metadata": {
    "collapsed": false
   },
   "outputs": [],
   "source": [
    "ncbiblasted_count_df = pd.concat([rgblasted_count_df['RGHitNo'], ncbiblast_df_joint_pivot['All']],  axis=1)\n",
    "ncbiblasted_count_df.applymap(lambda x: int(x))\n",
    "ncbiblasted_count_df.rename(columns={'RGHitNo' : 'NCBICount', 'All' : 'NCBIHitYes'}, inplace=True)\n",
    "ncbiblasted_count_df['NCBIHitNo'] = ncbiblasted_count_df['NCBICount'] - ncbiblasted_count_df['NCBIHitYes']\n",
    "ncbiblasted_count_df['NCBIHitYes%'] = np.round((ncbiblasted_count_df['NCBIHitYes'] / ncbiblasted_count_df['NCBICount'] * 100), 3)\n",
    "ncbiblasted_count_df['NCBIHitNo%'] = np.round((ncbiblasted_count_df['NCBIHitNo'] / ncbiblasted_count_df['NCBICount'] * 100), 3)\n"
   ]
  },
  {
   "cell_type": "code",
   "execution_count": null,
   "metadata": {
    "collapsed": true
   },
   "outputs": [],
   "source": [
    "ncbiblasted_count_df_noall = ncbiblasted_count_df.drop('All')"
   ]
  },
  {
   "cell_type": "code",
   "execution_count": null,
   "metadata": {
    "collapsed": true
   },
   "outputs": [],
   "source": [
    "### Saves pivot table summary in analysis/tables/ folder ###\n",
    "fig = plt.figure(figsize=(10,2))\n",
    "ax = fig.add_subplot(1, 1, 1, frame_on=False)\n",
    "ax.xaxis.set_visible(False)  # hide the x axis\n",
    "ax.yaxis.set_visible(False)  # hide the y axis\n",
    "\n",
    "table(ax, ncbiblasted_count_df, loc='center')\n",
    "\n",
    "plt.savefig(os.path.join(work_dir + 'analysis/tables/', \n",
    "                        basecalled_fasta_file_id + \"ncbiblast_hit_vs_nohit_summary.png\"))"
   ]
  },
  {
   "cell_type": "code",
   "execution_count": null,
   "metadata": {
    "collapsed": false
   },
   "outputs": [],
   "source": [
    "#two qualitative variables - barcode, blasted vs no hit vs hit\n",
    "#one quantitative - read count\n",
    "n_groups = len(ncbiblasted_count_df_noall.index.values)\n",
    "\n",
    "bar_labels = ['Blasted', 'Blasted and Hit', 'Blasted and No Hit']\n",
    "counts = [tuple(ncbiblasted_count_df_noall['NCBICount']),\n",
    "          tuple(ncbiblasted_count_df_noall['NCBIHitYes']),\n",
    "          tuple(ncbiblasted_count_df_noall['NCBIHitNo'])]\n",
    "\n",
    "fig, ax = plt.subplots(figsize=(6.5,3))\n",
    "\n",
    "index = np.arange(n_groups)\n",
    "bar_width = 0.15\n",
    "opacity = 0.4\n",
    "\n",
    "for idx, (lbl, cnts) in enumerate(zip(bar_labels, counts)):\n",
    "    plt.bar(index + bar_width*idx, cnts, bar_width,\n",
    "                 alpha=opacity,\n",
    "                 color=random_color(x),\n",
    "                 label=lbl)\n",
    "    \n",
    "plt.xlabel('Barcode')\n",
    "plt.ylabel('Read Count')\n",
    "plt.title('Number of Reads Blasted and Hit To Reference Genomes', y=1.08)\n",
    "plt.xticks(index + bar_width*1.5, tuple(ncbiblasted_count_df_noall.index.values))\n",
    "plt.tick_params(right='off', top='off', bottom='off')\n",
    "plt.legend(loc='center left', bbox_to_anchor=(1.01, 0.5), fontsize=10)\n",
    "plt.grid(b=None, which='major', axis='y', linestyle='dashed', linewidth=0.2)\n",
    "plt.margins(x=0.1)\n",
    "\n",
    "plt.tight_layout()\n",
    "plt.savefig(work_dir + 'analysis/graphs/' + basecalled_fasta_file_id + 'ncbi_hit_and_nohit_counts.png', bbox_inches='tight')"
   ]
  },
  {
   "cell_type": "code",
   "execution_count": null,
   "metadata": {
    "collapsed": false
   },
   "outputs": [],
   "source": [
    "#two qualitative variables - barcode, no hit vs hit\n",
    "#one quantitative - read count\n",
    "n_groups = len(ncbiblasted_count_df_noall.index.values)\n",
    "\n",
    "bar_labels = ['Blasted and Hit', 'Blasted and No Hit']\n",
    "counts = [tuple(ncbiblasted_count_df_noall['NCBIHitYes%']),\n",
    "          tuple(ncbiblasted_count_df_noall['NCBIHitNo%'])]\n",
    "\n",
    "fig, ax = plt.subplots(figsize=(6.5,3))\n",
    "\n",
    "index = np.arange(n_groups)\n",
    "bar_width = 0.15\n",
    "opacity = 0.4\n",
    "\n",
    "for idx, (lbl, cnts) in enumerate(zip(bar_labels, counts)):\n",
    "    plt.bar(index + bar_width*idx, cnts, bar_width,\n",
    "                 alpha=opacity,\n",
    "                 color=random_color(x),\n",
    "                 label=lbl)\n",
    "\n",
    "plt.xlabel('Barcode')\n",
    "plt.ylabel('% of Reads Per Barcode')\n",
    "plt.title('% of Reads Blasted and Hit To Reference Genomes', y=1.08)\n",
    "plt.xticks(index + bar_width, tuple(ncbiblasted_count_df_noall.index.values), y=-0.01)\n",
    "plt.tick_params(top='off', right='off')\n",
    "plt.legend(loc='center left', bbox_to_anchor=(1.01, 0.5), fontsize=12)\n",
    "plt.grid(b=None, which='major', axis='y', linestyle='dashed', linewidth=0.2)\n",
    "plt.margins(x=0.1)\n",
    "\n",
    "plt.tight_layout()\n",
    "plt.savefig(work_dir + 'analysis/graphs/' + basecalled_fasta_file_id + 'ncbi_hit_and_nohit_percentage.png', bbox_inches='tight')"
   ]
  }
 ],
 "metadata": {
  "anaconda-cloud": {},
  "kernelspec": {
   "display_name": "Python 3",
   "language": "python",
   "name": "python3"
  },
  "language_info": {
   "codemirror_mode": {
    "name": "ipython",
    "version": 3
   },
   "file_extension": ".py",
   "mimetype": "text/x-python",
   "name": "python",
   "nbconvert_exporter": "python",
   "pygments_lexer": "ipython3",
   "version": "3.5.2"
  }
 },
 "nbformat": 4,
 "nbformat_minor": 1
}
