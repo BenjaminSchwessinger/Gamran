{
 "cells": [
  {
   "cell_type": "code",
   "execution_count": 1,
   "metadata": {
    "collapsed": true
   },
   "outputs": [],
   "source": [
    "### SETTING UP THE DATAFRAME ###"
   ]
  },
  {
   "cell_type": "code",
   "execution_count": 395,
   "metadata": {
    "collapsed": true
   },
   "outputs": [],
   "source": [
    "#Importing relevant modules: \n",
    "# * dataframe - pandas \n",
    "# * graphs - matplotlib \n",
    "# * tools - numpy, random, fnmatch, os\n",
    "# * fasta to dataframe conversion - SeqIO\n",
    "\n",
    "import numpy as np\n",
    "import matplotlib.pyplot as plt\n",
    "import matplotlib\n",
    "import os\n",
    "import pandas as pd\n",
    "import random\n",
    "import collections\n",
    "import math\n",
    "from pandas.tools.plotting import table\n",
    "from itertools import product\n",
    "from Bio import SeqIO"
   ]
  },
  {
   "cell_type": "code",
   "execution_count": 3,
   "metadata": {
    "collapsed": true
   },
   "outputs": [],
   "source": [
    "work_dir = '/home/gamran/dirtreetest/'"
   ]
  },
  {
   "cell_type": "code",
   "execution_count": 398,
   "metadata": {
    "collapsed": false
   },
   "outputs": [],
   "source": [
    "#Functions that generate main work directories and subdirectories for:\n",
    "# * data (all fasta files)\n",
    "# * blast (all blast output files)\n",
    "# * analysis (all dataframe summary and graph files)\n",
    "# When given a top directory path\n",
    "\n",
    "def create_main_directories(top_dir):\n",
    "    \"\"\"Given a top work directory, creates 3 main subdirectories - data, blast and analysis\"\"\"\n",
    "    main_directory_list = ['data/', 'blast/', 'analysis/']\n",
    "    for new_direct in main_directory_list:\n",
    "        if not os.path.exists(top_dir + new_direct):\n",
    "            os.makedirs(top_dir + new_direct)\n",
    "\n",
    "def create_data_subdirectories(top_dir):\n",
    "    data_subdirectory_list = ['basecalled/',\n",
    "                        'rghityes/',\n",
    "                        'rghitno/',\n",
    "                        'rghitsamples/']\n",
    "    data_subsubdirectory_list = ['ncbihityes/',\n",
    "                                 'ncbihitno/']\n",
    "    for new_subdirect in data_subdirectory_list:\n",
    "        if not os.path.exists(top_dir + 'data/' + new_subdirect):\n",
    "            os.makedirs(top_dir + 'data/' + new_subdirect)\n",
    "    for new_subsubdirect in data_subsubdirectory_list:\n",
    "        if not os.path.exists(top_dir + 'data/rghitno/' + new_subsubdirect):\n",
    "            os.makedirs(top_dir + 'data/rghitno/' + new_subsubdirect)\n",
    "\n",
    "def create_blast_subdirectories(top_dir):\n",
    "    blast_subdirectory_list = ['rgbesthit/',\n",
    "                               'ncbibesthit/']\n",
    "    for new_subdirect in blast_subdirectory_list:\n",
    "        if not os.path.exists(top_dir + 'blast/' + new_subdirect):\n",
    "            os.makedirs(top_dir + 'blast/' + new_subdirect)\n",
    "\n",
    "def create_analysis_subdirectories(top_dir):\n",
    "    analysis_subdirectory_list = ['graphs/',\n",
    "                                  'tables/',\n",
    "                               'summaries/']\n",
    "    for new_subdirect in analysis_subdirectory_list:\n",
    "        if not os.path.exists(top_dir + 'analysis/' + new_subdirect):\n",
    "            os.makedirs(top_dir + 'analysis/' + new_subdirect)"
   ]
  },
  {
   "cell_type": "code",
   "execution_count": 400,
   "metadata": {
    "collapsed": false
   },
   "outputs": [],
   "source": [
    "#Apply previous functions to generate data, blast and analysis directories and subdirectories:\n",
    "create_main_directories(work_dir)\n",
    "create_data_subdirectories(work_dir)\n",
    "create_blast_subdirectories(work_dir)\n",
    "create_analysis_subdirectories(work_dir)"
   ]
  },
  {
   "cell_type": "code",
   "execution_count": null,
   "metadata": {
    "collapsed": true
   },
   "outputs": [],
   "source": [
    "#Create a function that moves all basecalled fasta files to the ./basecalled folder, given input"
   ]
  },
  {
   "cell_type": "code",
   "execution_count": 89,
   "metadata": {
    "collapsed": false
   },
   "outputs": [],
   "source": [
    "#Generates a list of all the fasta files present in data/basecalled\n",
    "os.chdir(work_dir + 'data/')\n",
    "#os.curdir\n",
    "#os.getcwd()\n",
    "\n",
    "basecalled_file_names = [x for x in list(os.walk('./basecalled', topdown=False))]"
   ]
  },
  {
   "cell_type": "code",
   "execution_count": 88,
   "metadata": {
    "collapsed": true
   },
   "outputs": [
    {
     "data": {
      "text/plain": [
       "['1212_1D_barcoding_Wagga_BC01.fa',\n",
       " '1212_1D_barcoding_Wagga_BC02.fa',\n",
       " '1212_1D_barcoding_Wagga_BC03.fa',\n",
       " '1212_1D_barcoding_Wagga_BC04.fa',\n",
       " '1212_1D_barcoding_Wagga_BC05.fa',\n",
       " '1212_1D_barcoding_Wagga_BC06.fa',\n",
       " '1212_1D_barcoding_Wagga_BC07.fa',\n",
       " '1212_1D_barcoding_Wagga_BC08.fa',\n",
       " '1212_1D_barcoding_Wagga_BC09.fa',\n",
       " '1212_1D_barcoding_Wagga_BC10.fa',\n",
       " '1212_1D_barcoding_Wagga_BC11.fa',\n",
       " '1212_1D_barcoding_Wagga_BC12.fa',\n",
       " '1212_1D_barcoding_Wagga_BC13.fa',\n",
       " '1212_1D_barcoding_Wagga_BC14.fa',\n",
       " '1212_1D_barcoding_Wagga_BC15.fa',\n",
       " '1212_1D_barcoding_Wagga_BC16.fa',\n",
       " '1212_1D_barcoding_Wagga_BC17.fa',\n",
       " '1212_1D_barcoding_Wagga_BC19.fa',\n",
       " '1212_1D_barcoding_Wagga_BC20.fa',\n",
       " '1212_1D_barcoding_Wagga_BC21.fa',\n",
       " '1212_1D_barcoding_Wagga_BC22.fa',\n",
       " '1212_1D_barcoding_Wagga_BC23.fa',\n",
       " '1212_1D_barcoding_Wagga_BC24.fa',\n",
       " '1212_1D_barcoding_Wagga_BC25.fa',\n",
       " '1212_1D_barcoding_Wagga_BC26.fa',\n",
       " '1212_1D_barcoding_Wagga_BC27.fa',\n",
       " '1212_1D_barcoding_Wagga_BC28.fa',\n",
       " '1212_1D_barcoding_Wagga_BC29.fa',\n",
       " '1212_1D_barcoding_Wagga_BC30.fa',\n",
       " '1212_1D_barcoding_Wagga_BC31.fa',\n",
       " '1212_1D_barcoding_Wagga_BC32.fa',\n",
       " '1212_1D_barcoding_Wagga_BC33.fa',\n",
       " '1212_1D_barcoding_Wagga_BC35.fa',\n",
       " '1212_1D_barcoding_Wagga_BC36.fa',\n",
       " '1212_1D_barcoding_Wagga_BC37.fa',\n",
       " '1212_1D_barcoding_Wagga_BC38.fa',\n",
       " '1212_1D_barcoding_Wagga_BC39.fa',\n",
       " '1212_1D_barcoding_Wagga_BC40.fa',\n",
       " '1212_1D_barcoding_Wagga_BC41.fa',\n",
       " '1212_1D_barcoding_Wagga_BC42.fa',\n",
       " '1212_1D_barcoding_Wagga_BC43.fa',\n",
       " '1212_1D_barcoding_Wagga_BC44.fa',\n",
       " '1212_1D_barcoding_Wagga_BC45.fa',\n",
       " '1212_1D_barcoding_Wagga_BC46.fa',\n",
       " '1212_1D_barcoding_Wagga_BC47.fa',\n",
       " '1212_1D_barcoding_Wagga_BC48.fa',\n",
       " '1212_1D_barcoding_Wagga_BC49.fa',\n",
       " '1212_1D_barcoding_Wagga_BC50.fa',\n",
       " '1212_1D_barcoding_Wagga_BC51.fa',\n",
       " '1212_1D_barcoding_Wagga_BC52.fa',\n",
       " '1212_1D_barcoding_Wagga_BC53.fa',\n",
       " '1212_1D_barcoding_Wagga_BC54.fa',\n",
       " '1212_1D_barcoding_Wagga_BC55.fa',\n",
       " '1212_1D_barcoding_Wagga_BC56.fa',\n",
       " '1212_1D_barcoding_Wagga_BC57.fa',\n",
       " '1212_1D_barcoding_Wagga_BC58.fa',\n",
       " '1212_1D_barcoding_Wagga_BC59.fa',\n",
       " '1212_1D_barcoding_Wagga_BC60.fa',\n",
       " '1212_1D_barcoding_Wagga_BC63.fa',\n",
       " '1212_1D_barcoding_Wagga_BC64.fa',\n",
       " '1212_1D_barcoding_Wagga_BC65.fa',\n",
       " '1212_1D_barcoding_Wagga_BC66.fa',\n",
       " '1212_1D_barcoding_Wagga_BC67.fa',\n",
       " '1212_1D_barcoding_Wagga_BC68.fa',\n",
       " '1212_1D_barcoding_Wagga_BC69.fa',\n",
       " '1212_1D_barcoding_Wagga_BC70.fa',\n",
       " '1212_1D_barcoding_Wagga_BC71.fa',\n",
       " '1212_1D_barcoding_Wagga_BC72.fa',\n",
       " '1212_1D_barcoding_Wagga_BC74.fa',\n",
       " '1212_1D_barcoding_Wagga_BC75.fa',\n",
       " '1212_1D_barcoding_Wagga_BC76.fa',\n",
       " '1212_1D_barcoding_Wagga_BC77.fa',\n",
       " '1212_1D_barcoding_Wagga_BC79.fa',\n",
       " '1212_1D_barcoding_Wagga_BC80.fa',\n",
       " '1212_1D_barcoding_Wagga_BC81.fa',\n",
       " '1212_1D_barcoding_Wagga_BC82.fa',\n",
       " '1212_1D_barcoding_Wagga_BC83.fa',\n",
       " '1212_1D_barcoding_Wagga_BC84.fa',\n",
       " '1212_1D_barcoding_Wagga_BC85.fa',\n",
       " '1212_1D_barcoding_Wagga_BC86.fa',\n",
       " '1212_1D_barcoding_Wagga_BC87.fa',\n",
       " '1212_1D_barcoding_Wagga_BC88.fa',\n",
       " '1212_1D_barcoding_Wagga_BC89.fa',\n",
       " '1212_1D_barcoding_Wagga_BC90.fa',\n",
       " '1212_1D_barcoding_Wagga_BC91.fa',\n",
       " '1212_1D_barcoding_Wagga_BC92.fa',\n",
       " '1212_1D_barcoding_Wagga_BC93.fa',\n",
       " '1212_1D_barcoding_Wagga_BC94.fa',\n",
       " '1212_1D_barcoding_Wagga_BC95.fa',\n",
       " '1212_1D_barcoding_Wagga_BC96.fa',\n",
       " '1212_1D_barcoding_Wagga_NB01.fa',\n",
       " '1212_1D_barcoding_Wagga_NB02.fa',\n",
       " '1212_1D_barcoding_Wagga_NB03.fa',\n",
       " '1212_1D_barcoding_Wagga_NB04.fa',\n",
       " '1212_1D_barcoding_Wagga_NB05.fa',\n",
       " '1212_1D_barcoding_Wagga_NB06.fa',\n",
       " '1212_1D_barcoding_Wagga_NB08.fa',\n",
       " '1212_1D_barcoding_Wagga_NB09.fa',\n",
       " '1212_1D_barcoding_Wagga_NB10.fa',\n",
       " '1212_1D_barcoding_Wagga_NB11.fa',\n",
       " '1212_1D_barcoding_Wagga_NB12.fa']"
      ]
     },
     "execution_count": 88,
     "metadata": {},
     "output_type": "execute_result"
    }
   ],
   "source": [
    "#Reduces basecalled_file_names to a flattened list, extracts all basecalled fasta file names\n",
    "def flatten(l):\n",
    "    for el in l:\n",
    "        if isinstance(el, collections.Iterable) and not isinstance(el, (str, bytes)):\n",
    "            yield from flatten(el)\n",
    "        else:\n",
    "            yield el\n",
    "\n",
    "basecalled_file_names_flattened = list(flatten(basecalled_file_names))\n",
    "basecalled_fasta_file_names = [x for x in basecalled_file_names_flattened if '.fa' in x]\n",
    "basecalled_fasta_file_names.sort()\n"
   ]
  },
  {
   "cell_type": "code",
   "execution_count": 92,
   "metadata": {
    "collapsed": false
   },
   "outputs": [],
   "source": [
    "#Make a list of all available barcodes, based on fasta file names\n",
    "basecalled_fasta_barcodes = []\n",
    "for bcs in range(0, len(basecalled_fasta_file_names)):\n",
    "    basecalled_fasta_barcodes.append(basecalled_fasta_file_names[bcs][-7:-3]) #Convert to a search parameter?\n",
    "#print(basecalled_fasta_file_names[1][-7:-3])  \n",
    "#print(basecalled_fasta_barcodes)"
   ]
  },
  {
   "cell_type": "code",
   "execution_count": 197,
   "metadata": {
    "collapsed": true
   },
   "outputs": [],
   "source": [
    "#Specifies all good barcodes\n",
    "all_barcodes = basecalled_fasta_barcodes\n",
    "good_barcodes = ['BC01', 'BC02', 'BC03', 'BC04', 'BC05', 'BC06']\n",
    "bad_barcodes = sorted(list(set(all_barcodes) - set(good_barcodes)))\n",
    "#bad_barcodes_BC00 = [x for x in bad_barcodes if 'BC' in x]\n",
    "#bad_barcodes_NB00 = [x for x in bad_barcodes if 'NB' in x]\n"
   ]
  },
  {
   "cell_type": "code",
   "execution_count": 122,
   "metadata": {
    "collapsed": false
   },
   "outputs": [],
   "source": [
    "#Extracts the ID from the basecalled file names (everything before BC/NB??.fa)\n",
    "basecalled_fasta_file_id = list(set([x[:-8] for x in basecalled_fasta_file_names]))[0]"
   ]
  },
  {
   "cell_type": "code",
   "execution_count": 210,
   "metadata": {
    "collapsed": false
   },
   "outputs": [],
   "source": [
    "#Create text file to summarise read_id, barcode and length for all basecalled reads, save in analysis/summaries/\n",
    "analysis_summaries_path = work_dir + 'analysis/summaries/'\n",
    "complete_path_and_name = os.path.join(analysis_summaries_path, basecalled_fasta_file_id + \".lengths.txt\")\n",
    "lengths_txt = open(complete_path_and_name, \"w\")\n",
    "print(\"Read_id,Barcode,Length,Quality\", file=lengths_txt)\n",
    "\n",
    "os.chdir(work_dir + 'data/basecalled/')\n",
    "for fa_file in basecalled_fasta_file_names: #file_names had the list of all the barcode fasta file names\n",
    "    for seq in SeqIO.parse(open(fa_file), 'fasta'):\n",
    "        if fa_file[-7:-3] in good_barcodes:\n",
    "            print(seq.id + \",\" + fa_file[-7:-3] + \",\" + str(len(seq)) + \",\" + 'Good', file=lengths_txt)\n",
    "        elif fa_file[-7:-3] in bad_barcodes:\n",
    "            print(seq.id + \",\" + 'NB00' + \",\" + str(len(seq)) + \",\" + 'Bad', file=lengths_txt)\n",
    "        else:\n",
    "            continue\n",
    "lengths_txt.close()"
   ]
  },
  {
   "cell_type": "code",
   "execution_count": 211,
   "metadata": {
    "collapsed": false
   },
   "outputs": [],
   "source": [
    "basecalled_df = pd.read_csv(complete_path_and_name)\n"
   ]
  },
  {
   "cell_type": "code",
   "execution_count": 568,
   "metadata": {
    "collapsed": false
   },
   "outputs": [],
   "source": [
    "#basecalled_df.tail()"
   ]
  },
  {
   "cell_type": "code",
   "execution_count": null,
   "metadata": {
    "collapsed": true
   },
   "outputs": [],
   "source": []
  },
  {
   "cell_type": "code",
   "execution_count": null,
   "metadata": {
    "collapsed": true
   },
   "outputs": [],
   "source": []
  },
  {
   "cell_type": "code",
   "execution_count": null,
   "metadata": {
    "collapsed": true
   },
   "outputs": [],
   "source": [
    "### DATAFRAME ANALYSIS - TABLE OF SUMMARY DATA ###"
   ]
  },
  {
   "cell_type": "code",
   "execution_count": 246,
   "metadata": {
    "collapsed": false
   },
   "outputs": [],
   "source": [
    "### Shows number of reads, sum, max, mean, median of read lengths per barcode, all bad barcodes sorted to NB00 ###\n",
    "basecalled_df_pivot = basecalled_df.pivot_table(values='Length', \n",
    "                                                index='Barcode', \n",
    "                                                aggfunc=[len, np.sum, np.max, np.mean, np.median],\n",
    "                                                fill_value=0, \n",
    "                                                margins=True)\n",
    "basecalled_df_pivot.index.name = None\n",
    "\n",
    "for clmns in ['len', 'amax', 'median']:\n",
    "    basecalled_df_pivot[clmns] = basecalled_df_pivot[clmns].apply(lambda x: int(x))\n",
    "basecalled_df_pivot['sum'] = basecalled_df_pivot['sum'].apply(lambda x: \"{0:.3f}\".format(int(x)/1000000))\n",
    "basecalled_df_pivot['mean'] = basecalled_df_pivot['mean'].apply(lambda x: \"{0:.2f}\".format(x))\n",
    "basecalled_df_pivot_formal = basecalled_df_pivot.copy() #titles have whitespace, make fancier\n",
    "basecalled_df_pivot_formal.rename(columns={'len': 'Number of Reads', \n",
    "                                    'sum': 'Total Length (Mbp)',\n",
    "                                    'amax': 'Max Length (bp)',\n",
    "                                    'mean': 'Mean Length (bp)',\n",
    "                                    'median': 'Median Length (bp)'}, inplace=True)\n",
    "\n"
   ]
  },
  {
   "cell_type": "code",
   "execution_count": 420,
   "metadata": {
    "collapsed": false
   },
   "outputs": [
    {
     "data": {
      "text/plain": [
       "['Number of Reads',\n",
       " 'Total Length (Mbp)',\n",
       " 'Max Length (bp)',\n",
       " 'Mean Length (bp)',\n",
       " 'Median Length (bp)']"
      ]
     },
     "execution_count": 420,
     "metadata": {},
     "output_type": "execute_result"
    }
   ],
   "source": []
  },
  {
   "cell_type": "code",
   "execution_count": 437,
   "metadata": {
    "collapsed": false
   },
   "outputs": [],
   "source": [
    "### Saves pivot table summary in analysis/tables/ folder ###\n",
    "fig = plt.figure(figsize=(9,2))\n",
    "ax = fig.add_subplot(1, 1, 1, frame_on=False)\n",
    "ax.xaxis.set_visible(False)  # hide the x axis\n",
    "ax.yaxis.set_visible(False)  # hide the y axis\n",
    "\n",
    "table(ax, basecalled_df_pivot_formal, loc='center')\n",
    "\n",
    "plt.savefig(os.path.join(work_dir + 'analysis/tables/', \n",
    "                        basecalled_fasta_file_id + \"_basecalled_reads_summary.png\"))\n",
    "\n"
   ]
  },
  {
   "cell_type": "code",
   "execution_count": null,
   "metadata": {
    "collapsed": true
   },
   "outputs": [],
   "source": []
  },
  {
   "cell_type": "code",
   "execution_count": null,
   "metadata": {
    "collapsed": false
   },
   "outputs": [],
   "source": [
    "### DATAFRAME ANALYSIS - HISTOGRAMS OF SUMMARY DATA ###"
   ]
  },
  {
   "cell_type": "code",
   "execution_count": 268,
   "metadata": {
    "collapsed": true
   },
   "outputs": [],
   "source": [
    "#Generates a histogram showing the total read length distribution for all basecalled reads\n",
    "plt.figure(figsize=(10,5))\n",
    "basecalled_df.Length.hist(bins=30)\n",
    "\n",
    "plt.title('Basecalled Reads - Total Read Length Distribution', y=1.03, fontsize='x-large', fontweight='bold')\n",
    "\n",
    "plt.xlabel('Read Length', fontsize=16)\n",
    "plt.xticks(np.arange(0, basecalled_df.Length.max() + 1, 2000))\n",
    "plt.xlim([-1000, basecalled_df.Length.max() + 1000])\n",
    "\n",
    "plt.ylabel('Read Count', fontsize=16)\n",
    "\n",
    "for idx, clmn_name in enumerate(list(basecalled_df_pivot_formal.columns)):\n",
    "    plt.annotate(clmn_name + ' = ' + str(basecalled_df_pivot_formal[clmn_name]['All']), \n",
    "                 xy=(1, 1), \n",
    "                 xycoords='axes fraction', \n",
    "                 fontsize=16, \n",
    "                 fontweight='normal',\n",
    "                 xytext=(-20, -30 - 30*idx), \n",
    "                 textcoords='offset points', \n",
    "                 ha='right', \n",
    "                 va='top')\n",
    "    \n",
    "plt.savefig(work_dir + 'analysis/graphs/graph1.png', bbox_inches='tight')"
   ]
  },
  {
   "cell_type": "code",
   "execution_count": 359,
   "metadata": {
    "collapsed": false
   },
   "outputs": [],
   "source": [
    "#Generates a histogram showing the total read length distribution for all basecalled reads per barcode\n",
    "\n",
    "#Assesses number of barcodes, generates necessary number of plots (even) and relevant indexing system\n",
    "basecalled_barcodes = list(basecalled_df['Barcode'].unique())\n",
    "\n",
    "if len(list(basecalled_df['Barcode'].unique())) % 2 == 0:\n",
    "    no_of_subplots = len(basecalled_barcodes)\n",
    "else:\n",
    "    no_of_subplots = len(basecalled_barcodes) + 1\n",
    "\n",
    "#Always 2 columns, bc-count/2 rows \n",
    "no_of_subplots_pair = [int(no_of_subplots/2), 2]\n",
    "\n",
    "#Produce pairs of indices correlating to the coordinates of the subplots\n",
    "subplot_coordinates = list(product(range(no_of_subplots_pair[0]), range(no_of_subplots_pair[1])))\n",
    "subplot_coordinates_list = [list(l) for l in subplot_coordinates]\n",
    "subplot_coordinates_list_rows = [i[0] for i in subplot_coordinates_list]\n",
    "subplot_coordinates_list_columns = [i[1] for i in subplot_coordinates_list]\n",
    "\n",
    "fig, ax = plt.subplots(no_of_subplots_pair[0], no_of_subplots_pair[1], figsize=(15,10))\n",
    "\n",
    "xmax = int(basecalled_df.Length.max())\n",
    "\n",
    "grouped = basecalled_df.groupby('Barcode')  # CHECK THIS FOR SCALABILITY, NOT ENTIRELY SURE WHAT THIS DOES\n",
    "max_count_list = []\n",
    "for key in grouped.groups.keys():\n",
    "    max_count_list.append(np.histogram(grouped.Length.get_group(key), 50)[0].max())\n",
    "max_count_list.sort()\n",
    "\n",
    "def applyGroupHistograms(ax_ind1, ax_ind2, bcs):\n",
    "    ax[ax_ind1, ax_ind2].hist(basecalled_df.groupby('Barcode')['Length'].get_group(bcs), \n",
    "                              bins=range(0, xmax, int(xmax/60)), \n",
    "                              color='green', \n",
    "                              alpha=0.8)\n",
    "    ax[ax_ind1, ax_ind2].set_title(bcs)\n",
    "    ax[ax_ind1, ax_ind2].set_xlabel('Read Length')\n",
    "    ax[ax_ind1, ax_ind2].set_ylabel('Read Count');\n",
    "    ax[ax_ind1, ax_ind2].set_xlim([-1000, basecalled_df['Length'].max() + 1000])\n",
    "    ax[ax_ind1, ax_ind2].set_xticks(np.arange(0, xmax + 1, 2000))\n",
    "    ax[ax_ind1, ax_ind2].set_ylim(0, max_count_list[-1]*(5/4))\n",
    "    ax[ax_ind1, ax_ind2].grid(True, which='Major')\n",
    "    \n",
    "    for idx, clmn_name in enumerate(['Number of Reads', 'Total Length (Mbp)', 'Median Length (bp)']):\n",
    "        ax[ax_ind1, ax_ind2].annotate(clmn_name + ' = ' + str(basecalled_df_pivot_formal[clmn_name][bcs]), \n",
    "                     xy=(1, 1), \n",
    "                     xycoords='axes fraction', \n",
    "                     fontsize=16, \n",
    "                     fontweight='normal',\n",
    "                     xytext=(-20, -25 - 30*idx), \n",
    "                     textcoords='offset points', \n",
    "                     ha='right', \n",
    "                     va='top')\n",
    "\n",
    "for ax_ind1, ax_ind2, bcs, in zip(subplot_coordinates_list_rows, subplot_coordinates_list_columns, bc_list):\n",
    "    applyGroupHistograms(ax_ind1, ax_ind2, bcs)    \n",
    "\n",
    "if len(list(basecalled_df['Barcode'].unique())) != 0:\n",
    "    plt.delaxes(ax[subplot_coordinates_list_rows[-1], subplot_coordinates_list_columns[-1]])\n",
    "\n",
    "plt.suptitle('Basecalled Reads - Read Length Distribution By Barcode', \n",
    "             y=1.03, \n",
    "             fontsize='x-large', \n",
    "             fontweight='bold')\n",
    "plt.tight_layout()\n",
    "\n",
    "plt.savefig(work_dir + 'analysis/graphs/graph2.png', bbox_inches='tight')"
   ]
  },
  {
   "cell_type": "code",
   "execution_count": null,
   "metadata": {
    "collapsed": false
   },
   "outputs": [],
   "source": []
  },
  {
   "cell_type": "code",
   "execution_count": null,
   "metadata": {
    "collapsed": false
   },
   "outputs": [],
   "source": []
  },
  {
   "cell_type": "code",
   "execution_count": null,
   "metadata": {
    "collapsed": true
   },
   "outputs": [],
   "source": [
    "### DATAFRAME ANALYSIS - COLLATION OF RGBESTHIT DATA ###"
   ]
  },
  {
   "cell_type": "code",
   "execution_count": null,
   "metadata": {
    "collapsed": true
   },
   "outputs": [],
   "source": [
    "#Create a function that moves all blast files to the blast/basecalled folder, given input"
   ]
  },
  {
   "cell_type": "code",
   "execution_count": 374,
   "metadata": {
    "collapsed": false
   },
   "outputs": [],
   "source": [
    "os.chdir(work_dir + 'blast/')\n",
    "rgblast_file_names = [x for x in list(os.walk('./rgbesthit', topdown=False))]\n",
    "rgblast_file_names_flattened = list(flatten(rgblast_file_names))\n",
    "rgblast_besthit_file_names = [x for x in rgblast_file_names_flattened if 'blast.besthit' in x]\n",
    "rgblast_besthit_file_names.sort()"
   ]
  },
  {
   "cell_type": "code",
   "execution_count": 377,
   "metadata": {
    "collapsed": false
   },
   "outputs": [
    {
     "data": {
      "text/plain": [
       "['1212_1D_barcoding_Wagga_BC00.fa.WW_19121016.blast.besthit',\n",
       " '1212_1D_barcoding_Wagga_BC01.fa.WW_19121016.blast.besthit',\n",
       " '1212_1D_barcoding_Wagga_BC02.fa.WW_19121016.blast.besthit',\n",
       " '1212_1D_barcoding_Wagga_BC03.fa.WW_19121016.blast.besthit',\n",
       " '1212_1D_barcoding_Wagga_BC04.fa.WW_19121016.blast.besthit',\n",
       " '1212_1D_barcoding_Wagga_BC05.fa.WW_19121016.blast.besthit',\n",
       " '1212_1D_barcoding_Wagga_BC06.fa.WW_19121016.blast.besthit',\n",
       " '1212_1D_barcoding_Wagga_NB00.fa.WW_19121016.blast.besthit']"
      ]
     },
     "execution_count": 377,
     "metadata": {},
     "output_type": "execute_result"
    }
   ],
   "source": [
    "rgblast_besthit_file_names"
   ]
  },
  {
   "cell_type": "code",
   "execution_count": 560,
   "metadata": {
    "collapsed": false
   },
   "outputs": [],
   "source": [
    "os.chdir(work_dir + 'blast/rgbesthit')\n",
    "rgblast_dfs_dict = {}\n",
    "for besthit_file in rgblast_besthit_file_names:\n",
    "    if '.blast.besthit' in besthit_file:\n",
    "        key = '' #Safety \n",
    "        key = besthit_file.split('.')[0][-4:]\n",
    "        rgblast_dfs_dict[key] = pd.read_table(besthit_file, delim_whitespace=True, \n",
    "                                           names=['qseqid', 'sseqid', 'evalue', 'bitscore', 'length', 'pident', \n",
    "                                           'nident', 'species', 'barcode'])\n",
    "for bcs in rgblast_dfs_dict.keys():\n",
    "    rgblast_dfs_dict[bcs]['barcode'] = bcs"
   ]
  },
  {
   "cell_type": "code",
   "execution_count": 561,
   "metadata": {
    "collapsed": false
   },
   "outputs": [],
   "source": [
    "# Must supply two lists of equal length, in the desired order: \n",
    "# one corresponding to unique letter combos in the sseqid ids (tags)\n",
    "# one corresponding to the full names of the reference genomes used\n",
    "ref_genome_tag_list = ['TGAC', 'Zymo', 'Ptri', 'Pst', 'tig']\n",
    "ref_genome_species_list = ['Wheat', \n",
    "                        'Zymoseptoria tritici', \n",
    "                        'Pyrenophore tritici-repentis', \n",
    "                        'P. striformis f. sp. tritici WA', \n",
    "                        'Parastagonospora nodorum']\n",
    "\n",
    "def assign_species_from_sseqid(x):\n",
    "    for rg_tag, rg_full in zip(ref_genome_tag_list, ref_genome_species_list):    \n",
    "        if rg_tag in str(x):\n",
    "            return rg_full\n",
    "    else:\n",
    "        return 'N/A'\n",
    "\n",
    "for bcs in rgblast_dfs_dict.keys():\n",
    "    rgblast_dfs_dict[bcs]['species'] = rgblast_dfs_dict[bcs]['sseqid'].apply(assign_species_from_sseqid)\n"
   ]
  },
  {
   "cell_type": "code",
   "execution_count": 566,
   "metadata": {
    "collapsed": false
   },
   "outputs": [],
   "source": [
    "#Combining the BC00 reads from BLAST\n",
    "if 'BC00' in rgblast_dfs_dict.keys():\n",
    "    rgblast_dfs_dict['BC00']['barcode'] = 'NB00'\n",
    "\n",
    "#Combine all the reference genome hit dataframes across all barcodes\n",
    "rgblast_df_list = []\n",
    "for bcs in rgblast_dfs_dict.keys():\n",
    "    rgblast_df_list.append(rgblast_dfs_dict[bcs])\n",
    "    \n",
    "rgblast_df_joint = pd.concat(rgblast_df_list, axis=0, ignore_index=True)\n",
    "rgblast_df_joint.sort_values('barcode', ascending=True, inplace=True)\n",
    "rgblast_df_joint.reset_index(drop=True, inplace=True)"
   ]
  },
  {
   "cell_type": "code",
   "execution_count": 571,
   "metadata": {
    "collapsed": false
   },
   "outputs": [],
   "source": [
    "#Create a pivot table showing all reference genome hit counts for each barcode\n",
    "rgblast_df_joint_pivot = rgblast_df_joint.pivot_table(values='nident', index='barcode', columns='species', aggfunc='count', fill_value=0, margins=True)\n",
    "rgblast_df_joint_pivot = rgblast_df_joint_pivot.applymap(int)\n",
    "rgblast_df_joint_pivot.index.name = None\n",
    "rgblast_df_joint_pivot.columns.name = None"
   ]
  },
  {
   "cell_type": "code",
   "execution_count": 587,
   "metadata": {
    "collapsed": false
   },
   "outputs": [],
   "source": [
    "#Save pivot table to analysis/tables/\n",
    "fig = plt.figure(figsize=(11,2))\n",
    "ax = fig.add_subplot(1, 1, 1, frame_on=False)\n",
    "ax.xaxis.set_visible(False)  # hide the x axis\n",
    "ax.yaxis.set_visible(False)  # hide the y axis\n",
    "\n",
    "table(ax, rgblast_df_joint_pivot, loc='center')\n",
    "\n",
    "plt.savefig(os.path.join(work_dir + 'analysis/tables/', \n",
    "                        basecalled_fasta_file_id + \"_rgblasthit_reads_summary.png\"))\n"
   ]
  },
  {
   "cell_type": "code",
   "execution_count": 573,
   "metadata": {
    "collapsed": false
   },
   "outputs": [],
   "source": [
    "#Removes the 'all' column (for graphing purposes)\n",
    "rgblast_df_joint_pivot_noall = rgblast_df_joint_pivot.drop('All', axis=1)"
   ]
  },
  {
   "cell_type": "code",
   "execution_count": null,
   "metadata": {
    "collapsed": false
   },
   "outputs": [],
   "source": []
  },
  {
   "cell_type": "code",
   "execution_count": null,
   "metadata": {
    "collapsed": false
   },
   "outputs": [],
   "source": []
  },
  {
   "cell_type": "code",
   "execution_count": 803,
   "metadata": {
    "collapsed": false
   },
   "outputs": [],
   "source": [
    "# Construct a grouped bar chart showing the reference genome hit counts per barcode (log y axis)\n",
    "def generateGBGforRGHC(dropmaxspecies=False):\n",
    "    n_groups = len(rgblast_df_joint_pivot_noall.index.values)\n",
    "\n",
    "    max_genome = str(rgblast_df_joint_pivot_noall.ix['All'].idxmax(axis=1))\n",
    "\n",
    "    spc_list = list(rgblast_df_joint_pivot_noall.columns)\n",
    "    \n",
    "    if dropmaxspecies == True:\n",
    "        spc_list.remove(max_genome)\n",
    "\n",
    "    n_species_dict = {}\n",
    "    for spc in spc_list:\n",
    "        n_species_dict[spc] = tuple(rgblast_df_joint_pivot_noall[spc])\n",
    "\n",
    "    n_nohit = tuple(basecalled_df_pivot['len'].values - rgblast_df_joint_pivot['All'].values)    \n",
    "    \n",
    "    fig, ax = plt.subplots(figsize=(7,3))\n",
    "\n",
    "    index = np.arange(n_groups)\n",
    "    bar_width = 0.13\n",
    "    opacity = 0.4\n",
    "\n",
    "    cycol = 'rgbcym'\n",
    "    if dropmaxspecies == False:\n",
    "        plt.bar(index - bar_width*2, \n",
    "            n_nohit, \n",
    "            bar_width,\n",
    "            alpha = opacity,\n",
    "            log = True,\n",
    "            color = 'k',\n",
    "            label = 'No Hit')\n",
    "\n",
    "        for idx, spc in enumerate(spc_list):\n",
    "            plt.bar(index - bar_width + bar_width*idx, \n",
    "                n_species_dict[spc], \n",
    "                bar_width,\n",
    "                alpha = opacity,\n",
    "                log = True,\n",
    "                color = random.choice(cycol),\n",
    "                label = spc)\n",
    "    else:\n",
    "        for idx, spc in enumerate(spc_list):\n",
    "            plt.bar(index - bar_width + bar_width*idx, \n",
    "                n_species_dict[spc], \n",
    "                bar_width,\n",
    "                alpha = opacity,\n",
    "                color = random.choice(cycol),\n",
    "                label = spc)\n",
    "            \n",
    "    def generate_upper_ylim(graph_max):\n",
    "        \"\"\"Takes a value, counts the digits and outputs a value corresponding to 10*digits\"\"\"\n",
    "        digits = len(str(graph_max))\n",
    "        round_up = 10**(digits)\n",
    "        return round_up\n",
    "\n",
    "    plt.xlabel('Barcode')\n",
    "    plt.xticks(index + bar_width*1.2, tuple(rgblast_df_joint_pivot_noall.index.values))\n",
    "\n",
    "    plt.ylabel('Number of Reads')\n",
    "    if dropmaxspecies == False:\n",
    "        plt.ylim(0, generate_upper_ylim(rgblast_df_joint_pivot['All'].values.max()))\n",
    "    else:\n",
    "        rgblast_df_joint_pivot_nomaxspecies = rgblast_df_joint_pivot_noall.copy()\n",
    "        rgblast_df_joint_pivot_nomaxspecies.drop('Wheat', axis=1, inplace=True)\n",
    "        rgblast_df_joint_pivot_nomaxspecies['All'] = rgblast_df_joint_pivot_nomaxspecies.sum(axis=1)\n",
    "        plt.ylim(0, (rgblast_df_joint_pivot_nomaxspecies['All'].values.max()+1)/2)\n",
    "\n",
    "    plt.title('Number of Reads Hitting Specific Reference Genomes', y=1.08)\n",
    "    plt.legend(loc='center left', bbox_to_anchor=(1.01, 0.5), fontsize=10)\n",
    "    plt.grid(b=None, which='major', axis='y', linestyle='dashed', linewidth=0.2)\n",
    "    plt.margins(x=0.1)\n",
    "    plt.tick_params(top=\"off\", right=\"off\", bottom='off')\n",
    "    plt.tight_layout()\n",
    "    if dropmaxspecies == False:\n",
    "        plt.savefig(work_dir + 'analysis/graphs/graph3.png', bbox_inches='tight')\n",
    "    else:\n",
    "        plt.savefig(work_dir + 'analysis/graphs/graph4.png', bbox_inches='tight')"
   ]
  },
  {
   "cell_type": "code",
   "execution_count": 804,
   "metadata": {
    "collapsed": false
   },
   "outputs": [],
   "source": [
    "generateGBGforRGHC(dropmaxspecies=False)"
   ]
  },
  {
   "cell_type": "code",
   "execution_count": 805,
   "metadata": {
    "collapsed": true
   },
   "outputs": [],
   "source": [
    "generateGBGforRGHC(dropmaxspecies=True)"
   ]
  },
  {
   "cell_type": "code",
   "execution_count": null,
   "metadata": {
    "collapsed": false
   },
   "outputs": [],
   "source": [
    "#graphs to generate: The same without the max species (in this case wheat): -(dropmaxgenome=True)\n",
    "\n",
    "#Make same graphs, but with percentages"
   ]
  },
  {
   "cell_type": "code",
   "execution_count": 790,
   "metadata": {
    "collapsed": false
   },
   "outputs": [],
   "source": []
  },
  {
   "cell_type": "code",
   "execution_count": null,
   "metadata": {
    "collapsed": false
   },
   "outputs": [],
   "source": []
  },
  {
   "cell_type": "code",
   "execution_count": null,
   "metadata": {
    "collapsed": false
   },
   "outputs": [],
   "source": []
  },
  {
   "cell_type": "code",
   "execution_count": 743,
   "metadata": {
    "collapsed": false
   },
   "outputs": [],
   "source": []
  },
  {
   "cell_type": "code",
   "execution_count": null,
   "metadata": {
    "collapsed": false
   },
   "outputs": [],
   "source": []
  },
  {
   "cell_type": "code",
   "execution_count": null,
   "metadata": {
    "collapsed": false
   },
   "outputs": [],
   "source": []
  },
  {
   "cell_type": "code",
   "execution_count": null,
   "metadata": {
    "collapsed": false
   },
   "outputs": [],
   "source": []
  },
  {
   "cell_type": "code",
   "execution_count": null,
   "metadata": {
    "collapsed": false
   },
   "outputs": [],
   "source": []
  },
  {
   "cell_type": "code",
   "execution_count": null,
   "metadata": {
    "collapsed": true
   },
   "outputs": [],
   "source": []
  },
  {
   "cell_type": "code",
   "execution_count": 472,
   "metadata": {
    "collapsed": false
   },
   "outputs": [],
   "source": []
  },
  {
   "cell_type": "code",
   "execution_count": 439,
   "metadata": {
    "collapsed": true
   },
   "outputs": [
    {
     "data": {
      "text/plain": [
       "0         TGACv1_scaffold_327975_4BS\n",
       "1         TGACv1_scaffold_030242_1BL\n",
       "2         TGACv1_scaffold_606415_7DL\n",
       "3         TGACv1_scaffold_031052_1BL\n",
       "4         TGACv1_scaffold_602887_7DL\n",
       "5          TGACv1_scaffold_234012_3B\n",
       "6         TGACv1_scaffold_499976_6BL\n",
       "7          TGACv1_scaffold_227006_3B\n",
       "8         TGACv1_scaffold_527989_6DL\n",
       "9         TGACv1_scaffold_609188_7DL\n",
       "10        TGACv1_scaffold_556005_7AL\n",
       "11        TGACv1_scaffold_320259_4BL\n",
       "12                    000006F_Pst_WA\n",
       "13        TGACv1_scaffold_069514_1DL\n",
       "14        TGACv1_scaffold_006707_1AL\n",
       "15        TGACv1_scaffold_177600_2DS\n",
       "16        TGACv1_scaffold_499980_6BL\n",
       "17        TGACv1_scaffold_405113_5BL\n",
       "18        TGACv1_scaffold_569322_7AS\n",
       "19        TGACv1_scaffold_375334_5AL\n",
       "20        TGACv1_scaffold_177638_2DS\n",
       "21        TGACv1_scaffold_081237_1DS\n",
       "22        TGACv1_scaffold_569353_7AS\n",
       "23        TGACv1_scaffold_294933_4AL\n",
       "24        TGACv1_scaffold_543862_6DS\n",
       "25        TGACv1_scaffold_592143_7BS\n",
       "26        TGACv1_scaffold_273638_3DS\n",
       "27        TGACv1_scaffold_361494_4DS\n",
       "28          TGACv1_scaffold_643469_U\n",
       "29        TGACv1_scaffold_003086_1AL\n",
       "                     ...            \n",
       "103238    TGACv1_scaffold_049806_1BS\n",
       "103239    TGACv1_scaffold_088406_1DS\n",
       "103240      TGACv1_scaffold_642589_U\n",
       "103241    TGACv1_scaffold_130459_2BL\n",
       "103242    TGACv1_scaffold_579222_7BL\n",
       "103243    TGACv1_scaffold_374939_5AL\n",
       "103244    TGACv1_scaffold_513507_6BS\n",
       "103245    TGACv1_scaffold_502724_6BL\n",
       "103246    TGACv1_scaffold_608277_7DL\n",
       "103247    TGACv1_scaffold_577157_7BL\n",
       "103248    TGACv1_scaffold_129666_2BL\n",
       "103249    TGACv1_scaffold_159386_2DL\n",
       "103250    TGACv1_scaffold_406113_5BL\n",
       "103251    TGACv1_scaffold_321810_4BL\n",
       "103252    TGACv1_scaffold_050265_1BS\n",
       "103253    TGACv1_scaffold_591925_7BS\n",
       "103254    TGACv1_scaffold_000025_1AL\n",
       "103255    TGACv1_scaffold_158720_2DL\n",
       "103256    TGACv1_scaffold_343862_4DL\n",
       "103257    TGACv1_scaffold_307252_4AS\n",
       "103258    TGACv1_scaffold_001659_1AL\n",
       "103259    TGACv1_scaffold_592990_7BS\n",
       "103260    TGACv1_scaffold_129432_2BL\n",
       "103261    TGACv1_scaffold_062778_1DL\n",
       "103262    TGACv1_scaffold_507996_6BL\n",
       "103263    TGACv1_scaffold_447948_5DL\n",
       "103264     TGACv1_scaffold_223537_3B\n",
       "103265    TGACv1_scaffold_135198_2BL\n",
       "103266    TGACv1_scaffold_112580_2AS\n",
       "103267    TGACv1_scaffold_602887_7DL\n",
       "Name: sseqid, dtype: object"
      ]
     },
     "execution_count": 439,
     "metadata": {},
     "output_type": "execute_result"
    }
   ],
   "source": []
  }
 ],
 "metadata": {
  "anaconda-cloud": {},
  "kernelspec": {
   "display_name": "Python [conda root]",
   "language": "python",
   "name": "conda-root-py"
  },
  "language_info": {
   "codemirror_mode": {
    "name": "ipython",
    "version": 3
   },
   "file_extension": ".py",
   "mimetype": "text/x-python",
   "name": "python",
   "nbconvert_exporter": "python",
   "pygments_lexer": "ipython3",
   "version": "3.5.2"
  }
 },
 "nbformat": 4,
 "nbformat_minor": 1
}
