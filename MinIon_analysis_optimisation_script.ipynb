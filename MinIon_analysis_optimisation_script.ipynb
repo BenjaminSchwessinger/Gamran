{
 "cells": [
  {
   "cell_type": "code",
   "execution_count": 1,
   "metadata": {
    "collapsed": true
   },
   "outputs": [],
   "source": [
    "### SETTING UP THE DATAFRAME ###"
   ]
  },
  {
   "cell_type": "code",
   "execution_count": 295,
   "metadata": {
    "collapsed": true
   },
   "outputs": [],
   "source": [
    "#Importing relevant modules: \n",
    "# * dataframe - pandas \n",
    "# * graphs - matplotlib \n",
    "# * tools - numpy, random, fnmatch, os\n",
    "# * fasta to dataframe conversion - SeqIO\n",
    "\n",
    "import numpy as np\n",
    "import matplotlib.pyplot as plt\n",
    "import matplotlib\n",
    "import os\n",
    "import pandas as pd\n",
    "import random\n",
    "import collections\n",
    "from itertools import product\n",
    "from Bio import SeqIO"
   ]
  },
  {
   "cell_type": "code",
   "execution_count": 3,
   "metadata": {
    "collapsed": true
   },
   "outputs": [],
   "source": [
    "work_dir = '/home/gamran/dirtreetest/'"
   ]
  },
  {
   "cell_type": "code",
   "execution_count": 4,
   "metadata": {
    "collapsed": false
   },
   "outputs": [],
   "source": [
    "#Functions that generate main work directories and subdirectories for:\n",
    "# * data (all fasta files)\n",
    "# * blast (all blast output files)\n",
    "# * analysis (all dataframe summary and graph files)\n",
    "# When given a top directory path\n",
    "\n",
    "def create_main_directories(top_dir):\n",
    "    \"\"\"Given a top work directory, creates 3 main subdirectories - data, blast and analysis\"\"\"\n",
    "    main_directory_list = ['data/', 'blast/', 'analysis/']\n",
    "    for new_direct in main_directory_list:\n",
    "        if not os.path.exists(top_dir + new_direct):\n",
    "            os.makedirs(top_dir + new_direct)\n",
    "\n",
    "def create_data_subdirectories(top_dir):\n",
    "    data_subdirectory_list = ['basecalled/',\n",
    "                        'rghityes/',\n",
    "                        'rghitno/',\n",
    "                        'rghitsamples/']\n",
    "    data_subsubdirectory_list = ['ncbihityes/',\n",
    "                                 'ncbihitno/']\n",
    "    for new_subdirect in data_subdirectory_list:\n",
    "        if not os.path.exists(top_dir + 'data/' + new_subdirect):\n",
    "            os.makedirs(top_dir + 'data/' + new_subdirect)\n",
    "    for new_subsubdirect in data_subsubdirectory_list:\n",
    "        if not os.path.exists(top_dir + 'data/rghitno/' + new_subsubdirect):\n",
    "            os.makedirs(top_dir + 'data/rghitno/' + new_subsubdirect)\n",
    "\n",
    "def create_blast_subdirectories(top_dir):\n",
    "    blast_subdirectory_list = ['rgbesthit/',\n",
    "                               'ncbibesthit/']\n",
    "    for new_subdirect in blast_subdirectory_list:\n",
    "        if not os.path.exists(top_dir + 'blast/' + new_subdirect):\n",
    "            os.makedirs(top_dir + 'blast/' + new_subdirect)\n",
    "\n",
    "def create_analysis_subdirectories(top_dir):\n",
    "    analysis_subdirectory_list = ['graphs/',\n",
    "                               'summaries/']\n",
    "    for new_subdirect in analysis_subdirectory_list:\n",
    "        if not os.path.exists(top_dir + 'analysis/' + new_subdirect):\n",
    "            os.makedirs(top_dir + 'analysis/' + new_subdirect)"
   ]
  },
  {
   "cell_type": "code",
   "execution_count": null,
   "metadata": {
    "collapsed": true
   },
   "outputs": [],
   "source": [
    "#Create a function that moves all basecalled fasta files to the ./basecalled folder, given input"
   ]
  },
  {
   "cell_type": "code",
   "execution_count": 5,
   "metadata": {
    "collapsed": false
   },
   "outputs": [],
   "source": [
    "#Apply previous functions to generate data, blast and analysis directories and subdirectories:\n",
    "create_main_directories(work_dir)\n",
    "create_data_subdirectories(work_dir)\n",
    "create_blast_subdirectories(work_dir)\n",
    "create_analysis_subdirectories(work_dir)"
   ]
  },
  {
   "cell_type": "code",
   "execution_count": 89,
   "metadata": {
    "collapsed": false
   },
   "outputs": [],
   "source": [
    "#Generates a list of all the fasta files present in data/basecalled\n",
    "os.chdir(work_dir + 'data/')\n",
    "#os.curdir\n",
    "#os.getcwd()\n",
    "\n",
    "basecalled_file_names = [x for x in list(os.walk('./basecalled', topdown=False))]"
   ]
  },
  {
   "cell_type": "code",
   "execution_count": 88,
   "metadata": {
    "collapsed": true
   },
   "outputs": [
    {
     "data": {
      "text/plain": [
       "['1212_1D_barcoding_Wagga_BC01.fa',\n",
       " '1212_1D_barcoding_Wagga_BC02.fa',\n",
       " '1212_1D_barcoding_Wagga_BC03.fa',\n",
       " '1212_1D_barcoding_Wagga_BC04.fa',\n",
       " '1212_1D_barcoding_Wagga_BC05.fa',\n",
       " '1212_1D_barcoding_Wagga_BC06.fa',\n",
       " '1212_1D_barcoding_Wagga_BC07.fa',\n",
       " '1212_1D_barcoding_Wagga_BC08.fa',\n",
       " '1212_1D_barcoding_Wagga_BC09.fa',\n",
       " '1212_1D_barcoding_Wagga_BC10.fa',\n",
       " '1212_1D_barcoding_Wagga_BC11.fa',\n",
       " '1212_1D_barcoding_Wagga_BC12.fa',\n",
       " '1212_1D_barcoding_Wagga_BC13.fa',\n",
       " '1212_1D_barcoding_Wagga_BC14.fa',\n",
       " '1212_1D_barcoding_Wagga_BC15.fa',\n",
       " '1212_1D_barcoding_Wagga_BC16.fa',\n",
       " '1212_1D_barcoding_Wagga_BC17.fa',\n",
       " '1212_1D_barcoding_Wagga_BC19.fa',\n",
       " '1212_1D_barcoding_Wagga_BC20.fa',\n",
       " '1212_1D_barcoding_Wagga_BC21.fa',\n",
       " '1212_1D_barcoding_Wagga_BC22.fa',\n",
       " '1212_1D_barcoding_Wagga_BC23.fa',\n",
       " '1212_1D_barcoding_Wagga_BC24.fa',\n",
       " '1212_1D_barcoding_Wagga_BC25.fa',\n",
       " '1212_1D_barcoding_Wagga_BC26.fa',\n",
       " '1212_1D_barcoding_Wagga_BC27.fa',\n",
       " '1212_1D_barcoding_Wagga_BC28.fa',\n",
       " '1212_1D_barcoding_Wagga_BC29.fa',\n",
       " '1212_1D_barcoding_Wagga_BC30.fa',\n",
       " '1212_1D_barcoding_Wagga_BC31.fa',\n",
       " '1212_1D_barcoding_Wagga_BC32.fa',\n",
       " '1212_1D_barcoding_Wagga_BC33.fa',\n",
       " '1212_1D_barcoding_Wagga_BC35.fa',\n",
       " '1212_1D_barcoding_Wagga_BC36.fa',\n",
       " '1212_1D_barcoding_Wagga_BC37.fa',\n",
       " '1212_1D_barcoding_Wagga_BC38.fa',\n",
       " '1212_1D_barcoding_Wagga_BC39.fa',\n",
       " '1212_1D_barcoding_Wagga_BC40.fa',\n",
       " '1212_1D_barcoding_Wagga_BC41.fa',\n",
       " '1212_1D_barcoding_Wagga_BC42.fa',\n",
       " '1212_1D_barcoding_Wagga_BC43.fa',\n",
       " '1212_1D_barcoding_Wagga_BC44.fa',\n",
       " '1212_1D_barcoding_Wagga_BC45.fa',\n",
       " '1212_1D_barcoding_Wagga_BC46.fa',\n",
       " '1212_1D_barcoding_Wagga_BC47.fa',\n",
       " '1212_1D_barcoding_Wagga_BC48.fa',\n",
       " '1212_1D_barcoding_Wagga_BC49.fa',\n",
       " '1212_1D_barcoding_Wagga_BC50.fa',\n",
       " '1212_1D_barcoding_Wagga_BC51.fa',\n",
       " '1212_1D_barcoding_Wagga_BC52.fa',\n",
       " '1212_1D_barcoding_Wagga_BC53.fa',\n",
       " '1212_1D_barcoding_Wagga_BC54.fa',\n",
       " '1212_1D_barcoding_Wagga_BC55.fa',\n",
       " '1212_1D_barcoding_Wagga_BC56.fa',\n",
       " '1212_1D_barcoding_Wagga_BC57.fa',\n",
       " '1212_1D_barcoding_Wagga_BC58.fa',\n",
       " '1212_1D_barcoding_Wagga_BC59.fa',\n",
       " '1212_1D_barcoding_Wagga_BC60.fa',\n",
       " '1212_1D_barcoding_Wagga_BC63.fa',\n",
       " '1212_1D_barcoding_Wagga_BC64.fa',\n",
       " '1212_1D_barcoding_Wagga_BC65.fa',\n",
       " '1212_1D_barcoding_Wagga_BC66.fa',\n",
       " '1212_1D_barcoding_Wagga_BC67.fa',\n",
       " '1212_1D_barcoding_Wagga_BC68.fa',\n",
       " '1212_1D_barcoding_Wagga_BC69.fa',\n",
       " '1212_1D_barcoding_Wagga_BC70.fa',\n",
       " '1212_1D_barcoding_Wagga_BC71.fa',\n",
       " '1212_1D_barcoding_Wagga_BC72.fa',\n",
       " '1212_1D_barcoding_Wagga_BC74.fa',\n",
       " '1212_1D_barcoding_Wagga_BC75.fa',\n",
       " '1212_1D_barcoding_Wagga_BC76.fa',\n",
       " '1212_1D_barcoding_Wagga_BC77.fa',\n",
       " '1212_1D_barcoding_Wagga_BC79.fa',\n",
       " '1212_1D_barcoding_Wagga_BC80.fa',\n",
       " '1212_1D_barcoding_Wagga_BC81.fa',\n",
       " '1212_1D_barcoding_Wagga_BC82.fa',\n",
       " '1212_1D_barcoding_Wagga_BC83.fa',\n",
       " '1212_1D_barcoding_Wagga_BC84.fa',\n",
       " '1212_1D_barcoding_Wagga_BC85.fa',\n",
       " '1212_1D_barcoding_Wagga_BC86.fa',\n",
       " '1212_1D_barcoding_Wagga_BC87.fa',\n",
       " '1212_1D_barcoding_Wagga_BC88.fa',\n",
       " '1212_1D_barcoding_Wagga_BC89.fa',\n",
       " '1212_1D_barcoding_Wagga_BC90.fa',\n",
       " '1212_1D_barcoding_Wagga_BC91.fa',\n",
       " '1212_1D_barcoding_Wagga_BC92.fa',\n",
       " '1212_1D_barcoding_Wagga_BC93.fa',\n",
       " '1212_1D_barcoding_Wagga_BC94.fa',\n",
       " '1212_1D_barcoding_Wagga_BC95.fa',\n",
       " '1212_1D_barcoding_Wagga_BC96.fa',\n",
       " '1212_1D_barcoding_Wagga_NB01.fa',\n",
       " '1212_1D_barcoding_Wagga_NB02.fa',\n",
       " '1212_1D_barcoding_Wagga_NB03.fa',\n",
       " '1212_1D_barcoding_Wagga_NB04.fa',\n",
       " '1212_1D_barcoding_Wagga_NB05.fa',\n",
       " '1212_1D_barcoding_Wagga_NB06.fa',\n",
       " '1212_1D_barcoding_Wagga_NB08.fa',\n",
       " '1212_1D_barcoding_Wagga_NB09.fa',\n",
       " '1212_1D_barcoding_Wagga_NB10.fa',\n",
       " '1212_1D_barcoding_Wagga_NB11.fa',\n",
       " '1212_1D_barcoding_Wagga_NB12.fa']"
      ]
     },
     "execution_count": 88,
     "metadata": {},
     "output_type": "execute_result"
    }
   ],
   "source": [
    "#Reduces basecalled_file_names to a flattened list, extracts all basecalled fasta file names\n",
    "def flatten(l):\n",
    "    for el in l:\n",
    "        if isinstance(el, collections.Iterable) and not isinstance(el, (str, bytes)):\n",
    "            yield from flatten(el)\n",
    "        else:\n",
    "            yield el\n",
    "\n",
    "basecalled_file_names_flattened = list(flatten(basecalled_file_names))\n",
    "basecalled_fasta_file_names = [x for x in basecalled_file_names_flattened if '.fa' in x]\n",
    "basecalled_fasta_file_names.sort()\n"
   ]
  },
  {
   "cell_type": "code",
   "execution_count": 92,
   "metadata": {
    "collapsed": false
   },
   "outputs": [],
   "source": [
    "#Make a list of all available barcodes, based on fasta file names\n",
    "basecalled_fasta_barcodes = []\n",
    "for bcs in range(0, len(basecalled_fasta_file_names)):\n",
    "    basecalled_fasta_barcodes.append(basecalled_fasta_file_names[bcs][-7:-3]) #Convert to a search parameter?\n",
    "#print(basecalled_fasta_file_names[1][-7:-3])  \n",
    "#print(basecalled_fasta_barcodes)"
   ]
  },
  {
   "cell_type": "code",
   "execution_count": 197,
   "metadata": {
    "collapsed": true
   },
   "outputs": [],
   "source": [
    "#Specifies all good barcodes\n",
    "all_barcodes = basecalled_fasta_barcodes\n",
    "good_barcodes = ['BC01', 'BC02', 'BC03', 'BC04', 'BC05', 'BC06']\n",
    "bad_barcodes = sorted(list(set(all_barcodes) - set(good_barcodes)))\n",
    "#bad_barcodes_BC00 = [x for x in bad_barcodes if 'BC' in x]\n",
    "#bad_barcodes_NB00 = [x for x in bad_barcodes if 'NB' in x]\n"
   ]
  },
  {
   "cell_type": "code",
   "execution_count": 122,
   "metadata": {
    "collapsed": false
   },
   "outputs": [],
   "source": [
    "#Extracts the ID from the basecalled file names (everything before BC/NB??.fa)\n",
    "basecalled_fasta_file_id = list(set([x[:-8] for x in basecalled_fasta_file_names]))[0]"
   ]
  },
  {
   "cell_type": "code",
   "execution_count": 210,
   "metadata": {
    "collapsed": false
   },
   "outputs": [],
   "source": [
    "#Create text file to summarise read_id, barcode and length for all basecalled reads, save in analysis/summaries/\n",
    "analysis_summaries_path = work_dir + 'analysis/summaries/'\n",
    "complete_path_and_name = os.path.join(analysis_summaries_path, basecalled_fasta_file_id + \".lengths.txt\")\n",
    "lengths_txt = open(complete_path_and_name, \"w\")\n",
    "print(\"Read_id,Barcode,Length,Quality\", file=lengths_txt)\n",
    "\n",
    "os.chdir(work_dir + 'data/basecalled/')\n",
    "for fa_file in basecalled_fasta_file_names: #file_names had the list of all the barcode fasta file names\n",
    "    for seq in SeqIO.parse(open(fa_file), 'fasta'):\n",
    "        if fa_file[-7:-3] in good_barcodes:\n",
    "            print(seq.id + \",\" + fa_file[-7:-3] + \",\" + str(len(seq)) + \",\" + 'Good', file=lengths_txt)\n",
    "        elif fa_file[-7:-3] in bad_barcodes:\n",
    "            print(seq.id + \",\" + 'NB00' + \",\" + str(len(seq)) + \",\" + 'Bad', file=lengths_txt)\n",
    "        else:\n",
    "            continue\n",
    "lengths_txt.close()"
   ]
  },
  {
   "cell_type": "code",
   "execution_count": 211,
   "metadata": {
    "collapsed": false
   },
   "outputs": [],
   "source": [
    "basecalled_df = pd.read_csv(complete_path_and_name)\n"
   ]
  },
  {
   "cell_type": "code",
   "execution_count": 214,
   "metadata": {
    "collapsed": true
   },
   "outputs": [
    {
     "data": {
      "text/html": [
       "<div>\n",
       "<table border=\"1\" class=\"dataframe\">\n",
       "  <thead>\n",
       "    <tr style=\"text-align: right;\">\n",
       "      <th></th>\n",
       "      <th>Read_id</th>\n",
       "      <th>Barcode</th>\n",
       "      <th>Length</th>\n",
       "      <th>Quality</th>\n",
       "    </tr>\n",
       "  </thead>\n",
       "  <tbody>\n",
       "    <tr>\n",
       "      <th>533028</th>\n",
       "      <td>312cc732-cb9d-4af2-972b-fd853dad0b3d_Basecall_...</td>\n",
       "      <td>NB00</td>\n",
       "      <td>750</td>\n",
       "      <td>Bad</td>\n",
       "    </tr>\n",
       "    <tr>\n",
       "      <th>533029</th>\n",
       "      <td>3d6dcaa5-6dff-4b84-bf68-8d277375b0fe_Basecall_...</td>\n",
       "      <td>NB00</td>\n",
       "      <td>1804</td>\n",
       "      <td>Bad</td>\n",
       "    </tr>\n",
       "    <tr>\n",
       "      <th>533030</th>\n",
       "      <td>c5df690f-7603-41fe-8f29-84d3b49c2066_Basecall_...</td>\n",
       "      <td>NB00</td>\n",
       "      <td>1388</td>\n",
       "      <td>Bad</td>\n",
       "    </tr>\n",
       "    <tr>\n",
       "      <th>533031</th>\n",
       "      <td>05261b66-e642-4058-a63f-9a6e60e4d752_Basecall_...</td>\n",
       "      <td>NB00</td>\n",
       "      <td>6469</td>\n",
       "      <td>Bad</td>\n",
       "    </tr>\n",
       "    <tr>\n",
       "      <th>533032</th>\n",
       "      <td>cb1a108f-a791-4842-a77c-c30ca3555b50_Basecall_...</td>\n",
       "      <td>NB00</td>\n",
       "      <td>1515</td>\n",
       "      <td>Bad</td>\n",
       "    </tr>\n",
       "  </tbody>\n",
       "</table>\n",
       "</div>"
      ],
      "text/plain": [
       "                                                  Read_id Barcode  Length  \\\n",
       "533028  312cc732-cb9d-4af2-972b-fd853dad0b3d_Basecall_...    NB00     750   \n",
       "533029  3d6dcaa5-6dff-4b84-bf68-8d277375b0fe_Basecall_...    NB00    1804   \n",
       "533030  c5df690f-7603-41fe-8f29-84d3b49c2066_Basecall_...    NB00    1388   \n",
       "533031  05261b66-e642-4058-a63f-9a6e60e4d752_Basecall_...    NB00    6469   \n",
       "533032  cb1a108f-a791-4842-a77c-c30ca3555b50_Basecall_...    NB00    1515   \n",
       "\n",
       "       Quality  \n",
       "533028     Bad  \n",
       "533029     Bad  \n",
       "533030     Bad  \n",
       "533031     Bad  \n",
       "533032     Bad  "
      ]
     },
     "execution_count": 214,
     "metadata": {},
     "output_type": "execute_result"
    }
   ],
   "source": [
    "basecalled_df.tail()"
   ]
  },
  {
   "cell_type": "code",
   "execution_count": null,
   "metadata": {
    "collapsed": true
   },
   "outputs": [],
   "source": []
  },
  {
   "cell_type": "code",
   "execution_count": null,
   "metadata": {
    "collapsed": true
   },
   "outputs": [],
   "source": []
  },
  {
   "cell_type": "code",
   "execution_count": null,
   "metadata": {
    "collapsed": true
   },
   "outputs": [],
   "source": [
    "### DATAFRAME ANALYSIS - TABLE OF SUMMARY DATA ###"
   ]
  },
  {
   "cell_type": "code",
   "execution_count": 246,
   "metadata": {
    "collapsed": false
   },
   "outputs": [],
   "source": [
    "### Shows number of reads, sum, max, mean and median of read lengths per barcode, all bad barcodes sorted to NB00 ###\n",
    "basecalled_df_pivot = basecalled_df.pivot_table(values='Length', \n",
    "                                                index='Barcode', \n",
    "                                                aggfunc=[len, np.sum, np.max, np.mean, np.median],\n",
    "                                                fill_value=0, \n",
    "                                                margins=True)\n",
    "basecalled_df_pivot.index.name = None\n",
    "\n",
    "for clmns in ['len', 'amax', 'median']:\n",
    "    basecalled_df_pivot[clmns] = basecalled_df_pivot[clmns].apply(lambda x: int(x))\n",
    "basecalled_df_pivot['sum'] = basecalled_df_pivot['sum'].apply(lambda x: \"{0:.3f}\".format(int(x)/1000000))\n",
    "basecalled_df_pivot['mean'] = basecalled_df_pivot['mean'].apply(lambda x: \"{0:.2f}\".format(x))\n",
    "basecalled_df_pivot_formal = basecalled_df_pivot.copy() #titles have whitespace, make fancier\n",
    "basecalled_df_pivot_formal.rename(columns={'len': 'Number of Reads', \n",
    "                                    'sum': 'Total Length (Mbp)',\n",
    "                                    'amax': 'Max Length (bp)',\n",
    "                                    'mean': 'Mean Length (bp)',\n",
    "                                    'median': 'Median Length (bp)'}, inplace=True)\n",
    "\n",
    "basecalled_df_pivot_formal"
   ]
  },
  {
   "cell_type": "code",
   "execution_count": null,
   "metadata": {
    "collapsed": false
   },
   "outputs": [],
   "source": []
  },
  {
   "cell_type": "code",
   "execution_count": null,
   "metadata": {
    "collapsed": false
   },
   "outputs": [],
   "source": []
  },
  {
   "cell_type": "code",
   "execution_count": 268,
   "metadata": {
    "collapsed": true
   },
   "outputs": [],
   "source": [
    "#Generates a histogram showing the total read length distribution for all basecalled reads\n",
    "plt.figure(figsize=(10,5))\n",
    "basecalled_df.Length.hist(bins=30)\n",
    "\n",
    "plt.title('Basecalled Reads - Total Read Length Distribution', y=1.03, fontsize='x-large', fontweight='bold')\n",
    "\n",
    "plt.xlabel('Read Length', fontsize=16)\n",
    "plt.xticks(np.arange(0, basecalled_df.Length.max() + 1, 2000))\n",
    "plt.xlim([-1000, basecalled_df.Length.max() + 1000])\n",
    "\n",
    "plt.ylabel('Read Count', fontsize=16)\n",
    "\n",
    "for idx, clmn_name in enumerate(list(basecalled_df_pivot_formal.columns)):\n",
    "    plt.annotate(clmn_name + ' = ' + str(basecalled_df_pivot_formal[clmn_name]['All']), \n",
    "                 xy=(1, 1), \n",
    "                 xycoords='axes fraction', \n",
    "                 fontsize=16, \n",
    "                 fontweight='normal',\n",
    "                 xytext=(-20, -30 - 30*idx), \n",
    "                 textcoords='offset points', \n",
    "                 ha='right', \n",
    "                 va='top')\n",
    "    \n",
    "plt.savefig(work_dir + 'analysis/graphs/graph1.png', bbox_inches='tight')"
   ]
  },
  {
   "cell_type": "code",
   "execution_count": 302,
   "metadata": {
    "collapsed": false
   },
   "outputs": [
    {
     "data": {
      "text/plain": [
       "[(0, 0), (0, 1), (0, 2), (1, 0), (1, 1), (1, 2)]"
      ]
     },
     "execution_count": 302,
     "metadata": {},
     "output_type": "execute_result"
    }
   ],
   "source": [
    "coordinates = list(product(range(2), range(3)))\n",
    "#coordinates"
   ]
  },
  {
   "cell_type": "code",
   "execution_count": 347,
   "metadata": {
    "collapsed": false
   },
   "outputs": [
    {
     "data": {
      "text/plain": [
       "[3, 1]"
      ]
     },
     "execution_count": 347,
     "metadata": {},
     "output_type": "execute_result"
    }
   ],
   "source": [
    "subplot_coordinates_list[-1]"
   ]
  },
  {
   "cell_type": "code",
   "execution_count": 352,
   "metadata": {
    "collapsed": false
   },
   "outputs": [
    {
     "data": {
      "text/plain": [
       "1"
      ]
     },
     "execution_count": 352,
     "metadata": {},
     "output_type": "execute_result"
    }
   ],
   "source": [
    "subplot_coordinates_list_columns[-1]"
   ]
  },
  {
   "cell_type": "code",
   "execution_count": 358,
   "metadata": {
    "collapsed": false
   },
   "outputs": [],
   "source": [
    "#Generates a histogram showing the total read length distribution for all basecalled reads per barcode\n",
    "\n",
    "#Assesses number of barcodes, generates necessary number of plots (even) and relevant indexing system\n",
    "basecalled_barcodes = list(basecalled_df['Barcode'].unique())\n",
    "\n",
    "if len(list(basecalled_df['Barcode'].unique())) % 2 == 0:\n",
    "    no_of_subplots = len(basecalled_barcodes)\n",
    "else:\n",
    "    no_of_subplots = len(basecalled_barcodes) + 1\n",
    "\n",
    "#Always 2 columns, bc-count/2 rows \n",
    "no_of_subplots_pair = [int(no_of_subplots/2), 2]\n",
    "\n",
    "#Produce pairs of indices correlating to the coordinates of the subplots\n",
    "subplot_coordinates = list(product(range(no_of_subplots_pair[0]), range(no_of_subplots_pair[1])))\n",
    "subplot_coordinates_list = [list(l) for l in subplot_coordinates]\n",
    "subplot_coordinates_list_rows = [i[0] for i in subplot_coordinates_list]\n",
    "subplot_coordinates_list_columns = [i[1] for i in subplot_coordinates_list]\n",
    "\n",
    "fig, ax = plt.subplots(no_of_subplots_pair[0], no_of_subplots_pair[1], figsize=(15,10))\n",
    "\n",
    "xmax = int(basecalled_df.Length.max())\n",
    "grouped = basecalled_df.groupby('Barcode')  # CHECK THIS FOR SCALABILITY, NOT ENTIRELY SURE WHAT THIS DOES\n",
    "max_count_list = []\n",
    "for key in grouped.groups.keys():\n",
    "    max_count_list.append(np.histogram(grouped.Length.get_group(key), 50)[0].max())\n",
    "max_count_list.sort()\n",
    "\n",
    "def applyGroupHistograms(ax_ind1, ax_ind2, bcs):\n",
    "    ax[ax_ind1, ax_ind2].hist(basecalled_df.groupby('Barcode')['Length'].get_group(bcs), \n",
    "                              bins=range(0, xmax, int(xmax/60)), \n",
    "                              color='green', \n",
    "                              alpha=0.8)\n",
    "    ax[ax_ind1, ax_ind2].set_title(bcs)\n",
    "    ax[ax_ind1, ax_ind2].set_xlabel('Read Length')\n",
    "    ax[ax_ind1, ax_ind2].set_ylabel('Read Count');\n",
    "    ax[ax_ind1, ax_ind2].set_xlim([-1000, basecalled_df['Length'].max() + 1000])\n",
    "    ax[ax_ind1, ax_ind2].set_xticks(np.arange(0, xmax + 1, 2000))\n",
    "    ax[ax_ind1, ax_ind2].set_ylim(0, max_count_list[-1]*(5/4))\n",
    "    ax[ax_ind1, ax_ind2].grid(True, which='Major')\n",
    "    \n",
    "    for idx, clmn_name in enumerate(['Number of Reads', 'Total Length (Mbp)', 'Median Length (bp)']):\n",
    "        ax[ax_ind1, ax_ind2].annotate(clmn_name + ' = ' + str(basecalled_df_pivot_formal[clmn_name][bcs]), \n",
    "                     xy=(1, 1), \n",
    "                     xycoords='axes fraction', \n",
    "                     fontsize=16, \n",
    "                     fontweight='normal',\n",
    "                     xytext=(-20, -25 - 30*idx), \n",
    "                     textcoords='offset points', \n",
    "                     ha='right', \n",
    "                     va='top')\n",
    "  \n",
    "for ax_ind1, ax_ind2, bcs, in zip(subplot_coordinates_list_rows, subplot_coordinates_list_columns, bc_list):\n",
    "    applyGroupHistograms(ax_ind1, ax_ind2, bcs)    \n",
    "\n",
    "if len(list(basecalled_df['Barcode'].unique())) != 0:\n",
    "    plt.delaxes(ax[subplot_coordinates_list_rows[-1], subplot_coordinates_list_columns[-1]])\n",
    "\n",
    "plt.suptitle('Basecalled Reads - Read Length Distribution By Barcode', y=1.03, fontsize='x-large', fontweight='bold')\n",
    "plt.tight_layout()\n",
    "\n",
    "plt.savefig(work_dir + 'analysis/graphs/graph2.png', bbox_inches='tight')"
   ]
  },
  {
   "cell_type": "code",
   "execution_count": 310,
   "metadata": {
    "collapsed": false
   },
   "outputs": [],
   "source": [
    "ax1_list = [0,1,2,0,1,2]\n",
    "ax2_list = [0,0,0,1,1,1]\n",
    "bc_list = list(basecalled_df['Barcode'].unique())"
   ]
  },
  {
   "cell_type": "code",
   "execution_count": 308,
   "metadata": {
    "collapsed": false
   },
   "outputs": [
    {
     "data": {
      "text/plain": [
       "['BC01', 'BC02', 'BC03', 'BC04', 'BC05', 'BC06', 'NB00']"
      ]
     },
     "execution_count": 308,
     "metadata": {},
     "output_type": "execute_result"
    }
   ],
   "source": [
    "list(basecalled_df['Barcode'].unique())"
   ]
  },
  {
   "cell_type": "code",
   "execution_count": null,
   "metadata": {
    "collapsed": true
   },
   "outputs": [],
   "source": []
  }
 ],
 "metadata": {
  "anaconda-cloud": {},
  "kernelspec": {
   "display_name": "Python [conda root]",
   "language": "python",
   "name": "conda-root-py"
  },
  "language_info": {
   "codemirror_mode": {
    "name": "ipython",
    "version": 3
   },
   "file_extension": ".py",
   "mimetype": "text/x-python",
   "name": "python",
   "nbconvert_exporter": "python",
   "pygments_lexer": "ipython3",
   "version": "3.5.2"
  }
 },
 "nbformat": 4,
 "nbformat_minor": 1
}
