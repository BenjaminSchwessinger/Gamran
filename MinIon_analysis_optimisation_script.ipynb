{
 "cells": [
  {
   "cell_type": "code",
   "execution_count": 1,
   "metadata": {
    "collapsed": true
   },
   "outputs": [],
   "source": [
    "### SETTING UP THE DATAFRAME ###"
   ]
  },
  {
   "cell_type": "code",
   "execution_count": 395,
   "metadata": {
    "collapsed": true
   },
   "outputs": [],
   "source": [
    "#Importing relevant modules: \n",
    "# * dataframe - pandas \n",
    "# * graphs - matplotlib \n",
    "# * tools - numpy, random, fnmatch, os\n",
    "# * fasta to dataframe conversion - SeqIO\n",
    "\n",
    "import numpy as np\n",
    "import matplotlib.pyplot as plt\n",
    "import matplotlib\n",
    "import os\n",
    "import pandas as pd\n",
    "import random\n",
    "import collections\n",
    "import math\n",
    "from pandas.tools.plotting import table\n",
    "from itertools import product\n",
    "from Bio import SeqIO"
   ]
  },
  {
   "cell_type": "code",
   "execution_count": 3,
   "metadata": {
    "collapsed": true
   },
   "outputs": [],
   "source": [
    "work_dir = '/home/gamran/dirtreetest/'"
   ]
  },
  {
   "cell_type": "code",
   "execution_count": 398,
   "metadata": {
    "collapsed": false
   },
   "outputs": [],
   "source": [
    "#Functions that generate main work directories and subdirectories for:\n",
    "# * data (all fasta files)\n",
    "# * blast (all blast output files)\n",
    "# * analysis (all dataframe summary and graph files)\n",
    "# When given a top directory path\n",
    "\n",
    "def create_main_directories(top_dir):\n",
    "    \"\"\"Given a top work directory, creates 3 main subdirectories - data, blast and analysis\"\"\"\n",
    "    main_directory_list = ['data/', 'blast/', 'analysis/']\n",
    "    for new_direct in main_directory_list:\n",
    "        if not os.path.exists(top_dir + new_direct):\n",
    "            os.makedirs(top_dir + new_direct)\n",
    "\n",
    "def create_data_subdirectories(top_dir):\n",
    "    data_subdirectory_list = ['basecalled/',\n",
    "                        'rghityes/',\n",
    "                        'rghitno/',\n",
    "                        'rghitsamples/']\n",
    "    data_subsubdirectory_list = ['ncbihityes/',\n",
    "                                 'ncbihitno/']\n",
    "    for new_subdirect in data_subdirectory_list:\n",
    "        if not os.path.exists(top_dir + 'data/' + new_subdirect):\n",
    "            os.makedirs(top_dir + 'data/' + new_subdirect)\n",
    "    for new_subsubdirect in data_subsubdirectory_list:\n",
    "        if not os.path.exists(top_dir + 'data/rghitno/' + new_subsubdirect):\n",
    "            os.makedirs(top_dir + 'data/rghitno/' + new_subsubdirect)\n",
    "\n",
    "def create_blast_subdirectories(top_dir):\n",
    "    blast_subdirectory_list = ['rgbesthit/',\n",
    "                               'ncbibesthit/']\n",
    "    for new_subdirect in blast_subdirectory_list:\n",
    "        if not os.path.exists(top_dir + 'blast/' + new_subdirect):\n",
    "            os.makedirs(top_dir + 'blast/' + new_subdirect)\n",
    "\n",
    "def create_analysis_subdirectories(top_dir):\n",
    "    analysis_subdirectory_list = ['graphs/',\n",
    "                                  'tables/',\n",
    "                               'summaries/']\n",
    "    for new_subdirect in analysis_subdirectory_list:\n",
    "        if not os.path.exists(top_dir + 'analysis/' + new_subdirect):\n",
    "            os.makedirs(top_dir + 'analysis/' + new_subdirect)"
   ]
  },
  {
   "cell_type": "code",
   "execution_count": 400,
   "metadata": {
    "collapsed": false
   },
   "outputs": [],
   "source": [
    "#Apply previous functions to generate data, blast and analysis directories and subdirectories:\n",
    "create_main_directories(work_dir)\n",
    "create_data_subdirectories(work_dir)\n",
    "create_blast_subdirectories(work_dir)\n",
    "create_analysis_subdirectories(work_dir)"
   ]
  },
  {
   "cell_type": "code",
   "execution_count": null,
   "metadata": {
    "collapsed": true
   },
   "outputs": [],
   "source": [
    "#Create a function that moves all basecalled fasta files to the ./basecalled folder, given input"
   ]
  },
  {
   "cell_type": "code",
   "execution_count": 89,
   "metadata": {
    "collapsed": false
   },
   "outputs": [],
   "source": [
    "#Generates a list of all the fasta files present in data/basecalled\n",
    "os.chdir(work_dir + 'data/')\n",
    "#os.curdir\n",
    "#os.getcwd()\n",
    "\n",
    "basecalled_file_names = [x for x in list(os.walk('./basecalled', topdown=False))]"
   ]
  },
  {
   "cell_type": "code",
   "execution_count": 958,
   "metadata": {
    "collapsed": false
   },
   "outputs": [],
   "source": [
    "#Reduces basecalled_file_names to a flattened list, extracts all basecalled fasta file names\n",
    "def flatten(l):\n",
    "    for el in l:\n",
    "        if isinstance(el, collections.Iterable) and not isinstance(el, (str, bytes)):\n",
    "            yield from flatten(el)\n",
    "        else:\n",
    "            yield el"
   ]
  },
  {
   "cell_type": "code",
   "execution_count": 960,
   "metadata": {
    "collapsed": true
   },
   "outputs": [],
   "source": [
    "fasta_file_type = '.fa' \n",
    "basecalled_file_names_flattened = list(flatten(basecalled_file_names))\n",
    "basecalled_fasta_file_names = [x for x in basecalled_file_names_flattened if fasta_file_type in x]\n",
    "basecalled_fasta_file_names.sort()"
   ]
  },
  {
   "cell_type": "code",
   "execution_count": null,
   "metadata": {
    "collapsed": false
   },
   "outputs": [],
   "source": []
  },
  {
   "cell_type": "code",
   "execution_count": 835,
   "metadata": {
    "collapsed": false
   },
   "outputs": [],
   "source": [
    "#Make a list of all available barcodes, based on fasta file names\n",
    "basecalled_fasta_barcodes = []\n",
    "for bcs in range(0, len(basecalled_fasta_file_names)):\n",
    "    bclabel_index = ''\n",
    "    if int(basecalled_fasta_file_names[bcs].rfind('BC')) > int(basecalled_fasta_file_names[bcs].rfind('NB')):\n",
    "        bclabel_index = int(basecalled_fasta_file_names[bcs].rfind('BC'))\n",
    "    else:\n",
    "        bclabel_index = int(basecalled_fasta_file_names[bcs].rfind('NB'))\n",
    "    basecalled_fasta_barcodes.append(basecalled_fasta_file_names[bcs][bclabel_index:bclabel_index + 4]) #Convert to a search parameter? Try this Yiheng!\n"
   ]
  },
  {
   "cell_type": "code",
   "execution_count": 197,
   "metadata": {
    "collapsed": true
   },
   "outputs": [],
   "source": [
    "#Specifies all good barcodes\n",
    "all_barcodes = basecalled_fasta_barcodes\n",
    "good_barcodes = ['BC01', 'BC02', 'BC03', 'BC04', 'BC05', 'BC06']\n",
    "bad_barcodes = sorted(list(set(all_barcodes) - set(good_barcodes)))\n",
    "#bad_barcodes_BC00 = [x for x in bad_barcodes if 'BC' in x]\n",
    "#bad_barcodes_NB00 = [x for x in bad_barcodes if 'NB' in x]\n"
   ]
  },
  {
   "cell_type": "code",
   "execution_count": 928,
   "metadata": {
    "collapsed": false
   },
   "outputs": [],
   "source": [
    "#Extracts the ID from the basecalled file names (everything before BC/NB??.fa)\n",
    "basecalled_fasta_file_id_list = []\n",
    "for file_name in basecalled_fasta_file_names:\n",
    "    bclabel_index = ''\n",
    "    if int(file_name.rfind('BC')) > int(file_name.rfind('NB')):\n",
    "        bclabel_index = int(file_name.rfind('BC'))\n",
    "        basecalled_fasta_file_id_list.append(file_name[0:bclabel_index])\n",
    "    else:\n",
    "        bclabel_index = int(file_name.rfind('NB'))\n",
    "        basecalled_fasta_file_id_list.append(file_name[0:bclabel_index])\n",
    "    \n",
    "basecalled_fasta_file_id = list(set(basecalled_fasta_file_id_list))[0]"
   ]
  },
  {
   "cell_type": "code",
   "execution_count": 210,
   "metadata": {
    "collapsed": false
   },
   "outputs": [],
   "source": [
    "#Create text file to summarise read_id, barcode and length for all basecalled reads, save in analysis/summaries/\n",
    "basecalled_fasta_barcode2filename_dict = dict()\n",
    "\n",
    "analysis_summaries_path = work_dir + 'analysis/summaries/'\n",
    "complete_path_and_name = os.path.join(analysis_summaries_path, basecalled_fasta_file_id + \".lengths.txt\")\n",
    "lengths_txt = open(complete_path_and_name, \"w\")\n",
    "print(\"Read_id,Barcode,Length,Quality\", file=lengths_txt)\n",
    "\n",
    "os.chdir(work_dir + 'data/basecalled/')\n",
    "for bcs, fa_file in zip(basecalled_fasta_barcodes, basecalled_fasta_file_names):\n",
    "    for seq in SeqIO.parse(open(fa_file), 'fasta'):\n",
    "        if bcs in good_barcodes:\n",
    "            print(seq.id + \",\" + bcs + \",\" + str(len(seq)) + \",\" + 'Good', file=lengths_txt)\n",
    "        elif bcs in bad_barcodes:\n",
    "            print(seq.id + \",\" + 'NB00' + \",\" + str(len(seq)) + \",\" + 'Bad', file=lengths_txt)\n",
    "        else:\n",
    "            continue\n",
    "lengths_txt.close()"
   ]
  },
  {
   "cell_type": "code",
   "execution_count": 211,
   "metadata": {
    "collapsed": false
   },
   "outputs": [],
   "source": [
    "basecalled_df = pd.read_csv(complete_path_and_name)\n"
   ]
  },
  {
   "cell_type": "code",
   "execution_count": 568,
   "metadata": {
    "collapsed": false
   },
   "outputs": [],
   "source": [
    "#basecalled_df.tail()"
   ]
  },
  {
   "cell_type": "code",
   "execution_count": null,
   "metadata": {
    "collapsed": true
   },
   "outputs": [],
   "source": []
  },
  {
   "cell_type": "code",
   "execution_count": null,
   "metadata": {
    "collapsed": true
   },
   "outputs": [],
   "source": []
  },
  {
   "cell_type": "code",
   "execution_count": null,
   "metadata": {
    "collapsed": true
   },
   "outputs": [],
   "source": [
    "### DATAFRAME ANALYSIS - TABLE OF SUMMARY DATA ###"
   ]
  },
  {
   "cell_type": "code",
   "execution_count": 246,
   "metadata": {
    "collapsed": false
   },
   "outputs": [],
   "source": [
    "### Shows number of reads, sum, max, mean, median of read lengths per barcode, all bad barcodes sorted to NB00 ###\n",
    "basecalled_df_pivot = basecalled_df.pivot_table(values='Length', \n",
    "                                                index='Barcode', \n",
    "                                                aggfunc=[len, np.sum, np.max, np.mean, np.median],\n",
    "                                                fill_value=0, \n",
    "                                                margins=True)\n",
    "basecalled_df_pivot.index.name = None\n",
    "\n",
    "for clmns in ['len', 'amax', 'median']:\n",
    "    basecalled_df_pivot[clmns] = basecalled_df_pivot[clmns].apply(lambda x: int(x))\n",
    "basecalled_df_pivot['sum'] = basecalled_df_pivot['sum'].apply(lambda x: \"{0:.3f}\".format(int(x)/1000000))\n",
    "basecalled_df_pivot['mean'] = basecalled_df_pivot['mean'].apply(lambda x: \"{0:.2f}\".format(x))\n",
    "basecalled_df_pivot_formal = basecalled_df_pivot.copy() #titles have whitespace, make fancier\n",
    "basecalled_df_pivot_formal.rename(columns={'len': 'Number of Reads', \n",
    "                                    'sum': 'Total Length (Mbp)',\n",
    "                                    'amax': 'Max Length (bp)',\n",
    "                                    'mean': 'Mean Length (bp)',\n",
    "                                    'median': 'Median Length (bp)'}, inplace=True)\n",
    "\n"
   ]
  },
  {
   "cell_type": "code",
   "execution_count": null,
   "metadata": {
    "collapsed": false
   },
   "outputs": [],
   "source": []
  },
  {
   "cell_type": "code",
   "execution_count": 437,
   "metadata": {
    "collapsed": false
   },
   "outputs": [],
   "source": [
    "### Saves pivot table summary in analysis/tables/ folder ###\n",
    "fig = plt.figure(figsize=(9,2))\n",
    "ax = fig.add_subplot(1, 1, 1, frame_on=False)\n",
    "ax.xaxis.set_visible(False)  # hide the x axis\n",
    "ax.yaxis.set_visible(False)  # hide the y axis\n",
    "\n",
    "table(ax, basecalled_df_pivot_formal, loc='center')\n",
    "\n",
    "plt.savefig(os.path.join(work_dir + 'analysis/tables/', \n",
    "                        basecalled_fasta_file_id + \"_basecalled_reads_summary.png\"))\n",
    "\n"
   ]
  },
  {
   "cell_type": "code",
   "execution_count": null,
   "metadata": {
    "collapsed": true
   },
   "outputs": [],
   "source": []
  },
  {
   "cell_type": "code",
   "execution_count": null,
   "metadata": {
    "collapsed": false
   },
   "outputs": [],
   "source": [
    "### DATAFRAME ANALYSIS - HISTOGRAMS OF SUMMARY DATA ###"
   ]
  },
  {
   "cell_type": "code",
   "execution_count": 268,
   "metadata": {
    "collapsed": true
   },
   "outputs": [],
   "source": [
    "#Generates a histogram showing the total read length distribution for all basecalled reads\n",
    "plt.figure(figsize=(10,5))\n",
    "basecalled_df.Length.hist(bins=30)\n",
    "\n",
    "plt.title('Basecalled Reads - Total Read Length Distribution', y=1.03, fontsize='x-large', fontweight='bold')\n",
    "\n",
    "plt.xlabel('Read Length', fontsize=16)\n",
    "plt.xticks(np.arange(0, basecalled_df.Length.max() + 1, 2000))\n",
    "plt.xlim([-1000, basecalled_df.Length.max() + 1000])\n",
    "\n",
    "plt.ylabel('Read Count', fontsize=16)\n",
    "\n",
    "for idx, clmn_name in enumerate(list(basecalled_df_pivot_formal.columns)):\n",
    "    plt.annotate(clmn_name + ' = ' + str(basecalled_df_pivot_formal[clmn_name]['All']), \n",
    "                 xy=(1, 1), \n",
    "                 xycoords='axes fraction', \n",
    "                 fontsize=16, \n",
    "                 fontweight='normal',\n",
    "                 xytext=(-20, -30 - 30*idx), \n",
    "                 textcoords='offset points', \n",
    "                 ha='right', \n",
    "                 va='top')\n",
    "    \n",
    "plt.savefig(work_dir + 'analysis/graphs/graph1.png', bbox_inches='tight')"
   ]
  },
  {
   "cell_type": "code",
   "execution_count": 359,
   "metadata": {
    "collapsed": false
   },
   "outputs": [],
   "source": [
    "#Generates a histogram showing the total read length distribution for all basecalled reads per barcode\n",
    "\n",
    "#Assesses number of barcodes, generates necessary number of plots (even) and relevant indexing system\n",
    "basecalled_barcodes = list(basecalled_df['Barcode'].unique())\n",
    "\n",
    "if len(list(basecalled_df['Barcode'].unique())) % 2 == 0:\n",
    "    no_of_subplots = len(basecalled_barcodes)\n",
    "else:\n",
    "    no_of_subplots = len(basecalled_barcodes) + 1\n",
    "\n",
    "#Always 2 columns, bc-count/2 rows \n",
    "no_of_subplots_pair = [int(no_of_subplots/2), 2]\n",
    "\n",
    "#Produce pairs of indices correlating to the coordinates of the subplots\n",
    "subplot_coordinates = list(product(range(no_of_subplots_pair[0]), range(no_of_subplots_pair[1])))\n",
    "subplot_coordinates_list = [list(l) for l in subplot_coordinates]\n",
    "subplot_coordinates_list_rows = [i[0] for i in subplot_coordinates_list]\n",
    "subplot_coordinates_list_columns = [i[1] for i in subplot_coordinates_list]\n",
    "\n",
    "fig, ax = plt.subplots(no_of_subplots_pair[0], no_of_subplots_pair[1], figsize=(15,10))\n",
    "\n",
    "xmax = int(basecalled_df.Length.max())\n",
    "\n",
    "grouped = basecalled_df.groupby('Barcode')  # CHECK THIS FOR SCALABILITY, NOT ENTIRELY SURE WHAT THIS DOES\n",
    "max_count_list = []\n",
    "for key in grouped.groups.keys():\n",
    "    max_count_list.append(np.histogram(grouped.Length.get_group(key), 50)[0].max())\n",
    "max_count_list.sort()\n",
    "\n",
    "def applyGroupHistograms(ax_ind1, ax_ind2, bcs):\n",
    "    ax[ax_ind1, ax_ind2].hist(basecalled_df.groupby('Barcode')['Length'].get_group(bcs), \n",
    "                              bins=range(0, xmax, int(xmax/60)), \n",
    "                              color='green', \n",
    "                              alpha=0.8)\n",
    "    ax[ax_ind1, ax_ind2].set_title(bcs)\n",
    "    ax[ax_ind1, ax_ind2].set_xlabel('Read Length')\n",
    "    ax[ax_ind1, ax_ind2].set_ylabel('Read Count');\n",
    "    ax[ax_ind1, ax_ind2].set_xlim([-1000, basecalled_df['Length'].max() + 1000])\n",
    "    ax[ax_ind1, ax_ind2].set_xticks(np.arange(0, xmax + 1, 2000))\n",
    "    ax[ax_ind1, ax_ind2].set_ylim(0, max_count_list[-1]*(5/4))\n",
    "    ax[ax_ind1, ax_ind2].grid(True, which='Major')\n",
    "    \n",
    "    for idx, clmn_name in enumerate(['Number of Reads', 'Total Length (Mbp)', 'Median Length (bp)']):\n",
    "        ax[ax_ind1, ax_ind2].annotate(clmn_name + ' = ' + str(basecalled_df_pivot_formal[clmn_name][bcs]), \n",
    "                     xy=(1, 1), \n",
    "                     xycoords='axes fraction', \n",
    "                     fontsize=16, \n",
    "                     fontweight='normal',\n",
    "                     xytext=(-20, -25 - 30*idx), \n",
    "                     textcoords='offset points', \n",
    "                     ha='right', \n",
    "                     va='top')\n",
    "\n",
    "for ax_ind1, ax_ind2, bcs, in zip(subplot_coordinates_list_rows, subplot_coordinates_list_columns, bc_list):\n",
    "    applyGroupHistograms(ax_ind1, ax_ind2, bcs)    \n",
    "\n",
    "if len(list(basecalled_df['Barcode'].unique())) != 0:\n",
    "    plt.delaxes(ax[subplot_coordinates_list_rows[-1], subplot_coordinates_list_columns[-1]])\n",
    "\n",
    "plt.suptitle('Basecalled Reads - Read Length Distribution By Barcode', \n",
    "             y=1.03, \n",
    "             fontsize='x-large', \n",
    "             fontweight='bold')\n",
    "plt.tight_layout()\n",
    "\n",
    "plt.savefig(work_dir + 'analysis/graphs/graph2.png', bbox_inches='tight')"
   ]
  },
  {
   "cell_type": "code",
   "execution_count": null,
   "metadata": {
    "collapsed": false
   },
   "outputs": [],
   "source": []
  },
  {
   "cell_type": "code",
   "execution_count": null,
   "metadata": {
    "collapsed": false
   },
   "outputs": [],
   "source": []
  },
  {
   "cell_type": "code",
   "execution_count": null,
   "metadata": {
    "collapsed": true
   },
   "outputs": [],
   "source": [
    "### DATAFRAME ANALYSIS - COLLATION OF RGBESTHIT DATA ###"
   ]
  },
  {
   "cell_type": "code",
   "execution_count": null,
   "metadata": {
    "collapsed": true
   },
   "outputs": [],
   "source": [
    "#Create a function that moves all blast files to the blast/basecalled folder, given input"
   ]
  },
  {
   "cell_type": "code",
   "execution_count": 956,
   "metadata": {
    "collapsed": false
   },
   "outputs": [],
   "source": [
    "# creates a list of all the reference genome blast besthit file names\n",
    "os.chdir(work_dir + 'blast/')\n",
    "rgblast_file_names = [x for x in list(os.walk('./rgbesthit', topdown=False))]\n",
    "rgblast_file_names_flattened = list(flatten(rgblast_file_names))\n",
    "rgblast_besthit_file_names = [x for x in rgblast_file_names_flattened if 'blast.besthit' in x]\n",
    "rgblast_besthit_file_names.sort()"
   ]
  },
  {
   "cell_type": "code",
   "execution_count": 968,
   "metadata": {
    "collapsed": false
   },
   "outputs": [],
   "source": [
    "#Extracts the blast id from the rgblast hit file names\n",
    "rgblast_file_id_list = []\n",
    "rgblast_file_type = '.blast.besthit'\n",
    "for file_name in rgblast_besthit_file_names:\n",
    "    start = file_name.find(fasta_file_type)\n",
    "    end = file_name.find(rgblast_file_type)\n",
    "    rgblast_file_id_list.append(file_name[start+len(fasta_file_type):end])\n",
    "rgblast_file_id = list(set(rgblast_file_id_list))[0]"
   ]
  },
  {
   "cell_type": "code",
   "execution_count": null,
   "metadata": {
    "collapsed": true
   },
   "outputs": [],
   "source": []
  },
  {
   "cell_type": "code",
   "execution_count": 560,
   "metadata": {
    "collapsed": false
   },
   "outputs": [],
   "source": [
    "#Makes a dictionary - key (barcode) : value (dataframe of rgblast hit results per barcode)\n",
    "os.chdir(work_dir + 'blast/rgbesthit')\n",
    "rgblast_dfs_dict = {}\n",
    "blast_output_parameters = ['qseqid', 'sseqid', 'evalue', 'bitscore', 'length', 'pident', 'nident']\n",
    "for besthit_file in rgblast_besthit_file_names:\n",
    "    if '.blast.besthit' in besthit_file:\n",
    "        key = '' #Safety \n",
    "        key = besthit_file.split('.')[0][-4:]\n",
    "        rgblast_dfs_dict[key] = pd.read_table(besthit_file, delim_whitespace=True, \n",
    "                                           names=blast_output_parameters) #hardcoded\n",
    "for bcs in rgblast_dfs_dict.keys():\n",
    "    rgblast_dfs_dict[bcs]['barcode'] = bcs"
   ]
  },
  {
   "cell_type": "code",
   "execution_count": 561,
   "metadata": {
    "collapsed": false
   },
   "outputs": [],
   "source": [
    "# Must supply two lists of equal length, in the desired order: \n",
    "# one corresponding to unique letter combos in the sseqid ids (tags)\n",
    "# one corresponding to the full names of the reference genomes used\n",
    "ref_genome_tag_list = ['TGAC', 'Zymo', 'Ptri', 'Pst', 'tig']\n",
    "ref_genome_species_list = ['Wheat', \n",
    "                        'Zymoseptoria tritici', \n",
    "                        'Pyrenophore tritici-repentis', \n",
    "                        'P. striformis f. sp. tritici WA', \n",
    "                        'Parastagonospora nodorum']\n",
    "\n",
    "def assign_species_from_sseqid(x):\n",
    "    for rg_tag, rg_full in zip(ref_genome_tag_list, ref_genome_species_list):    \n",
    "        if rg_tag in str(x):\n",
    "            return rg_full\n",
    "    else:\n",
    "        return 'N/A'\n",
    "\n",
    "for bcs in rgblast_dfs_dict.keys():\n",
    "    rgblast_dfs_dict[bcs]['species'] = rgblast_dfs_dict[bcs]['sseqid'].apply(assign_species_from_sseqid)\n"
   ]
  },
  {
   "cell_type": "code",
   "execution_count": 566,
   "metadata": {
    "collapsed": false
   },
   "outputs": [],
   "source": [
    "#Combining the BC00 reads from BLAST\n",
    "if 'BC00' in rgblast_dfs_dict.keys():\n",
    "    rgblast_dfs_dict['BC00']['barcode'] = 'NB00'\n",
    "\n",
    "#Combine all the reference genome hit dataframes across all barcodes\n",
    "rgblast_df_list = []\n",
    "for bcs in rgblast_dfs_dict.keys():\n",
    "    rgblast_df_list.append(rgblast_dfs_dict[bcs])\n",
    "    \n",
    "rgblast_df_joint = pd.concat(rgblast_df_list, axis=0, ignore_index=True)\n",
    "rgblast_df_joint.sort_values('barcode', ascending=True, inplace=True)\n",
    "rgblast_df_joint.reset_index(drop=True, inplace=True)"
   ]
  },
  {
   "cell_type": "code",
   "execution_count": 571,
   "metadata": {
    "collapsed": false
   },
   "outputs": [],
   "source": [
    "#Create a pivot table showing all reference genome hit counts for each barcode\n",
    "rgblast_df_joint_pivot = rgblast_df_joint.pivot_table(values='nident', index='barcode', columns='species', aggfunc='count', fill_value=0, margins=True)\n",
    "rgblast_df_joint_pivot = rgblast_df_joint_pivot.applymap(int)\n",
    "rgblast_df_joint_pivot.index.name = None\n",
    "rgblast_df_joint_pivot.columns.name = None"
   ]
  },
  {
   "cell_type": "code",
   "execution_count": 587,
   "metadata": {
    "collapsed": false
   },
   "outputs": [],
   "source": [
    "#Save pivot table to analysis/tables/\n",
    "fig = plt.figure(figsize=(11,2))\n",
    "ax = fig.add_subplot(1, 1, 1, frame_on=False)\n",
    "ax.xaxis.set_visible(False)  # hide the x axis\n",
    "ax.yaxis.set_visible(False)  # hide the y axis\n",
    "\n",
    "table(ax, rgblast_df_joint_pivot, loc='center')\n",
    "\n",
    "plt.savefig(os.path.join(work_dir + 'analysis/tables/', \n",
    "                        basecalled_fasta_file_id + \"_rgblasthit_reads_summary.png\"))\n"
   ]
  },
  {
   "cell_type": "code",
   "execution_count": null,
   "metadata": {
    "collapsed": false
   },
   "outputs": [],
   "source": []
  },
  {
   "cell_type": "code",
   "execution_count": null,
   "metadata": {
    "collapsed": false
   },
   "outputs": [],
   "source": []
  },
  {
   "cell_type": "code",
   "execution_count": 573,
   "metadata": {
    "collapsed": false
   },
   "outputs": [],
   "source": [
    "#Removes the 'all' column (for graphing purposes)\n",
    "rgblast_df_joint_pivot_noall = rgblast_df_joint_pivot.drop('All', axis=1)"
   ]
  },
  {
   "cell_type": "code",
   "execution_count": 803,
   "metadata": {
    "collapsed": false
   },
   "outputs": [],
   "source": [
    "# Construct a grouped bar chart showing the reference genome hit counts per barcode (log y axis)\n",
    "def generateGBGforRGHC(dropmaxspecies=False):\n",
    "    n_groups = len(rgblast_df_joint_pivot_noall.index.values)\n",
    "\n",
    "    max_genome = str(rgblast_df_joint_pivot_noall.ix['All'].idxmax(axis=1))\n",
    "\n",
    "    spc_list = list(rgblast_df_joint_pivot_noall.columns)\n",
    "    \n",
    "    if dropmaxspecies == True:\n",
    "        spc_list.remove(max_genome)\n",
    "\n",
    "    n_species_dict = {}\n",
    "    for spc in spc_list:\n",
    "        n_species_dict[spc] = tuple(rgblast_df_joint_pivot_noall[spc])\n",
    "\n",
    "    n_nohit = tuple(basecalled_df_pivot['len'].values - rgblast_df_joint_pivot['All'].values)    \n",
    "    \n",
    "    fig, ax = plt.subplots(figsize=(7,3))\n",
    "\n",
    "    index = np.arange(n_groups)\n",
    "    bar_width = 0.13\n",
    "    opacity = 0.4\n",
    "\n",
    "    cycol = 'rgbcym'\n",
    "    if dropmaxspecies == False:\n",
    "        plt.bar(index - bar_width*2, \n",
    "            n_nohit, \n",
    "            bar_width,\n",
    "            alpha = opacity,\n",
    "            log = True,\n",
    "            color = 'k',\n",
    "            label = 'No Hit')\n",
    "\n",
    "        for idx, spc in enumerate(spc_list):\n",
    "            plt.bar(index - bar_width + bar_width*idx, \n",
    "                n_species_dict[spc], \n",
    "                bar_width,\n",
    "                alpha = opacity,\n",
    "                log = True,\n",
    "                color = random.choice(cycol),\n",
    "                label = spc)\n",
    "    else:\n",
    "        for idx, spc in enumerate(spc_list):\n",
    "            plt.bar(index - bar_width + bar_width*idx, \n",
    "                n_species_dict[spc], \n",
    "                bar_width,\n",
    "                alpha = opacity,\n",
    "                color = random.choice(cycol),\n",
    "                label = spc)\n",
    "            \n",
    "    def generate_upper_ylim(graph_max):\n",
    "        \"\"\"Takes a value, counts the digits and outputs a value corresponding to 10*digits\"\"\"\n",
    "        digits = len(str(graph_max))\n",
    "        round_up = 10**(digits)\n",
    "        return round_up\n",
    "\n",
    "    plt.xlabel('Barcode')\n",
    "    plt.xticks(index + bar_width*1.2, tuple(rgblast_df_joint_pivot_noall.index.values))\n",
    "\n",
    "    plt.ylabel('Number of Reads')\n",
    "    if dropmaxspecies == False:\n",
    "        plt.ylim(0, generate_upper_ylim(rgblast_df_joint_pivot['All'].values.max()))\n",
    "    else:\n",
    "        rgblast_df_joint_pivot_nomaxspecies = rgblast_df_joint_pivot_noall.copy()\n",
    "        rgblast_df_joint_pivot_nomaxspecies.drop(max_genome, axis=1, inplace=True)\n",
    "        rgblast_df_joint_pivot_nomaxspecies['All'] = rgblast_df_joint_pivot_nomaxspecies.sum(axis=1)\n",
    "        plt.ylim(0, (rgblast_df_joint_pivot_nomaxspecies['All'].values.max()+1)/2)\n",
    "\n",
    "    plt.title('Number of Reads Hitting Specific Reference Genomes', y=1.08)\n",
    "    plt.legend(loc='center left', bbox_to_anchor=(1.01, 0.5), fontsize=10)\n",
    "    plt.grid(b=None, which='major', axis='y', linestyle='dashed', linewidth=0.2)\n",
    "    plt.margins(x=0.1)\n",
    "    plt.tick_params(top=\"off\", right=\"off\", bottom='off')\n",
    "    plt.tight_layout()\n",
    "    if dropmaxspecies == False:\n",
    "        plt.savefig(work_dir + 'analysis/graphs/graph3.png', bbox_inches='tight')\n",
    "    else:\n",
    "        plt.savefig(work_dir + 'analysis/graphs/graph4.png', bbox_inches='tight')"
   ]
  },
  {
   "cell_type": "code",
   "execution_count": 804,
   "metadata": {
    "collapsed": false
   },
   "outputs": [],
   "source": [
    "#Generate the graphs\n",
    "generateGBGforRGHC(dropmaxspecies=False)\n",
    "generateGBGforRGHC(dropmaxspecies=True)"
   ]
  },
  {
   "cell_type": "code",
   "execution_count": 805,
   "metadata": {
    "collapsed": true
   },
   "outputs": [],
   "source": []
  },
  {
   "cell_type": "code",
   "execution_count": null,
   "metadata": {
    "collapsed": false
   },
   "outputs": [],
   "source": []
  },
  {
   "cell_type": "code",
   "execution_count": 839,
   "metadata": {
    "collapsed": false
   },
   "outputs": [],
   "source": [
    "#Changes rgblast pivot table count results to rgblast % within each barcode\n",
    "rgblast_joint_pivot_table_pc = rgblast_df_joint_pivot.copy()\n",
    "\n",
    "for spcs in rgblast_joint_pivot_table_pc.columns:\n",
    "    rgblast_joint_pivot_table_pc[str(spcs) + '%'] = np.round((rgblast_joint_pivot_table_pc[spcs] / rgblast_joint_pivot_table_pc['All'] * 100), 3)\n",
    "for spcs in rgblast_joint_pivot_table_pc.columns:\n",
    "    if '%' not in spcs:\n",
    "        rgblast_joint_pivot_table_pc.drop(spcs, axis=1, inplace=True)\n",
    "    \n",
    "rgblast_joint_pivot_table_pc.drop('All%', axis=1, inplace=True)"
   ]
  },
  {
   "cell_type": "code",
   "execution_count": 915,
   "metadata": {
    "collapsed": false
   },
   "outputs": [],
   "source": [
    "# Construct a grouped bar chart showing the reference genome hit % per barcode (log y axis)\n",
    "def generateGBGPCforRGHC(dropmaxspecies=False):\n",
    "    n_groups = len(rgblast_joint_pivot_table_pc.index.values)\n",
    "\n",
    "    max_genome = str(rgblast_joint_pivot_table_pc.ix['All'].idxmax(axis=1))\n",
    "\n",
    "    pos = list(range(len(rgblast_joint_pivot_table_pc[max_genome])))\n",
    "    width = 0.15\n",
    "    \n",
    "    columns_pc = list(rgblast_joint_pivot_table_pc.columns)\n",
    "    columns_nopc = list(map(lambda x:x.strip(\"%\"), columns_pc))\n",
    "    if dropmaxspecies == True:\n",
    "        columns_pc = [x for x in columns_pc if x != max_genome]\n",
    "        columns_nopc = [x for x in columns_nopc if x != max_genome.strip('%')]\n",
    "    \n",
    "    barcodes = list(rgblast_joint_pivot_table_pc.index)\n",
    "    cycol = 'rgbcym'\n",
    "    fig, ax = plt.subplots(figsize=(8,3))\n",
    "\n",
    "    for ref_genome in columns_pc:  \n",
    "        plt.bar([p + width*int(columns_pc.index(ref_genome)) for p in pos], \n",
    "                rgblast_joint_pivot_table_pc[ref_genome], \n",
    "                width, \n",
    "                alpha=0.5, \n",
    "                color=random.sample(cycol, 1), \n",
    "                label=None)\n",
    "        \n",
    "    ax.set_ylabel('% of Reads', fontsize=14)\n",
    "    \n",
    "    rgblast_joint_pivot_table_pc_nomaxspecies = rgblast_joint_pivot_table_pc.copy()\n",
    "    rgblast_joint_pivot_table_pc_nomaxspecies.drop(max_genome, axis=1, inplace=True)\n",
    "    rgblast_joint_pivot_table_pc_nomaxspecies['All'] = rgblast_joint_pivot_table_pc_nomaxspecies.sum(axis=1)\n",
    "    \n",
    "    ax.set_ylim([0, int(rgblast_joint_pivot_table_pc_nomaxspecies['All'].values.max()+1)])\n",
    "    ax.set_yticks(range(0, int(rgblast_joint_pivot_table_pc_nomaxspecies['All'].values.max()+2), 1))\n",
    "    ax.set_xlabel('Barcode', fontsize=14)\n",
    "    ax.set_xticks([p + 2.5 * width for p in pos])\n",
    "    ax.set_xticklabels(barcodes)\n",
    "    ax.tick_params(top=\"off\", right=\"off\", bottom='off')\n",
    "    ax.set_title('Reads Hitting Reference Genomes - % Hit Per Genome By Barcode', y=1.08, fontweight='bold', fontsize=16)\n",
    "    \n",
    "    if dropmaxspecies == False:\n",
    "        for idx, bcs in enumerate(barcodes):\n",
    "            ax.annotate(str(float(\"{0:.2f}\".format(rgblast_joint_pivot_table_pc[max_genome][bcs]))), \n",
    "                     xy=(0.06, 0.95), xycoords='axes fraction', fontsize=10, xytext=(55*idx, 0), textcoords='offset points', \n",
    "                     ha='left', va='top')\n",
    "    \n",
    "    plt.xlim(min(pos) - width, max(pos) + 0.3 + width*4)\n",
    "    plt.legend(columns_nopc, loc='center left', bbox_to_anchor=(1.01, 0.5), fontsize=18, prop={'weight':'normal'})\n",
    "    plt.grid(b=None, which='major', axis='y', linestyle='dashed', linewidth=0.2)\n",
    "    if dropmaxspecies == False:\n",
    "        plt.savefig(work_dir + 'analysis/graphs/graph5.png', bbox_inches='tight')\n",
    "    else:\n",
    "        plt.savefig(work_dir + 'analysis/graphs/graph6.png', bbox_inches='tight')"
   ]
  },
  {
   "cell_type": "code",
   "execution_count": 917,
   "metadata": {
    "collapsed": false
   },
   "outputs": [],
   "source": [
    "#Construct the graphs\n",
    "generateGBGPCforRGHC(dropmaxspecies=False)\n",
    "generateGBGPCforRGHC(dropmaxspecies=True)"
   ]
  },
  {
   "cell_type": "code",
   "execution_count": null,
   "metadata": {
    "collapsed": false
   },
   "outputs": [],
   "source": []
  },
  {
   "cell_type": "code",
   "execution_count": null,
   "metadata": {
    "collapsed": true
   },
   "outputs": [],
   "source": []
  },
  {
   "cell_type": "code",
   "execution_count": 980,
   "metadata": {
    "collapsed": true
   },
   "outputs": [
    {
     "data": {
      "text/plain": [
       "['BC07',\n",
       " 'BC08',\n",
       " 'BC09',\n",
       " 'BC10',\n",
       " 'BC11',\n",
       " 'BC12',\n",
       " 'BC13',\n",
       " 'BC14',\n",
       " 'BC15',\n",
       " 'BC16',\n",
       " 'BC17',\n",
       " 'BC19',\n",
       " 'BC20',\n",
       " 'BC21',\n",
       " 'BC22',\n",
       " 'BC23',\n",
       " 'BC24',\n",
       " 'BC25',\n",
       " 'BC26',\n",
       " 'BC27',\n",
       " 'BC28',\n",
       " 'BC29',\n",
       " 'BC30',\n",
       " 'BC31',\n",
       " 'BC32',\n",
       " 'BC33',\n",
       " 'BC35',\n",
       " 'BC36',\n",
       " 'BC37',\n",
       " 'BC38',\n",
       " 'BC39',\n",
       " 'BC40',\n",
       " 'BC41',\n",
       " 'BC42',\n",
       " 'BC43',\n",
       " 'BC44',\n",
       " 'BC45',\n",
       " 'BC46',\n",
       " 'BC47',\n",
       " 'BC48',\n",
       " 'BC49',\n",
       " 'BC50',\n",
       " 'BC51',\n",
       " 'BC52',\n",
       " 'BC53',\n",
       " 'BC54',\n",
       " 'BC55',\n",
       " 'BC56',\n",
       " 'BC57',\n",
       " 'BC58',\n",
       " 'BC59',\n",
       " 'BC60',\n",
       " 'BC63',\n",
       " 'BC64',\n",
       " 'BC65',\n",
       " 'BC66',\n",
       " 'BC67',\n",
       " 'BC68',\n",
       " 'BC69',\n",
       " 'BC70',\n",
       " 'BC71',\n",
       " 'BC72',\n",
       " 'BC74',\n",
       " 'BC75',\n",
       " 'BC76',\n",
       " 'BC77',\n",
       " 'BC79',\n",
       " 'BC80',\n",
       " 'BC81',\n",
       " 'BC82',\n",
       " 'BC83',\n",
       " 'BC84',\n",
       " 'BC85',\n",
       " 'BC86',\n",
       " 'BC87',\n",
       " 'BC88',\n",
       " 'BC89',\n",
       " 'BC90',\n",
       " 'BC91',\n",
       " 'BC92',\n",
       " 'BC93',\n",
       " 'BC94',\n",
       " 'BC95',\n",
       " 'BC96',\n",
       " 'NB01',\n",
       " 'NB02',\n",
       " 'NB03',\n",
       " 'NB04',\n",
       " 'NB05',\n",
       " 'NB06',\n",
       " 'NB08',\n",
       " 'NB09',\n",
       " 'NB10',\n",
       " 'NB11',\n",
       " 'NB12']"
      ]
     },
     "execution_count": 980,
     "metadata": {},
     "output_type": "execute_result"
    }
   ],
   "source": []
  },
  {
   "cell_type": "code",
   "execution_count": 986,
   "metadata": {
    "collapsed": false
   },
   "outputs": [],
   "source": [
    "#Generate subsamples of your reference genome hits to be blasted\n",
    "os.chdir(work_dir + 'data/basecalled/')\n",
    "blast_hit_sample_id = \".blasthitsample_\"\n",
    "data_rghitsamples_path = work_dir + 'data/rghitsamples/'\n",
    "\n",
    "def generate_blasthit_samples(bcs, smp, rpts):\n",
    "    for rpt in range(1, rpts+1):\n",
    "        \n",
    "        rgblast_df_joint_sample = rgblast_df_joint.loc[rgblast_df_joint['barcode'] == str(bcs)].sample(n = smp)\n",
    "        rgblast_df_joint_sample_list = list(rgblast_df_joint_sample['qseqid'].values)\n",
    "        \n",
    "        rgblasthitsample_id = rgblast_file_id + blast_hit_sample_id + str(rpt) + fasta_file_type\n",
    "        rgblasthitsample_file = basecalled_fasta_file_id + bcs + rgblasthitsample_id\n",
    "\n",
    "        rgblasthitsample_sequences = []\n",
    "        if bcs == 'NB00':\n",
    "            for badbcs in bad_barcodes:\n",
    "                for seq in SeqIO.parse(open(basecalled_fasta_file_id + str(badbcs) + fasta_file_type), 'fasta'):\n",
    "                    if seq.id in rgblast_df_joint_sample_list:\n",
    "                        rgblasthitsample_sequences.append(seq)\n",
    "            SeqIO.write(rgblasthitsample_sequences, os.path.join(data_rghitsamples_path, \n",
    "                                                                 rgblasthitsample_file), \"fasta\")\n",
    "        else:\n",
    "            for seq in SeqIO.parse(open(basecalled_fasta_file_id + str(bcs) + fasta_file_type), 'fasta'):\n",
    "                if seq.id in rgblast_df_joint_sample_list:\n",
    "                    rgblasthitsample_sequences.append(seq)\n",
    "            SeqIO.write(rgblasthitsample_sequences, os.path.join(data_rghitsamples_path, \n",
    "                                                                 rgblasthitsample_file), \"fasta\")\n",
    "        \n",
    "            "
   ]
  },
  {
   "cell_type": "code",
   "execution_count": 988,
   "metadata": {
    "collapsed": false
   },
   "outputs": [],
   "source": [
    "# Generate samples\n",
    "for bcs in good_barcodes:\n",
    "    generate_blasthit_samples(bcs, 1000, 3)\n",
    "generate_blasthit_samples('NB00', 500, 3)"
   ]
  },
  {
   "cell_type": "code",
   "execution_count": null,
   "metadata": {
    "collapsed": false
   },
   "outputs": [],
   "source": []
  },
  {
   "cell_type": "code",
   "execution_count": 1048,
   "metadata": {
    "collapsed": false
   },
   "outputs": [
    {
     "name": "stdout",
     "output_type": "stream",
     "text": [
      "41798\n",
      "38491\n",
      "3307\n"
     ]
    }
   ],
   "source": [
    "def generate_notblasted_counts(bcs):\n",
    "    read_id_list = ''\n",
    "    read_id_list = basecalled_df.groupby('Barcode')['Read_id'].get_group(bcs).tolist()\n",
    "    qseqid_list = ''\n",
    "    qseqid_list = rgblast_df_joint.groupby('barcode')['qseqid'].get_group(bcs).tolist()\n",
    "    not_rgblasted_list = sorted(list(set(read_id_list) - set(qseqid_list)))\n",
    "    print(len(read_id_list))\n",
    "    print(len(qseqid_list))\n",
    "    print(len(not_rgblasted_list))\n",
    "    \n",
    "generate_notblasted_counts('BC03')"
   ]
  },
  {
   "cell_type": "code",
   "execution_count": 1049,
   "metadata": {
    "collapsed": false
   },
   "outputs": [],
   "source": [
    "os.chdir(work_dir + 'data/basecalled/')\n",
    "def generate_rghitno_fasta(bcs):\n",
    "    read_id_list = ''\n",
    "    read_id_list = basecalled_df.groupby('Barcode')['Read_id'].get_group(bcs).tolist()\n",
    "    qseqid_list = ''\n",
    "    qseqid_list = rgblast_df_joint.groupby('barcode')['qseqid'].get_group(bcs).tolist()\n",
    "    not_rgblasted_list = sorted(list(set(read_id_list) - set(qseqid_list)))\n",
    "    \n",
    "    not_rgblasted_hit_id = '.noblasthit'\n",
    "    not_rgblasthit_id = rgblast_file_id + not_rgblasted_hit_id + fasta_file_type\n",
    "    not_rgblasthit_file = basecalled_fasta_file_id + bcs + not_rgblasthit_id\n",
    "    \n",
    "    #Filter the original fasta file to only include reads not blasted, export to new fasta file\n",
    "    not_rgblasted_sequences = []\n",
    "    if bcs == 'NB00':\n",
    "        for badbcs in bad_barcodes:\n",
    "            for seq in SeqIO.parse(open(basecalled_fasta_file_id + str(badbcs) + fasta_file_type), 'fasta'):\n",
    "                if seq.id in not_rgblasted_list:\n",
    "                    not_rgblasted_sequences.append(seq)\n",
    "        print(len(not_rgblasted_sequences))\n",
    "        SeqIO.write(not_rgblasted_sequences, os.path.join(work_dir + 'data/rghitno/', \n",
    "                                                  not_rgblasthit_file), \"fasta\")\n",
    "    else:\n",
    "        for seq in SeqIO.parse(open(basecalled_fasta_file_id + str(bcs) + fasta_file_type), 'fasta'):\n",
    "            if seq.id in not_rgblasted_list:\n",
    "                not_rgblasted_sequences.append(seq)\n",
    "        print(len(not_rgblasted_sequences))\n",
    "        SeqIO.write(not_rgblasted_sequences, os.path.join(work_dir + 'data/rghitno/', \n",
    "                                                  not_rgblasthit_file), \"fasta\")"
   ]
  },
  {
   "cell_type": "code",
   "execution_count": 1044,
   "metadata": {
    "collapsed": true
   },
   "outputs": [
    {
     "name": "stdout",
     "output_type": "stream",
     "text": [
      "10479\n",
      "12513\n",
      "3307\n",
      "12287\n",
      "7859\n",
      "29295\n",
      "5724\n"
     ]
    }
   ],
   "source": [
    "for bcs in list(rgblast_df_joint.barcode.unique()):\n",
    "    generate_rghitno_fasta(bcs)"
   ]
  },
  {
   "cell_type": "code",
   "execution_count": null,
   "metadata": {
    "collapsed": true
   },
   "outputs": [],
   "source": []
  },
  {
   "cell_type": "code",
   "execution_count": 1050,
   "metadata": {
    "collapsed": true
   },
   "outputs": [],
   "source": [
    "\n"
   ]
  },
  {
   "cell_type": "code",
   "execution_count": 1057,
   "metadata": {
    "collapsed": false
   },
   "outputs": [],
   "source": [
    "os.chdir(work_dir + 'data/basecalled/')\n",
    "def generate_rghit_fasta(bcs, rghit):\n",
    "    \"\"\"Takes basecalled.df, and list of read_ids from rgblast_df_joint. For a single barcode:\n",
    "    - if rghit is yes, extract a fasta file with all the reads hitting the reference genomes to data/rghityes\n",
    "    - if rghit is no, extract a fasta file with all the reads not hitting the reference genomes to data/rghitno\"\"\"\n",
    "    os.chdir(work_dir + 'data/basecalled/')\n",
    "    read_id_list = basecalled_df.groupby('Barcode')['Read_id'].get_group(bcs).tolist()\n",
    "    qseqid_list = rgblast_df_joint.groupby('barcode')['qseqid'].get_group(bcs).tolist()\n",
    "\n",
    "    if rghit == 'Yes':\n",
    "        rgblasted_hit_id = '.blasthit'\n",
    "        rgblasthit_id = rgblast_file_id + rgblasted_hit_id + fasta_file_type\n",
    "        rgblasthit_file = basecalled_fasta_file_id + bcs + rgblasthit_id\n",
    "        \n",
    "        if bcs == 'NB00':\n",
    "            for badbcs in bad_barcodes:\n",
    "                rghityes_NB00 = ''\n",
    "                rghityes_NB00 = (rec for rec in SeqIO.parse(basecalled_fasta_file_id + str(badbcs) + fasta_file_type, 'fasta') if rec.id in qseqid_list) \n",
    "                rghityes = ''\n",
    "                rghityes.extend(rghityes_NB00)\n",
    "            count = ''\n",
    "            count = SeqIO.write(rghityes, os.path.join(work_dir + 'data/rghityes/', rgblasthit_file), \"fasta\")\n",
    "            print(\"Saved\", count, \"records\")\n",
    "        else:\n",
    "            rghityes = ''\n",
    "            rghityes = (rec for rec in SeqIO.parse(basecalled_fasta_file_id + str(bcs) + fasta_file_type, 'fasta') if rec.id in qseqid_list) \n",
    "            count = ''\n",
    "            count = SeqIO.write(rghityes, os.path.join(work_dir + 'data/rghityes/', rgblasthit_file), \"fasta\")\n",
    "            print(\"Saved\", count, \"records\")\n",
    "            \n",
    "    if rghit == 'No':   \n",
    "        norgblasted_hit_id = '.blasthit'\n",
    "        norgblasthit_id = rgblast_file_id + norgblasted_hit_id + fasta_file_type\n",
    "        norgblasthit_file = basecalled_fasta_file_id + bcs + norgblasthit_id\n",
    "        \n",
    "        if bcs == 'NB00':\n",
    "            for badbcs in bad_barcodes:\n",
    "                rghitno_NB00 = ''\n",
    "                rghitno_NB00 = (rec for rec in SeqIO.parse(basecalled_fasta_file_id + str(badbcs) + fasta_file_type, 'fasta') if rec.id not in qseqid_list) \n",
    "                rghitno = ''\n",
    "                rghitno.extend(rghitno_NB00)\n",
    "            count = ''\n",
    "            count = SeqIO.write(rghitno, os.path.join(work_dir + 'data/rghitno/', norgblasthit_file), \"fasta\")\n",
    "            print(\"Saved\", count, \"records\")\n",
    "        else:\n",
    "            rghitno = ''\n",
    "            rghitno = (rec for rec in SeqIO.parse(basecalled_fasta_file_id + str(bcs) + fasta_file_type, 'fasta') if rec.id not in qseqid_list) \n",
    "            count = ''\n",
    "            count = SeqIO.write(rghitno, os.path.join(work_dir + 'data/rghitno/', norgblasthit_file), \"fasta\")\n",
    "            print(\"Saved\", count, \"records\")"
   ]
  },
  {
   "cell_type": "code",
   "execution_count": null,
   "metadata": {
    "collapsed": false
   },
   "outputs": [
    {
     "name": "stdout",
     "output_type": "stream",
     "text": [
      "Saved 7787 records\n",
      "Saved 103268 records\n",
      "Saved 38491 records\n"
     ]
    }
   ],
   "source": [
    "for bcs in list(rgblast_df_joint.barcode.unique()):\n",
    "    generate_rghit_fasta(bcs, 'Yes')"
   ]
  },
  {
   "cell_type": "code",
   "execution_count": null,
   "metadata": {
    "collapsed": true
   },
   "outputs": [],
   "source": [
    "for bcs in list(rgblast_df_joint.barcode.unique()):\n",
    "    generate_rghit_fasta(bcs, 'No')"
   ]
  },
  {
   "cell_type": "code",
   "execution_count": 1041,
   "metadata": {
    "collapsed": true
   },
   "outputs": [
    {
     "name": "stdout",
     "output_type": "stream",
     "text": [
      "10479\n"
     ]
    },
    {
     "ename": "KeyboardInterrupt",
     "evalue": "",
     "output_type": "error",
     "traceback": [
      "\u001b[0;31m---------------------------------------------------------------------------\u001b[0m",
      "\u001b[0;31mKeyboardInterrupt\u001b[0m                         Traceback (most recent call last)",
      "\u001b[0;32m<ipython-input-1041-ccb82e97b273>\u001b[0m in \u001b[0;36m<module>\u001b[0;34m()\u001b[0m\n\u001b[1;32m      1\u001b[0m \u001b[0;32mfor\u001b[0m \u001b[0mbcs\u001b[0m \u001b[0;32min\u001b[0m \u001b[0mlist\u001b[0m\u001b[0;34m(\u001b[0m\u001b[0mrgblast_df_joint\u001b[0m\u001b[0;34m.\u001b[0m\u001b[0mbarcode\u001b[0m\u001b[0;34m.\u001b[0m\u001b[0munique\u001b[0m\u001b[0;34m(\u001b[0m\u001b[0;34m)\u001b[0m\u001b[0;34m)\u001b[0m\u001b[0;34m:\u001b[0m\u001b[0;34m\u001b[0m\u001b[0m\n\u001b[0;32m----> 2\u001b[0;31m     \u001b[0mgenerate_notblasted_fasta\u001b[0m\u001b[0;34m(\u001b[0m\u001b[0mbcs\u001b[0m\u001b[0;34m)\u001b[0m\u001b[0;34m\u001b[0m\u001b[0m\n\u001b[0m",
      "\u001b[0;32m<ipython-input-1039-15b1cb32eeab>\u001b[0m in \u001b[0;36mgenerate_notblasted_fasta\u001b[0;34m(bcs)\u001b[0m\n\u001b[1;32m     24\u001b[0m         \u001b[0mrecords\u001b[0m \u001b[0;34m=\u001b[0m \u001b[0mlist\u001b[0m\u001b[0;34m(\u001b[0m\u001b[0mSeqIO\u001b[0m\u001b[0;34m.\u001b[0m\u001b[0mparse\u001b[0m\u001b[0;34m(\u001b[0m\u001b[0mbasecalled_fasta_file_id\u001b[0m \u001b[0;34m+\u001b[0m \u001b[0mstr\u001b[0m\u001b[0;34m(\u001b[0m\u001b[0mbcs\u001b[0m\u001b[0;34m)\u001b[0m \u001b[0;34m+\u001b[0m \u001b[0mfasta_file_type\u001b[0m\u001b[0;34m,\u001b[0m \u001b[0;34m\"fasta\"\u001b[0m\u001b[0;34m)\u001b[0m\u001b[0;34m)\u001b[0m\u001b[0;34m\u001b[0m\u001b[0m\n\u001b[1;32m     25\u001b[0m         \u001b[0mnot_rgblasted_records\u001b[0m \u001b[0;34m=\u001b[0m \u001b[0;34m''\u001b[0m\u001b[0;34m\u001b[0m\u001b[0m\n\u001b[0;32m---> 26\u001b[0;31m         \u001b[0mnot_rgblasted_records\u001b[0m \u001b[0;34m=\u001b[0m \u001b[0;34m[\u001b[0m\u001b[0mrecord\u001b[0m \u001b[0;32mfor\u001b[0m \u001b[0mrecord\u001b[0m \u001b[0;32min\u001b[0m \u001b[0mrecords\u001b[0m \u001b[0;32mif\u001b[0m \u001b[0mrecord\u001b[0m\u001b[0;34m.\u001b[0m\u001b[0mid\u001b[0m \u001b[0;32mnot\u001b[0m \u001b[0;32min\u001b[0m \u001b[0mqseqid_list\u001b[0m\u001b[0;34m]\u001b[0m\u001b[0;34m\u001b[0m\u001b[0m\n\u001b[0m\u001b[1;32m     27\u001b[0m \u001b[0;34m\u001b[0m\u001b[0m\n\u001b[1;32m     28\u001b[0m     \u001b[0mprint\u001b[0m\u001b[0;34m(\u001b[0m\u001b[0mlen\u001b[0m\u001b[0;34m(\u001b[0m\u001b[0mnot_rgblasted_records\u001b[0m\u001b[0;34m)\u001b[0m\u001b[0;34m)\u001b[0m\u001b[0;34m\u001b[0m\u001b[0m\n",
      "\u001b[0;32m<ipython-input-1039-15b1cb32eeab>\u001b[0m in \u001b[0;36m<listcomp>\u001b[0;34m(.0)\u001b[0m\n\u001b[1;32m     24\u001b[0m         \u001b[0mrecords\u001b[0m \u001b[0;34m=\u001b[0m \u001b[0mlist\u001b[0m\u001b[0;34m(\u001b[0m\u001b[0mSeqIO\u001b[0m\u001b[0;34m.\u001b[0m\u001b[0mparse\u001b[0m\u001b[0;34m(\u001b[0m\u001b[0mbasecalled_fasta_file_id\u001b[0m \u001b[0;34m+\u001b[0m \u001b[0mstr\u001b[0m\u001b[0;34m(\u001b[0m\u001b[0mbcs\u001b[0m\u001b[0;34m)\u001b[0m \u001b[0;34m+\u001b[0m \u001b[0mfasta_file_type\u001b[0m\u001b[0;34m,\u001b[0m \u001b[0;34m\"fasta\"\u001b[0m\u001b[0;34m)\u001b[0m\u001b[0;34m)\u001b[0m\u001b[0;34m\u001b[0m\u001b[0m\n\u001b[1;32m     25\u001b[0m         \u001b[0mnot_rgblasted_records\u001b[0m \u001b[0;34m=\u001b[0m \u001b[0;34m''\u001b[0m\u001b[0;34m\u001b[0m\u001b[0m\n\u001b[0;32m---> 26\u001b[0;31m         \u001b[0mnot_rgblasted_records\u001b[0m \u001b[0;34m=\u001b[0m \u001b[0;34m[\u001b[0m\u001b[0mrecord\u001b[0m \u001b[0;32mfor\u001b[0m \u001b[0mrecord\u001b[0m \u001b[0;32min\u001b[0m \u001b[0mrecords\u001b[0m \u001b[0;32mif\u001b[0m \u001b[0mrecord\u001b[0m\u001b[0;34m.\u001b[0m\u001b[0mid\u001b[0m \u001b[0;32mnot\u001b[0m \u001b[0;32min\u001b[0m \u001b[0mqseqid_list\u001b[0m\u001b[0;34m]\u001b[0m\u001b[0;34m\u001b[0m\u001b[0m\n\u001b[0m\u001b[1;32m     27\u001b[0m \u001b[0;34m\u001b[0m\u001b[0m\n\u001b[1;32m     28\u001b[0m     \u001b[0mprint\u001b[0m\u001b[0;34m(\u001b[0m\u001b[0mlen\u001b[0m\u001b[0;34m(\u001b[0m\u001b[0mnot_rgblasted_records\u001b[0m\u001b[0;34m)\u001b[0m\u001b[0;34m)\u001b[0m\u001b[0;34m\u001b[0m\u001b[0m\n",
      "\u001b[0;31mKeyboardInterrupt\u001b[0m: "
     ]
    }
   ],
   "source": []
  },
  {
   "cell_type": "code",
   "execution_count": null,
   "metadata": {
    "collapsed": true
   },
   "outputs": [],
   "source": [
    "\n",
    "        "
   ]
  },
  {
   "cell_type": "code",
   "execution_count": null,
   "metadata": {
    "collapsed": false
   },
   "outputs": [],
   "source": []
  },
  {
   "cell_type": "code",
   "execution_count": null,
   "metadata": {
    "collapsed": true
   },
   "outputs": [],
   "source": []
  },
  {
   "cell_type": "code",
   "execution_count": null,
   "metadata": {
    "collapsed": true
   },
   "outputs": [],
   "source": []
  },
  {
   "cell_type": "code",
   "execution_count": null,
   "metadata": {
    "collapsed": true
   },
   "outputs": [],
   "source": []
  },
  {
   "cell_type": "code",
   "execution_count": 998,
   "metadata": {
    "collapsed": false
   },
   "outputs": [
    {
     "name": "stdout",
     "output_type": "stream",
     "text": [
      "1212_1D_barcoding_Wagga_\n",
      ".blasthitsample_\n",
      ".WW_19121016\n",
      ".fa\n",
      ".blast.besthit\n"
     ]
    }
   ],
   "source": [
    "print(basecalled_fasta_file_id)\n",
    "print(blast_hit_sample_id)\n",
    "print(not_rgblasted_hit_id)\n",
    "print(rgblast_file_id)\n",
    "print(fasta_file_type)\n",
    "print(rgblast_file_type)"
   ]
  },
  {
   "cell_type": "code",
   "execution_count": 997,
   "metadata": {
    "collapsed": true
   },
   "outputs": [
    {
     "name": "stdout",
     "output_type": "stream",
     "text": [
      "Variable                                    Type                Data/Info\n",
      "-------------------------------------------------------------------------\n",
      "SeqIO                                       module              <module 'Bio.SeqIO' from <...>s/Bio/SeqIO/__init__.py'>\n",
      "access_dir_analysis                         NoneType            None\n",
      "access_dir_blast                            NoneType            None\n",
      "access_dir_data                             NoneType            None\n",
      "all_barcodes                                list                n=101\n",
      "analysis_summaries_path                     str                 /home/gamran/dirtreetest/analysis/summaries/\n",
      "applyGroupHistograms                        function            <function applyGroupHistograms at 0x7fb31f9c6730>\n",
      "assign_species_from_sseqid                  function            <function assign_species_<...>sseqid at 0x7fb31febd048>\n",
      "ax                                          AxesSubplot         Axes(0.0974037,0.184259;0.881168x0.634296)\n",
      "ax1_list                                    list                n=6\n",
      "ax2_list                                    list                n=6\n",
      "ax_ind1                                     int                 3\n",
      "ax_ind2                                     int                 0\n",
      "bad_barcodes                                list                n=95\n",
      "bad_barcodes_BC00                           list                n=84\n",
      "bad_barcodes_NB00                           list                n=11\n",
      "bar_width                                   float               0.13\n",
      "basecalled_barcodes                         list                n=7\n",
      "basecalled_df                               DataFrame                                    <...>[533033 rows x 4 columns]\n",
      "basecalled_df_col_list                      list                n=95\n",
      "basecalled_df_pivot                         DataFrame                    len      sum   a<...>4  22870  1595.71    1228\n",
      "basecalled_df_pivot_formal                  DataFrame                 Number of Reads Tot<...>ll                 1228  \n",
      "basecalled_df_pivot_transposed              DataFrame           Barcode          BC01    <...>05000e+02  1.228000e+03  \n",
      "basecalled_fasta_barcode2filename_dict      dict                n=101\n",
      "basecalled_fasta_barcodes                   list                n=101\n",
      "basecalled_fasta_barcodes2                  list                n=101\n",
      "basecalled_fasta_file_id                    str                 1212_1D_barcoding_Wagga_\n",
      "basecalled_fasta_file_id_list               list                n=101\n",
      "basecalled_fasta_file_ids                   list                n=404\n",
      "basecalled_fasta_file_names                 list                n=101\n",
      "basecalled_fasta_file_names_flatten         function            <function <lambda> at 0x7fb33db86ae8>\n",
      "basecalled_fasta_file_names_sorted          NoneType            None\n",
      "basecalled_fasta_filename2barcode_dict      dict                n=101\n",
      "basecalled_file_names                       list                n=2\n",
      "basecalled_file_names_flattened             list                n=104\n",
      "bc_list                                     list                n=7\n",
      "bclabel_index                               int                 24\n",
      "bcs                                         str                 BC06\n",
      "besthit_file                                str                 1212_1D_barcoding_Wagga_N<...>WW_19121016.blast.besthit\n",
      "blast_file_name                             str                 BC06.fa.WW_19121016.blast.besthit\n",
      "blast_file_name_stripped                    str                 BC05.fa.WW_19121016.blast.besthit\n",
      "blast_hit_sample_id                         str                 .blasthitsample_\n",
      "chain                                       type                <class 'itertools.chain'>\n",
      "clmn_name                                   str                 Median Length (bp)\n",
      "clmns                                       str                 median\n",
      "colLabels                                   list                n=5\n",
      "col_list                                    list                n=102\n",
      "collections                                 module              <module 'collections' fro<...>collections/__init__.py'>\n",
      "complete_path_and_name                      str                 /home/gamran/dirtreetest/<...>rcoding_Wagga.lengths.txt\n",
      "coordinates                                 list                n=6\n",
      "coordinates_list                            list                n=6\n",
      "create_analysis_subdirectories              function            <function create_analysis<...>tories at 0x7fb33df23ea0>\n",
      "create_blast_subdirectories                 function            <function create_blast_su<...>tories at 0x7fb33df23f28>\n",
      "create_data_subdirectories                  function            <function create_data_sub<...>tories at 0x7fb31e9b28c8>\n",
      "create_main_directories                     function            <function create_main_dir<...>tories at 0x7fb31376a6a8>\n",
      "cycol                                       str                 rgbcym\n",
      "data_rghitsamples_path                      str                 /home/gamran/dirtreetest/data/rghitsamples/\n",
      "end                                         int                 43\n",
      "fa_file                                     str                 1212_1D_barcoding_Wagga_NB12.fa\n",
      "fasta_file_type                             str                 .fa\n",
      "fig                                         Figure              Figure(504x216)\n",
      "file_name                                   str                 1212_1D_barcoding_Wagga_N<...>WW_19121016.blast.besthit\n",
      "flatten                                     function            <function flatten at 0x7fb3003c66a8>\n",
      "fnmatch                                     module              <module 'fnmatch' from '/<...>ib/python3.5/fnmatch.py'>\n",
      "generateGBGPCforRGHC                        function            <function generateGBGPCforRGHC at 0x7fb31357f2f0>\n",
      "generateGBGforRGHC                          function            <function generateGBGforRGHC at 0x7fb31e999158>\n",
      "generate_blasthit_samples                   function            <function generate_blasth<...>amples at 0x7fb300b6b598>\n",
      "generate_notblasted_fasta                   function            <function generate_notbla<...>_fasta at 0x7fb31e179ae8>\n",
      "generate_upper_ylim                         function            <function generate_upper_ylim at 0x7fb3136a72f0>\n",
      "good_barcodes                               list                n=6\n",
      "good_barcodes_and_all                       list                n=7\n",
      "grouped                                     DataFrameGroupBy    <pandas.core.groupby.Data<...>object at 0x7fb31f9288d0>\n",
      "idx                                         int                 4\n",
      "index                                       ndarray             8: 8 elems, type `int64`, 64 bytes\n",
      "itertools                                   module              <module 'itertools' (built-in)>\n",
      "k                                           str                 BC31\n",
      "key                                         str                 NB00\n",
      "lengths_txt                                 TextIOWrapper       <_io.TextIOWrapper name='<...>ode='w' encoding='UTF-8'>\n",
      "matplotlib                                  module              <module 'matplotlib' from<...>/matplotlib/__init__.py'>\n",
      "max_count_list                              list                n=7\n",
      "max_genome                                  str                 Wheat%\n",
      "merged                                      list                n=6\n",
      "merged2                                     list                n=145\n",
      "n_groups                                    int                 8\n",
      "n_nohit                                     tuple               n=8\n",
      "n_pst                                       tuple               n=8\n",
      "n_species_dict                              dict                n=5\n",
      "no_of_subplots                              int                 8\n",
      "no_of_subplots_pair                         list                n=2\n",
      "no_of_subplots_tuple                        tuple               n=2\n",
      "np                                          module              <module 'numpy' from '/ho<...>kages/numpy/__init__.py'>\n",
      "nx                                          int                 3\n",
      "ny                                          int                 2\n",
      "opacity                                     float               0.4\n",
      "os                                          module              <module 'os' from '/home/<...>da3/lib/python3.5/os.py'>\n",
      "pd                                          module              <module 'pandas' from '/h<...>ages/pandas/__init__.py'>\n",
      "plt                                         module              <module 'matplotlib.pyplo<...>es/matplotlib/pyplot.py'>\n",
      "poretools_df                                DataFrame                                    <...>[533033 rows x 4 columns]\n",
      "product                                     type                <class 'itertools.product'>\n",
      "random                                      module              <module 'random' from '/h<...>lib/python3.5/random.py'>\n",
      "ref_genome_full_list                        list                n=5\n",
      "ref_genome_species_list                     list                n=5\n",
      "ref_genome_tag_list                         list                n=5\n",
      "rg_full                                     str                 Wheat\n",
      "rg_tag                                      str                 TGAC\n",
      "rgblast_besthit_file_names                  list                n=8\n",
      "rgblast_besthit_file_names_strip            list                n=0\n",
      "rgblast_df_joint                            DataFrame                                    <...>[451569 rows x 9 columns]\n",
      "rgblast_df_joint_pivot                      DataFrame                 P. striformis f. sp<...>           2347  451569  \n",
      "rgblast_df_joint_pivot_noall                DataFrame                 P. striformis f. sp<...>4                  2347  \n",
      "rgblast_df_joint_pivot_nomaxspecies         DataFrame                 P. striformis f. sp<...>             2347  5715  \n",
      "rgblast_df_list                             list                n=8\n",
      "rgblast_dfs_dict                            dict                n=8\n",
      "rgblast_file_id                             str                 .WW_19121016\n",
      "rgblast_file_id_list                        list                n=8\n",
      "rgblast_file_names                          list                n=2\n",
      "rgblast_file_names_flattened                list                n=11\n",
      "rgblast_file_type                           str                 .blast.besthit\n",
      "rgblast_joint_pivot_table_pc                DataFrame                 P. striformis f. sp<...>                  0.520  \n",
      "rgblast_joint_pivot_table_pc_noall          DataFrame                 P. striformis f. sp<...>                  0.520  \n",
      "rgblast_joint_pivot_table_pc_nomaxspecies   DataFrame                 P. striformis f. sp<...>           0.520  1.266  \n",
      "seq                                         SeqRecord           ID: cb1a108f-a791-4842-a7<...>, SingleLetterAlphabet())\n",
      "spc                                         str                 Zymoseptoria tritici\n",
      "spcs                                        str                 All%\n",
      "species_dict                                dict                n=0\n",
      "sseqid2species_dict                         dict                n=71231\n",
      "start                                       int                 28\n",
      "subplot_coordinates                         list                n=8\n",
      "subplot_coordinates_list                    list                n=8\n",
      "subplot_coordinates_list_columns            list                n=8\n",
      "subplot_coordinates_list_rows               list                n=8\n",
      "table                                       function            <function table at 0x7fb33f02f840>\n",
      "tag                                         str                 tig\n",
      "test                                        DataFrame                                    <...>n\\n[100 rows x 9 columns]\n",
      "test_dict                                   dict                n=5\n",
      "testest                                     list                n=101894\n",
      "v                                           str                 1212_1D_barcoding_Wagga_BC31.fa\n",
      "work_dir                                    str                 /home/gamran/dirtreetest/\n",
      "x                                           ndarray             1: 1 elems, type `float64`, 8 bytes\n",
      "xmax                                        int                 22870\n",
      "xv                                          ndarray             1x1: 1 elems, type `float64`, 8 bytes\n",
      "y                                           ndarray             1: 1 elems, type `float64`, 8 bytes\n",
      "ylim_exp                                    int                 6\n",
      "ylim_exp_rounding                           int                 100000\n",
      "yv                                          ndarray             1x1: 1 elems, type `float64`, 8 bytes\n"
     ]
    }
   ],
   "source": [
    "whos"
   ]
  },
  {
   "cell_type": "code",
   "execution_count": 1024,
   "metadata": {
    "collapsed": true
   },
   "outputs": [],
   "source": [
    "\n"
   ]
  },
  {
   "cell_type": "code",
   "execution_count": 1026,
   "metadata": {
    "collapsed": false
   },
   "outputs": [
    {
     "data": {
      "text/plain": [
       "7787"
      ]
     },
     "execution_count": 1026,
     "metadata": {},
     "output_type": "execute_result"
    }
   ],
   "source": []
  }
 ],
 "metadata": {
  "anaconda-cloud": {},
  "kernelspec": {
   "display_name": "Python [conda root]",
   "language": "python",
   "name": "conda-root-py"
  },
  "language_info": {
   "codemirror_mode": {
    "name": "ipython",
    "version": 3
   },
   "file_extension": ".py",
   "mimetype": "text/x-python",
   "name": "python",
   "nbconvert_exporter": "python",
   "pygments_lexer": "ipython3",
   "version": "3.5.2"
  }
 },
 "nbformat": 4,
 "nbformat_minor": 1
}
