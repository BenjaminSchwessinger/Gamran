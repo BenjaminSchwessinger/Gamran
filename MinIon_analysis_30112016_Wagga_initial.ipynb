{
 "cells": [
  {
   "cell_type": "code",
   "execution_count": 22,
   "metadata": {
    "collapsed": false
   },
   "outputs": [],
   "source": [
    "%matplotlib inline\n",
    "import matplotlib.pyplot as plt\n",
    "import matplotlib\n",
    "import numpy as np"
   ]
  },
  {
   "cell_type": "code",
   "execution_count": 23,
   "metadata": {
    "collapsed": true
   },
   "outputs": [],
   "source": [
    "import os\n",
    "os.chdir('/home/gamran/data/')\n",
    "outdir ='/home/gamran/analysis/'"
   ]
  },
  {
   "cell_type": "code",
   "execution_count": 3,
   "metadata": {
    "collapsed": true
   },
   "outputs": [],
   "source": [
    "_id = \"12122016_1D_barcoding_Wagga.\"\n",
    "length_file = _id+\"lengths.txt\""
   ]
  },
  {
   "cell_type": "code",
   "execution_count": 4,
   "metadata": {
    "collapsed": false
   },
   "outputs": [
    {
     "data": {
      "text/plain": [
       "'.'"
      ]
     },
     "execution_count": 4,
     "metadata": {},
     "output_type": "execute_result"
    }
   ],
   "source": [
    "os.curdir"
   ]
  },
  {
   "cell_type": "code",
   "execution_count": 5,
   "metadata": {
    "collapsed": false
   },
   "outputs": [
    {
     "data": {
      "text/plain": [
       "['1212_1D_barcoding_Wagga_BC16.fa',\n",
       " '1212_1D_barcoding_Wagga_BC58.fa',\n",
       " '1212_1D_barcoding_Wagga_BC40.fa',\n",
       " '1212_1D_barcoding_Wagga_BC35.fa',\n",
       " '1212_1D_barcoding_Wagga_BC90.fa',\n",
       " '1212_1D_barcoding_Wagga_BC26.fa',\n",
       " '1212_1D_barcoding_Wagga_BC60.fa',\n",
       " '1212_1D_barcoding_Wagga_BC28.fa',\n",
       " '1212_1D_barcoding_Wagga_BC38.fa',\n",
       " '1212_1D_barcoding_Wagga_BC11.fa',\n",
       " '1212_1D_barcoding_Wagga_BC75.fa',\n",
       " '1212_1D_barcoding_Wagga_BC64.fa',\n",
       " '1212_1D_barcoding_Wagga_BC80.fa',\n",
       " '1212_1D_barcoding_Wagga_BC91.fa',\n",
       " '1212_1D_barcoding_Wagga_BC53.fa',\n",
       " '1212_1D_barcoding_Wagga_NB05.fa',\n",
       " '1212_1D_barcoding_Wagga_BC71.fa',\n",
       " '1212_1D_barcoding_Wagga_BC45.fa',\n",
       " '1212_1D_barcoding_Wagga_NB06.fa',\n",
       " '1212_1D_barcoding_Wagga_BC05.fa',\n",
       " '1212_1D_barcoding_Wagga_BC48.fa',\n",
       " '1212_1D_barcoding_Wagga_BC32.fa',\n",
       " '1212_1D_barcoding_Wagga_BC51.fa',\n",
       " '1212_1D_barcoding_Wagga_BC36.fa',\n",
       " '1212_1D_barcoding_Wagga_BC87.fa',\n",
       " '1212_1D_barcoding_Wagga_BC88.fa',\n",
       " '1212_1D_barcoding_Wagga_BC37.fa',\n",
       " '1212_1D_barcoding_Wagga_BC46.fa',\n",
       " '1212_1D_barcoding_Wagga_BC54.fa',\n",
       " '1212_1D_barcoding_Wagga_BC39.fa',\n",
       " '1212_1D_barcoding_Wagga_BC30.fa',\n",
       " '1212_1D_barcoding_Wagga_BC55.fa',\n",
       " '1212_1D_barcoding_Wagga_BC69.fa',\n",
       " '1212_1D_barcoding_Wagga_BC81.fa',\n",
       " '1212_1D_barcoding_Wagga_BC47.fa',\n",
       " '1212_1D_barcoding_Wagga_BC67.fa',\n",
       " '1212_1D_barcoding_Wagga_BC31.fa',\n",
       " '1212_1D_barcoding_Wagga_BC49.fa',\n",
       " '1212_1D_barcoding_Wagga_BC17.fa',\n",
       " '1212_1D_barcoding_Wagga_BC41.fa',\n",
       " '1212_1D_barcoding_Wagga_BC52.fa',\n",
       " '1212_1D_barcoding_Wagga_BC94.fa',\n",
       " '1212_1D_barcoding_Wagga_BC25.fa',\n",
       " '1212_1D_barcoding_Wagga_BC68.fa',\n",
       " '1212_1D_barcoding_Wagga_BC86.fa',\n",
       " '1212_1D_barcoding_Wagga_BC79.fa',\n",
       " '1212_1D_barcoding_Wagga_BC89.fa',\n",
       " '1212_1D_barcoding_Wagga_BC65.fa',\n",
       " '1212_1D_barcoding_Wagga_BC66.fa',\n",
       " '1212_1D_barcoding_Wagga_BC56.fa',\n",
       " '1212_1D_barcoding_Wagga_BC04.fa',\n",
       " '1212_1D_barcoding_Wagga_BC63.fa',\n",
       " '1212_1D_barcoding_Wagga_BC07.fa',\n",
       " '1212_1D_barcoding_Wagga_BC50.fa',\n",
       " '1212_1D_barcoding_Wagga_NB02.fa',\n",
       " '1212_1D_barcoding_Wagga_NB10.fa',\n",
       " '1212_1D_barcoding_Wagga_BC10.fa',\n",
       " '1212_1D_barcoding_Wagga_BC72.fa',\n",
       " '1212_1D_barcoding_Wagga_BC76.fa',\n",
       " '1212_1D_barcoding_Wagga_BC95.fa',\n",
       " '1212_1D_barcoding_Wagga_BC13.fa',\n",
       " '1212_1D_barcoding_Wagga_BC27.fa',\n",
       " '1212_1D_barcoding_Wagga_BC85.fa',\n",
       " '1212_1D_barcoding_Wagga_BC14.fa',\n",
       " '1212_1D_barcoding_Wagga_NB01.fa',\n",
       " '1212_1D_barcoding_Wagga_BC96.fa',\n",
       " '1212_1D_barcoding_Wagga_BC09.fa',\n",
       " '1212_1D_barcoding_Wagga_BC21.fa',\n",
       " '1212_1D_barcoding_Wagga_BC33.fa',\n",
       " '1212_1D_barcoding_Wagga_BC43.fa',\n",
       " '1212_1D_barcoding_Wagga_NB03.fa',\n",
       " '1212_1D_barcoding_Wagga_BC61.fa',\n",
       " '1212_1D_barcoding_Wagga_BC06.fa',\n",
       " '1212_1D_barcoding_Wagga_BC22.fa',\n",
       " '1212_1D_barcoding_Wagga_BC83.fa',\n",
       " '1212_1D_barcoding_Wagga_BC82.fa',\n",
       " '1212_1D_barcoding_Wagga_BC01.fa',\n",
       " '1212_1D_barcoding_Wagga_BC57.fa',\n",
       " '1212_1D_barcoding_Wagga_NB09.fa',\n",
       " '1212_1D_barcoding_Wagga_BC19.fa',\n",
       " '1212_1D_barcoding_Wagga_BC84.fa',\n",
       " '1212_1D_barcoding_Wagga_BC93.fa',\n",
       " '1212_1D_barcoding_Wagga_BC15.fa',\n",
       " '1212_1D_barcoding_Wagga_BC92.fa',\n",
       " '1212_1D_barcoding_Wagga_BC20.fa',\n",
       " '1212_1D_barcoding_Wagga_BC44.fa',\n",
       " '1212_1D_barcoding_Wagga_NB11.fa',\n",
       " '1212_1D_barcoding_Wagga_BC12.fa',\n",
       " '1212_1D_barcoding_Wagga_BC77.fa',\n",
       " '1212_1D_barcoding_Wagga_BC70.fa',\n",
       " '1212_1D_barcoding_Wagga_NB04.fa',\n",
       " '1212_1D_barcoding_Wagga_NB12.fa',\n",
       " '1212_1D_barcoding_Wagga_BC23.fa',\n",
       " '1212_1D_barcoding_Wagga_BC08.fa',\n",
       " '1212_1D_barcoding_Wagga_BC42.fa',\n",
       " '1212_1D_barcoding_Wagga_BC24.fa',\n",
       " '1212_1D_barcoding_Wagga_BC02.fa',\n",
       " '1212_1D_barcoding_Wagga_BC03.fa',\n",
       " '1212_1D_barcoding_Wagga_NB08.fa',\n",
       " '1212_1D_barcoding_Wagga_BC74.fa',\n",
       " '1212_1D_barcoding_Wagga_BC29.fa',\n",
       " '1212_1D_barcoding_Wagga_BC59.fa']"
      ]
     },
     "execution_count": 5,
     "metadata": {},
     "output_type": "execute_result"
    }
   ],
   "source": [
    "_list = []\n",
    "for x in os.walk('.', topdown=False):\n",
    "    _list.append(x)\n",
    "_list[0][2]"
   ]
  },
  {
   "cell_type": "code",
   "execution_count": 6,
   "metadata": {
    "collapsed": false
   },
   "outputs": [],
   "source": [
    "file_names = [x for x in os.walk('.', topdown=False)][0][2]"
   ]
  },
  {
   "cell_type": "code",
   "execution_count": 9,
   "metadata": {
    "collapsed": false
   },
   "outputs": [
    {
     "data": {
      "text/plain": [
       "['1212_1D_barcoding_Wagga_BC16.fa',\n",
       " '1212_1D_barcoding_Wagga_BC58.fa',\n",
       " '1212_1D_barcoding_Wagga_BC40.fa',\n",
       " '1212_1D_barcoding_Wagga_BC35.fa',\n",
       " '1212_1D_barcoding_Wagga_BC90.fa',\n",
       " '1212_1D_barcoding_Wagga_BC26.fa',\n",
       " '1212_1D_barcoding_Wagga_BC60.fa',\n",
       " '1212_1D_barcoding_Wagga_BC28.fa',\n",
       " '1212_1D_barcoding_Wagga_BC38.fa',\n",
       " '1212_1D_barcoding_Wagga_BC11.fa',\n",
       " '1212_1D_barcoding_Wagga_BC75.fa',\n",
       " '1212_1D_barcoding_Wagga_BC64.fa',\n",
       " '1212_1D_barcoding_Wagga_BC80.fa',\n",
       " '1212_1D_barcoding_Wagga_BC91.fa',\n",
       " '1212_1D_barcoding_Wagga_BC53.fa',\n",
       " '1212_1D_barcoding_Wagga_NB05.fa',\n",
       " '1212_1D_barcoding_Wagga_BC71.fa',\n",
       " '1212_1D_barcoding_Wagga_BC45.fa',\n",
       " '1212_1D_barcoding_Wagga_NB06.fa',\n",
       " '1212_1D_barcoding_Wagga_BC05.fa',\n",
       " '1212_1D_barcoding_Wagga_BC48.fa',\n",
       " '1212_1D_barcoding_Wagga_BC32.fa',\n",
       " '1212_1D_barcoding_Wagga_BC51.fa',\n",
       " '1212_1D_barcoding_Wagga_BC36.fa',\n",
       " '1212_1D_barcoding_Wagga_BC87.fa',\n",
       " '1212_1D_barcoding_Wagga_BC88.fa',\n",
       " '1212_1D_barcoding_Wagga_BC37.fa',\n",
       " '1212_1D_barcoding_Wagga_BC46.fa',\n",
       " '1212_1D_barcoding_Wagga_BC54.fa',\n",
       " '1212_1D_barcoding_Wagga_BC39.fa',\n",
       " '1212_1D_barcoding_Wagga_BC30.fa',\n",
       " '1212_1D_barcoding_Wagga_BC55.fa',\n",
       " '1212_1D_barcoding_Wagga_BC69.fa',\n",
       " '1212_1D_barcoding_Wagga_BC81.fa',\n",
       " '1212_1D_barcoding_Wagga_BC47.fa',\n",
       " '1212_1D_barcoding_Wagga_BC67.fa',\n",
       " '1212_1D_barcoding_Wagga_BC31.fa',\n",
       " '1212_1D_barcoding_Wagga_BC49.fa',\n",
       " '1212_1D_barcoding_Wagga_BC17.fa',\n",
       " '1212_1D_barcoding_Wagga_BC41.fa',\n",
       " '1212_1D_barcoding_Wagga_BC52.fa',\n",
       " '1212_1D_barcoding_Wagga_BC94.fa',\n",
       " '1212_1D_barcoding_Wagga_BC25.fa',\n",
       " '1212_1D_barcoding_Wagga_BC68.fa',\n",
       " '1212_1D_barcoding_Wagga_BC86.fa',\n",
       " '1212_1D_barcoding_Wagga_BC79.fa',\n",
       " '1212_1D_barcoding_Wagga_BC89.fa',\n",
       " '1212_1D_barcoding_Wagga_BC65.fa',\n",
       " '1212_1D_barcoding_Wagga_BC66.fa',\n",
       " '1212_1D_barcoding_Wagga_BC56.fa',\n",
       " '1212_1D_barcoding_Wagga_BC04.fa',\n",
       " '1212_1D_barcoding_Wagga_BC63.fa',\n",
       " '1212_1D_barcoding_Wagga_BC07.fa',\n",
       " '1212_1D_barcoding_Wagga_BC50.fa',\n",
       " '1212_1D_barcoding_Wagga_NB02.fa',\n",
       " '1212_1D_barcoding_Wagga_NB10.fa',\n",
       " '1212_1D_barcoding_Wagga_BC10.fa',\n",
       " '1212_1D_barcoding_Wagga_BC72.fa',\n",
       " '1212_1D_barcoding_Wagga_BC76.fa',\n",
       " '1212_1D_barcoding_Wagga_BC95.fa',\n",
       " '1212_1D_barcoding_Wagga_BC13.fa',\n",
       " '1212_1D_barcoding_Wagga_BC27.fa',\n",
       " '1212_1D_barcoding_Wagga_BC85.fa',\n",
       " '1212_1D_barcoding_Wagga_BC14.fa',\n",
       " '1212_1D_barcoding_Wagga_NB01.fa',\n",
       " '1212_1D_barcoding_Wagga_BC96.fa',\n",
       " '1212_1D_barcoding_Wagga_BC09.fa',\n",
       " '1212_1D_barcoding_Wagga_BC21.fa',\n",
       " '1212_1D_barcoding_Wagga_BC33.fa',\n",
       " '1212_1D_barcoding_Wagga_BC43.fa',\n",
       " '1212_1D_barcoding_Wagga_NB03.fa',\n",
       " '1212_1D_barcoding_Wagga_BC61.fa',\n",
       " '1212_1D_barcoding_Wagga_BC06.fa',\n",
       " '1212_1D_barcoding_Wagga_BC22.fa',\n",
       " '1212_1D_barcoding_Wagga_BC83.fa',\n",
       " '1212_1D_barcoding_Wagga_BC82.fa',\n",
       " '1212_1D_barcoding_Wagga_BC01.fa',\n",
       " '1212_1D_barcoding_Wagga_BC57.fa',\n",
       " '1212_1D_barcoding_Wagga_NB09.fa',\n",
       " '1212_1D_barcoding_Wagga_BC19.fa',\n",
       " '1212_1D_barcoding_Wagga_BC84.fa',\n",
       " '1212_1D_barcoding_Wagga_BC93.fa',\n",
       " '1212_1D_barcoding_Wagga_BC15.fa',\n",
       " '1212_1D_barcoding_Wagga_BC92.fa',\n",
       " '1212_1D_barcoding_Wagga_BC20.fa',\n",
       " '1212_1D_barcoding_Wagga_BC44.fa',\n",
       " '1212_1D_barcoding_Wagga_NB11.fa',\n",
       " '1212_1D_barcoding_Wagga_BC12.fa',\n",
       " '1212_1D_barcoding_Wagga_BC77.fa',\n",
       " '1212_1D_barcoding_Wagga_BC70.fa',\n",
       " '1212_1D_barcoding_Wagga_NB04.fa',\n",
       " '1212_1D_barcoding_Wagga_NB12.fa',\n",
       " '1212_1D_barcoding_Wagga_BC23.fa',\n",
       " '1212_1D_barcoding_Wagga_BC08.fa',\n",
       " '1212_1D_barcoding_Wagga_BC42.fa',\n",
       " '1212_1D_barcoding_Wagga_BC24.fa',\n",
       " '1212_1D_barcoding_Wagga_BC02.fa',\n",
       " '1212_1D_barcoding_Wagga_BC03.fa',\n",
       " '1212_1D_barcoding_Wagga_NB08.fa',\n",
       " '1212_1D_barcoding_Wagga_BC74.fa',\n",
       " '1212_1D_barcoding_Wagga_BC29.fa',\n",
       " '1212_1D_barcoding_Wagga_BC59.fa']"
      ]
     },
     "execution_count": 9,
     "metadata": {},
     "output_type": "execute_result"
    }
   ],
   "source": [
    "file_names"
   ]
  },
  {
   "cell_type": "code",
   "execution_count": 12,
   "metadata": {
    "collapsed": false
   },
   "outputs": [
    {
     "data": {
      "text/plain": [
       "'BC58'"
      ]
     },
     "execution_count": 12,
     "metadata": {},
     "output_type": "execute_result"
    }
   ],
   "source": [
    "file_names[1][-7:-3]"
   ]
  },
  {
   "cell_type": "code",
   "execution_count": 14,
   "metadata": {
    "collapsed": false
   },
   "outputs": [],
   "source": [
    "from Bio import SeqIO\n",
    "lengths = open(length_file, \"w\")\n",
    "print(\"Read_id,Barcode,Length\", file=lengths)\n",
    "for fasta_file in file_names:\n",
    "    for seq in SeqIO.parse(open(fasta_file), 'fasta'):\n",
    "        print(seq.id+\",\"+ fasta_file[-7:-3]+\",\"+str(len(seq)), file=lengths)\n",
    "lengths.close()"
   ]
  },
  {
   "cell_type": "code",
   "execution_count": 15,
   "metadata": {
    "collapsed": true
   },
   "outputs": [],
   "source": [
    "import pandas as pd"
   ]
  },
  {
   "cell_type": "code",
   "execution_count": 16,
   "metadata": {
    "collapsed": false
   },
   "outputs": [],
   "source": [
    "font = {'family' : 'normal',\n",
    "        'weight' : 'bold',\n",
    "        'size'   : 15}\n",
    "matplotlib.rc('font', **font) #changes font of the plot\n",
    "label_config_x = {'fontsize'            : 'large',\n",
    "      'verticalalignment'   : 'top',\n",
    "      'horizontalalignment' : 'center'\n",
    "      }\n",
    "label_config_y = {'fontsize'            : 'large',\n",
    "      'verticalalignment'   : 'bottom',\n",
    "      'horizontalalignment' : 'center'\n",
    "      }"
   ]
  },
  {
   "cell_type": "code",
   "execution_count": 17,
   "metadata": {
    "collapsed": false
   },
   "outputs": [],
   "source": [
    "poretools_df = pd.read_csv(length_file)"
   ]
  },
  {
   "cell_type": "code",
   "execution_count": 28,
   "metadata": {
    "collapsed": false
   },
   "outputs": [
    {
     "data": {
      "text/html": [
       "<div>\n",
       "<table border=\"1\" class=\"dataframe\">\n",
       "  <thead>\n",
       "    <tr style=\"text-align: right;\">\n",
       "      <th></th>\n",
       "      <th>Read_id</th>\n",
       "      <th>Barcode</th>\n",
       "      <th>Length</th>\n",
       "    </tr>\n",
       "  </thead>\n",
       "  <tbody>\n",
       "    <tr>\n",
       "      <th>0</th>\n",
       "      <td>2d513e20-5961-4b23-8ebc-8f68f49ab1c7_Basecall_...</td>\n",
       "      <td>BC16</td>\n",
       "      <td>1346</td>\n",
       "    </tr>\n",
       "    <tr>\n",
       "      <th>1</th>\n",
       "      <td>61e2df33-4479-4dd8-9d84-2f4208c104f7_Basecall_...</td>\n",
       "      <td>BC16</td>\n",
       "      <td>981</td>\n",
       "    </tr>\n",
       "    <tr>\n",
       "      <th>2</th>\n",
       "      <td>069b53a2-738a-4615-9174-a1dac6752941_Basecall_...</td>\n",
       "      <td>BC16</td>\n",
       "      <td>961</td>\n",
       "    </tr>\n",
       "    <tr>\n",
       "      <th>3</th>\n",
       "      <td>566a024f-1758-47a0-b264-3af540c5b1f6_Basecall_...</td>\n",
       "      <td>BC16</td>\n",
       "      <td>3348</td>\n",
       "    </tr>\n",
       "    <tr>\n",
       "      <th>4</th>\n",
       "      <td>96f061b4-6d55-45f6-a9da-acc81be2eb82_Basecall_...</td>\n",
       "      <td>BC16</td>\n",
       "      <td>983</td>\n",
       "    </tr>\n",
       "  </tbody>\n",
       "</table>\n",
       "</div>"
      ],
      "text/plain": [
       "                                             Read_id Barcode  Length\n",
       "0  2d513e20-5961-4b23-8ebc-8f68f49ab1c7_Basecall_...    BC16    1346\n",
       "1  61e2df33-4479-4dd8-9d84-2f4208c104f7_Basecall_...    BC16     981\n",
       "2  069b53a2-738a-4615-9174-a1dac6752941_Basecall_...    BC16     961\n",
       "3  566a024f-1758-47a0-b264-3af540c5b1f6_Basecall_...    BC16    3348\n",
       "4  96f061b4-6d55-45f6-a9da-acc81be2eb82_Basecall_...    BC16     983"
      ]
     },
     "execution_count": 28,
     "metadata": {},
     "output_type": "execute_result"
    }
   ],
   "source": [
    "poretools_df.head()"
   ]
  },
  {
   "cell_type": "code",
   "execution_count": 21,
   "metadata": {
    "collapsed": false
   },
   "outputs": [
    {
     "data": {
      "text/plain": [
       "533035"
      ]
     },
     "execution_count": 21,
     "metadata": {},
     "output_type": "execute_result"
    }
   ],
   "source": [
    "len(poretools_df)"
   ]
  },
  {
   "cell_type": "code",
   "execution_count": 29,
   "metadata": {
    "collapsed": false
   },
   "outputs": [
    {
     "name": "stdout",
     "output_type": "stream",
     "text": [
      "                                                  Read_id Barcode  Length\n",
      "356438  82882057-2c28-4c31-ad5a-b072b4c5d7e3_Basecall_...    BC01     373\n",
      "356439  66cf8a95-2118-42ee-a0db-318dbd7b19e6_Basecall_...    BC01     461\n",
      "356440  51051b85-f058-44a9-8584-328409dd9dda_Basecall_...    BC01     703\n",
      "356441  adac8e42-8117-424d-800f-efe2fdb4ceb4_Basecall_...    BC01    1721\n",
      "356442  687809f4-5850-4fa9-9b5a-6ee92a81cfb4_Basecall_...    BC01     830\n",
      "356443  2f9faef2-02dc-4bfe-a283-fb6cad20144d_Basecall_...    BC01     574\n",
      "356444  43ac7a98-37aa-41ae-94bf-e7baf460a0b5_Basecall_...    BC01     505\n",
      "356445  90687b0d-f667-4a8d-934d-f2e88d79ee52_Basecall_...    BC01     181\n",
      "356446  def1164c-7838-4fb3-98fb-a117023e6e7c_Basecall_...    BC01     454\n",
      "356447  4b1295e0-5a13-4218-8c32-a8fd4a6cddc5_Basecall_...    BC01    2586\n",
      "356448  a091c6f1-5252-4510-854d-6d406d5b0bb6_Basecall_...    BC01    1140\n",
      "356449  05469f23-1403-4983-9ee8-ef694c67c00b_Basecall_...    BC01     311\n",
      "356450  b1619ffa-1b4e-42fc-99db-603cc9c54bd1_Basecall_...    BC01     436\n",
      "356451  75e4c108-6ab6-4734-a805-992a0dc50dfd_Basecall_...    BC01     649\n",
      "356452  8370d6b6-a88e-4c99-b50d-671b15d1633a_Basecall_...    BC01     861\n",
      "356453  37b80e81-9f74-4101-a435-2105b7e88910_Basecall_...    BC01     459\n",
      "356454  0f5941a8-fc7f-4c9b-ae89-d7249012a300_Basecall_...    BC01     665\n",
      "356455  754e34d3-656e-45b2-8c13-d3ec10010a75_Basecall_...    BC01    4878\n",
      "356456  97f26860-169e-4cf6-81f7-0527d2d0f6ae_Basecall_...    BC01     515\n",
      "356457  779116bf-237a-4a6e-9fce-df299034feb5_Basecall_...    BC01    3708\n",
      "356458  23b3461b-db64-4db3-87af-608f5ebc50da_Basecall_...    BC01     944\n",
      "356459  0f21b019-40c8-4c86-b25e-424e5245dc7c_Basecall_...    BC01     546\n",
      "356460  b0678d2d-8eab-4973-ad4f-a25d4b0fd661_Basecall_...    BC01     490\n",
      "356461  0083c398-1f03-4661-b48e-47b03617ebcc_Basecall_...    BC01     403\n",
      "356462  361c3ed6-d20d-4233-8536-5e68753210b3_Basecall_...    BC01    1196\n",
      "356463  ad15d37c-ce8f-4f84-86cd-5f829c0d193f_Basecall_...    BC01    2540\n",
      "356464  1c080d74-1593-41c5-a641-a5b94cee9228_Basecall_...    BC01     427\n",
      "356465  6db85928-3435-4369-a5cb-b68a77b3e1cf_Basecall_...    BC01    2152\n",
      "356466  a4c2a4f5-5168-49b3-892f-ca41acb906b1_Basecall_...    BC01     336\n",
      "356467  dd9f54f5-3def-4b21-9ff3-3515c3137750_Basecall_...    BC01     686\n",
      "...                                                   ...     ...     ...\n",
      "374674  0593b9cb-8cc4-4c13-8eac-4ec40ba6923c_Basecall_...    BC01     283\n",
      "374675  9ee8eefd-f646-49a4-86ff-75e131dd740a_Basecall_...    BC01     717\n",
      "374676  fc95ed4e-9c59-4894-8208-51c7adaf1277_Basecall_...    BC01     504\n",
      "374677  4286f565-4626-46ab-a04d-3ebdcd6ea067_Basecall_...    BC01     527\n",
      "374678  5f7eb41d-0e26-4521-a631-2bcf07043c97_Basecall_...    BC01     653\n",
      "374679  a01aed7a-6959-4853-a921-051422b945b5_Basecall_...    BC01     351\n",
      "374680  90fff03e-cfe7-4bf7-aed7-38f2a5bf511f_Basecall_...    BC01     523\n",
      "374681  6da473bc-d0ab-4775-867f-de5e9d078f0c_Basecall_...    BC01    2371\n",
      "374682  6ec1f109-52af-4723-8124-592b7a1be058_Basecall_...    BC01     501\n",
      "374683  2f30ddd7-de9b-4e3c-8ffc-55edaf1370e8_Basecall_...    BC01     419\n",
      "374684  ac6a2d00-aba6-4f3b-913a-116c21af0578_Basecall_...    BC01     442\n",
      "374685  fe037b63-e12c-4a34-a040-de9d711dba89_Basecall_...    BC01     596\n",
      "374686  ea2aba01-3078-4c8f-98c4-abd14236ffae_Basecall_...    BC01     532\n",
      "374687  866cf225-713f-4a4f-831c-fbacbe388c3e_Basecall_...    BC01     292\n",
      "374688  50ec67ab-787f-48a2-9b9c-27538901d32b_Basecall_...    BC01     268\n",
      "374689  de95be67-db06-41ad-9d0a-2d1761185052_Basecall_...    BC01     823\n",
      "374690  20464d78-7b7d-4b80-aaf0-c0e990968e6c_Basecall_...    BC01     582\n",
      "374691  04a6e3a0-3613-4d6c-9af3-8e931d55572e_Basecall_...    BC01     365\n",
      "374692  44415030-763b-48db-b1e9-f09ee55232b1_Basecall_...    BC01     464\n",
      "374693  328dac43-40b8-4a4c-928a-1dfe6e44d6ea_Basecall_...    BC01     342\n",
      "374694  14115a7a-88d2-47b0-8355-b14a3839b86c_Basecall_...    BC01     635\n",
      "374695  a2c30d38-04eb-4ff7-a0b6-f04ff36ed49e_Basecall_...    BC01    2246\n",
      "374696  db2c9f6c-a740-4666-805f-b89a0be2cd8e_Basecall_...    BC01     883\n",
      "374697  11255260-9650-4c70-8487-6785a27da5b3_Basecall_...    BC01     808\n",
      "374698  c2662eed-3497-47bb-a0d2-bcb8e3cfa077_Basecall_...    BC01     300\n",
      "374699  6325a2d4-494b-43fe-ae2f-50d7ea160b52_Basecall_...    BC01     534\n",
      "374700  a5cc4b9e-aea6-4ef7-8485-22584da70463_Basecall_...    BC01     401\n",
      "374701  9fee17ad-f854-4e7e-b595-2671fa561225_Basecall_...    BC01     329\n",
      "374702  f80d9f4b-ffd6-4bdb-8ce8-237f976940ab_Basecall_...    BC01     799\n",
      "374703  28a863d8-e364-43ba-bdb1-de8bd0595907_Basecall_...    BC01    3926\n",
      "\n",
      "[18266 rows x 3 columns]\n"
     ]
    }
   ],
   "source": []
  },
  {
   "cell_type": "code",
   "execution_count": 20,
   "metadata": {
    "collapsed": false
   },
   "outputs": [
    {
     "data": {
      "text/plain": [
       "<matplotlib.text.Text at 0x7f0f91f7d6d8>"
      ]
     },
     "execution_count": 20,
     "metadata": {},
     "output_type": "execute_result"
    },
    {
     "data": {
      "image/png": "[encoded data removed]",
      "text/plain": [
       "<matplotlib.figure.Figure at 0x7f0f92413be0>"
      ]
     },
     "metadata": {},
     "output_type": "display_data"
    }
   ],
   "source": [
    "plt.figure(figsize=(10,15))\n",
    "poretools_df['Length'].hist(bins=30)\n",
    "plt.xlabel('read_length')\n",
    "plt.xticks(np.arange(0,poretools_df['Length'].max()+1,2000))\n",
    "plt.ylabel('count')\n",
    "plt.title(_id+'pass reads length distribution')"
   ]
  },
  {
   "cell_type": "code",
   "execution_count": 19,
   "metadata": {
    "collapsed": false
   },
   "outputs": [
    {
     "data": {
      "text/plain": [
       "<matplotlib.text.Text at 0x7f0f921e0668>"
      ]
     },
     "execution_count": 19,
     "metadata": {},
     "output_type": "execute_result"
    },
    {
     "name": "stderr",
     "output_type": "stream",
     "text": [
      "/home/gamran/anaconda3/lib/python3.5/site-packages/matplotlib/font_manager.py:1288: UserWarning: findfont: Font family ['normal'] not found. Falling back to Bitstream Vera Sans\n",
      "  (prop.get_family(), self.defaultFamily[fontext]))\n"
     ]
    },
    {
     "data": {
      "image/png": "[encoded data removed]",
      "text/plain": [
       "<matplotlib.figure.Figure at 0x7f0f92413c50>"
      ]
     },
     "metadata": {},
     "output_type": "display_data"
    }
   ],
   "source": [
    "plt.figure(figsize=(10,15))\n",
    "poretools_df.groupby('Barcode')['Length'].hist(bins=30)\n",
    "plt.xlabel('read_length')\n",
    "plt.xticks(np.arange(0,poretools_df['Length'].max()+1,2000))\n",
    "plt.ylabel('count')\n",
    "plt.title(_id+'pass reads length distribution')"
   ]
  },
  {
   "cell_type": "code",
   "execution_count": null,
   "metadata": {
    "collapsed": false
   },
   "outputs": [],
   "source": [
    "poretools_df.iloc[:,-2:]"
   ]
  },
  {
   "cell_type": "code",
   "execution_count": null,
   "metadata": {
    "collapsed": false
   },
   "outputs": [],
   "source": [
    "plt.figure()\n",
    "grouped = poretools_df.groupby('Barcode')\n",
    "grouped"
   ]
  },
  {
   "cell_type": "code",
   "execution_count": null,
   "metadata": {
    "collapsed": true
   },
   "outputs": [],
   "source": [
    "poretools_df.groupby('Barcode').hist(bins=30)\n",
    "plt.legend()"
   ]
  },
  {
   "cell_type": "code",
   "execution_count": null,
   "metadata": {
    "collapsed": true
   },
   "outputs": [],
   "source": [
    "grouped.Length.plot(kind='bar')"
   ]
  },
  {
   "cell_type": "code",
   "execution_count": null,
   "metadata": {
    "collapsed": false
   },
   "outputs": [],
   "source": [
    "poretools_df.pivot_table('Length', 'Barcode')"
   ]
  },
  {
   "cell_type": "code",
   "execution_count": null,
   "metadata": {
    "collapsed": false
   },
   "outputs": [],
   "source": [
    "poretools_df.head()"
   ]
  },
  {
   "cell_type": "code",
   "execution_count": null,
   "metadata": {
    "collapsed": true
   },
   "outputs": [],
   "source": [
    "grouped.groups"
   ]
  },
  {
   "cell_type": "code",
   "execution_count": null,
   "metadata": {
    "collapsed": false
   },
   "outputs": [],
   "source": [
    "import pandas as pd\n",
    "from numpy.random import randint\n",
    "import matplotlib.pyplot as plt\n",
    "df = pd.DataFrame(randint(0,10,(200,6)),columns=list('abcdef'))\n",
    "df.head()"
   ]
  },
  {
   "cell_type": "code",
   "execution_count": null,
   "metadata": {
    "collapsed": false
   },
   "outputs": [],
   "source": [
    "grouped.head()"
   ]
  },
  {
   "cell_type": "code",
   "execution_count": null,
   "metadata": {
    "collapsed": false
   },
   "outputs": [],
   "source": [
    "plt.figure()\n",
    "grouped = poretools_df.groupby('Barcode')\n",
    "rowlength = grouped.ngroups/2\n",
    "fig, axs = plt.subplots(figsize=(15,12), \n",
    "                        nrows=2, ncols=int(rowlength),\n",
    "                        #sharex=True, # fix as above\n",
    "                        gridspec_kw=dict(hspace=0.4))\n",
    "plt.setp(axs, xticks=np.arange(0,poretools_df.iloc[:, 2].max()+1,3000))\n",
    "#plt.xlim(0,poretools_df.iloc[:, 2].max()+1)\n",
    "print(axs.flatten())\n",
    "keys = list(grouped.groups.keys())\n",
    "keys.sort()\n",
    "targets = zip(keys, axs.flatten())\n",
    "#print([z for z in targets])\n",
    "max_count_list = []\n",
    "for key in grouped.groups.keys():\n",
    "    max_count_list.append(np.histogram(grouped.Length.get_group(key), 50)[0].max())\n",
    "max_count_list.sort()\n",
    "for i, (key, ax) in enumerate(targets):\n",
    "    #print(i)\n",
    "    ax.hist(grouped.Length.get_group(key), bins=50)\n",
    "    ax.set_title('%s' %key)\n",
    "    ax.set_xlabel('Count')\n",
    "    ax.set_ylabel('Length')\n",
    "    _mean = grouped.Length.get_group(key).mean()\n",
    "    _count = grouped.Length.get_group(key).count()\n",
    "    ax.text(4000, 1400, r'mean = %sbp'%int(_mean))\n",
    "    ax.text(4000, 1000, r'count = %s'%int(_count))\n",
    "    ax.set_xlim(0,poretools_df.iloc[:, 2].max()+1)\n",
    "    ax.set_ylim(0, max_count_list[-1]+50)\n",
    "    #ax.xaxis()\n",
    "\n",
    "#poretools_df.groupby('Barcode')['Length'].hist( bins=50)"
   ]
  },
  {
   "cell_type": "code",
   "execution_count": null,
   "metadata": {
    "collapsed": false
   },
   "outputs": [],
   "source": [
    "keys =grouped.groups.keys()"
   ]
  },
  {
   "cell_type": "code",
   "execution_count": null,
   "metadata": {
    "collapsed": false
   },
   "outputs": [],
   "source": [
    "a = list(keys)\n",
    "a.sort()\n",
    "a"
   ]
  },
  {
   "cell_type": "code",
   "execution_count": null,
   "metadata": {
    "collapsed": false
   },
   "outputs": [],
   "source": [
    "max_count_list.sort()\n",
    "max_count_list[-1]"
   ]
  },
  {
   "cell_type": "code",
   "execution_count": null,
   "metadata": {
    "collapsed": false
   },
   "outputs": [],
   "source": [
    "np.histogram(grouped.Length.get_group('BC01'), 50)[0].max()"
   ]
  },
  {
   "cell_type": "code",
   "execution_count": null,
   "metadata": {
    "collapsed": false
   },
   "outputs": [],
   "source": [
    "plt.figure(figsize=(15,15))\n",
    "poretools_df.iloc[:, 2].hist(bins=50)\n",
    "plt.xlabel('read_length')\n",
    "plt.xticks(np.arange(0,poretools_df.iloc[:, 2].max()+1,1000))\n",
    "plt.ylabel('count')\n",
    "plt.title(_id+'pass reads length distribution')\n",
    "plt.savefig(outdir+_id+\"_read_lenght.tiff\")"
   ]
  },
  {
   "cell_type": "code",
   "execution_count": null,
   "metadata": {
    "collapsed": false
   },
   "outputs": [],
   "source": [
    "poretools_df.iloc[:,2].mean()"
   ]
  },
  {
   "cell_type": "code",
   "execution_count": null,
   "metadata": {
    "collapsed": false
   },
   "outputs": [],
   "source": [
    "poretools_df.iloc[:,2].median()"
   ]
  },
  {
   "cell_type": "code",
   "execution_count": null,
   "metadata": {
    "collapsed": false
   },
   "outputs": [],
   "source": [
    "poretools_df.iloc[:,2].sum()"
   ]
  },
  {
   "cell_type": "code",
   "execution_count": null,
   "metadata": {
    "collapsed": false
   },
   "outputs": [],
   "source": [
    "poretools_df.iloc[:,2].max()"
   ]
  },
  {
   "cell_type": "code",
   "execution_count": null,
   "metadata": {
    "collapsed": false
   },
   "outputs": [],
   "source": [
    "!/Users/ben/.conda/envs/poretools/bin/python ../../nanopore-scripts/expand-cigar.py --bam v91_cns_gcoords_cur_ph_ctg.29092016_M.poretools.cbbu.pass.group1.sorted.bam --fasta v91_cns_gcoords_curs_ph_ctg.fa >  v91_cns_gcoords_cur_ph_ctg.29092016_M.poretools.cbbu.pass.group1.sorted.expanded.bam   "
   ]
  },
  {
   "cell_type": "code",
   "execution_count": null,
   "metadata": {
    "collapsed": false
   },
   "outputs": [],
   "source": [
    "!which python"
   ]
  },
  {
   "cell_type": "code",
   "execution_count": null,
   "metadata": {
    "collapsed": false
   },
   "outputs": [],
   "source": [
    "!/Users/ben/.conda/envs/poretools/bin/python ../../nanopore-scripts_BS/count_errors_BS.py v91_cns_gcoords_cur_ph_ctg.29092016_M.poretools.cbbu.pass.group1.sorted.expanded.bam > v91_cns_gcoords_cur_ph_ctg.29092016_M.poretools.cbbu.pass.group1.error_profile.txt    "
   ]
  },
  {
   "cell_type": "code",
   "execution_count": null,
   "metadata": {
    "collapsed": false
   },
   "outputs": [],
   "source": [
    "error_df  = pd.read_csv('v91_cns_gcoords_cur_ph_ctg.'+_id+'error_profile.txt', sep='\\t')"
   ]
  },
  {
   "cell_type": "code",
   "execution_count": null,
   "metadata": {
    "collapsed": false
   },
   "outputs": [],
   "source": [
    "error_g20_df[error_g20_df['read_len'] > 50000]"
   ]
  },
  {
   "cell_type": "code",
   "execution_count": null,
   "metadata": {
    "collapsed": false
   },
   "outputs": [],
   "source": [
    "error_df.head()"
   ]
  },
  {
   "cell_type": "code",
   "execution_count": null,
   "metadata": {
    "collapsed": true
   },
   "outputs": [],
   "source": [
    "error_df[\"%Identity\"] = (error_df['matches']/(error_df['matches']+error_df['deletions']+error_df['insertions']+error_df['mismatches'])*100)"
   ]
  },
  {
   "cell_type": "code",
   "execution_count": null,
   "metadata": {
    "collapsed": false
   },
   "outputs": [],
   "source": [
    "error_df['%Identity'].hist(bins=30)\n",
    "plt.xlim(20,100)"
   ]
  },
  {
   "cell_type": "code",
   "execution_count": null,
   "metadata": {
    "collapsed": false
   },
   "outputs": [],
   "source": [
    "error_df['%Identity'].median()"
   ]
  },
  {
   "cell_type": "code",
   "execution_count": null,
   "metadata": {
    "collapsed": false
   },
   "outputs": [],
   "source": [
    "error_df.count()"
   ]
  },
  {
   "cell_type": "code",
   "execution_count": null,
   "metadata": {
    "collapsed": false
   },
   "outputs": [],
   "source": [
    "error_df['%Identity'].mean()"
   ]
  },
  {
   "cell_type": "code",
   "execution_count": null,
   "metadata": {
    "collapsed": false
   },
   "outputs": [],
   "source": [
    "error_g20_df = error_df[error_df['%Identity'] > 20]"
   ]
  },
  {
   "cell_type": "code",
   "execution_count": null,
   "metadata": {
    "collapsed": false
   },
   "outputs": [],
   "source": [
    "error_g20_df['%Identity'].median()"
   ]
  },
  {
   "cell_type": "code",
   "execution_count": null,
   "metadata": {
    "collapsed": false
   },
   "outputs": [],
   "source": [
    "error_g20_df['%Identity'].mean()"
   ]
  },
  {
   "cell_type": "code",
   "execution_count": null,
   "metadata": {
    "collapsed": false
   },
   "outputs": [],
   "source": [
    "error_g20_df['%Identity'].hist(bins=30)\n",
    "plt.xlabel('%Identity')\n",
    "plt.ylabel('Count')\n",
    "plt.title('1D error rate Metichor calling')\n",
    "plt.savefig(outdir+_id+'1D_error_rate.tiff')"
   ]
  },
  {
   "cell_type": "code",
   "execution_count": null,
   "metadata": {
    "collapsed": false
   },
   "outputs": [],
   "source": [
    "error_g20_df['%Identity'].count()"
   ]
  },
  {
   "cell_type": "code",
   "execution_count": null,
   "metadata": {
    "collapsed": false
   },
   "outputs": [],
   "source": [
    "poretools_df[1].count()"
   ]
  },
  {
   "cell_type": "code",
   "execution_count": null,
   "metadata": {
    "collapsed": true
   },
   "outputs": [],
   "source": [
    "pc_mapping = error_g20_df['%Identity'].count()/poretools_df[1].count()*100"
   ]
  },
  {
   "cell_type": "code",
   "execution_count": null,
   "metadata": {
    "collapsed": false
   },
   "outputs": [],
   "source": [
    "pc_mapping"
   ]
  },
  {
   "cell_type": "code",
   "execution_count": null,
   "metadata": {
    "collapsed": false
   },
   "outputs": [],
   "source": [
    "error_g20_df['read_len'].max()"
   ]
  },
  {
   "cell_type": "code",
   "execution_count": null,
   "metadata": {
    "collapsed": false
   },
   "outputs": [],
   "source": [
    "plt.scatter(error_g20_df['read_len'], error_g20_df['%Identity'])\n",
    "plt.xlim(0,error_g20_df['read_len'].max()+10000)\n",
    "plt.xlabel('read_length')\n",
    "plt.ylabel('%Identity')\n",
    "plt.title('1D error rate Metichor calling')\n",
    "plt.xticks(np.arange(0,error_g20_df['read_len'].max()+10000,20000))\n",
    "plt.savefig(outdir+_id+'1D_error_rate_v2.tiff')"
   ]
  },
  {
   "cell_type": "code",
   "execution_count": null,
   "metadata": {
    "collapsed": false
   },
   "outputs": [],
   "source": [
    "error_g20_df['read_len'].hist(bins=20)\n",
    "plt.xlabel('read_length')\n",
    "plt.ylabel('count')"
   ]
  },
  {
   "cell_type": "code",
   "execution_count": null,
   "metadata": {
    "collapsed": false
   },
   "outputs": [],
   "source": [
    "error_g20_df['read_len'].mean()"
   ]
  },
  {
   "cell_type": "code",
   "execution_count": null,
   "metadata": {
    "collapsed": false
   },
   "outputs": [],
   "source": [
    "error_g20_df['read_len'].median()"
   ]
  },
  {
   "cell_type": "code",
   "execution_count": null,
   "metadata": {
    "collapsed": true
   },
   "outputs": [],
   "source": []
  }
 ],
 "metadata": {
  "anaconda-cloud": {},
  "kernelspec": {
   "display_name": "Python [conda root]",
   "language": "python",
   "name": "conda-root-py"
  },
  "language_info": {
   "codemirror_mode": {
    "name": "ipython",
    "version": 3
   },
   "file_extension": ".py",
   "mimetype": "text/x-python",
   "name": "python",
   "nbconvert_exporter": "python",
   "pygments_lexer": "ipython3",
   "version": "3.5.2"
  }
 },
 "nbformat": 4,
 "nbformat_minor": 0
}
