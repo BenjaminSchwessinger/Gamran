{
 "cells": [
  {
   "cell_type": "code",
   "execution_count": null,
   "metadata": {
    "collapsed": true
   },
   "outputs": [],
   "source": [
    "# PLAN #\n",
    "\n",
    "# Dont use BASH, keep everything to Python! For separating BC01-BC06 and others, do it later in the dataframe.\n",
    "\n",
    "# 2) Reads per barcode for BC01-BC06 and the others - use graphs already constructed by Ben? \n",
    "# Separate graphs for BC01-BC06 and the others"
   ]
  },
  {
   "cell_type": "code",
   "execution_count": null,
   "metadata": {
    "collapsed": true
   },
   "outputs": [],
   "source": []
  },
  {
   "cell_type": "code",
   "execution_count": null,
   "metadata": {
    "collapsed": true
   },
   "outputs": [],
   "source": [
    "### SETTING UP THE DATAFRAME ###"
   ]
  },
  {
   "cell_type": "code",
   "execution_count": 1,
   "metadata": {
    "collapsed": false
   },
   "outputs": [],
   "source": [
    "#Import necessary modules\n",
    "%matplotlib inline\n",
    "import numpy as np\n",
    "import matplotlib.pyplot as plt\n",
    "import matplotlib\n",
    "import os\n",
    "import pandas as pd\n",
    "from Bio import SeqIO"
   ]
  },
  {
   "cell_type": "code",
   "execution_count": 2,
   "metadata": {
    "collapsed": false
   },
   "outputs": [
    {
     "data": {
      "text/plain": [
       "'.'"
      ]
     },
     "execution_count": 2,
     "metadata": {},
     "output_type": "execute_result"
    }
   ],
   "source": [
    "#Changing working directory to location of fasta files (data directory)\n",
    "os.chdir('/home/gamran/data/')\n",
    "outdir = '/home/gamran/analysis/'\n",
    "os.curdir"
   ]
  },
  {
   "cell_type": "code",
   "execution_count": 648,
   "metadata": {
    "collapsed": false
   },
   "outputs": [
    {
     "data": {
      "text/plain": [
       "'1212_1D_barcoding_Wagga_BC01.WW_19122016.noblasthit.fa'"
      ]
     },
     "execution_count": 648,
     "metadata": {},
     "output_type": "execute_result"
    }
   ],
   "source": []
  },
  {
   "cell_type": "code",
   "execution_count": 3,
   "metadata": {
    "collapsed": false
   },
   "outputs": [
    {
     "name": "stdout",
     "output_type": "stream",
     "text": [
      "thit\n"
     ]
    }
   ],
   "source": [
    "#Produces list of files in data directory as strings, assigns to list_names\n",
    "file_names = [x for x in os.walk('.', topdown=False)][1][2]\n",
    "file_names.sort()\n",
    "\n",
    "#Make a list of all available barcodes, based on directory names\n",
    "file_names_barcodelist = []\n",
    "for bcs in range(1, len(file_names)):\n",
    "    file_names_barcodelist.append(file_names[bcs][-7:-3]) #Convert to a search parameter?\n",
    "\n",
    "print(file_names[1][-7:-3])  \n",
    "#print(file_names_barcodelist)\n",
    "\n",
    "#CODE A WAY TO EXCLUDE THIT (BESTHIT)"
   ]
  },
  {
   "cell_type": "code",
   "execution_count": 610,
   "metadata": {
    "collapsed": true
   },
   "outputs": [],
   "source": [
    "#Create categories for 'all barcodes', 'good barcodes' and 'bad barcodes'\n",
    "all_barcodes_set = set(file_names_barcodelist)\n",
    "all_barcodes = sorted(list(all_barcodes_set))\n",
    "\n",
    "good_barcodes_set = set(['BC01', 'BC02', 'BC03', 'BC04', 'BC05', 'BC06'])\n",
    "good_barcodes = sorted(list(good_barcodes_set))\n",
    "\n",
    "bad_barcodes_set = all_barcodes_set - good_barcodes_set\n",
    "bad_barcodes = sorted(list(bad_barcodes_set))\n",
    "bad_barcodes_BC00 = [x for x in bad_barcodes if 'BC' in x]\n",
    "bad_barcodes_NB00 = [x for x in bad_barcodes if 'NB' in x]"
   ]
  },
  {
   "cell_type": "code",
   "execution_count": 612,
   "metadata": {
    "collapsed": true
   },
   "outputs": [],
   "source": [
    "#Create text file to summarise read_id, barcode and length of each fasta file for pandas\n",
    "_id = \"12122016_1D_barcoding_Wagga.\"\n",
    "length_file = _id + \"lengths.txt\"\n",
    "lengths = open(length_file, \"w\")\n",
    "print(\"Read_id,Barcode,Length,GoodorBad\", file=lengths)\n",
    "\n",
    "for fa_file in file_names: #file_names had the list of all the barcode fasta file names\n",
    "    for seq in SeqIO.parse(open(fa_file), 'fasta'):\n",
    "        if fa_file[-7:-3] == 'thit':  #CHECK THIS FOR GENERALISATION! HOW TO REMOVE READ DUPLICATES FROM FOLDER\n",
    "            continue\n",
    "        if fa_file[-7:-3] in good_barcodes:\n",
    "            print(seq.id + \",\" + fa_file[-7:-3] + \",\" + str(len(seq)) + \",\" + 'Good', file=lengths)\n",
    "        if fa_file[-7:-3] in bad_barcodes_BC00:\n",
    "            print(seq.id + \",\" + fa_file[-7:-3] + \",\" + str(len(seq)) + \",\" + 'Bad-BC', file=lengths)\n",
    "        if fa_file[-7:-3] in bad_barcodes_NB00:\n",
    "            print(seq.id + \",\" + fa_file[-7:-3] + \",\" + str(len(seq)) + \",\" + 'Bad-NB', file=lengths)\n",
    "lengths.close()"
   ]
  },
  {
   "cell_type": "code",
   "execution_count": 613,
   "metadata": {
    "collapsed": false
   },
   "outputs": [],
   "source": [
    "# Formatting for the dataframe plots\n",
    "font = {'family' : 'serif',\n",
    "        'weight' : 'bold',\n",
    "        'size'   : 12}\n",
    "matplotlib.rc('font', **font) #changes font of the plot\n",
    "label_config_x = {'fontsize': 'large',\n",
    "      'verticalalignment'   : 'top',\n",
    "      'horizontalalignment' : 'center'}\n",
    "label_config_y = {'fontsize': 'large',\n",
    "      'verticalalignment'   : 'bottom',\n",
    "      'horizontalalignment' : 'center'}"
   ]
  },
  {
   "cell_type": "code",
   "execution_count": 614,
   "metadata": {
    "collapsed": false
   },
   "outputs": [],
   "source": [
    "poretools_df = pd.read_csv(length_file)\n",
    "#poretools_df.head()\n",
    "#imports summary .txt file as a .csv file, labelled as poretools dataframe"
   ]
  },
  {
   "cell_type": "code",
   "execution_count": null,
   "metadata": {
    "collapsed": true
   },
   "outputs": [],
   "source": []
  },
  {
   "cell_type": "code",
   "execution_count": null,
   "metadata": {
    "collapsed": true
   },
   "outputs": [],
   "source": [
    "### DATAFRAME ANALYSIS - TABLE OF SUMMARY DATA ###"
   ]
  },
  {
   "cell_type": "code",
   "execution_count": 618,
   "metadata": {
    "collapsed": false
   },
   "outputs": [
    {
     "name": "stdout",
     "output_type": "stream",
     "text": [
      "Barcode:       No of Reads:  Total Length (Mbp):  Max Length (bp):  Mean Length (bp):  Median Length (bp):\n",
      "-------  ---  ------------  -------------------  ----------------  -----------------  -------------------\n",
      "BC01     ---         18266               18.606             11819               1018                  693\n",
      "BC02     ---        115781              191.952             21396               1657                 1270\n",
      "BC03     ---         41798               68.821             13611               1646                 1256\n",
      "BC04     ---        147695              267.731             21168               1812                 1462\n",
      "BC05     ---         88410              154.332             22870               1745                 1351\n",
      "BC06     ---        112065               140.44             16977               1253                  936\n",
      "-------  ---  ------------  -------------------  ----------------  -----------------  -------------------\n",
      "BC00     ---          3057                5.068             11442               1657                 1240\n",
      "NB00     ---          5961                3.614             12254                606                  480\n",
      "-------  ---  ------------  -------------------  ----------------  -----------------  -------------------\n",
      "All      ---        533033              850.564             22870               1595                 1228\n"
     ]
    }
   ],
   "source": [
    "### Shows number of reads, sum, mean and median of read lengths, per good barcode ###\n",
    "\n",
    "#Defines table layout for summary data\n",
    "layout = \"{0:<7}{1:^7}{2:>12}{3:>21}{4:>18}{5:>19}{6:>21}\"\n",
    "print(layout.format(\"Barcode:\", \"   \", \"No of Reads:\", \"Total Length (Mbp):\", \"Max Length (bp):\", \"Mean Length (bp):\", \"Median Length (bp):\"))\n",
    "print(layout.format(\"-------\", \"---\", \"------------\", \"-------------------\",  \"----------------\", \"-----------------\", \"-------------------\"))\n",
    "\n",
    "#Print summary data for good barcodes individually\n",
    "for bcs in good_barcodes:\n",
    "    ind_good_barcodes_count = poretools_df.loc[poretools_df['Barcode'] == bcs]['Length'].count()\n",
    "    ind_good_barcodes_sum = int(poretools_df.loc[poretools_df['Barcode'] == bcs]['Length'].sum()) / 1000000\n",
    "    ind_good_barcodes_max = int(poretools_df.loc[poretools_df['Barcode'] == bcs]['Length'].max())\n",
    "    ind_good_barcodes_mean = int(poretools_df.loc[poretools_df['Barcode'] == bcs]['Length'].mean())\n",
    "    ind_good_barcodes_median = int(poretools_df.loc[poretools_df['Barcode'] == bcs]['Length'].median())\n",
    "    print(layout.format(bcs, \"---\", ind_good_barcodes_count, float(\"{0:.3f}\".format(ind_good_barcodes_sum)), ind_good_barcodes_max, ind_good_barcodes_mean, ind_good_barcodes_median))\n",
    "\n",
    "#DEFINE summary data for good barcodes collectively\n",
    "good_barcodes_count = poretools_df.loc[poretools_df['GoodorBad'] == 'Good']['Length'].count()\n",
    "good_barcodes_sum = int(poretools_df.loc[poretools_df['GoodorBad'] == 'Good']['Length'].sum()) / 1000000\n",
    "good_barcodes_max = int(poretools_df.loc[poretools_df['GoodorBad'] == 'Good']['Length'].max())\n",
    "good_barcodes_mean = int(poretools_df.loc[poretools_df['GoodorBad'] == 'Good']['Length'].mean())\n",
    "good_barcodes_median = int(poretools_df.loc[poretools_df['GoodorBad'] == 'Good']['Length'].median())    \n",
    "\n",
    "print(layout.format(\"-------\", \"---\", \"------------\", \"-------------------\",  \"----------------\", \"-----------------\", \"-------------------\"))\n",
    "\n",
    "#Print summary data for BC bad barcodes collectively as 'BC00'\n",
    "bad_barcodes_BC_count = poretools_df.loc[poretools_df['GoodorBad'] == 'Bad-BC']['Length'].count()\n",
    "bad_barcodes_BC_sum = int(poretools_df.loc[poretools_df['GoodorBad'] == 'Bad-BC']['Length'].sum()) / 1000000\n",
    "bad_barcodes_BC_max = int(poretools_df.loc[poretools_df['GoodorBad'] == 'Bad-BC']['Length'].max())\n",
    "bad_barcodes_BC_mean = int(poretools_df.loc[poretools_df['GoodorBad'] == 'Bad-BC']['Length'].mean())\n",
    "bad_barcodes_BC_median = int(poretools_df.loc[poretools_df['GoodorBad'] == 'Bad-BC']['Length'].median())\n",
    "print(layout.format(\"BC00\", \"---\", bad_barcodes_BC_count, float(\"{0:.3f}\".format(bad_barcodes_BC_sum)), bad_barcodes_BC_max, bad_barcodes_BC_mean, bad_barcodes_BC_median))\n",
    "\n",
    "#Print summary data for NB bad barcodes collectively as 'NB00'\n",
    "bad_barcodes_NB_count = poretools_df.loc[poretools_df['GoodorBad'] == 'Bad-NB']['Length'].count()\n",
    "bad_barcodes_NB_sum = int(poretools_df.loc[poretools_df['GoodorBad'] == 'Bad-NB']['Length'].sum()) / 1000000\n",
    "bad_barcodes_NB_max = int(poretools_df.loc[poretools_df['GoodorBad'] == 'Bad-NB']['Length'].max())\n",
    "bad_barcodes_NB_mean = int(poretools_df.loc[poretools_df['GoodorBad'] == 'Bad-NB']['Length'].mean())\n",
    "bad_barcodes_NB_median = int(poretools_df.loc[poretools_df['GoodorBad'] == 'Bad-NB']['Length'].median())\n",
    "print(layout.format(\"NB00\", \"---\", bad_barcodes_NB_count, float(\"{0:.3f}\".format(bad_barcodes_NB_sum)), bad_barcodes_NB_max, bad_barcodes_NB_mean, bad_barcodes_NB_median))\n",
    "\n",
    "print(layout.format(\"-------\", \"---\", \"------------\", \"-------------------\",  \"----------------\", \"-----------------\", \"-------------------\"))\n",
    "\n",
    "#Print summary data for all barcodes collectively as 'All'\n",
    "all_barcodes_count = poretools_df['Length'].count()\n",
    "all_barcodes_sum = int(poretools_df['Length'].sum()) / 1000000\n",
    "all_barcodes_max = int(poretools_df['Length'].max())\n",
    "all_barcodes_mean = int(poretools_df['Length'].mean())\n",
    "all_barcodes_median = int(poretools_df['Length'].median())\n",
    "print(layout.format(\"All\", \"---\", all_barcodes_count, float(\"{0:.3f}\".format(all_barcodes_sum)), all_barcodes_max, all_barcodes_mean, all_barcodes_median))\n"
   ]
  },
  {
   "cell_type": "code",
   "execution_count": null,
   "metadata": {
    "collapsed": true
   },
   "outputs": [],
   "source": []
  },
  {
   "cell_type": "code",
   "execution_count": null,
   "metadata": {
    "collapsed": true
   },
   "outputs": [],
   "source": [
    "### DATAFRAME ANALYSIS - HISTOGRAMS OF SUMMARY DATA ###\n",
    "\n",
    "#Get to show number of reads and total length printed on graph\n",
    "#Get colour legends for specific barcodes in grouped graphs"
   ]
  },
  {
   "cell_type": "code",
   "execution_count": null,
   "metadata": {
    "collapsed": true
   },
   "outputs": [],
   "source": []
  },
  {
   "cell_type": "code",
   "execution_count": 619,
   "metadata": {
    "collapsed": false
   },
   "outputs": [
    {
     "data": {
      "text/plain": [
       "<matplotlib.text.Annotation at 0x7fe68c021828>"
      ]
     },
     "execution_count": 619,
     "metadata": {},
     "output_type": "execute_result"
    },
    {
     "data": {
      "image/png": "[encoded data removed]",
      "text/plain": [
       "<matplotlib.figure.Figure at 0x7fe68c0db4a8>"
      ]
     },
     "metadata": {},
     "output_type": "display_data"
    }
   ],
   "source": [
    "#Histogram of read length distribution for all barcodes together\n",
    "plt.figure(figsize=(12,8))\n",
    "poretools_df['Length'].hist(bins=30)\n",
    "plt.title('Distribution of Read Lengths - ' + _id + 'Pass')\n",
    "\n",
    "plt.xlabel('Read Length')\n",
    "plt.xticks(np.arange(0, poretools_df['Length'].max()+1, 2000))\n",
    "plt.xlim([-1000, poretools_df['Length'].max()+1000])\n",
    "\n",
    "plt.ylabel('Read Count')\n",
    "\n",
    "plt.annotate('Number of Reads = ' + str(all_barcodes_count), xy=(1, 1), xycoords='axes fraction', fontsize=16,\n",
    "                xytext=(-20, -30), textcoords='offset points', ha='right', va='top')\n",
    "plt.annotate('Total Length (Mbp) = ' + str(float(\"{0:.3f}\".format(all_barcodes_sum))), xy=(1, 1), xycoords='axes fraction', fontsize=16,\n",
    "                xytext=(-20, -60), textcoords='offset points', ha='right', va='top')"
   ]
  },
  {
   "cell_type": "code",
   "execution_count": 620,
   "metadata": {
    "collapsed": false
   },
   "outputs": [
    {
     "data": {
      "text/plain": [
       "<matplotlib.text.Annotation at 0x7fe68bf7acc0>"
      ]
     },
     "execution_count": 620,
     "metadata": {},
     "output_type": "execute_result"
    },
    {
     "data": {
      "image/png": "[encoded data removed]",
      "text/plain": [
       "<matplotlib.figure.Figure at 0x7fe68c0214a8>"
      ]
     },
     "metadata": {},
     "output_type": "display_data"
    }
   ],
   "source": [
    "#Histogram of read length distribution for BC01 - BC06, together\n",
    "plt.figure(figsize=(12,8))\n",
    "poretools_df.loc[poretools_df['GoodorBad'] == 'Good']['Length'].hist(bins=30)\n",
    "\n",
    "plt.title('Distribution of Read Lengths - ' + _id + 'Pass')\n",
    "\n",
    "plt.xlabel('Read Length')\n",
    "plt.xticks(np.arange(0, poretools_df['Length'].max()+1, 2000))\n",
    "plt.xlim([-1000, poretools_df['Length'].max()+1000])\n",
    "\n",
    "plt.ylabel('Read Count')\n",
    "\n",
    "plt.annotate('Number of Reads = ' + str(good_barcodes_count), xy=(1, 1), xycoords='axes fraction', fontsize=16,\n",
    "                xytext=(-20, -30), textcoords='offset points', ha='right', va='top')\n",
    "plt.annotate('Total Length (Mbp) = ' + str(float(\"{0:.3f}\".format(good_barcodes_sum))), xy=(1, 1), xycoords='axes fraction', fontsize=16,\n",
    "                xytext=(-20, -60), textcoords='offset points', ha='right', va='top')"
   ]
  },
  {
   "cell_type": "code",
   "execution_count": 621,
   "metadata": {
    "collapsed": false
   },
   "outputs": [
    {
     "data": {
      "text/plain": [
       "<matplotlib.text.Annotation at 0x7fe68bcb0c50>"
      ]
     },
     "execution_count": 621,
     "metadata": {},
     "output_type": "execute_result"
    },
    {
     "data": {
      "image/png": "[encoded data removed]",
      "text/plain": [
       "<matplotlib.figure.Figure at 0x7fe68bf74cf8>"
      ]
     },
     "metadata": {},
     "output_type": "display_data"
    }
   ],
   "source": [
    "#Histogram of read length distribution for BC01 - BC06 grouped\n",
    "plt.figure(figsize=(12,8))\n",
    "\n",
    "for bcs in good_barcodes:\n",
    "    poretools_df.groupby('Barcode')['Length'].get_group(bcs).hist(bins=30, alpha=0.6) #Three separate modules being used in the same line!\n",
    "\n",
    "plt.title('Read Length Distribution for ' + bcs + ' ' + _id + 'Pass')\n",
    "\n",
    "plt.xlabel('Read Length')\n",
    "plt.xticks(np.arange(0, poretools_df['Length'].max()+1, 2000))\n",
    "plt.xlim([-1000, poretools_df['Length'].max()+1000])\n",
    "\n",
    "plt.ylabel('Read Count')\n",
    "\n",
    "plt.annotate('Number of Reads = ' + str(good_barcodes_count), xy=(1, 1), xycoords='axes fraction', fontsize=16,\n",
    "                xytext=(-20, -30), textcoords='offset points', ha='right', va='top')\n",
    "plt.annotate('Total Length (Mbp) = ' + str(float(\"{0:.3f}\".format(good_barcodes_sum))), xy=(1, 1), xycoords='axes fraction', fontsize=16,\n",
    "                xytext=(-20, -60), textcoords='offset points', ha='right', va='top')"
   ]
  },
  {
   "cell_type": "code",
   "execution_count": 622,
   "metadata": {
    "collapsed": false
   },
   "outputs": [
    {
     "data": {
      "image/png": "[encoded data removed]",
      "text/plain": [
       "<matplotlib.figure.Figure at 0x7fe68bca75f8>"
      ]
     },
     "metadata": {},
     "output_type": "display_data"
    }
   ],
   "source": [
    "#Histograms of read length distribution for BC01 - BC06, separately\n",
    "fig = plt.figure(figsize=(18,8))\n",
    "ax1 = fig.add_subplot(3, 2, 1)\n",
    "ax2 = fig.add_subplot(3, 2, 2)\n",
    "ax3 = fig.add_subplot(3, 2, 3)\n",
    "ax4 = fig.add_subplot(3, 2, 4)\n",
    "ax5 = fig.add_subplot(3, 2, 5)\n",
    "ax6 = fig.add_subplot(3, 2, 6)\n",
    "xmax = int(poretools_df['Length'].max())\n",
    "\n",
    "grouped = poretools_df.groupby('Barcode')  # CHECK THIS FOR SCALABILITY, NOT ENTIRELY SURE WHAT THIS DOES\n",
    "max_count_list = []\n",
    "for key in grouped.groups.keys():\n",
    "    max_count_list.append(np.histogram(grouped.Length.get_group(key), 50)[0].max())\n",
    "max_count_list.sort()\n",
    "\n",
    "def applyPlotStyle(ax, bcs):\n",
    "    ax.set_title(bcs)\n",
    "    ax.set_xlabel('Read Length')\n",
    "    ax.set_ylabel('Read Count');\n",
    "    ax.set_xlim([-1000, poretools_df['Length'].max()+1000])\n",
    "    ax.set_xticks(np.arange(0, xmax+1, 2000))\n",
    "    ax.set_ylim(0, max_count_list[-1]*(3/2))\n",
    "    ax.grid(True, which='Major')\n",
    "    ax.annotate('Number of Reads = ' + str(poretools_df.loc[poretools_df['Barcode'] == bcs]['Length'].count()), \n",
    "             xy=(1, 1), xycoords='axes fraction', fontsize=16, xytext=(-20, -30), textcoords='offset points', \n",
    "             ha='right', va='top')\n",
    "    ax.annotate('Total Length (Mbp) = ' + str(float(\"{0:.3f}\".format(poretools_df.loc[poretools_df['Barcode'] == bcs]['Length'].sum() / 1000000))), \n",
    "             xy=(1, 1), xycoords='axes fraction', fontsize=16, \n",
    "             xytext=(-20, -60), textcoords='offset points', ha='right', va='top')\n",
    "    \n",
    "ax1.hist(poretools_df.groupby('Barcode')['Length'].get_group('BC01'), bins=range(0, xmax, int(xmax/60)), color='green', alpha=0.8)\n",
    "applyPlotStyle(ax1, 'BC01')\n",
    "\n",
    "ax2.hist(poretools_df.groupby('Barcode')['Length'].get_group('BC02'), bins=range(0, xmax, int(xmax/60)), color='green', alpha=0.8)\n",
    "applyPlotStyle(ax2, 'BC02')\n",
    "\n",
    "ax3.hist(poretools_df.groupby('Barcode')['Length'].get_group('BC03'), bins=range(0, xmax, int(xmax/60)), color='green', alpha=0.8)\n",
    "applyPlotStyle(ax3, 'BC03')\n",
    "\n",
    "ax4.hist(poretools_df.groupby('Barcode')['Length'].get_group('BC04'), bins=range(0, xmax, int(xmax/60)), color='green', alpha=0.8)\n",
    "applyPlotStyle(ax4, 'BC04')\n",
    "\n",
    "ax5.hist(poretools_df.groupby('Barcode')['Length'].get_group('BC05'), bins=range(0, xmax, int(xmax/60)), color='green', alpha=0.8)\n",
    "applyPlotStyle(ax5, 'BC05')\n",
    "\n",
    "ax6.hist(poretools_df.groupby('Barcode')['Length'].get_group('BC06'), bins=range(0, xmax, int(xmax/60)), color='green', alpha=0.8)\n",
    "applyPlotStyle(ax6, 'BC06')\n",
    "\n",
    "plt.tight_layout()\n",
    "plt.show()"
   ]
  },
  {
   "cell_type": "code",
   "execution_count": 636,
   "metadata": {
    "collapsed": false
   },
   "outputs": [
    {
     "data": {
      "text/plain": [
       "<matplotlib.text.Text at 0x7fe68bb85b70>"
      ]
     },
     "execution_count": 636,
     "metadata": {},
     "output_type": "execute_result"
    },
    {
     "data": {
      "image/png": "[encoded data removed]",
      "text/plain": [
       "<matplotlib.figure.Figure at 0x7fe68bde8588>"
      ]
     },
     "metadata": {},
     "output_type": "display_data"
    }
   ],
   "source": [
    "#Histogram of read length distribution for BC07 - NB12 together\n",
    "plt.figure(figsize=(12,8))\n",
    "poretools_df.loc[poretools_df['GoodorBad'] != 'Good']['Length'].hist(bins=30)\n",
    "\n",
    "plt.title('Distribution of Read Lengths - ' + _id + 'Pass')\n",
    "\n",
    "plt.xlabel('Read Length')\n",
    "plt.xticks(np.arange(0, poretools_df['Length'].max()+1, 2000))\n",
    "plt.xlim([-1000, poretools_df['Length'].max()+1000])\n",
    "\n",
    "plt.ylabel('Read Count')"
   ]
  },
  {
   "cell_type": "code",
   "execution_count": 642,
   "metadata": {
    "collapsed": false
   },
   "outputs": [
    {
     "data": {
      "text/plain": [
       "<matplotlib.text.Text at 0x7fe68703e710>"
      ]
     },
     "execution_count": 642,
     "metadata": {},
     "output_type": "execute_result"
    },
    {
     "data": {
      "image/png": "[encoded data removed]",
      "text/plain": [
       "<matplotlib.figure.Figure at 0x7fe68b0d92b0>"
      ]
     },
     "metadata": {},
     "output_type": "display_data"
    }
   ],
   "source": [
    "#Histogram of read length distribution for BC07 - NB12, grouped\n",
    "plt.figure(figsize=(12,8))\n",
    "    \n",
    "for bcs in bad_barcodes_BC00:\n",
    "    poretools_df.groupby('Barcode')['Length'].get_group(bcs).hist(bins=30) #Three separate modules being used in the same line!\n",
    "for bcs in bad_barcodes_NB00:\n",
    "    poretools_df.groupby('Barcode')['Length'].get_group(bcs).hist(bins=30) #Three separate modules being used in the same line!\n",
    "\n",
    "plt.title('Read Length Distribution for BC07 - NB12 ' + _id + 'Pass')\n",
    "\n",
    "plt.xlabel('Read Length')\n",
    "plt.xticks(np.arange(0, poretools_df['Length'].max()+1, 2000))\n",
    "plt.xlim([-1000, poretools_df['Length'].max()+1000])\n",
    "\n",
    "plt.ylabel('Read Count')\n",
    "\n",
    "# THIT IS COMING UP, WHY?"
   ]
  },
  {
   "cell_type": "code",
   "execution_count": null,
   "metadata": {
    "collapsed": false
   },
   "outputs": [],
   "source": []
  },
  {
   "cell_type": "code",
   "execution_count": null,
   "metadata": {
    "collapsed": true
   },
   "outputs": [],
   "source": [
    "### BLAST SEARCH ### - WIP!"
   ]
  },
  {
   "cell_type": "code",
   "execution_count": null,
   "metadata": {
    "collapsed": true
   },
   "outputs": [],
   "source": [
    "#>>> from Bio.Blast import NCBIWWW\n",
    "#>>> fasta_string = open(\"m_cold.fasta\").read()\n",
    "#>>> result_handle = NCBIWWW.qblast(\"blastn\", \"nt\", fasta_string)\n",
    "\n",
    "#>>> save_file = open(\"my_blast.xml\", \"w\")\n",
    "#>>> save_file.write(result_handle.read())\n",
    "#>>> save_file.close()\n",
    "#>>> result_handle.close()\n",
    "\n",
    "#>>> result_handle = open(\"my_blast.xml\")\n",
    "\n",
    "#>>> from Bio.Blast import NCBIXML\n",
    "#>>> blast_records = NCBIXML.parse(result_handle)\n",
    "#>>> for blast_record in blast_records:\n",
    "#...     # Do something with blast_record"
   ]
  },
  {
   "cell_type": "code",
   "execution_count": null,
   "metadata": {
    "collapsed": true
   },
   "outputs": [],
   "source": []
  },
  {
   "cell_type": "code",
   "execution_count": null,
   "metadata": {
    "collapsed": true
   },
   "outputs": [],
   "source": [
    "### BLAST ANALYSIS ###"
   ]
  },
  {
   "cell_type": "code",
   "execution_count": 16,
   "metadata": {
    "collapsed": false
   },
   "outputs": [
    {
     "data": {
      "text/plain": [
       "'.'"
      ]
     },
     "execution_count": 16,
     "metadata": {},
     "output_type": "execute_result"
    }
   ],
   "source": [
    "#Changing working directory to location of blast files (blast directory)\n",
    "os.chdir('/home/gamran/blast/')\n",
    "outdir = '/home/gamran/analysis/'\n",
    "os.curdir"
   ]
  },
  {
   "cell_type": "code",
   "execution_count": 562,
   "metadata": {
    "collapsed": true
   },
   "outputs": [],
   "source": [
    "#Constructing dataframes for each individual blasted barcode\n",
    "import os\n",
    "blast_input_dir = '/home/gamran/blast'\n",
    "blast_files = os.walk(blast_input_dir, topdown=False)\n",
    "blast_files_in_folder = [x for x in blast_files][1][2]\n",
    "#files_in_folder"
   ]
  },
  {
   "cell_type": "code",
   "execution_count": 563,
   "metadata": {
    "collapsed": true
   },
   "outputs": [
    {
     "name": "stdout",
     "output_type": "stream",
     "text": [
      "BC01\n",
      "BC04\n",
      "BC06\n",
      "BC03\n",
      "BC00\n",
      "BC05\n",
      "BC02\n",
      "NB00\n"
     ]
    }
   ],
   "source": [
    "#Creating a dictionary for blasted barcodes - key: 'barcode', value: related blast dataframe\n",
    "blast_dfs_dict = {}\n",
    "for file_name in blast_files_in_folder:\n",
    "    if '.blast.besthit' in file_name:\n",
    "        key = '' #Safety \n",
    "        key = file_name.split('.')[0][-4:] # Try to make a pattern match, not an index hard code\n",
    "        blast_dfs_dict[key] = pd.read_table(file_name, delim_whitespace=True, \n",
    "                                           names=['qseqid', 'sseqid', 'evalue', 'bitscore', 'length', 'pident', \n",
    "                                           'nident', 'species', 'barcode'])"
   ]
  },
  {
   "cell_type": "code",
   "execution_count": 729,
   "metadata": {
    "collapsed": true
   },
   "outputs": [
    {
     "data": {
      "text/html": [
       "<div>\n",
       "<table border=\"1\" class=\"dataframe\">\n",
       "  <thead>\n",
       "    <tr style=\"text-align: right;\">\n",
       "      <th></th>\n",
       "      <th>qseqid</th>\n",
       "      <th>sseqid</th>\n",
       "      <th>evalue</th>\n",
       "      <th>bitscore</th>\n",
       "      <th>length</th>\n",
       "      <th>pident</th>\n",
       "      <th>nident</th>\n",
       "      <th>species</th>\n",
       "      <th>barcode</th>\n",
       "    </tr>\n",
       "  </thead>\n",
       "  <tbody>\n",
       "    <tr>\n",
       "      <th>0</th>\n",
       "      <td>fff977d4-4c78-448f-8af5-118053cd0b43_Basecall_...</td>\n",
       "      <td>TGACv1_scaffold_392538_5AS</td>\n",
       "      <td>0.000000e+00</td>\n",
       "      <td>2780.0</td>\n",
       "      <td>2912</td>\n",
       "      <td>85.20</td>\n",
       "      <td>2481</td>\n",
       "      <td>Wheat</td>\n",
       "      <td>BC00</td>\n",
       "    </tr>\n",
       "    <tr>\n",
       "      <th>1</th>\n",
       "      <td>575547f6-7183-4de2-ba18-13817fac924f_Basecall_...</td>\n",
       "      <td>TGACv1_scaffold_608741_7DL</td>\n",
       "      <td>0.000000e+00</td>\n",
       "      <td>1727.0</td>\n",
       "      <td>2287</td>\n",
       "      <td>81.94</td>\n",
       "      <td>1874</td>\n",
       "      <td>Wheat</td>\n",
       "      <td>BC00</td>\n",
       "    </tr>\n",
       "    <tr>\n",
       "      <th>2</th>\n",
       "      <td>5720ee3d-91d2-45b7-8337-a107360bea76_Basecall_...</td>\n",
       "      <td>TGACv1_scaffold_224091_3B</td>\n",
       "      <td>0.000000e+00</td>\n",
       "      <td>3321.0</td>\n",
       "      <td>3589</td>\n",
       "      <td>84.73</td>\n",
       "      <td>3041</td>\n",
       "      <td>Wheat</td>\n",
       "      <td>BC00</td>\n",
       "    </tr>\n",
       "    <tr>\n",
       "      <th>3</th>\n",
       "      <td>570047a3-c19c-4b71-8f7d-7f4e0295531d_Basecall_...</td>\n",
       "      <td>TGACv1_scaffold_404662_5BL</td>\n",
       "      <td>4.000000e-148</td>\n",
       "      <td>532.0</td>\n",
       "      <td>646</td>\n",
       "      <td>83.13</td>\n",
       "      <td>537</td>\n",
       "      <td>Wheat</td>\n",
       "      <td>BC00</td>\n",
       "    </tr>\n",
       "    <tr>\n",
       "      <th>4</th>\n",
       "      <td>56f8c484-09d5-4619-b839-0e7ce4198ec2_Basecall_...</td>\n",
       "      <td>TGACv1_scaffold_289620_4AL</td>\n",
       "      <td>0.000000e+00</td>\n",
       "      <td>1376.0</td>\n",
       "      <td>1616</td>\n",
       "      <td>83.91</td>\n",
       "      <td>1356</td>\n",
       "      <td>Wheat</td>\n",
       "      <td>BC00</td>\n",
       "    </tr>\n",
       "    <tr>\n",
       "      <th>5</th>\n",
       "      <td>56f15206-fd25-4e3c-985f-db8a7e3b024b_Basecall_...</td>\n",
       "      <td>TGACv1_scaffold_321360_4BL</td>\n",
       "      <td>0.000000e+00</td>\n",
       "      <td>1173.0</td>\n",
       "      <td>2377</td>\n",
       "      <td>77.70</td>\n",
       "      <td>1847</td>\n",
       "      <td>Wheat</td>\n",
       "      <td>BC00</td>\n",
       "    </tr>\n",
       "    <tr>\n",
       "      <th>6</th>\n",
       "      <td>56d1fd6d-c07b-4f0d-ad6d-48cdbda7a01c_Basecall_...</td>\n",
       "      <td>TGACv1_scaffold_556534_7AL</td>\n",
       "      <td>0.000000e+00</td>\n",
       "      <td>1260.0</td>\n",
       "      <td>1520</td>\n",
       "      <td>83.22</td>\n",
       "      <td>1265</td>\n",
       "      <td>Wheat</td>\n",
       "      <td>BC00</td>\n",
       "    </tr>\n",
       "    <tr>\n",
       "      <th>7</th>\n",
       "      <td>56be2d1e-6315-406e-9df0-299051ce8f8e_Basecall_...</td>\n",
       "      <td>TGACv1_scaffold_577032_7BL</td>\n",
       "      <td>0.000000e+00</td>\n",
       "      <td>983.0</td>\n",
       "      <td>1162</td>\n",
       "      <td>83.65</td>\n",
       "      <td>972</td>\n",
       "      <td>Wheat</td>\n",
       "      <td>BC00</td>\n",
       "    </tr>\n",
       "    <tr>\n",
       "      <th>8</th>\n",
       "      <td>568590bd-78d6-4c6b-bf01-42377a880979_Basecall_...</td>\n",
       "      <td>TGACv1_scaffold_556069_7AL</td>\n",
       "      <td>8.000000e-124</td>\n",
       "      <td>451.0</td>\n",
       "      <td>488</td>\n",
       "      <td>84.63</td>\n",
       "      <td>413</td>\n",
       "      <td>Wheat</td>\n",
       "      <td>BC00</td>\n",
       "    </tr>\n",
       "    <tr>\n",
       "      <th>9</th>\n",
       "      <td>564b2e84-a883-42d8-be2b-621108924af8_Basecall_...</td>\n",
       "      <td>TGACv1_scaffold_250432_3DL</td>\n",
       "      <td>3.000000e-134</td>\n",
       "      <td>486.0</td>\n",
       "      <td>619</td>\n",
       "      <td>82.88</td>\n",
       "      <td>513</td>\n",
       "      <td>Wheat</td>\n",
       "      <td>BC00</td>\n",
       "    </tr>\n",
       "    <tr>\n",
       "      <th>10</th>\n",
       "      <td>5647d1da-f488-45a0-aa65-ae26a50f314d_Basecall_...</td>\n",
       "      <td>TGACv1_scaffold_576868_7BL</td>\n",
       "      <td>0.000000e+00</td>\n",
       "      <td>830.0</td>\n",
       "      <td>812</td>\n",
       "      <td>86.45</td>\n",
       "      <td>702</td>\n",
       "      <td>Wheat</td>\n",
       "      <td>BC00</td>\n",
       "    </tr>\n",
       "    <tr>\n",
       "      <th>11</th>\n",
       "      <td>561f9728-2901-4b60-9f14-40a551d350b0_Basecall_...</td>\n",
       "      <td>TGACv1_scaffold_668119_U</td>\n",
       "      <td>0.000000e+00</td>\n",
       "      <td>1323.0</td>\n",
       "      <td>2149</td>\n",
       "      <td>79.39</td>\n",
       "      <td>1706</td>\n",
       "      <td>Wheat</td>\n",
       "      <td>BC00</td>\n",
       "    </tr>\n",
       "    <tr>\n",
       "      <th>12</th>\n",
       "      <td>561a4a9b-f600-4812-88a2-d1833c737b97_Basecall_...</td>\n",
       "      <td>TGACv1_scaffold_249100_3DL</td>\n",
       "      <td>0.000000e+00</td>\n",
       "      <td>1914.0</td>\n",
       "      <td>3144</td>\n",
       "      <td>79.87</td>\n",
       "      <td>2511</td>\n",
       "      <td>Wheat</td>\n",
       "      <td>BC00</td>\n",
       "    </tr>\n",
       "    <tr>\n",
       "      <th>13</th>\n",
       "      <td>5619ead4-e860-4ccd-a102-9ffc5fd1dfb5_Basecall_...</td>\n",
       "      <td>TGACv1_scaffold_136784_2BL</td>\n",
       "      <td>0.000000e+00</td>\n",
       "      <td>1107.0</td>\n",
       "      <td>1039</td>\n",
       "      <td>87.30</td>\n",
       "      <td>907</td>\n",
       "      <td>Wheat</td>\n",
       "      <td>BC00</td>\n",
       "    </tr>\n",
       "    <tr>\n",
       "      <th>14</th>\n",
       "      <td>55d952eb-1661-4f72-ae14-244d32ccbfbd_Basecall_...</td>\n",
       "      <td>TGACv1_scaffold_307042_4AS</td>\n",
       "      <td>0.000000e+00</td>\n",
       "      <td>686.0</td>\n",
       "      <td>702</td>\n",
       "      <td>85.90</td>\n",
       "      <td>603</td>\n",
       "      <td>Wheat</td>\n",
       "      <td>BC00</td>\n",
       "    </tr>\n",
       "    <tr>\n",
       "      <th>15</th>\n",
       "      <td>55c603af-dc48-43b2-8df9-35bb40f707e7_Basecall_...</td>\n",
       "      <td>TGACv1_scaffold_224127_3B</td>\n",
       "      <td>6.000000e-103</td>\n",
       "      <td>383.0</td>\n",
       "      <td>954</td>\n",
       "      <td>76.31</td>\n",
       "      <td>728</td>\n",
       "      <td>Wheat</td>\n",
       "      <td>BC00</td>\n",
       "    </tr>\n",
       "    <tr>\n",
       "      <th>16</th>\n",
       "      <td>55bf8b90-31fb-4bdf-91a3-f9c8094ad117_Basecall_...</td>\n",
       "      <td>TGACv1_scaffold_146213_2BS</td>\n",
       "      <td>4.000000e-11</td>\n",
       "      <td>78.7</td>\n",
       "      <td>53</td>\n",
       "      <td>94.34</td>\n",
       "      <td>50</td>\n",
       "      <td>Wheat</td>\n",
       "      <td>BC00</td>\n",
       "    </tr>\n",
       "    <tr>\n",
       "      <th>17</th>\n",
       "      <td>55a8c67c-35cd-4866-adf1-bda655ecfd2e_Basecall_...</td>\n",
       "      <td>TGACv1_scaffold_500824_6BL</td>\n",
       "      <td>2.000000e-151</td>\n",
       "      <td>544.0</td>\n",
       "      <td>833</td>\n",
       "      <td>80.67</td>\n",
       "      <td>672</td>\n",
       "      <td>Wheat</td>\n",
       "      <td>BC00</td>\n",
       "    </tr>\n",
       "    <tr>\n",
       "      <th>18</th>\n",
       "      <td>575f8605-32b3-4054-b975-f7a53cda158b_Basecall_...</td>\n",
       "      <td>TGACv1_scaffold_051010_1BS</td>\n",
       "      <td>0.000000e+00</td>\n",
       "      <td>1218.0</td>\n",
       "      <td>1537</td>\n",
       "      <td>82.89</td>\n",
       "      <td>1274</td>\n",
       "      <td>Wheat</td>\n",
       "      <td>BC00</td>\n",
       "    </tr>\n",
       "    <tr>\n",
       "      <th>19</th>\n",
       "      <td>5583c1a9-8a32-4b05-89ba-c2e058c0c6f4_Basecall_...</td>\n",
       "      <td>TGACv1_scaffold_009254_1AL</td>\n",
       "      <td>9.000000e-100</td>\n",
       "      <td>374.0</td>\n",
       "      <td>1285</td>\n",
       "      <td>74.55</td>\n",
       "      <td>958</td>\n",
       "      <td>Wheat</td>\n",
       "      <td>BC00</td>\n",
       "    </tr>\n",
       "    <tr>\n",
       "      <th>20</th>\n",
       "      <td>5797e41e-8c6d-47fe-9fc0-c17994808324_Basecall_...</td>\n",
       "      <td>TGACv1_scaffold_569079_7AS</td>\n",
       "      <td>0.000000e+00</td>\n",
       "      <td>2566.0</td>\n",
       "      <td>2488</td>\n",
       "      <td>86.78</td>\n",
       "      <td>2159</td>\n",
       "      <td>Wheat</td>\n",
       "      <td>BC00</td>\n",
       "    </tr>\n",
       "    <tr>\n",
       "      <th>21</th>\n",
       "      <td>57e420e2-99d1-4272-babe-d170d3cd9410_Basecall_...</td>\n",
       "      <td>TGACv1_scaffold_272001_3DS</td>\n",
       "      <td>0.000000e+00</td>\n",
       "      <td>730.0</td>\n",
       "      <td>1006</td>\n",
       "      <td>81.41</td>\n",
       "      <td>819</td>\n",
       "      <td>Wheat</td>\n",
       "      <td>BC00</td>\n",
       "    </tr>\n",
       "    <tr>\n",
       "      <th>22</th>\n",
       "      <td>5a243f6e-27e2-4f73-88dd-401c6db6b83b_Basecall_...</td>\n",
       "      <td>TGACv1_scaffold_573266_7AS</td>\n",
       "      <td>8.000000e-49</td>\n",
       "      <td>202.0</td>\n",
       "      <td>193</td>\n",
       "      <td>86.53</td>\n",
       "      <td>167</td>\n",
       "      <td>Wheat</td>\n",
       "      <td>BC00</td>\n",
       "    </tr>\n",
       "    <tr>\n",
       "      <th>23</th>\n",
       "      <td>59fca1f8-c1fe-4046-921a-f7e56ad7d583_Basecall_...</td>\n",
       "      <td>TGACv1_scaffold_049238_1BL</td>\n",
       "      <td>1.000000e-98</td>\n",
       "      <td>368.0</td>\n",
       "      <td>520</td>\n",
       "      <td>81.35</td>\n",
       "      <td>423</td>\n",
       "      <td>Wheat</td>\n",
       "      <td>BC00</td>\n",
       "    </tr>\n",
       "    <tr>\n",
       "      <th>24</th>\n",
       "      <td>59eaf177-52b6-4c5d-b66c-7d358c2eb8bf_Basecall_...</td>\n",
       "      <td>TGACv1_scaffold_064974_1DL</td>\n",
       "      <td>1.000000e-87</td>\n",
       "      <td>331.0</td>\n",
       "      <td>411</td>\n",
       "      <td>82.73</td>\n",
       "      <td>340</td>\n",
       "      <td>Wheat</td>\n",
       "      <td>BC00</td>\n",
       "    </tr>\n",
       "    <tr>\n",
       "      <th>25</th>\n",
       "      <td>599df2c2-9308-48eb-bbcf-dc863bf047f4_Basecall_...</td>\n",
       "      <td>TGACv1_scaffold_576913_7BL</td>\n",
       "      <td>0.000000e+00</td>\n",
       "      <td>2122.0</td>\n",
       "      <td>2024</td>\n",
       "      <td>86.81</td>\n",
       "      <td>1757</td>\n",
       "      <td>Wheat</td>\n",
       "      <td>BC00</td>\n",
       "    </tr>\n",
       "    <tr>\n",
       "      <th>26</th>\n",
       "      <td>597458f5-04b5-4a27-813f-ff0c592ec982_Basecall_...</td>\n",
       "      <td>TGACv1_scaffold_355658_4DL</td>\n",
       "      <td>1.000000e-177</td>\n",
       "      <td>630.0</td>\n",
       "      <td>735</td>\n",
       "      <td>83.95</td>\n",
       "      <td>617</td>\n",
       "      <td>Wheat</td>\n",
       "      <td>BC00</td>\n",
       "    </tr>\n",
       "    <tr>\n",
       "      <th>27</th>\n",
       "      <td>59656516-5288-425f-ac71-b21b109244ea_Basecall_...</td>\n",
       "      <td>TGACv1_scaffold_306306_4AS</td>\n",
       "      <td>5.000000e-103</td>\n",
       "      <td>383.0</td>\n",
       "      <td>948</td>\n",
       "      <td>76.79</td>\n",
       "      <td>728</td>\n",
       "      <td>Wheat</td>\n",
       "      <td>BC00</td>\n",
       "    </tr>\n",
       "    <tr>\n",
       "      <th>28</th>\n",
       "      <td>592b505b-a60d-48fb-893c-6ca69e12a701_Basecall_...</td>\n",
       "      <td>TGACv1_scaffold_225652_3B</td>\n",
       "      <td>0.000000e+00</td>\n",
       "      <td>896.0</td>\n",
       "      <td>1018</td>\n",
       "      <td>84.28</td>\n",
       "      <td>858</td>\n",
       "      <td>Wheat</td>\n",
       "      <td>BC00</td>\n",
       "    </tr>\n",
       "    <tr>\n",
       "      <th>29</th>\n",
       "      <td>591830f2-b0cc-462b-9419-6226962dfa53_Basecall_...</td>\n",
       "      <td>TGACv1_scaffold_542586_6DS</td>\n",
       "      <td>0.000000e+00</td>\n",
       "      <td>2119.0</td>\n",
       "      <td>2139</td>\n",
       "      <td>86.12</td>\n",
       "      <td>1842</td>\n",
       "      <td>Wheat</td>\n",
       "      <td>BC00</td>\n",
       "    </tr>\n",
       "    <tr>\n",
       "      <th>...</th>\n",
       "      <td>...</td>\n",
       "      <td>...</td>\n",
       "      <td>...</td>\n",
       "      <td>...</td>\n",
       "      <td>...</td>\n",
       "      <td>...</td>\n",
       "      <td>...</td>\n",
       "      <td>...</td>\n",
       "      <td>...</td>\n",
       "    </tr>\n",
       "    <tr>\n",
       "      <th>451538</th>\n",
       "      <td>9ce9457b-cdc3-4782-9978-8fe2b8ae5d16_Basecall_...</td>\n",
       "      <td>TGACv1_scaffold_513659_6BS</td>\n",
       "      <td>0.000000e+00</td>\n",
       "      <td>719.0</td>\n",
       "      <td>1463</td>\n",
       "      <td>77.72</td>\n",
       "      <td>1137</td>\n",
       "      <td>Wheat</td>\n",
       "      <td>NB00</td>\n",
       "    </tr>\n",
       "    <tr>\n",
       "      <th>451539</th>\n",
       "      <td>9d7ba951-f795-4186-827f-f725a4cdd7b5_Basecall_...</td>\n",
       "      <td>TGACv1_scaffold_249496_3DL</td>\n",
       "      <td>4.000000e-124</td>\n",
       "      <td>453.0</td>\n",
       "      <td>477</td>\n",
       "      <td>85.12</td>\n",
       "      <td>406</td>\n",
       "      <td>Wheat</td>\n",
       "      <td>NB00</td>\n",
       "    </tr>\n",
       "    <tr>\n",
       "      <th>451540</th>\n",
       "      <td>9dcbefcb-58fa-49a3-8c32-19d88a3d21b6_Basecall_...</td>\n",
       "      <td>TGACv1_scaffold_131349_2BL</td>\n",
       "      <td>0.000000e+00</td>\n",
       "      <td>2429.0</td>\n",
       "      <td>1985</td>\n",
       "      <td>89.92</td>\n",
       "      <td>1785</td>\n",
       "      <td>Wheat</td>\n",
       "      <td>NB00</td>\n",
       "    </tr>\n",
       "    <tr>\n",
       "      <th>451541</th>\n",
       "      <td>9e275228-ef23-4fdc-8b08-dc30178abc87_Basecall_...</td>\n",
       "      <td>TGACv1_scaffold_526972_6DL</td>\n",
       "      <td>6.000000e-177</td>\n",
       "      <td>628.0</td>\n",
       "      <td>566</td>\n",
       "      <td>87.99</td>\n",
       "      <td>498</td>\n",
       "      <td>Wheat</td>\n",
       "      <td>NB00</td>\n",
       "    </tr>\n",
       "    <tr>\n",
       "      <th>451542</th>\n",
       "      <td>9e9b935e-6e05-48d7-901b-80d768dfbc79_Basecall_...</td>\n",
       "      <td>TGACv1_scaffold_145883_2BS</td>\n",
       "      <td>0.000000e+00</td>\n",
       "      <td>699.0</td>\n",
       "      <td>984</td>\n",
       "      <td>81.20</td>\n",
       "      <td>799</td>\n",
       "      <td>Wheat</td>\n",
       "      <td>NB00</td>\n",
       "    </tr>\n",
       "    <tr>\n",
       "      <th>451543</th>\n",
       "      <td>9ed2ea53-47e3-4fc8-b410-02b31f18b04e_Basecall_...</td>\n",
       "      <td>TGACv1_scaffold_486879_6AS</td>\n",
       "      <td>2.000000e-77</td>\n",
       "      <td>298.0</td>\n",
       "      <td>472</td>\n",
       "      <td>79.87</td>\n",
       "      <td>377</td>\n",
       "      <td>Wheat</td>\n",
       "      <td>NB00</td>\n",
       "    </tr>\n",
       "    <tr>\n",
       "      <th>451544</th>\n",
       "      <td>a10ea82c-0b2c-4527-8dc4-6312c13b729a_Basecall_...</td>\n",
       "      <td>TGACv1_scaffold_308676_4AS</td>\n",
       "      <td>2.000000e-15</td>\n",
       "      <td>91.6</td>\n",
       "      <td>154</td>\n",
       "      <td>79.22</td>\n",
       "      <td>122</td>\n",
       "      <td>Wheat</td>\n",
       "      <td>NB00</td>\n",
       "    </tr>\n",
       "    <tr>\n",
       "      <th>451545</th>\n",
       "      <td>a1d8025d-ccee-420a-a09a-e173e4439543_Basecall_...</td>\n",
       "      <td>TGACv1_scaffold_374973_5AL</td>\n",
       "      <td>0.000000e+00</td>\n",
       "      <td>863.0</td>\n",
       "      <td>1271</td>\n",
       "      <td>80.80</td>\n",
       "      <td>1027</td>\n",
       "      <td>Wheat</td>\n",
       "      <td>NB00</td>\n",
       "    </tr>\n",
       "    <tr>\n",
       "      <th>451546</th>\n",
       "      <td>a20eb88b-00ef-4b9d-b546-11d96186c501_Basecall_...</td>\n",
       "      <td>TGACv1_scaffold_130348_2BL</td>\n",
       "      <td>0.000000e+00</td>\n",
       "      <td>2636.0</td>\n",
       "      <td>2489</td>\n",
       "      <td>87.26</td>\n",
       "      <td>2172</td>\n",
       "      <td>Wheat</td>\n",
       "      <td>NB00</td>\n",
       "    </tr>\n",
       "    <tr>\n",
       "      <th>451547</th>\n",
       "      <td>a2185b67-58de-4ec3-b2ed-34f07bb912d3_Basecall_...</td>\n",
       "      <td>TGACv1_scaffold_657294_U</td>\n",
       "      <td>0.000000e+00</td>\n",
       "      <td>1291.0</td>\n",
       "      <td>1452</td>\n",
       "      <td>84.37</td>\n",
       "      <td>1225</td>\n",
       "      <td>Wheat</td>\n",
       "      <td>NB00</td>\n",
       "    </tr>\n",
       "    <tr>\n",
       "      <th>451548</th>\n",
       "      <td>a22c1cc4-0b7e-4324-b00a-f199a47367cb_Basecall_...</td>\n",
       "      <td>TGACv1_scaffold_471714_6AL</td>\n",
       "      <td>0.000000e+00</td>\n",
       "      <td>1452.0</td>\n",
       "      <td>1748</td>\n",
       "      <td>83.24</td>\n",
       "      <td>1455</td>\n",
       "      <td>Wheat</td>\n",
       "      <td>NB00</td>\n",
       "    </tr>\n",
       "    <tr>\n",
       "      <th>451549</th>\n",
       "      <td>a259156c-b6e2-411f-a9a4-29063f91cf2c_Basecall_...</td>\n",
       "      <td>TGACv1_scaffold_577548_7BL</td>\n",
       "      <td>7.000000e-156</td>\n",
       "      <td>558.0</td>\n",
       "      <td>534</td>\n",
       "      <td>86.70</td>\n",
       "      <td>463</td>\n",
       "      <td>Wheat</td>\n",
       "      <td>NB00</td>\n",
       "    </tr>\n",
       "    <tr>\n",
       "      <th>451550</th>\n",
       "      <td>a25e5995-1589-4d03-8b8e-57d8093e0e4f_Basecall_...</td>\n",
       "      <td>TGACv1_scaffold_049466_1BS</td>\n",
       "      <td>0.000000e+00</td>\n",
       "      <td>787.0</td>\n",
       "      <td>753</td>\n",
       "      <td>86.85</td>\n",
       "      <td>654</td>\n",
       "      <td>Wheat</td>\n",
       "      <td>NB00</td>\n",
       "    </tr>\n",
       "    <tr>\n",
       "      <th>451551</th>\n",
       "      <td>a3012c53-efbf-4389-9f7b-ebae7e3838a1_Basecall_...</td>\n",
       "      <td>TGACv1_scaffold_569419_7AS</td>\n",
       "      <td>7.000000e-109</td>\n",
       "      <td>401.0</td>\n",
       "      <td>297</td>\n",
       "      <td>91.92</td>\n",
       "      <td>273</td>\n",
       "      <td>Wheat</td>\n",
       "      <td>NB00</td>\n",
       "    </tr>\n",
       "    <tr>\n",
       "      <th>451552</th>\n",
       "      <td>a9806e03-160a-4709-bbc1-2c0c511b573a_Basecall_...</td>\n",
       "      <td>TGACv1_scaffold_131404_2BL</td>\n",
       "      <td>0.000000e+00</td>\n",
       "      <td>929.0</td>\n",
       "      <td>992</td>\n",
       "      <td>85.08</td>\n",
       "      <td>844</td>\n",
       "      <td>Wheat</td>\n",
       "      <td>NB00</td>\n",
       "    </tr>\n",
       "    <tr>\n",
       "      <th>451553</th>\n",
       "      <td>a8b06236-365e-4fa6-8246-b4970a63d997_Basecall_...</td>\n",
       "      <td>TGACv1_scaffold_602588_7DL</td>\n",
       "      <td>2.000000e-55</td>\n",
       "      <td>224.0</td>\n",
       "      <td>366</td>\n",
       "      <td>80.05</td>\n",
       "      <td>293</td>\n",
       "      <td>Wheat</td>\n",
       "      <td>NB00</td>\n",
       "    </tr>\n",
       "    <tr>\n",
       "      <th>451554</th>\n",
       "      <td>a880cce6-6d39-467e-82b1-5670aab30f34_Basecall_...</td>\n",
       "      <td>TGACv1_scaffold_558507_7AL</td>\n",
       "      <td>0.000000e+00</td>\n",
       "      <td>1692.0</td>\n",
       "      <td>1902</td>\n",
       "      <td>84.33</td>\n",
       "      <td>1604</td>\n",
       "      <td>Wheat</td>\n",
       "      <td>NB00</td>\n",
       "    </tr>\n",
       "    <tr>\n",
       "      <th>451555</th>\n",
       "      <td>a87adc09-1419-4c95-bfc2-68504289e3bb_Basecall_...</td>\n",
       "      <td>TGACv1_scaffold_162312_2DL</td>\n",
       "      <td>0.000000e+00</td>\n",
       "      <td>968.0</td>\n",
       "      <td>961</td>\n",
       "      <td>86.26</td>\n",
       "      <td>829</td>\n",
       "      <td>Wheat</td>\n",
       "      <td>NB00</td>\n",
       "    </tr>\n",
       "    <tr>\n",
       "      <th>451556</th>\n",
       "      <td>a875e706-50a4-49c4-a177-59fb7dff93e3_Basecall_...</td>\n",
       "      <td>TGACv1_scaffold_320442_4BL</td>\n",
       "      <td>0.000000e+00</td>\n",
       "      <td>1720.0</td>\n",
       "      <td>1998</td>\n",
       "      <td>83.93</td>\n",
       "      <td>1677</td>\n",
       "      <td>Wheat</td>\n",
       "      <td>NB00</td>\n",
       "    </tr>\n",
       "    <tr>\n",
       "      <th>451557</th>\n",
       "      <td>a7e989c2-6f2e-4674-ab93-6c0676ffddbf_Basecall_...</td>\n",
       "      <td>TGACv1_scaffold_515818_6BS</td>\n",
       "      <td>0.000000e+00</td>\n",
       "      <td>2019.0</td>\n",
       "      <td>1768</td>\n",
       "      <td>88.63</td>\n",
       "      <td>1567</td>\n",
       "      <td>Wheat</td>\n",
       "      <td>NB00</td>\n",
       "    </tr>\n",
       "    <tr>\n",
       "      <th>451558</th>\n",
       "      <td>aa3db3e6-c6d0-4e35-ad9f-4a0750340a3a_Basecall_...</td>\n",
       "      <td>TGACv1_scaffold_159099_2DL</td>\n",
       "      <td>2.000000e-89</td>\n",
       "      <td>339.0</td>\n",
       "      <td>489</td>\n",
       "      <td>81.39</td>\n",
       "      <td>398</td>\n",
       "      <td>Wheat</td>\n",
       "      <td>NB00</td>\n",
       "    </tr>\n",
       "    <tr>\n",
       "      <th>451559</th>\n",
       "      <td>a77f0e90-1b15-4ef2-9a12-878ccc495ebc_Basecall_...</td>\n",
       "      <td>TGACv1_scaffold_556167_7AL</td>\n",
       "      <td>0.000000e+00</td>\n",
       "      <td>1133.0</td>\n",
       "      <td>1086</td>\n",
       "      <td>87.02</td>\n",
       "      <td>945</td>\n",
       "      <td>Wheat</td>\n",
       "      <td>NB00</td>\n",
       "    </tr>\n",
       "    <tr>\n",
       "      <th>451560</th>\n",
       "      <td>a5e2542a-d33c-4ec9-aee3-57614662c27f_Basecall_...</td>\n",
       "      <td>TGACv1_scaffold_392523_5AS</td>\n",
       "      <td>7.000000e-121</td>\n",
       "      <td>442.0</td>\n",
       "      <td>543</td>\n",
       "      <td>83.24</td>\n",
       "      <td>452</td>\n",
       "      <td>Wheat</td>\n",
       "      <td>NB00</td>\n",
       "    </tr>\n",
       "    <tr>\n",
       "      <th>451561</th>\n",
       "      <td>a5cfbc07-69d8-43b6-9ec2-24c17e9973bb_Basecall_...</td>\n",
       "      <td>TGACv1_scaffold_133029_2BL</td>\n",
       "      <td>1.000000e-88</td>\n",
       "      <td>335.0</td>\n",
       "      <td>482</td>\n",
       "      <td>81.33</td>\n",
       "      <td>392</td>\n",
       "      <td>Wheat</td>\n",
       "      <td>NB00</td>\n",
       "    </tr>\n",
       "    <tr>\n",
       "      <th>451562</th>\n",
       "      <td>a504d1a2-dd38-498a-8e25-043870d88675_Basecall_...</td>\n",
       "      <td>TGACv1_scaffold_606680_7DL</td>\n",
       "      <td>4.000000e-59</td>\n",
       "      <td>237.0</td>\n",
       "      <td>366</td>\n",
       "      <td>80.33</td>\n",
       "      <td>294</td>\n",
       "      <td>Wheat</td>\n",
       "      <td>NB00</td>\n",
       "    </tr>\n",
       "    <tr>\n",
       "      <th>451563</th>\n",
       "      <td>a43c25b8-ef4a-41a6-bd89-a878a6a0ebda_Basecall_...</td>\n",
       "      <td>TGACv1_scaffold_642902_U</td>\n",
       "      <td>0.000000e+00</td>\n",
       "      <td>1253.0</td>\n",
       "      <td>1281</td>\n",
       "      <td>85.79</td>\n",
       "      <td>1099</td>\n",
       "      <td>Wheat</td>\n",
       "      <td>NB00</td>\n",
       "    </tr>\n",
       "    <tr>\n",
       "      <th>451564</th>\n",
       "      <td>a43443cf-68d8-47e7-9709-ae60c6b7d7e8_Basecall_...</td>\n",
       "      <td>TGACv1_scaffold_142602_2BL</td>\n",
       "      <td>5.000000e-63</td>\n",
       "      <td>250.0</td>\n",
       "      <td>237</td>\n",
       "      <td>86.92</td>\n",
       "      <td>206</td>\n",
       "      <td>Wheat</td>\n",
       "      <td>NB00</td>\n",
       "    </tr>\n",
       "    <tr>\n",
       "      <th>451565</th>\n",
       "      <td>a377b10e-4f21-4d2b-94fb-96d60c3e592b_Basecall_...</td>\n",
       "      <td>TGACv1_scaffold_578132_7BL</td>\n",
       "      <td>0.000000e+00</td>\n",
       "      <td>1096.0</td>\n",
       "      <td>1837</td>\n",
       "      <td>79.21</td>\n",
       "      <td>1455</td>\n",
       "      <td>Wheat</td>\n",
       "      <td>NB00</td>\n",
       "    </tr>\n",
       "    <tr>\n",
       "      <th>451566</th>\n",
       "      <td>a61f3fcc-c4d1-48d0-b2d0-6937039d7f09_Basecall_...</td>\n",
       "      <td>TGACv1_scaffold_061142_1DL</td>\n",
       "      <td>3.000000e-08</td>\n",
       "      <td>65.8</td>\n",
       "      <td>35</td>\n",
       "      <td>100.00</td>\n",
       "      <td>35</td>\n",
       "      <td>Wheat</td>\n",
       "      <td>NB00</td>\n",
       "    </tr>\n",
       "    <tr>\n",
       "      <th>451567</th>\n",
       "      <td>0021fb4c-2ad9-4ecc-af33-51e48ad12e32_Basecall_...</td>\n",
       "      <td>TGACv1_scaffold_257657_3DL</td>\n",
       "      <td>0.000000e+00</td>\n",
       "      <td>795.0</td>\n",
       "      <td>709</td>\n",
       "      <td>87.87</td>\n",
       "      <td>623</td>\n",
       "      <td>Wheat</td>\n",
       "      <td>NB00</td>\n",
       "    </tr>\n",
       "  </tbody>\n",
       "</table>\n",
       "<p>451568 rows × 9 columns</p>\n",
       "</div>"
      ],
      "text/plain": [
       "                                                   qseqid  \\\n",
       "0       fff977d4-4c78-448f-8af5-118053cd0b43_Basecall_...   \n",
       "1       575547f6-7183-4de2-ba18-13817fac924f_Basecall_...   \n",
       "2       5720ee3d-91d2-45b7-8337-a107360bea76_Basecall_...   \n",
       "3       570047a3-c19c-4b71-8f7d-7f4e0295531d_Basecall_...   \n",
       "4       56f8c484-09d5-4619-b839-0e7ce4198ec2_Basecall_...   \n",
       "5       56f15206-fd25-4e3c-985f-db8a7e3b024b_Basecall_...   \n",
       "6       56d1fd6d-c07b-4f0d-ad6d-48cdbda7a01c_Basecall_...   \n",
       "7       56be2d1e-6315-406e-9df0-299051ce8f8e_Basecall_...   \n",
       "8       568590bd-78d6-4c6b-bf01-42377a880979_Basecall_...   \n",
       "9       564b2e84-a883-42d8-be2b-621108924af8_Basecall_...   \n",
       "10      5647d1da-f488-45a0-aa65-ae26a50f314d_Basecall_...   \n",
       "11      561f9728-2901-4b60-9f14-40a551d350b0_Basecall_...   \n",
       "12      561a4a9b-f600-4812-88a2-d1833c737b97_Basecall_...   \n",
       "13      5619ead4-e860-4ccd-a102-9ffc5fd1dfb5_Basecall_...   \n",
       "14      55d952eb-1661-4f72-ae14-244d32ccbfbd_Basecall_...   \n",
       "15      55c603af-dc48-43b2-8df9-35bb40f707e7_Basecall_...   \n",
       "16      55bf8b90-31fb-4bdf-91a3-f9c8094ad117_Basecall_...   \n",
       "17      55a8c67c-35cd-4866-adf1-bda655ecfd2e_Basecall_...   \n",
       "18      575f8605-32b3-4054-b975-f7a53cda158b_Basecall_...   \n",
       "19      5583c1a9-8a32-4b05-89ba-c2e058c0c6f4_Basecall_...   \n",
       "20      5797e41e-8c6d-47fe-9fc0-c17994808324_Basecall_...   \n",
       "21      57e420e2-99d1-4272-babe-d170d3cd9410_Basecall_...   \n",
       "22      5a243f6e-27e2-4f73-88dd-401c6db6b83b_Basecall_...   \n",
       "23      59fca1f8-c1fe-4046-921a-f7e56ad7d583_Basecall_...   \n",
       "24      59eaf177-52b6-4c5d-b66c-7d358c2eb8bf_Basecall_...   \n",
       "25      599df2c2-9308-48eb-bbcf-dc863bf047f4_Basecall_...   \n",
       "26      597458f5-04b5-4a27-813f-ff0c592ec982_Basecall_...   \n",
       "27      59656516-5288-425f-ac71-b21b109244ea_Basecall_...   \n",
       "28      592b505b-a60d-48fb-893c-6ca69e12a701_Basecall_...   \n",
       "29      591830f2-b0cc-462b-9419-6226962dfa53_Basecall_...   \n",
       "...                                                   ...   \n",
       "451538  9ce9457b-cdc3-4782-9978-8fe2b8ae5d16_Basecall_...   \n",
       "451539  9d7ba951-f795-4186-827f-f725a4cdd7b5_Basecall_...   \n",
       "451540  9dcbefcb-58fa-49a3-8c32-19d88a3d21b6_Basecall_...   \n",
       "451541  9e275228-ef23-4fdc-8b08-dc30178abc87_Basecall_...   \n",
       "451542  9e9b935e-6e05-48d7-901b-80d768dfbc79_Basecall_...   \n",
       "451543  9ed2ea53-47e3-4fc8-b410-02b31f18b04e_Basecall_...   \n",
       "451544  a10ea82c-0b2c-4527-8dc4-6312c13b729a_Basecall_...   \n",
       "451545  a1d8025d-ccee-420a-a09a-e173e4439543_Basecall_...   \n",
       "451546  a20eb88b-00ef-4b9d-b546-11d96186c501_Basecall_...   \n",
       "451547  a2185b67-58de-4ec3-b2ed-34f07bb912d3_Basecall_...   \n",
       "451548  a22c1cc4-0b7e-4324-b00a-f199a47367cb_Basecall_...   \n",
       "451549  a259156c-b6e2-411f-a9a4-29063f91cf2c_Basecall_...   \n",
       "451550  a25e5995-1589-4d03-8b8e-57d8093e0e4f_Basecall_...   \n",
       "451551  a3012c53-efbf-4389-9f7b-ebae7e3838a1_Basecall_...   \n",
       "451552  a9806e03-160a-4709-bbc1-2c0c511b573a_Basecall_...   \n",
       "451553  a8b06236-365e-4fa6-8246-b4970a63d997_Basecall_...   \n",
       "451554  a880cce6-6d39-467e-82b1-5670aab30f34_Basecall_...   \n",
       "451555  a87adc09-1419-4c95-bfc2-68504289e3bb_Basecall_...   \n",
       "451556  a875e706-50a4-49c4-a177-59fb7dff93e3_Basecall_...   \n",
       "451557  a7e989c2-6f2e-4674-ab93-6c0676ffddbf_Basecall_...   \n",
       "451558  aa3db3e6-c6d0-4e35-ad9f-4a0750340a3a_Basecall_...   \n",
       "451559  a77f0e90-1b15-4ef2-9a12-878ccc495ebc_Basecall_...   \n",
       "451560  a5e2542a-d33c-4ec9-aee3-57614662c27f_Basecall_...   \n",
       "451561  a5cfbc07-69d8-43b6-9ec2-24c17e9973bb_Basecall_...   \n",
       "451562  a504d1a2-dd38-498a-8e25-043870d88675_Basecall_...   \n",
       "451563  a43c25b8-ef4a-41a6-bd89-a878a6a0ebda_Basecall_...   \n",
       "451564  a43443cf-68d8-47e7-9709-ae60c6b7d7e8_Basecall_...   \n",
       "451565  a377b10e-4f21-4d2b-94fb-96d60c3e592b_Basecall_...   \n",
       "451566  a61f3fcc-c4d1-48d0-b2d0-6937039d7f09_Basecall_...   \n",
       "451567  0021fb4c-2ad9-4ecc-af33-51e48ad12e32_Basecall_...   \n",
       "\n",
       "                            sseqid         evalue  bitscore  length  pident  \\\n",
       "0       TGACv1_scaffold_392538_5AS   0.000000e+00    2780.0    2912   85.20   \n",
       "1       TGACv1_scaffold_608741_7DL   0.000000e+00    1727.0    2287   81.94   \n",
       "2        TGACv1_scaffold_224091_3B   0.000000e+00    3321.0    3589   84.73   \n",
       "3       TGACv1_scaffold_404662_5BL  4.000000e-148     532.0     646   83.13   \n",
       "4       TGACv1_scaffold_289620_4AL   0.000000e+00    1376.0    1616   83.91   \n",
       "5       TGACv1_scaffold_321360_4BL   0.000000e+00    1173.0    2377   77.70   \n",
       "6       TGACv1_scaffold_556534_7AL   0.000000e+00    1260.0    1520   83.22   \n",
       "7       TGACv1_scaffold_577032_7BL   0.000000e+00     983.0    1162   83.65   \n",
       "8       TGACv1_scaffold_556069_7AL  8.000000e-124     451.0     488   84.63   \n",
       "9       TGACv1_scaffold_250432_3DL  3.000000e-134     486.0     619   82.88   \n",
       "10      TGACv1_scaffold_576868_7BL   0.000000e+00     830.0     812   86.45   \n",
       "11        TGACv1_scaffold_668119_U   0.000000e+00    1323.0    2149   79.39   \n",
       "12      TGACv1_scaffold_249100_3DL   0.000000e+00    1914.0    3144   79.87   \n",
       "13      TGACv1_scaffold_136784_2BL   0.000000e+00    1107.0    1039   87.30   \n",
       "14      TGACv1_scaffold_307042_4AS   0.000000e+00     686.0     702   85.90   \n",
       "15       TGACv1_scaffold_224127_3B  6.000000e-103     383.0     954   76.31   \n",
       "16      TGACv1_scaffold_146213_2BS   4.000000e-11      78.7      53   94.34   \n",
       "17      TGACv1_scaffold_500824_6BL  2.000000e-151     544.0     833   80.67   \n",
       "18      TGACv1_scaffold_051010_1BS   0.000000e+00    1218.0    1537   82.89   \n",
       "19      TGACv1_scaffold_009254_1AL  9.000000e-100     374.0    1285   74.55   \n",
       "20      TGACv1_scaffold_569079_7AS   0.000000e+00    2566.0    2488   86.78   \n",
       "21      TGACv1_scaffold_272001_3DS   0.000000e+00     730.0    1006   81.41   \n",
       "22      TGACv1_scaffold_573266_7AS   8.000000e-49     202.0     193   86.53   \n",
       "23      TGACv1_scaffold_049238_1BL   1.000000e-98     368.0     520   81.35   \n",
       "24      TGACv1_scaffold_064974_1DL   1.000000e-87     331.0     411   82.73   \n",
       "25      TGACv1_scaffold_576913_7BL   0.000000e+00    2122.0    2024   86.81   \n",
       "26      TGACv1_scaffold_355658_4DL  1.000000e-177     630.0     735   83.95   \n",
       "27      TGACv1_scaffold_306306_4AS  5.000000e-103     383.0     948   76.79   \n",
       "28       TGACv1_scaffold_225652_3B   0.000000e+00     896.0    1018   84.28   \n",
       "29      TGACv1_scaffold_542586_6DS   0.000000e+00    2119.0    2139   86.12   \n",
       "...                            ...            ...       ...     ...     ...   \n",
       "451538  TGACv1_scaffold_513659_6BS   0.000000e+00     719.0    1463   77.72   \n",
       "451539  TGACv1_scaffold_249496_3DL  4.000000e-124     453.0     477   85.12   \n",
       "451540  TGACv1_scaffold_131349_2BL   0.000000e+00    2429.0    1985   89.92   \n",
       "451541  TGACv1_scaffold_526972_6DL  6.000000e-177     628.0     566   87.99   \n",
       "451542  TGACv1_scaffold_145883_2BS   0.000000e+00     699.0     984   81.20   \n",
       "451543  TGACv1_scaffold_486879_6AS   2.000000e-77     298.0     472   79.87   \n",
       "451544  TGACv1_scaffold_308676_4AS   2.000000e-15      91.6     154   79.22   \n",
       "451545  TGACv1_scaffold_374973_5AL   0.000000e+00     863.0    1271   80.80   \n",
       "451546  TGACv1_scaffold_130348_2BL   0.000000e+00    2636.0    2489   87.26   \n",
       "451547    TGACv1_scaffold_657294_U   0.000000e+00    1291.0    1452   84.37   \n",
       "451548  TGACv1_scaffold_471714_6AL   0.000000e+00    1452.0    1748   83.24   \n",
       "451549  TGACv1_scaffold_577548_7BL  7.000000e-156     558.0     534   86.70   \n",
       "451550  TGACv1_scaffold_049466_1BS   0.000000e+00     787.0     753   86.85   \n",
       "451551  TGACv1_scaffold_569419_7AS  7.000000e-109     401.0     297   91.92   \n",
       "451552  TGACv1_scaffold_131404_2BL   0.000000e+00     929.0     992   85.08   \n",
       "451553  TGACv1_scaffold_602588_7DL   2.000000e-55     224.0     366   80.05   \n",
       "451554  TGACv1_scaffold_558507_7AL   0.000000e+00    1692.0    1902   84.33   \n",
       "451555  TGACv1_scaffold_162312_2DL   0.000000e+00     968.0     961   86.26   \n",
       "451556  TGACv1_scaffold_320442_4BL   0.000000e+00    1720.0    1998   83.93   \n",
       "451557  TGACv1_scaffold_515818_6BS   0.000000e+00    2019.0    1768   88.63   \n",
       "451558  TGACv1_scaffold_159099_2DL   2.000000e-89     339.0     489   81.39   \n",
       "451559  TGACv1_scaffold_556167_7AL   0.000000e+00    1133.0    1086   87.02   \n",
       "451560  TGACv1_scaffold_392523_5AS  7.000000e-121     442.0     543   83.24   \n",
       "451561  TGACv1_scaffold_133029_2BL   1.000000e-88     335.0     482   81.33   \n",
       "451562  TGACv1_scaffold_606680_7DL   4.000000e-59     237.0     366   80.33   \n",
       "451563    TGACv1_scaffold_642902_U   0.000000e+00    1253.0    1281   85.79   \n",
       "451564  TGACv1_scaffold_142602_2BL   5.000000e-63     250.0     237   86.92   \n",
       "451565  TGACv1_scaffold_578132_7BL   0.000000e+00    1096.0    1837   79.21   \n",
       "451566  TGACv1_scaffold_061142_1DL   3.000000e-08      65.8      35  100.00   \n",
       "451567  TGACv1_scaffold_257657_3DL   0.000000e+00     795.0     709   87.87   \n",
       "\n",
       "        nident species barcode  \n",
       "0         2481   Wheat    BC00  \n",
       "1         1874   Wheat    BC00  \n",
       "2         3041   Wheat    BC00  \n",
       "3          537   Wheat    BC00  \n",
       "4         1356   Wheat    BC00  \n",
       "5         1847   Wheat    BC00  \n",
       "6         1265   Wheat    BC00  \n",
       "7          972   Wheat    BC00  \n",
       "8          413   Wheat    BC00  \n",
       "9          513   Wheat    BC00  \n",
       "10         702   Wheat    BC00  \n",
       "11        1706   Wheat    BC00  \n",
       "12        2511   Wheat    BC00  \n",
       "13         907   Wheat    BC00  \n",
       "14         603   Wheat    BC00  \n",
       "15         728   Wheat    BC00  \n",
       "16          50   Wheat    BC00  \n",
       "17         672   Wheat    BC00  \n",
       "18        1274   Wheat    BC00  \n",
       "19         958   Wheat    BC00  \n",
       "20        2159   Wheat    BC00  \n",
       "21         819   Wheat    BC00  \n",
       "22         167   Wheat    BC00  \n",
       "23         423   Wheat    BC00  \n",
       "24         340   Wheat    BC00  \n",
       "25        1757   Wheat    BC00  \n",
       "26         617   Wheat    BC00  \n",
       "27         728   Wheat    BC00  \n",
       "28         858   Wheat    BC00  \n",
       "29        1842   Wheat    BC00  \n",
       "...        ...     ...     ...  \n",
       "451538    1137   Wheat    NB00  \n",
       "451539     406   Wheat    NB00  \n",
       "451540    1785   Wheat    NB00  \n",
       "451541     498   Wheat    NB00  \n",
       "451542     799   Wheat    NB00  \n",
       "451543     377   Wheat    NB00  \n",
       "451544     122   Wheat    NB00  \n",
       "451545    1027   Wheat    NB00  \n",
       "451546    2172   Wheat    NB00  \n",
       "451547    1225   Wheat    NB00  \n",
       "451548    1455   Wheat    NB00  \n",
       "451549     463   Wheat    NB00  \n",
       "451550     654   Wheat    NB00  \n",
       "451551     273   Wheat    NB00  \n",
       "451552     844   Wheat    NB00  \n",
       "451553     293   Wheat    NB00  \n",
       "451554    1604   Wheat    NB00  \n",
       "451555     829   Wheat    NB00  \n",
       "451556    1677   Wheat    NB00  \n",
       "451557    1567   Wheat    NB00  \n",
       "451558     398   Wheat    NB00  \n",
       "451559     945   Wheat    NB00  \n",
       "451560     452   Wheat    NB00  \n",
       "451561     392   Wheat    NB00  \n",
       "451562     294   Wheat    NB00  \n",
       "451563    1099   Wheat    NB00  \n",
       "451564     206   Wheat    NB00  \n",
       "451565    1455   Wheat    NB00  \n",
       "451566      35   Wheat    NB00  \n",
       "451567     623   Wheat    NB00  \n",
       "\n",
       "[451568 rows x 9 columns]"
      ]
     },
     "execution_count": 729,
     "metadata": {},
     "output_type": "execute_result"
    }
   ],
   "source": []
  },
  {
   "cell_type": "code",
   "execution_count": 566,
   "metadata": {
    "collapsed": true
   },
   "outputs": [],
   "source": [
    "#Assigning reads a human-readable species name based on sseqid\n",
    "for bcs, dfs in blast_dfs_dict.items():\n",
    "    for i in range(0, len(dfs)):\n",
    "        dfs.loc[i, 'barcode'] = bcs\n",
    "        if 'TGAC' in str(dfs['sseqid'][i]):\n",
    "            dfs.loc[i, 'species'] = 'Wheat'\n",
    "        elif 'Zymo' in str(dfs['sseqid'][i]):\n",
    "            dfs.loc[i, 'species'] = 'Zymoseptoria tritici'\n",
    "        elif 'Ptri' in str(dfs['sseqid'][i]):\n",
    "            dfs.loc[i, 'species'] = 'Pyrenophore tritici-repentis'\n",
    "        elif 'Pst' in str(dfs['sseqid'][i]):\n",
    "            dfs.loc[i, 'species'] = 'P. striformis f. sp. tritici WA'\n",
    "        elif 'tig' in str(dfs['sseqid'][i]):\n",
    "            dfs.loc[i, 'species'] = 'Parastagonospora nodorum'\n",
    "        else:\n",
    "            dfs.loc[i, 'species'] = 'N/A'\n",
    "    \n",
    "# MAKE FASTER: POSSIBILITIES\n",
    "# add barcode column after read generation instead of in loop: blast_dfs_dict[bcs]['barcode'] = 'bcs'\n",
    "# need to remove 'barcode' column from pd.read_table"
   ]
  },
  {
   "cell_type": "code",
   "execution_count": 728,
   "metadata": {
    "collapsed": false
   },
   "outputs": [],
   "source": [
    "#Create a new dataframe combining all dataframes for each individual barcode\n",
    "blast_df_list = []\n",
    "for bcs in blast_dfs_dict.keys():\n",
    "    blast_df_list.append(blast_dfs_dict[bcs])\n",
    "    \n",
    "joint_blast_df = pd.concat(blast_df_list, axis=0, ignore_index=True)\n",
    "joint_blast_df.sort_values('barcode', ascending=True, inplace=True)\n",
    "joint_blast_df.reset_index(drop=True, inplace=True)"
   ]
  },
  {
   "cell_type": "code",
   "execution_count": 599,
   "metadata": {
    "collapsed": true
   },
   "outputs": [
    {
     "name": "stdout",
     "output_type": "stream",
     "text": [
      "BC04\n",
      "                                                   qseqid  \\\n",
      "135403  fffc7463-aa14-424d-b5cc-5d034e17f1a6_Basecall_...   \n",
      "135404  fffc94fd-3f85-4487-ac43-9a6390bfd50b_Basecall_...   \n",
      "135405  fffc95c7-c6a4-40e4-9503-3c748027c9de_Basecall_...   \n",
      "135406  fffcc786-f99c-40a3-912c-86748eafb819_Basecall_...   \n",
      "135407  ffffabe3-0744-4a8c-bcf6-62ca6353a16c_Basecall_...   \n",
      "\n",
      "                            sseqid        evalue  bitscore  length  pident  \\\n",
      "135403  TGACv1_scaffold_329276_4BS  0.000000e+00    1596.0    1517   87.08   \n",
      "135404  TGACv1_scaffold_594121_7BS  0.000000e+00    1670.0    4066   76.36   \n",
      "135405    TGACv1_scaffold_645800_U  0.000000e+00     952.0     914   86.98   \n",
      "135406  TGACv1_scaffold_160558_2DL  0.000000e+00    1315.0    1182   88.16   \n",
      "135407  TGACv1_scaffold_061466_1DL  8.000000e-64     254.0     382   80.37   \n",
      "\n",
      "        nident species barcode  \n",
      "135403    1321   Wheat    BC04  \n",
      "135404    3105   Wheat    BC04  \n",
      "135405     795   Wheat    BC04  \n",
      "135406    1042   Wheat    BC04  \n",
      "135407     307   Wheat    BC04  \n",
      "\n",
      "NB00\n",
      "                                                qseqid  \\\n",
      "550  fde41d68-6dc4-4a63-8687-60bb6f660c70_Basecall_...   \n",
      "551  fea3eafe-a1f5-44b3-8733-d93b5f2f8818_Basecall_...   \n",
      "552  febf027d-815a-4632-9a28-8b1205a5372d_Basecall_...   \n",
      "553  fed92ccf-b416-45a8-ada9-8f77512d4cd7_Basecall_...   \n",
      "554  ffa47072-309b-40d7-ac51-d9c1caf1683a_Basecall_...   \n",
      "\n",
      "                         sseqid        evalue  bitscore  length  pident  \\\n",
      "550                     Zymo_13  0.000000e+00     717.0    1173   79.54   \n",
      "551  TGACv1_scaffold_488954_6AS  0.000000e+00    3733.0    3422   87.76   \n",
      "552  TGACv1_scaffold_376434_5AL  0.000000e+00    1663.0    1728   85.59   \n",
      "553  TGACv1_scaffold_433900_5DL  0.000000e+00     660.0     560   89.29   \n",
      "554  TGACv1_scaffold_094000_2AL  9.000000e-27     128.0     141   84.40   \n",
      "\n",
      "     nident               species barcode  \n",
      "550     933  Zymoseptoria tritici    NB00  \n",
      "551    3003                 Wheat    NB00  \n",
      "552    1479                 Wheat    NB00  \n",
      "553     500                 Wheat    NB00  \n",
      "554     119                 Wheat    NB00  \n",
      "\n",
      "BC01\n",
      "                                                 qseqid  \\\n",
      "7781  ffbc5e38-d9f1-4c49-aa8f-cc2786b49f2b_Basecall_...   \n",
      "7782  ffcc4ac3-2e49-48cb-b634-31aad07ea91e_Basecall_...   \n",
      "7783  ffdf02d3-7290-4bcf-8993-b1ca64677f18_Basecall_...   \n",
      "7784  fff9e7e3-3325-411c-aa1d-009b2843957c_Basecall_...   \n",
      "7785  fffedad3-408d-49be-9f3a-351d897e576d_Basecall_...   \n",
      "\n",
      "                          sseqid        evalue  bitscore  length  pident  \\\n",
      "7781  TGACv1_scaffold_334104_4BS  0.000000e+00     769.0     894   83.67   \n",
      "7782  TGACv1_scaffold_423291_5BS  0.000000e+00    1591.0    2260   81.37   \n",
      "7783                      Zymo_9  4.000000e-28     135.0     602   73.42   \n",
      "7784  TGACv1_scaffold_094257_2AL  0.000000e+00     688.0    1291   78.31   \n",
      "7785  TGACv1_scaffold_471595_6AL  0.000000e+00    4427.0    4845   84.91   \n",
      "\n",
      "      nident               species barcode  \n",
      "7781     748                 Wheat    BC01  \n",
      "7782    1839                 Wheat    BC01  \n",
      "7783     442  Zymoseptoria tritici    BC01  \n",
      "7784    1011                 Wheat    BC01  \n",
      "7785    4114                 Wheat    BC01  \n",
      "\n",
      "BC06\n",
      "                                                  qseqid  \\\n",
      "82765  fffd5f20-cb33-4764-bf47-0093345d168d_Basecall_...   \n",
      "82766  fffe5391-e3b6-48c7-a783-a923709bb06f_Basecall_...   \n",
      "82767  ffff3914-a6e9-403b-8bad-bb2882cbd396_Basecall_...   \n",
      "82768  ffffd464-2ba3-4e3b-a4ad-842599c521f1_Basecall_...   \n",
      "82769  ffffe2bf-dd47-44a3-bfbb-e348f81df233_Basecall_...   \n",
      "\n",
      "                           sseqid         evalue  bitscore  length  pident  \\\n",
      "82765  TGACv1_scaffold_145885_2BS   0.000000e+00     950.0    1210   82.98   \n",
      "82766  TGACv1_scaffold_113513_2AS   0.000000e+00    1687.0    3127   78.29   \n",
      "82767  TGACv1_scaffold_273801_3DS   0.000000e+00    1140.0    1102   86.93   \n",
      "82768  TGACv1_scaffold_019673_1AS  6.000000e-142     512.0     851   79.91   \n",
      "82769  TGACv1_scaffold_366623_4DS   0.000000e+00    1454.0    1613   84.31   \n",
      "\n",
      "       nident species barcode  \n",
      "82765    1004   Wheat    BC06  \n",
      "82766    2448   Wheat    BC06  \n",
      "82767     958   Wheat    BC06  \n",
      "82768     680   Wheat    BC06  \n",
      "82769    1360   Wheat    BC06  \n",
      "\n",
      "BC02\n",
      "                                                   qseqid  \\\n",
      "103263  fffce2ac-cae3-4e0c-b467-a6e814556fc5_Basecall_...   \n",
      "103264  fffcfebd-61db-42a2-add9-b1e03d7c81d2_Basecall_...   \n",
      "103265  fffd12f6-5e0e-479d-a9fc-9528d1900654_Basecall_...   \n",
      "103266  fffe60a4-1497-4cf3-bb79-468aae082656_Basecall_...   \n",
      "103267  fffe809d-613c-4130-9e7d-198a288efe0d_Basecall_...   \n",
      "\n",
      "                            sseqid  evalue  bitscore  length  pident  nident  \\\n",
      "103263  TGACv1_scaffold_447948_5DL     0.0     773.0     895   83.91     751   \n",
      "103264   TGACv1_scaffold_223537_3B     0.0     749.0     708   86.86     615   \n",
      "103265  TGACv1_scaffold_135198_2BL     0.0    1840.0    1779   86.79    1544   \n",
      "103266  TGACv1_scaffold_112580_2AS     0.0     791.0     805   85.96     692   \n",
      "103267  TGACv1_scaffold_602887_7DL     0.0    1282.0    1592   83.23    1325   \n",
      "\n",
      "       species barcode  \n",
      "103263   Wheat    BC02  \n",
      "103264   Wheat    BC02  \n",
      "103265   Wheat    BC02  \n",
      "103266   Wheat    BC02  \n",
      "103267   Wheat    BC02  \n",
      "\n",
      "BC05\n",
      "                                                  qseqid  \\\n",
      "80546  fff91d91-2a16-4a5a-9907-0e284797f421_Basecall_...   \n",
      "80547  fff93437-226c-4049-a3c8-2c57537c11dc_Basecall_...   \n",
      "80548  fff9bbc8-c276-4e44-9bfd-60a8cdd068ae_Basecall_...   \n",
      "80549  fffb437b-1e83-4a14-b5ea-73725eed2c2f_Basecall_...   \n",
      "80550  fffc0864-95ea-4a68-a1ab-c1cf1b967e00_Basecall_...   \n",
      "\n",
      "                           sseqid  evalue  bitscore  length  pident  nident  \\\n",
      "80546  TGACv1_scaffold_471341_6AL     0.0    1085.0    1150   85.48     983   \n",
      "80547  TGACv1_scaffold_061350_1DL     0.0     987.0    1354   81.46    1103   \n",
      "80548  TGACv1_scaffold_470935_6AL     0.0     658.0     485   92.16     447   \n",
      "80549  TGACv1_scaffold_212980_3AS     0.0    2355.0    2124   88.04    1870   \n",
      "80550  TGACv1_scaffold_327925_4BS     0.0     658.0    1106   79.75     882   \n",
      "\n",
      "      species barcode  \n",
      "80546   Wheat    BC05  \n",
      "80547   Wheat    BC05  \n",
      "80548   Wheat    BC05  \n",
      "80549   Wheat    BC05  \n",
      "80550   Wheat    BC05  \n",
      "\n",
      "BC03\n",
      "                                                  qseqid  \\\n",
      "38486  fff8829f-02cf-4984-aea5-2ab2cb942f85_Basecall_...   \n",
      "38487  fff8dd4b-2f5d-4a39-8659-59dbad4e6efd_Basecall_...   \n",
      "38488  fff98cbc-c18b-4286-9ae2-33a076f2b2ef_Basecall_...   \n",
      "38489  fffa9a89-ffef-4078-a6a1-4189f47be858_Basecall_...   \n",
      "38490  fffb23ca-8b17-4c8b-92b9-365c454a8212_Basecall_...   \n",
      "\n",
      "                           sseqid         evalue  bitscore  length  pident  \\\n",
      "38486    TGACv1_scaffold_653896_U  9.000000e-160     571.0     725   83.17   \n",
      "38487  TGACv1_scaffold_604486_7DL   0.000000e+00    1975.0    1930   86.68   \n",
      "38488  TGACv1_scaffold_583583_7BL   0.000000e+00    1088.0    1121   85.91   \n",
      "38489  TGACv1_scaffold_471226_6AL   0.000000e+00    1085.0    1040   86.92   \n",
      "38490  TGACv1_scaffold_392612_5AS  3.000000e-178     632.0     578   87.89   \n",
      "\n",
      "       nident species barcode  \n",
      "38486     603   Wheat    BC03  \n",
      "38487    1673   Wheat    BC03  \n",
      "38488     963   Wheat    BC03  \n",
      "38489     904   Wheat    BC03  \n",
      "38490     508   Wheat    BC03  \n",
      "\n",
      "BC00\n",
      "                                                 qseqid  \\\n",
      "2734  ff7b6fac-45a1-4cdb-85ca-92e2149cde7e_Basecall_...   \n",
      "2735  ffa69e85-137e-40d9-9436-a2b244450150_Basecall_...   \n",
      "2736  ffc6a3a9-269b-43aa-b55a-c7486deb4616_Basecall_...   \n",
      "2737  fff6e1f9-2172-436e-942e-924e6f0a21a1_Basecall_...   \n",
      "2738  fff977d4-4c78-448f-8af5-118053cd0b43_Basecall_...   \n",
      "\n",
      "                          sseqid         evalue  bitscore  length  pident  \\\n",
      "2734  TGACv1_scaffold_159281_2DL   0.000000e+00    2427.0    3243   82.05   \n",
      "2735  TGACv1_scaffold_423700_5BS   0.000000e+00    2669.0    2965   84.55   \n",
      "2736  TGACv1_scaffold_435148_5DL   0.000000e+00    1112.0    1072   87.03   \n",
      "2737  TGACv1_scaffold_001106_1AL  3.000000e-167     597.0    1191   78.09   \n",
      "2738  TGACv1_scaffold_392538_5AS   0.000000e+00    2780.0    2912   85.20   \n",
      "\n",
      "      nident species barcode  \n",
      "2734    2661   Wheat    BC00  \n",
      "2735    2507   Wheat    BC00  \n",
      "2736     933   Wheat    BC00  \n",
      "2737     930   Wheat    BC00  \n",
      "2738    2481   Wheat    BC00  \n",
      "\n"
     ]
    }
   ],
   "source": [
    "#for k, v in blast_dfs_dict.items():\n",
    "#    print(k)\n",
    "#    print(v.tail())\n",
    "#    print()"
   ]
  },
  {
   "cell_type": "code",
   "execution_count": 694,
   "metadata": {
    "collapsed": true
   },
   "outputs": [
    {
     "name": "stdout",
     "output_type": "stream",
     "text": [
      "BC04\n",
      "species\n",
      "P. striformis f. sp. tritici WA         3\n",
      "Parastagonospora nodorum                2\n",
      "Pyrenophore tritici-repentis            4\n",
      "Wheat                              135376\n",
      "Zymoseptoria tritici                   23\n",
      "Name: qseqid, dtype: int64\n",
      "\n",
      "NB00\n",
      "species\n",
      "P. striformis f. sp. tritici WA      2\n",
      "Pyrenophore tritici-repentis         1\n",
      "Wheat                              550\n",
      "Zymoseptoria tritici                 2\n",
      "Name: qseqid, dtype: int64\n",
      "\n",
      "BC01\n",
      "species\n",
      "P. striformis f. sp. tritici WA       4\n",
      "Pyrenophore tritici-repentis          3\n",
      "Wheat                              7650\n",
      "Zymoseptoria tritici                129\n",
      "Name: qseqid, dtype: int64\n",
      "\n",
      "BC06\n",
      "species\n",
      "P. striformis f. sp. tritici WA        4\n",
      "Parastagonospora nodorum               6\n",
      "Pyrenophore tritici-repentis           6\n",
      "Wheat                              81409\n",
      "Zymoseptoria tritici                1345\n",
      "Name: qseqid, dtype: int64\n",
      "\n",
      "BC02\n",
      "species\n",
      "P. striformis f. sp. tritici WA      1306\n",
      "Parastagonospora nodorum               17\n",
      "Pyrenophore tritici-repentis           33\n",
      "Wheat                              101894\n",
      "Zymoseptoria tritici                   18\n",
      "Name: qseqid, dtype: int64\n",
      "\n",
      "BC05\n",
      "species\n",
      "P. striformis f. sp. tritici WA      247\n",
      "Parastagonospora nodorum              38\n",
      "Pyrenophore tritici-repentis          76\n",
      "Wheat                              79380\n",
      "Zymoseptoria tritici                 810\n",
      "Name: qseqid, dtype: int64\n",
      "\n",
      "BC03\n",
      "species\n",
      "P. striformis f. sp. tritici WA        2\n",
      "Parastagonospora nodorum              26\n",
      "Pyrenophore tritici-repentis        1572\n",
      "Wheat                              36879\n",
      "Zymoseptoria tritici                  12\n",
      "Name: qseqid, dtype: int64\n",
      "\n",
      "BC00\n",
      "species\n",
      "P. striformis f. sp. tritici WA      10\n",
      "Pyrenophore tritici-repentis          6\n",
      "Wheat                              2715\n",
      "Zymoseptoria tritici                  8\n",
      "Name: qseqid, dtype: int64\n",
      "\n"
     ]
    }
   ],
   "source": [
    "#for dfs in blast_dfs_dict.values():\n",
    "#    print(dfs['barcode'][0])\n",
    "#    print(dfs.groupby('species')['qseqid'].count())\n",
    "#    print()"
   ]
  },
  {
   "cell_type": "code",
   "execution_count": 812,
   "metadata": {
    "collapsed": false
   },
   "outputs": [
    {
     "data": {
      "text/html": [
       "<div>\n",
       "<table border=\"1\" class=\"dataframe\">\n",
       "  <thead>\n",
       "    <tr style=\"text-align: right;\">\n",
       "      <th>species</th>\n",
       "      <th>P. striformis f. sp. tritici WA</th>\n",
       "      <th>Parastagonospora nodorum</th>\n",
       "      <th>Pyrenophore tritici-repentis</th>\n",
       "      <th>Wheat</th>\n",
       "      <th>Zymoseptoria tritici</th>\n",
       "      <th>All</th>\n",
       "    </tr>\n",
       "    <tr>\n",
       "      <th>barcode</th>\n",
       "      <th></th>\n",
       "      <th></th>\n",
       "      <th></th>\n",
       "      <th></th>\n",
       "      <th></th>\n",
       "      <th></th>\n",
       "    </tr>\n",
       "  </thead>\n",
       "  <tbody>\n",
       "    <tr>\n",
       "      <th>BC00</th>\n",
       "      <td>10.0</td>\n",
       "      <td>0.0</td>\n",
       "      <td>6.0</td>\n",
       "      <td>2715.0</td>\n",
       "      <td>8.0</td>\n",
       "      <td>2739.0</td>\n",
       "    </tr>\n",
       "    <tr>\n",
       "      <th>BC01</th>\n",
       "      <td>4.0</td>\n",
       "      <td>0.0</td>\n",
       "      <td>3.0</td>\n",
       "      <td>7650.0</td>\n",
       "      <td>129.0</td>\n",
       "      <td>7786.0</td>\n",
       "    </tr>\n",
       "    <tr>\n",
       "      <th>BC02</th>\n",
       "      <td>1306.0</td>\n",
       "      <td>17.0</td>\n",
       "      <td>33.0</td>\n",
       "      <td>101894.0</td>\n",
       "      <td>18.0</td>\n",
       "      <td>103268.0</td>\n",
       "    </tr>\n",
       "    <tr>\n",
       "      <th>BC03</th>\n",
       "      <td>2.0</td>\n",
       "      <td>26.0</td>\n",
       "      <td>1572.0</td>\n",
       "      <td>36879.0</td>\n",
       "      <td>12.0</td>\n",
       "      <td>38491.0</td>\n",
       "    </tr>\n",
       "    <tr>\n",
       "      <th>BC04</th>\n",
       "      <td>3.0</td>\n",
       "      <td>2.0</td>\n",
       "      <td>4.0</td>\n",
       "      <td>135376.0</td>\n",
       "      <td>23.0</td>\n",
       "      <td>135408.0</td>\n",
       "    </tr>\n",
       "    <tr>\n",
       "      <th>BC05</th>\n",
       "      <td>247.0</td>\n",
       "      <td>38.0</td>\n",
       "      <td>76.0</td>\n",
       "      <td>79380.0</td>\n",
       "      <td>810.0</td>\n",
       "      <td>80551.0</td>\n",
       "    </tr>\n",
       "    <tr>\n",
       "      <th>BC06</th>\n",
       "      <td>4.0</td>\n",
       "      <td>6.0</td>\n",
       "      <td>6.0</td>\n",
       "      <td>81409.0</td>\n",
       "      <td>1345.0</td>\n",
       "      <td>82770.0</td>\n",
       "    </tr>\n",
       "    <tr>\n",
       "      <th>NB00</th>\n",
       "      <td>2.0</td>\n",
       "      <td>0.0</td>\n",
       "      <td>1.0</td>\n",
       "      <td>550.0</td>\n",
       "      <td>2.0</td>\n",
       "      <td>555.0</td>\n",
       "    </tr>\n",
       "    <tr>\n",
       "      <th>All</th>\n",
       "      <td>1578.0</td>\n",
       "      <td>89.0</td>\n",
       "      <td>1701.0</td>\n",
       "      <td>445853.0</td>\n",
       "      <td>2347.0</td>\n",
       "      <td>451568.0</td>\n",
       "    </tr>\n",
       "  </tbody>\n",
       "</table>\n",
       "</div>"
      ],
      "text/plain": [
       "species  P. striformis f. sp. tritici WA  Parastagonospora nodorum  \\\n",
       "barcode                                                              \n",
       "BC00                                10.0                       0.0   \n",
       "BC01                                 4.0                       0.0   \n",
       "BC02                              1306.0                      17.0   \n",
       "BC03                                 2.0                      26.0   \n",
       "BC04                                 3.0                       2.0   \n",
       "BC05                               247.0                      38.0   \n",
       "BC06                                 4.0                       6.0   \n",
       "NB00                                 2.0                       0.0   \n",
       "All                               1578.0                      89.0   \n",
       "\n",
       "species  Pyrenophore tritici-repentis     Wheat  Zymoseptoria tritici  \\\n",
       "barcode                                                                 \n",
       "BC00                              6.0    2715.0                   8.0   \n",
       "BC01                              3.0    7650.0                 129.0   \n",
       "BC02                             33.0  101894.0                  18.0   \n",
       "BC03                           1572.0   36879.0                  12.0   \n",
       "BC04                              4.0  135376.0                  23.0   \n",
       "BC05                             76.0   79380.0                 810.0   \n",
       "BC06                              6.0   81409.0                1345.0   \n",
       "NB00                              1.0     550.0                   2.0   \n",
       "All                            1701.0  445853.0                2347.0   \n",
       "\n",
       "species       All  \n",
       "barcode            \n",
       "BC00       2739.0  \n",
       "BC01       7786.0  \n",
       "BC02     103268.0  \n",
       "BC03      38491.0  \n",
       "BC04     135408.0  \n",
       "BC05      80551.0  \n",
       "BC06      82770.0  \n",
       "NB00        555.0  \n",
       "All      451568.0  "
      ]
     },
     "execution_count": 812,
     "metadata": {},
     "output_type": "execute_result"
    }
   ],
   "source": [
    "#Summary table from all blast dataframes: species count per barcode\n",
    "table = joint_blast_df.pivot_table(values='nident', index='barcode', columns='species', aggfunc='count', fill_value=0, margins=True)\n",
    "table"
   ]
  },
  {
   "cell_type": "code",
   "execution_count": 742,
   "metadata": {
    "collapsed": false
   },
   "outputs": [
    {
     "name": "stdout",
     "output_type": "stream",
     "text": [
      "445853\n",
      "2347\n",
      "1701\n",
      "1578\n",
      "89\n"
     ]
    }
   ],
   "source": [
    "#+print(joint_blast_df.groupby('species')['barcode'].get_group('Wheat').count())\n",
    "#print(joint_blast_df.groupby('species')['barcode'].get_group('Zymoseptoria tritici').count())\n",
    "#print(joint_blast_df.groupby('species')['barcode'].get_group('Pyrenophore tritici-repentis').count())\n",
    "#print(joint_blast_df.groupby('species')['barcode'].get_group('P. striformis f. sp. tritici WA').count())\n",
    "#print(joint_blast_df.groupby('species')['barcode'].get_group('Parastagonospora nodorum').count())\n",
    "print('Hello!')\n"
   ]
  },
  {
   "cell_type": "code",
   "execution_count": 695,
   "metadata": {
    "collapsed": true
   },
   "outputs": [
    {
     "name": "stdout",
     "output_type": "stream",
     "text": [
      "['BC00', 'BC01', 'BC02', 'BC03', 'BC04', 'BC05', 'BC06', 'NB00']\n",
      "BC00  -  P. striformis f. sp. tritici WA  -  10\n",
      "BC00  -  Pyrenophore tritici-repentis  -  6\n",
      "BC00  -  Wheat  -  2715\n",
      "BC00  -  Zymoseptoria tritici  -  8\n",
      "\n",
      "BC01  -  P. striformis f. sp. tritici WA  -  4\n",
      "BC01  -  Pyrenophore tritici-repentis  -  3\n",
      "BC01  -  Wheat  -  7650\n",
      "BC01  -  Zymoseptoria tritici  -  129\n",
      "\n",
      "BC02  -  P. striformis f. sp. tritici WA  -  1306\n",
      "BC02  -  Parastagonospora nodorum  -  17\n",
      "BC02  -  Pyrenophore tritici-repentis  -  33\n",
      "BC02  -  Wheat  -  101894\n",
      "BC02  -  Zymoseptoria tritici  -  18\n",
      "\n",
      "BC03  -  P. striformis f. sp. tritici WA  -  2\n",
      "BC03  -  Parastagonospora nodorum  -  26\n",
      "BC03  -  Pyrenophore tritici-repentis  -  1572\n",
      "BC03  -  Wheat  -  36879\n",
      "BC03  -  Zymoseptoria tritici  -  12\n",
      "\n",
      "BC04  -  P. striformis f. sp. tritici WA  -  3\n",
      "BC04  -  Parastagonospora nodorum  -  2\n",
      "BC04  -  Pyrenophore tritici-repentis  -  4\n",
      "BC04  -  Wheat  -  135376\n",
      "BC04  -  Zymoseptoria tritici  -  23\n",
      "\n",
      "BC05  -  P. striformis f. sp. tritici WA  -  247\n",
      "BC05  -  Parastagonospora nodorum  -  38\n",
      "BC05  -  Pyrenophore tritici-repentis  -  76\n",
      "BC05  -  Wheat  -  79380\n",
      "BC05  -  Zymoseptoria tritici  -  810\n",
      "\n",
      "BC06  -  P. striformis f. sp. tritici WA  -  4\n",
      "BC06  -  Parastagonospora nodorum  -  6\n",
      "BC06  -  Pyrenophore tritici-repentis  -  6\n",
      "BC06  -  Wheat  -  81409\n",
      "BC06  -  Zymoseptoria tritici  -  1345\n",
      "\n",
      "NB00  -  P. striformis f. sp. tritici WA  -  2\n",
      "NB00  -  Pyrenophore tritici-repentis  -  1\n",
      "NB00  -  Wheat  -  550\n",
      "NB00  -  Zymoseptoria tritici  -  2\n",
      "\n"
     ]
    }
   ],
   "source": [
    "#blast_barcodes_list = sorted(list(blast_dfs_dict.keys()))\n",
    "#print(blast_barcodes_list)\n",
    "#\n",
    "#for bcs in blast_barcodes_list:\n",
    "#    for spcs in sorted(list(set(blast_dfs_dict[bcs]['species'].tolist()))):\n",
    "#        print(bcs, \" - \", spcs, ' - ', blast_dfs_dict[bcs].groupby('species')['qseqid'].get_group(spcs).count())\n",
    "#    print()"
   ]
  },
  {
   "cell_type": "code",
   "execution_count": 770,
   "metadata": {
    "collapsed": false
   },
   "outputs": [
    {
     "data": {
      "text/plain": [
       "['Wheat',\n",
       " 'Parastagonospora nodorum',\n",
       " 'Zymoseptoria tritici',\n",
       " 'Pyrenophore tritici-repentis',\n",
       " 'P. striformis f. sp. tritici WA']"
      ]
     },
     "execution_count": 770,
     "metadata": {},
     "output_type": "execute_result"
    }
   ],
   "source": [
    "#list(set(joint_blast_df['species'].tolist()))"
   ]
  },
  {
   "cell_type": "code",
   "execution_count": 693,
   "metadata": {
    "collapsed": false
   },
   "outputs": [
    {
     "name": "stdout",
     "output_type": "stream",
     "text": [
      "BC00  -  P. striformis f. sp. tritici WA  -  10\n",
      "BC00  -  Pyrenophore tritici-repentis  -  6\n",
      "BC00  -  Wheat  -  2715\n",
      "BC00  -  Zymoseptoria tritici  -  8\n",
      "\n",
      "BC01  -  P. striformis f. sp. tritici WA  -  4\n",
      "BC01  -  Pyrenophore tritici-repentis  -  3\n",
      "BC01  -  Wheat  -  7650\n",
      "BC01  -  Zymoseptoria tritici  -  129\n",
      "\n",
      "BC02  -  P. striformis f. sp. tritici WA  -  1306\n",
      "BC02  -  Parastagonospora nodorum  -  17\n",
      "BC02  -  Pyrenophore tritici-repentis  -  33\n",
      "BC02  -  Wheat  -  101894\n",
      "BC02  -  Zymoseptoria tritici  -  18\n",
      "\n",
      "BC03  -  P. striformis f. sp. tritici WA  -  2\n",
      "BC03  -  Parastagonospora nodorum  -  26\n",
      "BC03  -  Pyrenophore tritici-repentis  -  1572\n",
      "BC03  -  Wheat  -  36879\n",
      "BC03  -  Zymoseptoria tritici  -  12\n",
      "\n",
      "BC04  -  P. striformis f. sp. tritici WA  -  3\n",
      "BC04  -  Parastagonospora nodorum  -  2\n",
      "BC04  -  Pyrenophore tritici-repentis  -  4\n",
      "BC04  -  Wheat  -  135376\n",
      "BC04  -  Zymoseptoria tritici  -  23\n",
      "\n",
      "BC05  -  P. striformis f. sp. tritici WA  -  247\n",
      "BC05  -  Parastagonospora nodorum  -  38\n",
      "BC05  -  Pyrenophore tritici-repentis  -  76\n",
      "BC05  -  Wheat  -  79380\n",
      "BC05  -  Zymoseptoria tritici  -  810\n",
      "\n",
      "BC06  -  P. striformis f. sp. tritici WA  -  4\n",
      "BC06  -  Parastagonospora nodorum  -  6\n",
      "BC06  -  Pyrenophore tritici-repentis  -  6\n",
      "BC06  -  Wheat  -  81409\n",
      "BC06  -  Zymoseptoria tritici  -  1345\n",
      "\n",
      "NB00  -  P. striformis f. sp. tritici WA  -  2\n",
      "NB00  -  Pyrenophore tritici-repentis  -  1\n",
      "NB00  -  Wheat  -  550\n",
      "NB00  -  Zymoseptoria tritici  -  2\n",
      "\n"
     ]
    }
   ],
   "source": []
  },
  {
   "cell_type": "code",
   "execution_count": 681,
   "metadata": {
    "collapsed": false
   },
   "outputs": [
    {
     "ename": "KeyError",
     "evalue": "'Parastagonospora nodorum'",
     "output_type": "error",
     "traceback": [
      "\u001b[0;31m---------------------------------------------------------------------------\u001b[0m",
      "\u001b[0;31mKeyError\u001b[0m                                  Traceback (most recent call last)",
      "\u001b[0;32m<ipython-input-681-f7626c868450>\u001b[0m in \u001b[0;36m<module>\u001b[0;34m()\u001b[0m\n\u001b[0;32m----> 1\u001b[0;31m \u001b[0mblast_dfs_dict\u001b[0m\u001b[0;34m[\u001b[0m\u001b[0;34m'BC01'\u001b[0m\u001b[0;34m]\u001b[0m\u001b[0;34m.\u001b[0m\u001b[0mgroupby\u001b[0m\u001b[0;34m(\u001b[0m\u001b[0;34m'species'\u001b[0m\u001b[0;34m)\u001b[0m\u001b[0;34m[\u001b[0m\u001b[0;34m'qseqid'\u001b[0m\u001b[0;34m]\u001b[0m\u001b[0;34m.\u001b[0m\u001b[0mget_group\u001b[0m\u001b[0;34m(\u001b[0m\u001b[0;34m'Parastagonospora nodorum'\u001b[0m\u001b[0;34m)\u001b[0m\u001b[0;34m.\u001b[0m\u001b[0mcount\u001b[0m\u001b[0;34m(\u001b[0m\u001b[0;34m)\u001b[0m\u001b[0;34m\u001b[0m\u001b[0m\n\u001b[0m",
      "\u001b[0;32m/home/gamran/anaconda3/lib/python3.5/site-packages/pandas/core/groupby.py\u001b[0m in \u001b[0;36mget_group\u001b[0;34m(self, name, obj)\u001b[0m\n\u001b[1;32m    585\u001b[0m         \u001b[0minds\u001b[0m \u001b[0;34m=\u001b[0m \u001b[0mself\u001b[0m\u001b[0;34m.\u001b[0m\u001b[0m_get_index\u001b[0m\u001b[0;34m(\u001b[0m\u001b[0mname\u001b[0m\u001b[0;34m)\u001b[0m\u001b[0;34m\u001b[0m\u001b[0m\n\u001b[1;32m    586\u001b[0m         \u001b[0;32mif\u001b[0m \u001b[0;32mnot\u001b[0m \u001b[0mlen\u001b[0m\u001b[0;34m(\u001b[0m\u001b[0minds\u001b[0m\u001b[0;34m)\u001b[0m\u001b[0;34m:\u001b[0m\u001b[0;34m\u001b[0m\u001b[0m\n\u001b[0;32m--> 587\u001b[0;31m             \u001b[0;32mraise\u001b[0m \u001b[0mKeyError\u001b[0m\u001b[0;34m(\u001b[0m\u001b[0mname\u001b[0m\u001b[0;34m)\u001b[0m\u001b[0;34m\u001b[0m\u001b[0m\n\u001b[0m\u001b[1;32m    588\u001b[0m \u001b[0;34m\u001b[0m\u001b[0m\n\u001b[1;32m    589\u001b[0m         \u001b[0;32mreturn\u001b[0m \u001b[0mobj\u001b[0m\u001b[0;34m.\u001b[0m\u001b[0mtake\u001b[0m\u001b[0;34m(\u001b[0m\u001b[0minds\u001b[0m\u001b[0;34m,\u001b[0m \u001b[0maxis\u001b[0m\u001b[0;34m=\u001b[0m\u001b[0mself\u001b[0m\u001b[0;34m.\u001b[0m\u001b[0maxis\u001b[0m\u001b[0;34m,\u001b[0m \u001b[0mconvert\u001b[0m\u001b[0;34m=\u001b[0m\u001b[0;32mFalse\u001b[0m\u001b[0;34m)\u001b[0m\u001b[0;34m\u001b[0m\u001b[0m\n",
      "\u001b[0;31mKeyError\u001b[0m: 'Parastagonospora nodorum'"
     ]
    }
   ],
   "source": [
    "#blast_dfs_dict['BC01'].groupby('species')['qseqid'].get_group('Parastagonospora nodorum').count()"
   ]
  },
  {
   "cell_type": "code",
   "execution_count": 598,
   "metadata": {
    "collapsed": true
   },
   "outputs": [
    {
     "name": "stdout",
     "output_type": "stream",
     "text": [
      "BC00\n",
      "Wheat\n"
     ]
    },
    {
     "ename": "KeyError",
     "evalue": "'Wheat'",
     "output_type": "error",
     "traceback": [
      "\u001b[0;31m---------------------------------------------------------------------------\u001b[0m",
      "\u001b[0;31mKeyError\u001b[0m                                  Traceback (most recent call last)",
      "\u001b[0;32m/home/gamran/anaconda3/lib/python3.5/site-packages/pandas/indexes/base.py\u001b[0m in \u001b[0;36mget_loc\u001b[0;34m(self, key, method, tolerance)\u001b[0m\n\u001b[1;32m   1944\u001b[0m             \u001b[0;32mtry\u001b[0m\u001b[0;34m:\u001b[0m\u001b[0;34m\u001b[0m\u001b[0m\n\u001b[0;32m-> 1945\u001b[0;31m                 \u001b[0;32mreturn\u001b[0m \u001b[0mself\u001b[0m\u001b[0;34m.\u001b[0m\u001b[0m_engine\u001b[0m\u001b[0;34m.\u001b[0m\u001b[0mget_loc\u001b[0m\u001b[0;34m(\u001b[0m\u001b[0mkey\u001b[0m\u001b[0;34m)\u001b[0m\u001b[0;34m\u001b[0m\u001b[0m\n\u001b[0m\u001b[1;32m   1946\u001b[0m             \u001b[0;32mexcept\u001b[0m \u001b[0mKeyError\u001b[0m\u001b[0;34m:\u001b[0m\u001b[0;34m\u001b[0m\u001b[0m\n",
      "\u001b[0;32mpandas/index.pyx\u001b[0m in \u001b[0;36mpandas.index.IndexEngine.get_loc (pandas/index.c:4154)\u001b[0;34m()\u001b[0m\n",
      "\u001b[0;32mpandas/index.pyx\u001b[0m in \u001b[0;36mpandas.index.IndexEngine.get_loc (pandas/index.c:4018)\u001b[0;34m()\u001b[0m\n",
      "\u001b[0;32mpandas/hashtable.pyx\u001b[0m in \u001b[0;36mpandas.hashtable.PyObjectHashTable.get_item (pandas/hashtable.c:12368)\u001b[0;34m()\u001b[0m\n",
      "\u001b[0;32mpandas/hashtable.pyx\u001b[0m in \u001b[0;36mpandas.hashtable.PyObjectHashTable.get_item (pandas/hashtable.c:12322)\u001b[0;34m()\u001b[0m\n",
      "\u001b[0;31mKeyError\u001b[0m: 'Wheat'",
      "\nDuring handling of the above exception, another exception occurred:\n",
      "\u001b[0;31mKeyError\u001b[0m                                  Traceback (most recent call last)",
      "\u001b[0;32m<ipython-input-598-909a602786b7>\u001b[0m in \u001b[0;36m<module>\u001b[0;34m()\u001b[0m\n\u001b[1;32m      3\u001b[0m     \u001b[0;32mfor\u001b[0m \u001b[0mspcs\u001b[0m \u001b[0;32min\u001b[0m \u001b[0mblast_genome_list\u001b[0m\u001b[0;34m:\u001b[0m\u001b[0;34m\u001b[0m\u001b[0m\n\u001b[1;32m      4\u001b[0m         \u001b[0mprint\u001b[0m\u001b[0;34m(\u001b[0m\u001b[0mspcs\u001b[0m\u001b[0;34m)\u001b[0m\u001b[0;34m\u001b[0m\u001b[0m\n\u001b[0;32m----> 5\u001b[0;31m         \u001b[0mprint\u001b[0m\u001b[0;34m(\u001b[0m\u001b[0mblast_dfs_dict\u001b[0m\u001b[0;34m[\u001b[0m\u001b[0mbcs\u001b[0m\u001b[0;34m]\u001b[0m\u001b[0;34m[\u001b[0m\u001b[0mspcs\u001b[0m\u001b[0;34m]\u001b[0m\u001b[0;34m.\u001b[0m\u001b[0mcount\u001b[0m\u001b[0;34m(\u001b[0m\u001b[0;34m)\u001b[0m\u001b[0;34m)\u001b[0m\u001b[0;34m\u001b[0m\u001b[0m\n\u001b[0m",
      "\u001b[0;32m/home/gamran/anaconda3/lib/python3.5/site-packages/pandas/core/frame.py\u001b[0m in \u001b[0;36m__getitem__\u001b[0;34m(self, key)\u001b[0m\n\u001b[1;32m   1995\u001b[0m             \u001b[0;32mreturn\u001b[0m \u001b[0mself\u001b[0m\u001b[0;34m.\u001b[0m\u001b[0m_getitem_multilevel\u001b[0m\u001b[0;34m(\u001b[0m\u001b[0mkey\u001b[0m\u001b[0;34m)\u001b[0m\u001b[0;34m\u001b[0m\u001b[0m\n\u001b[1;32m   1996\u001b[0m         \u001b[0;32melse\u001b[0m\u001b[0;34m:\u001b[0m\u001b[0;34m\u001b[0m\u001b[0m\n\u001b[0;32m-> 1997\u001b[0;31m             \u001b[0;32mreturn\u001b[0m \u001b[0mself\u001b[0m\u001b[0;34m.\u001b[0m\u001b[0m_getitem_column\u001b[0m\u001b[0;34m(\u001b[0m\u001b[0mkey\u001b[0m\u001b[0;34m)\u001b[0m\u001b[0;34m\u001b[0m\u001b[0m\n\u001b[0m\u001b[1;32m   1998\u001b[0m \u001b[0;34m\u001b[0m\u001b[0m\n\u001b[1;32m   1999\u001b[0m     \u001b[0;32mdef\u001b[0m \u001b[0m_getitem_column\u001b[0m\u001b[0;34m(\u001b[0m\u001b[0mself\u001b[0m\u001b[0;34m,\u001b[0m \u001b[0mkey\u001b[0m\u001b[0;34m)\u001b[0m\u001b[0;34m:\u001b[0m\u001b[0;34m\u001b[0m\u001b[0m\n",
      "\u001b[0;32m/home/gamran/anaconda3/lib/python3.5/site-packages/pandas/core/frame.py\u001b[0m in \u001b[0;36m_getitem_column\u001b[0;34m(self, key)\u001b[0m\n\u001b[1;32m   2002\u001b[0m         \u001b[0;31m# get column\u001b[0m\u001b[0;34m\u001b[0m\u001b[0;34m\u001b[0m\u001b[0m\n\u001b[1;32m   2003\u001b[0m         \u001b[0;32mif\u001b[0m \u001b[0mself\u001b[0m\u001b[0;34m.\u001b[0m\u001b[0mcolumns\u001b[0m\u001b[0;34m.\u001b[0m\u001b[0mis_unique\u001b[0m\u001b[0;34m:\u001b[0m\u001b[0;34m\u001b[0m\u001b[0m\n\u001b[0;32m-> 2004\u001b[0;31m             \u001b[0;32mreturn\u001b[0m \u001b[0mself\u001b[0m\u001b[0;34m.\u001b[0m\u001b[0m_get_item_cache\u001b[0m\u001b[0;34m(\u001b[0m\u001b[0mkey\u001b[0m\u001b[0;34m)\u001b[0m\u001b[0;34m\u001b[0m\u001b[0m\n\u001b[0m\u001b[1;32m   2005\u001b[0m \u001b[0;34m\u001b[0m\u001b[0m\n\u001b[1;32m   2006\u001b[0m         \u001b[0;31m# duplicate columns & possible reduce dimensionality\u001b[0m\u001b[0;34m\u001b[0m\u001b[0;34m\u001b[0m\u001b[0m\n",
      "\u001b[0;32m/home/gamran/anaconda3/lib/python3.5/site-packages/pandas/core/generic.py\u001b[0m in \u001b[0;36m_get_item_cache\u001b[0;34m(self, item)\u001b[0m\n\u001b[1;32m   1348\u001b[0m         \u001b[0mres\u001b[0m \u001b[0;34m=\u001b[0m \u001b[0mcache\u001b[0m\u001b[0;34m.\u001b[0m\u001b[0mget\u001b[0m\u001b[0;34m(\u001b[0m\u001b[0mitem\u001b[0m\u001b[0;34m)\u001b[0m\u001b[0;34m\u001b[0m\u001b[0m\n\u001b[1;32m   1349\u001b[0m         \u001b[0;32mif\u001b[0m \u001b[0mres\u001b[0m \u001b[0;32mis\u001b[0m \u001b[0;32mNone\u001b[0m\u001b[0;34m:\u001b[0m\u001b[0;34m\u001b[0m\u001b[0m\n\u001b[0;32m-> 1350\u001b[0;31m             \u001b[0mvalues\u001b[0m \u001b[0;34m=\u001b[0m \u001b[0mself\u001b[0m\u001b[0;34m.\u001b[0m\u001b[0m_data\u001b[0m\u001b[0;34m.\u001b[0m\u001b[0mget\u001b[0m\u001b[0;34m(\u001b[0m\u001b[0mitem\u001b[0m\u001b[0;34m)\u001b[0m\u001b[0;34m\u001b[0m\u001b[0m\n\u001b[0m\u001b[1;32m   1351\u001b[0m             \u001b[0mres\u001b[0m \u001b[0;34m=\u001b[0m \u001b[0mself\u001b[0m\u001b[0;34m.\u001b[0m\u001b[0m_box_item_values\u001b[0m\u001b[0;34m(\u001b[0m\u001b[0mitem\u001b[0m\u001b[0;34m,\u001b[0m \u001b[0mvalues\u001b[0m\u001b[0;34m)\u001b[0m\u001b[0;34m\u001b[0m\u001b[0m\n\u001b[1;32m   1352\u001b[0m             \u001b[0mcache\u001b[0m\u001b[0;34m[\u001b[0m\u001b[0mitem\u001b[0m\u001b[0;34m]\u001b[0m \u001b[0;34m=\u001b[0m \u001b[0mres\u001b[0m\u001b[0;34m\u001b[0m\u001b[0m\n",
      "\u001b[0;32m/home/gamran/anaconda3/lib/python3.5/site-packages/pandas/core/internals.py\u001b[0m in \u001b[0;36mget\u001b[0;34m(self, item, fastpath)\u001b[0m\n\u001b[1;32m   3288\u001b[0m \u001b[0;34m\u001b[0m\u001b[0m\n\u001b[1;32m   3289\u001b[0m             \u001b[0;32mif\u001b[0m \u001b[0;32mnot\u001b[0m \u001b[0misnull\u001b[0m\u001b[0;34m(\u001b[0m\u001b[0mitem\u001b[0m\u001b[0;34m)\u001b[0m\u001b[0;34m:\u001b[0m\u001b[0;34m\u001b[0m\u001b[0m\n\u001b[0;32m-> 3290\u001b[0;31m                 \u001b[0mloc\u001b[0m \u001b[0;34m=\u001b[0m \u001b[0mself\u001b[0m\u001b[0;34m.\u001b[0m\u001b[0mitems\u001b[0m\u001b[0;34m.\u001b[0m\u001b[0mget_loc\u001b[0m\u001b[0;34m(\u001b[0m\u001b[0mitem\u001b[0m\u001b[0;34m)\u001b[0m\u001b[0;34m\u001b[0m\u001b[0m\n\u001b[0m\u001b[1;32m   3291\u001b[0m             \u001b[0;32melse\u001b[0m\u001b[0;34m:\u001b[0m\u001b[0;34m\u001b[0m\u001b[0m\n\u001b[1;32m   3292\u001b[0m                 \u001b[0mindexer\u001b[0m \u001b[0;34m=\u001b[0m \u001b[0mnp\u001b[0m\u001b[0;34m.\u001b[0m\u001b[0marange\u001b[0m\u001b[0;34m(\u001b[0m\u001b[0mlen\u001b[0m\u001b[0;34m(\u001b[0m\u001b[0mself\u001b[0m\u001b[0;34m.\u001b[0m\u001b[0mitems\u001b[0m\u001b[0;34m)\u001b[0m\u001b[0;34m)\u001b[0m\u001b[0;34m[\u001b[0m\u001b[0misnull\u001b[0m\u001b[0;34m(\u001b[0m\u001b[0mself\u001b[0m\u001b[0;34m.\u001b[0m\u001b[0mitems\u001b[0m\u001b[0;34m)\u001b[0m\u001b[0;34m]\u001b[0m\u001b[0;34m\u001b[0m\u001b[0m\n",
      "\u001b[0;32m/home/gamran/anaconda3/lib/python3.5/site-packages/pandas/indexes/base.py\u001b[0m in \u001b[0;36mget_loc\u001b[0;34m(self, key, method, tolerance)\u001b[0m\n\u001b[1;32m   1945\u001b[0m                 \u001b[0;32mreturn\u001b[0m \u001b[0mself\u001b[0m\u001b[0;34m.\u001b[0m\u001b[0m_engine\u001b[0m\u001b[0;34m.\u001b[0m\u001b[0mget_loc\u001b[0m\u001b[0;34m(\u001b[0m\u001b[0mkey\u001b[0m\u001b[0;34m)\u001b[0m\u001b[0;34m\u001b[0m\u001b[0m\n\u001b[1;32m   1946\u001b[0m             \u001b[0;32mexcept\u001b[0m \u001b[0mKeyError\u001b[0m\u001b[0;34m:\u001b[0m\u001b[0;34m\u001b[0m\u001b[0m\n\u001b[0;32m-> 1947\u001b[0;31m                 \u001b[0;32mreturn\u001b[0m \u001b[0mself\u001b[0m\u001b[0;34m.\u001b[0m\u001b[0m_engine\u001b[0m\u001b[0;34m.\u001b[0m\u001b[0mget_loc\u001b[0m\u001b[0;34m(\u001b[0m\u001b[0mself\u001b[0m\u001b[0;34m.\u001b[0m\u001b[0m_maybe_cast_indexer\u001b[0m\u001b[0;34m(\u001b[0m\u001b[0mkey\u001b[0m\u001b[0;34m)\u001b[0m\u001b[0;34m)\u001b[0m\u001b[0;34m\u001b[0m\u001b[0m\n\u001b[0m\u001b[1;32m   1948\u001b[0m \u001b[0;34m\u001b[0m\u001b[0m\n\u001b[1;32m   1949\u001b[0m         \u001b[0mindexer\u001b[0m \u001b[0;34m=\u001b[0m \u001b[0mself\u001b[0m\u001b[0;34m.\u001b[0m\u001b[0mget_indexer\u001b[0m\u001b[0;34m(\u001b[0m\u001b[0;34m[\u001b[0m\u001b[0mkey\u001b[0m\u001b[0;34m]\u001b[0m\u001b[0;34m,\u001b[0m \u001b[0mmethod\u001b[0m\u001b[0;34m=\u001b[0m\u001b[0mmethod\u001b[0m\u001b[0;34m,\u001b[0m \u001b[0mtolerance\u001b[0m\u001b[0;34m=\u001b[0m\u001b[0mtolerance\u001b[0m\u001b[0;34m)\u001b[0m\u001b[0;34m\u001b[0m\u001b[0m\n",
      "\u001b[0;32mpandas/index.pyx\u001b[0m in \u001b[0;36mpandas.index.IndexEngine.get_loc (pandas/index.c:4154)\u001b[0;34m()\u001b[0m\n",
      "\u001b[0;32mpandas/index.pyx\u001b[0m in \u001b[0;36mpandas.index.IndexEngine.get_loc (pandas/index.c:4018)\u001b[0;34m()\u001b[0m\n",
      "\u001b[0;32mpandas/hashtable.pyx\u001b[0m in \u001b[0;36mpandas.hashtable.PyObjectHashTable.get_item (pandas/hashtable.c:12368)\u001b[0;34m()\u001b[0m\n",
      "\u001b[0;32mpandas/hashtable.pyx\u001b[0m in \u001b[0;36mpandas.hashtable.PyObjectHashTable.get_item (pandas/hashtable.c:12322)\u001b[0;34m()\u001b[0m\n",
      "\u001b[0;31mKeyError\u001b[0m: 'Wheat'"
     ]
    }
   ],
   "source": []
  },
  {
   "cell_type": "code",
   "execution_count": 585,
   "metadata": {
    "collapsed": false
   },
   "outputs": [
    {
     "data": {
      "text/plain": [
       "'Wheat'"
      ]
     },
     "execution_count": 585,
     "metadata": {},
     "output_type": "execute_result"
    }
   ],
   "source": [
    "#str(BC01_b_poretools_df.groupby('species')['species'].get_group('Wheat')[0])"
   ]
  },
  {
   "cell_type": "code",
   "execution_count": 518,
   "metadata": {
    "collapsed": true
   },
   "outputs": [
    {
     "name": "stdout",
     "output_type": "stream",
     "text": [
      "7786\n",
      "7650\n",
      "129\n",
      "3\n",
      "4\n"
     ]
    },
    {
     "ename": "KeyError",
     "evalue": "'Parastagonospora nodorum'",
     "output_type": "error",
     "traceback": [
      "\u001b[0;31m---------------------------------------------------------------------------\u001b[0m",
      "\u001b[0;31mKeyError\u001b[0m                                  Traceback (most recent call last)",
      "\u001b[0;32m<ipython-input-518-e89b43a3c71c>\u001b[0m in \u001b[0;36m<module>\u001b[0;34m()\u001b[0m\n\u001b[1;32m      6\u001b[0m \u001b[0mprint\u001b[0m\u001b[0;34m(\u001b[0m\u001b[0mBC01_b_poretools_df\u001b[0m\u001b[0;34m.\u001b[0m\u001b[0mgroupby\u001b[0m\u001b[0;34m(\u001b[0m\u001b[0;34m'species'\u001b[0m\u001b[0;34m)\u001b[0m\u001b[0;34m[\u001b[0m\u001b[0;34m'qseqid'\u001b[0m\u001b[0;34m]\u001b[0m\u001b[0;34m.\u001b[0m\u001b[0mget_group\u001b[0m\u001b[0;34m(\u001b[0m\u001b[0;34m'Pyrenophore tritici-repentis'\u001b[0m\u001b[0;34m)\u001b[0m\u001b[0;34m.\u001b[0m\u001b[0mcount\u001b[0m\u001b[0;34m(\u001b[0m\u001b[0;34m)\u001b[0m\u001b[0;34m)\u001b[0m\u001b[0;34m\u001b[0m\u001b[0m\n\u001b[1;32m      7\u001b[0m \u001b[0mprint\u001b[0m\u001b[0;34m(\u001b[0m\u001b[0mBC01_b_poretools_df\u001b[0m\u001b[0;34m.\u001b[0m\u001b[0mgroupby\u001b[0m\u001b[0;34m(\u001b[0m\u001b[0;34m'species'\u001b[0m\u001b[0;34m)\u001b[0m\u001b[0;34m[\u001b[0m\u001b[0;34m'qseqid'\u001b[0m\u001b[0;34m]\u001b[0m\u001b[0;34m.\u001b[0m\u001b[0mget_group\u001b[0m\u001b[0;34m(\u001b[0m\u001b[0;34m'P. striformis f. sp. tritici WA'\u001b[0m\u001b[0;34m)\u001b[0m\u001b[0;34m.\u001b[0m\u001b[0mcount\u001b[0m\u001b[0;34m(\u001b[0m\u001b[0;34m)\u001b[0m\u001b[0;34m)\u001b[0m\u001b[0;34m\u001b[0m\u001b[0m\n\u001b[0;32m----> 8\u001b[0;31m \u001b[0mprint\u001b[0m\u001b[0;34m(\u001b[0m\u001b[0mBC01_b_poretools_df\u001b[0m\u001b[0;34m.\u001b[0m\u001b[0mgroupby\u001b[0m\u001b[0;34m(\u001b[0m\u001b[0;34m'species'\u001b[0m\u001b[0;34m)\u001b[0m\u001b[0;34m[\u001b[0m\u001b[0;34m'qseqid'\u001b[0m\u001b[0;34m]\u001b[0m\u001b[0;34m.\u001b[0m\u001b[0mget_group\u001b[0m\u001b[0;34m(\u001b[0m\u001b[0;34m'Parastagonospora nodorum'\u001b[0m\u001b[0;34m)\u001b[0m\u001b[0;34m.\u001b[0m\u001b[0mcount\u001b[0m\u001b[0;34m(\u001b[0m\u001b[0;34m)\u001b[0m\u001b[0;34m)\u001b[0m\u001b[0;34m\u001b[0m\u001b[0m\n\u001b[0m",
      "\u001b[0;32m/home/gamran/anaconda3/lib/python3.5/site-packages/pandas/core/groupby.py\u001b[0m in \u001b[0;36mget_group\u001b[0;34m(self, name, obj)\u001b[0m\n\u001b[1;32m    585\u001b[0m         \u001b[0minds\u001b[0m \u001b[0;34m=\u001b[0m \u001b[0mself\u001b[0m\u001b[0;34m.\u001b[0m\u001b[0m_get_index\u001b[0m\u001b[0;34m(\u001b[0m\u001b[0mname\u001b[0m\u001b[0;34m)\u001b[0m\u001b[0;34m\u001b[0m\u001b[0m\n\u001b[1;32m    586\u001b[0m         \u001b[0;32mif\u001b[0m \u001b[0;32mnot\u001b[0m \u001b[0mlen\u001b[0m\u001b[0;34m(\u001b[0m\u001b[0minds\u001b[0m\u001b[0;34m)\u001b[0m\u001b[0;34m:\u001b[0m\u001b[0;34m\u001b[0m\u001b[0m\n\u001b[0;32m--> 587\u001b[0;31m             \u001b[0;32mraise\u001b[0m \u001b[0mKeyError\u001b[0m\u001b[0;34m(\u001b[0m\u001b[0mname\u001b[0m\u001b[0;34m)\u001b[0m\u001b[0;34m\u001b[0m\u001b[0m\n\u001b[0m\u001b[1;32m    588\u001b[0m \u001b[0;34m\u001b[0m\u001b[0m\n\u001b[1;32m    589\u001b[0m         \u001b[0;32mreturn\u001b[0m \u001b[0mobj\u001b[0m\u001b[0;34m.\u001b[0m\u001b[0mtake\u001b[0m\u001b[0;34m(\u001b[0m\u001b[0minds\u001b[0m\u001b[0;34m,\u001b[0m \u001b[0maxis\u001b[0m\u001b[0;34m=\u001b[0m\u001b[0mself\u001b[0m\u001b[0;34m.\u001b[0m\u001b[0maxis\u001b[0m\u001b[0;34m,\u001b[0m \u001b[0mconvert\u001b[0m\u001b[0;34m=\u001b[0m\u001b[0;32mFalse\u001b[0m\u001b[0;34m)\u001b[0m\u001b[0;34m\u001b[0m\u001b[0m\n",
      "\u001b[0;31mKeyError\u001b[0m: 'Parastagonospora nodorum'"
     ]
    }
   ],
   "source": [
    "#BC01_b_poretools_df.loc[BC01_b_poretools_df['species'] == 'Wheat']['species'].count()\n",
    "\n",
    "\n",
    "    \n",
    "    \n",
    " \n",
    "    \n",
    "#print(BC01_b_poretools_df['species'].count())\n",
    "#if \n",
    "#print(BC01_b_poretools_df.groupby('species')['qseqid'].get_group('Wheat').count())\n",
    "#print(BC01_b_poretools_df.groupby('species')['qseqid'].get_group('Zymoseptoria tritici').count())\n",
    "#print(BC01_b_poretools_df.groupby('species')['qseqid'].get_group('Pyrenophore tritici-repentis').count())\n",
    "#print(BC01_b_poretools_df.groupby('species')['qseqid'].get_group('P. striformis f. sp. tritici WA').count())\n",
    "#print(BC01_b_poretools_df.groupby('species')['qseqid'].get_group('Parastagonospora nodorum').count())\n",
    "\n"
   ]
  },
  {
   "cell_type": "code",
   "execution_count": null,
   "metadata": {
    "collapsed": true
   },
   "outputs": [],
   "source": []
  },
  {
   "cell_type": "code",
   "execution_count": 532,
   "metadata": {
    "collapsed": true
   },
   "outputs": [
    {
     "ename": "NameError",
     "evalue": "name 'BC02_read_id_list' is not defined",
     "output_type": "error",
     "traceback": [
      "\u001b[0;31m---------------------------------------------------------------------------\u001b[0m",
      "\u001b[0;31mNameError\u001b[0m                                 Traceback (most recent call last)",
      "\u001b[0;32m<ipython-input-532-ed36230cc3b4>\u001b[0m in \u001b[0;36m<module>\u001b[0;34m()\u001b[0m\n\u001b[1;32m      8\u001b[0m \u001b[0;34m\u001b[0m\u001b[0m\n\u001b[1;32m      9\u001b[0m \u001b[0mgood_barcodes_readid_dict\u001b[0m\u001b[0;34m[\u001b[0m\u001b[0;34m'BC01'\u001b[0m\u001b[0;34m]\u001b[0m \u001b[0;34m=\u001b[0m \u001b[0mBC01_read_id_list\u001b[0m \u001b[0;31m#Assigns dataframes as the value of each key\u001b[0m\u001b[0;34m\u001b[0m\u001b[0m\n\u001b[0;32m---> 10\u001b[0;31m \u001b[0mgood_barcodes_readid_dict\u001b[0m\u001b[0;34m[\u001b[0m\u001b[0;34m'BC02'\u001b[0m\u001b[0;34m]\u001b[0m \u001b[0;34m=\u001b[0m \u001b[0mBC02_read_id_list\u001b[0m\u001b[0;34m\u001b[0m\u001b[0m\n\u001b[0m\u001b[1;32m     11\u001b[0m \u001b[0mgood_barcodes_readid_dict\u001b[0m\u001b[0;34m[\u001b[0m\u001b[0;34m'BC03'\u001b[0m\u001b[0;34m]\u001b[0m \u001b[0;34m=\u001b[0m \u001b[0mBC03_read_id_list\u001b[0m\u001b[0;34m\u001b[0m\u001b[0m\n\u001b[1;32m     12\u001b[0m \u001b[0mgood_barcodes_readid_dict\u001b[0m\u001b[0;34m[\u001b[0m\u001b[0;34m'BC04'\u001b[0m\u001b[0;34m]\u001b[0m \u001b[0;34m=\u001b[0m \u001b[0mBC04_read_id_list\u001b[0m\u001b[0;34m\u001b[0m\u001b[0m\n",
      "\u001b[0;31mNameError\u001b[0m: name 'BC02_read_id_list' is not defined"
     ]
    }
   ],
   "source": [
    "# Compare list of all BC01 reads and all BC01 blasted reads to construct a list of BC01 reads not blasted\n",
    "# Create dataframes for the blast results of each barcode\n"
   ]
  },
  {
   "cell_type": "code",
   "execution_count": 601,
   "metadata": {
    "collapsed": true
   },
   "outputs": [
    {
     "data": {
      "text/plain": [
       "['002d83ec-00d4-48ce-926f-88712f960fa2_Basecall_Alignment_template',\n",
       " '00555f97-147e-4b63-a997-dc472b8aa694_Basecall_Alignment_template',\n",
       " '005a355e-e1cf-451b-ae8a-c4488955bc2d_Basecall_Alignment_template',\n",
       " '006bc7b4-4e53-4973-b458-9896fdd4f5c3_Basecall_Alignment_template',\n",
       " '00746f14-5f3f-4eb8-ae5c-976fbbaff0e3_Basecall_Alignment_template',\n",
       " '008b7268-fbbc-49a8-a4cd-f7ae2d4854a6_Basecall_Alignment_template',\n",
       " '008c4937-274f-4410-9f24-5f1ec5fca687_Basecall_Alignment_template',\n",
       " '009c8989-9a2c-40d0-94cd-bad1840a44d6_Basecall_Alignment_template',\n",
       " '00a39415-70e7-4fa6-b4c6-f110da0357fb_Basecall_Alignment_template',\n",
       " '00a4614e-f161-4ed4-ac6c-86f43f2ba310_Basecall_Alignment_template',\n",
       " '00a6a4b9-cb55-4aa6-95cb-40a00e4f47ed_Basecall_Alignment_template',\n",
       " '00c0180c-8f85-4e90-9bb4-401bf3bd08a9_Basecall_Alignment_template',\n",
       " '00c66c90-4439-426a-aefd-039073c50f4e_Basecall_Alignment_template',\n",
       " '00cb880f-3759-4019-b644-d3dc05608a08_Basecall_Alignment_template',\n",
       " '00cf9bf2-1348-4a53-9133-9ffef5df6dc5_Basecall_Alignment_template',\n",
       " '00d4154e-0ad8-431c-8e5c-2e74c6c72525_Basecall_Alignment_template',\n",
       " '00d6eaf5-cae4-4663-be23-cceb8fbd4f6b_Basecall_Alignment_template',\n",
       " '00d71507-954b-4cbb-b5a0-30767626f7f0_Basecall_Alignment_template',\n",
       " '00d74969-38e1-425b-aa9a-45090b485812_Basecall_Alignment_template',\n",
       " '00e12a58-1eea-4212-a6cb-ced5b62ef297_Basecall_Alignment_template',\n",
       " '00e1b28b-114e-4e4e-b443-8adf16dcf430_Basecall_Alignment_template',\n",
       " '00e2f604-c800-4ba6-8c22-d0639c09a54f_Basecall_Alignment_template',\n",
       " '00e83188-42df-4178-8b2d-bd94a25dcf89_Basecall_Alignment_template',\n",
       " '00e84f54-c376-4396-b4c7-881fd6984bd0_Basecall_Alignment_template',\n",
       " '00fc85dc-9f03-4de3-b7a3-0781c1d9eec2_Basecall_Alignment_template',\n",
       " '010f6cc7-3438-4505-b78c-146452de52dd_Basecall_Alignment_template',\n",
       " '0116fca7-32d4-4235-9c79-a3f6e61013ca_Basecall_Alignment_template',\n",
       " '011ac0c9-622a-44bb-b573-01e5b739b1ee_Basecall_Alignment_template',\n",
       " '011d02e1-fdc8-4155-a691-551c1902de66_Basecall_Alignment_template',\n",
       " '011f1a75-c5d3-4766-b6cb-b7a3148e9e31_Basecall_Alignment_template',\n",
       " '01282164-2242-4724-bb2e-b0dce9365186_Basecall_Alignment_template',\n",
       " '012c29c6-5645-4111-a05e-ba0ea06fe54e_Basecall_Alignment_template',\n",
       " '012dd3c3-3241-4ff1-aa5e-5e4ee095ca17_Basecall_Alignment_template',\n",
       " '012ed42a-7d8d-44a2-a81c-9e765b64bf61_Basecall_Alignment_template',\n",
       " '0131d758-2eb6-4623-998c-dc8d11c23da1_Basecall_Alignment_template',\n",
       " '013898cb-1dea-4e16-8faf-2375c65fec6c_Basecall_Alignment_template',\n",
       " '013cf508-3eda-4c34-9440-9db10b7b3b11_Basecall_Alignment_template',\n",
       " '014356ce-0520-4a71-b93e-9080a5b1677b_Basecall_Alignment_template',\n",
       " '014604e5-0945-41ac-a082-84d438d7c535_Basecall_Alignment_template',\n",
       " '015023c7-be26-4081-9b3a-98bc8dca9348_Basecall_Alignment_template',\n",
       " '01601cd9-bb05-4e6b-b28f-05db0cfa098b_Basecall_Alignment_template',\n",
       " '01632ef0-72cc-4c01-a65a-d8de719f5995_Basecall_Alignment_template',\n",
       " '0175db17-63bd-4621-a9aa-5862fdcba8e8_Basecall_Alignment_template',\n",
       " '017e4578-253a-4970-b525-919666ebf071_Basecall_Alignment_template',\n",
       " '018bf634-51b4-4f13-8c89-60f75201bd3a_Basecall_Alignment_template',\n",
       " '01951e50-0baa-4d23-9da2-1c94055a0e60_Basecall_Alignment_template',\n",
       " '01958aba-b89d-4a90-8252-1c7d23f40be0_Basecall_Alignment_template',\n",
       " '01a866e6-f02f-4a85-b50c-f600f20cc338_Basecall_Alignment_template',\n",
       " '01c6c587-554c-4982-ba24-50149901746c_Basecall_Alignment_template',\n",
       " '01caccbf-6c76-4779-a1e1-c7e03e776d7e_Basecall_Alignment_template',\n",
       " '01d0ffb9-613e-4ec1-8513-a962b247fe14_Basecall_Alignment_template',\n",
       " '01d70e72-f3f5-46ab-a7dd-e473d9b45f04_Basecall_Alignment_template',\n",
       " '01d96fc6-0be8-4824-b855-61ecf3cc6e9a_Basecall_Alignment_template',\n",
       " '01dea18f-0c46-47a6-9fce-11e51739e4a4_Basecall_Alignment_template',\n",
       " '01f57551-4cff-4265-ac16-f30e40e1e977_Basecall_Alignment_template',\n",
       " '01fa4fdb-a413-4953-bf1d-ca363e30fd48_Basecall_Alignment_template',\n",
       " '020193ca-8b9d-45a7-b913-b64645fe5037_Basecall_Alignment_template',\n",
       " '02046240-616d-49d6-a7ee-7be2bc52f292_Basecall_Alignment_template',\n",
       " '0204a6c2-ffe4-40dc-9ea0-b785411edb00_Basecall_Alignment_template',\n",
       " '02093541-794f-4a28-bf89-35106604f8ae_Basecall_Alignment_template',\n",
       " '0213e46e-a863-4baf-bb32-801869a9d1fd_Basecall_Alignment_template',\n",
       " '022abccd-e57c-4278-8532-bfa8f5dd4981_Basecall_Alignment_template',\n",
       " '0231fa8e-b617-4055-aecd-e1cec5ddaf95_Basecall_Alignment_template',\n",
       " '023a234b-18f7-496f-9570-267e8df610dd_Basecall_Alignment_template',\n",
       " '025fd7e9-b293-47b2-9062-db5d77289ce5_Basecall_Alignment_template',\n",
       " '0274038a-d31f-4aaa-bb6b-0c6ee51f99a8_Basecall_Alignment_template',\n",
       " '02787b6a-a3d7-4f3e-8f2c-2ec646989b69_Basecall_Alignment_template',\n",
       " '02859433-0f36-44a2-b101-c79fcb2278a5_Basecall_Alignment_template',\n",
       " '0294abe3-432c-417e-880e-d2a226b14af0_Basecall_Alignment_template',\n",
       " '029b62e3-aca9-4c23-ba5a-e6ac700d9986_Basecall_Alignment_template',\n",
       " '02a52e5f-0ad2-4a06-955f-688823237c76_Basecall_Alignment_template',\n",
       " '02a9e546-e27f-4c0d-8a22-d2a0b8732cc9_Basecall_Alignment_template',\n",
       " '02b32859-ac46-46ba-9838-e331075f74f1_Basecall_Alignment_template',\n",
       " '02b675d1-c7d3-4dd3-9efb-e50a5d9f314f_Basecall_Alignment_template',\n",
       " '02baa711-a54b-46b9-bd24-2281c8082d58_Basecall_Alignment_template',\n",
       " '02bb1aa8-b894-4141-b6e7-288d5a423156_Basecall_Alignment_template',\n",
       " '02d4bb9f-088a-426e-8b26-a51e3e6bc572_Basecall_Alignment_template',\n",
       " '02ea921a-a366-467f-8cf6-cf8c569b3fe1_Basecall_Alignment_template',\n",
       " '02fe9e8e-821d-4c98-884e-b25f75a8db74_Basecall_Alignment_template',\n",
       " '02fea54b-1cf8-4f39-8866-3743b1e4ce08_Basecall_Alignment_template',\n",
       " '03075ddb-0d3e-4f3a-850d-e28ebd2b1628_Basecall_Alignment_template',\n",
       " '03162e86-1aa7-4103-8f5f-4df2b1c4b9b3_Basecall_Alignment_template',\n",
       " '031f0f48-6b34-4a13-aa47-627d9590876a_Basecall_Alignment_template',\n",
       " '03367fca-4adb-4b52-8ee8-329d8252e62d_Basecall_Alignment_template',\n",
       " '0339e90d-851e-4125-9a57-e2ae94ca9bb3_Basecall_Alignment_template',\n",
       " '034574b6-e03a-4348-8501-0dec7da884b5_Basecall_Alignment_template',\n",
       " '034ca20f-0ac4-4dfe-9203-5dbfbcd95779_Basecall_Alignment_template',\n",
       " '034ddb68-f56b-46db-861b-9603833396a9_Basecall_Alignment_template',\n",
       " '0352fffe-3b3f-4bf5-84f3-31852b98a1f3_Basecall_Alignment_template',\n",
       " '03745617-8e13-4b74-b7c6-18c7db02a0da_Basecall_Alignment_template',\n",
       " '039c8cc8-d361-4eee-938f-1960d437ab81_Basecall_Alignment_template',\n",
       " '03a48358-d6b3-47a2-b50a-3ebebec031c5_Basecall_Alignment_template',\n",
       " '03a48502-dc68-40b4-acaf-1f7ff9922500_Basecall_Alignment_template',\n",
       " '03a49289-dda7-4934-b183-a435530e86d8_Basecall_Alignment_template',\n",
       " '03aa2438-da0c-44b3-8bac-16801e386c95_Basecall_Alignment_template',\n",
       " '03b36901-465e-47e9-b941-ef05379f2837_Basecall_Alignment_template',\n",
       " '03ba2814-9118-4030-913c-715655a70a56_Basecall_Alignment_template',\n",
       " '03baf02a-d85c-44da-a058-783b83ed9c39_Basecall_Alignment_template',\n",
       " '03bd22d0-ecc3-4b90-9ff1-a1ecde0837db_Basecall_Alignment_template',\n",
       " '03bd6dfa-df0a-420c-a795-d99591a8c382_Basecall_Alignment_template',\n",
       " '03be23e5-4422-45de-b456-dfc4df4dadcc_Basecall_Alignment_template',\n",
       " '03c6cf12-0b40-4bc5-86e2-106c1ba7570e_Basecall_Alignment_template',\n",
       " '03cc1e07-21a8-47bd-abfd-ec29813cefa1_Basecall_Alignment_template',\n",
       " '03cdcb27-c2ab-4f4f-a91a-c5d8b5725ba0_Basecall_Alignment_template',\n",
       " '03db41f3-cdf0-4de7-b033-3bebf6598c46_Basecall_Alignment_template',\n",
       " '03e6647d-b900-4c61-9ec8-930121be5fcb_Basecall_Alignment_template',\n",
       " '03ebe27b-9c56-4f1e-8e5f-b9095492fb56_Basecall_Alignment_template',\n",
       " '03f9926e-7802-4fb2-a4f0-b37dbc695659_Basecall_Alignment_template',\n",
       " '03f9c648-b54a-4130-870b-32127008a5f4_Basecall_Alignment_template',\n",
       " '03fb37fe-b669-4d69-bb8d-247142ee7b54_Basecall_Alignment_template',\n",
       " '03fb5ea2-b159-4ac6-8c4c-4d7bb7552d61_Basecall_Alignment_template',\n",
       " '03fcda33-81b1-447a-b797-d24a97644f9b_Basecall_Alignment_template',\n",
       " '040288da-85ec-4caa-9e44-7aef27f7d89e_Basecall_Alignment_template',\n",
       " '04160727-02c7-49e1-b460-fee9a10ec505_Basecall_Alignment_template',\n",
       " '04173906-3e93-4fe0-970f-0b8529e3b76f_Basecall_Alignment_template',\n",
       " '041a0c2f-a0a3-4dc0-9ea9-27ad7b4cdbbd_Basecall_Alignment_template',\n",
       " '04372173-30ae-44ad-9511-afdf0fe7d246_Basecall_Alignment_template',\n",
       " '043cac13-b637-46e4-a9fe-452a922df5e8_Basecall_Alignment_template',\n",
       " '044e47c1-b309-4574-9740-d6c3c089112c_Basecall_Alignment_template',\n",
       " '0451c251-6089-4ca6-8e02-d4497da82f68_Basecall_Alignment_template',\n",
       " '0454b40e-8bf0-440c-a666-f8a65baba63f_Basecall_Alignment_template',\n",
       " '045fcf6a-6095-463a-8d29-b40bbe1876cf_Basecall_Alignment_template',\n",
       " '0463d711-8022-4dc8-89f2-20f883dca730_Basecall_Alignment_template',\n",
       " '0476c771-e98a-441c-a2a6-2520c53b29da_Basecall_Alignment_template',\n",
       " '0476f36d-1a11-4d5f-9857-51936541dd51_Basecall_Alignment_template',\n",
       " '04879e5d-a799-430b-98b7-9ca7e9a416fe_Basecall_Alignment_template',\n",
       " '0490772a-f3fa-48e9-96e3-1e8ed690f8f5_Basecall_Alignment_template',\n",
       " '0498eced-2f29-4fde-ab93-9247cd3af831_Basecall_Alignment_template',\n",
       " '04a0e00b-fe0b-4368-a8cf-3d77fd1c773e_Basecall_Alignment_template',\n",
       " '04ae8c26-6641-454e-9c53-f4861d2b7b35_Basecall_Alignment_template',\n",
       " '04ba8691-892d-4ebd-a790-228e2ae9ae8a_Basecall_Alignment_template',\n",
       " '04bce224-976f-4105-a251-d610aeb0247b_Basecall_Alignment_template',\n",
       " '04c2e685-ce69-4d05-a1c0-596fe1169b20_Basecall_Alignment_template',\n",
       " '04c3e18e-0f24-4e9b-91f5-2b3f16da4cbc_Basecall_Alignment_template',\n",
       " '04cf87e5-9381-4491-96f0-fb08f21a518c_Basecall_Alignment_template',\n",
       " '04d1eb57-4d8a-4c17-b907-ae8f57aace4a_Basecall_Alignment_template',\n",
       " '04d2bb16-9e65-4b5f-8a73-362550f1ceda_Basecall_Alignment_template',\n",
       " '04d45a68-aa94-4b6f-83e4-590aa0ddfc51_Basecall_Alignment_template',\n",
       " '04fae3e3-751e-405c-8a18-3c039dcafa22_Basecall_Alignment_template',\n",
       " '05022bf6-41ca-4c2f-91b7-c790be4426bb_Basecall_Alignment_template',\n",
       " '050ead73-2188-4d4e-9ff1-ce4f2115eaa2_Basecall_Alignment_template',\n",
       " '0512f90e-164e-4428-b818-9f5e39ee9cfd_Basecall_Alignment_template',\n",
       " '052a488a-83bb-4d6d-bfd8-027041c4d2c4_Basecall_Alignment_template',\n",
       " '05310027-1f78-4e71-8126-a48dbbc65e03_Basecall_Alignment_template',\n",
       " '055fb407-c954-4f29-b275-f342c9b78ef2_Basecall_Alignment_template',\n",
       " '0569c644-de8a-43fa-901e-29f37cf12ec1_Basecall_Alignment_template',\n",
       " '056b50a0-1e11-4ed8-9da5-39df97da7518_Basecall_Alignment_template',\n",
       " '056db6bf-8d6c-479d-ba9f-d548a31ba0c4_Basecall_Alignment_template',\n",
       " '057500fc-75b1-4069-9c77-cbe1925c6816_Basecall_Alignment_template',\n",
       " '0582aaa4-5307-4adc-8bc1-bb9f7e9a3635_Basecall_Alignment_template',\n",
       " '0584a787-5bb8-432a-a486-f46802120472_Basecall_Alignment_template',\n",
       " '058a319a-1f2c-4e15-a8fa-cd7167c8da7c_Basecall_Alignment_template',\n",
       " '059374b1-5412-40ce-8c67-611e69462b49_Basecall_Alignment_template',\n",
       " '059f20f1-5c9c-4f6b-8ac6-e5c5a005db30_Basecall_Alignment_template',\n",
       " '05b2e92c-005d-45a9-b56e-94c9d64bf15b_Basecall_Alignment_template',\n",
       " '05b9fa95-fa70-4291-a182-ba523202bae6_Basecall_Alignment_template',\n",
       " '05c5a603-819d-4af3-b20b-32fcab678957_Basecall_Alignment_template',\n",
       " '05d088bf-e4a2-4cb8-8e87-c802a9c56e17_Basecall_Alignment_template',\n",
       " '05d7a447-ca98-4962-aaed-5cc0dd705216_Basecall_Alignment_template',\n",
       " '05e5ef3a-ac2e-4921-ab86-e604b31ebe9a_Basecall_Alignment_template',\n",
       " '05ef3868-ff29-4a6f-87c8-c434b0626b96_Basecall_Alignment_template',\n",
       " '05efdd98-78bc-4d3f-b987-d405691f4fd6_Basecall_Alignment_template',\n",
       " '060a92c1-69c6-4d1c-aa49-eebf6c0f52fb_Basecall_Alignment_template',\n",
       " '0611b3cb-1fba-4981-a74c-4a74d233e647_Basecall_Alignment_template',\n",
       " '061775f0-85d3-4c0b-9ac1-a1e59df36ffb_Basecall_Alignment_template',\n",
       " '0617993d-0825-4fdf-b689-0d4811a14804_Basecall_Alignment_template',\n",
       " '0634d0d4-8e10-4402-af4a-1d224cdb00c7_Basecall_Alignment_template',\n",
       " '063500e0-506d-45ba-b5a3-6dd7dabaca62_Basecall_Alignment_template',\n",
       " '0648a4fa-5c17-42ef-9b64-4002a7745913_Basecall_Alignment_template',\n",
       " '0652dab2-ca4e-4ef8-a19c-237546298d90_Basecall_Alignment_template',\n",
       " '067b5874-26b1-47f7-af8f-6e2ebe949327_Basecall_Alignment_template',\n",
       " '067d2812-88f1-4e75-946c-4ffd9a74ae76_Basecall_Alignment_template',\n",
       " '068e14a3-5b00-40f6-ba67-6618ad0215f4_Basecall_Alignment_template',\n",
       " '068f4a5a-74b1-4406-8315-81071cae39fe_Basecall_Alignment_template',\n",
       " '069043c5-16df-40f6-939e-2e7d0e18d74d_Basecall_Alignment_template',\n",
       " '069f8d52-dc30-484d-b514-07acb80c5063_Basecall_Alignment_template',\n",
       " '06a17ad3-88a4-40ec-b29a-cf4523e29232_Basecall_Alignment_template',\n",
       " '06a8f4a0-988f-41f7-a7df-88f0c40d1f76_Basecall_Alignment_template',\n",
       " '06b6dd95-661c-4293-aa0e-759c9b999802_Basecall_Alignment_template',\n",
       " '06c22a48-c811-453d-8ec8-6b64dd77b230_Basecall_Alignment_template',\n",
       " '06c49c5e-cd8b-4fdc-a9b4-7fe20b98d505_Basecall_Alignment_template',\n",
       " '06ca226d-9d35-495a-b370-451f6380ac97_Basecall_Alignment_template',\n",
       " '06ce7e63-93aa-45a0-8eda-378801482ebf_Basecall_Alignment_template',\n",
       " '06d4103e-179d-4d13-8cd7-9f9658d281b9_Basecall_Alignment_template',\n",
       " '06daa811-357d-40e0-91ef-90ab5339bee0_Basecall_Alignment_template',\n",
       " '06db0c16-8e1f-462f-8760-5c9c14c4de85_Basecall_Alignment_template',\n",
       " '06dd978e-b081-4bf0-a090-9d26d8832a5b_Basecall_Alignment_template',\n",
       " '06ed1e29-07bc-40f9-8053-66449b114dc1_Basecall_Alignment_template',\n",
       " '06f3d24f-9d30-4ec4-8a30-bf6e8f6fcf06_Basecall_Alignment_template',\n",
       " '06f4c483-a45b-44a6-a144-7a101388060b_Basecall_Alignment_template',\n",
       " '070dd6cf-9316-4db6-867e-4df4d7a98fdb_Basecall_Alignment_template',\n",
       " '07113893-e926-49f3-ac2f-bc46c4fefe2b_Basecall_Alignment_template',\n",
       " '071d4582-2d07-496d-9134-a0464feb922f_Basecall_Alignment_template',\n",
       " '07204bfa-dcab-4858-8503-f8b581f1660f_Basecall_Alignment_template',\n",
       " '0721dfce-7d27-4a2b-96c6-5240a5b40b69_Basecall_Alignment_template',\n",
       " '07252f3a-b3e1-4392-89f4-b23671c94cc9_Basecall_Alignment_template',\n",
       " '07285bba-47e9-40fe-909e-156c260573a1_Basecall_Alignment_template',\n",
       " '072fff00-73c6-47e3-838d-3fa460abe350_Basecall_Alignment_template',\n",
       " '07387fbf-11ae-4bdd-a0d3-0df44802ae3c_Basecall_Alignment_template',\n",
       " '0738f70f-3268-4a5e-ac38-0005219a270d_Basecall_Alignment_template',\n",
       " '073b5619-bc12-4c95-81a7-b1de67d47e44_Basecall_Alignment_template',\n",
       " '07537d14-4b92-4a8e-bbb4-677fb37ebb88_Basecall_Alignment_template',\n",
       " '075a6ea3-fb97-48d8-8d73-3af3f3d3d81d_Basecall_Alignment_template',\n",
       " '075dc3e5-996c-49a5-9fc9-7634ee5b9371_Basecall_Alignment_template',\n",
       " '0764bc07-ec43-49d2-9fce-90d2d10d334a_Basecall_Alignment_template',\n",
       " '0784e13b-11c8-4705-a878-36f65af8afde_Basecall_Alignment_template',\n",
       " '079078e4-7ae7-4a5d-98eb-ff515370dcec_Basecall_Alignment_template',\n",
       " '079a5d04-ecf7-4651-b3fc-5013e268bd2f_Basecall_Alignment_template',\n",
       " '07a1c9b2-e4f1-4325-ab51-a2104033d973_Basecall_Alignment_template',\n",
       " '07a9b337-be0b-44ff-a05c-01ed6465c8cf_Basecall_Alignment_template',\n",
       " '07b57ee1-801a-4b7d-9eb5-7fde567fd40c_Basecall_Alignment_template',\n",
       " '07b84496-3f22-4f9b-908e-dd364b34e714_Basecall_Alignment_template',\n",
       " '07c8108c-e3fd-4083-a03a-e05704aca496_Basecall_Alignment_template',\n",
       " '07da20e1-5cf6-4a28-940c-df6ab25cd273_Basecall_Alignment_template',\n",
       " '07de756e-43e3-4eb7-8410-d2c88f44584d_Basecall_Alignment_template',\n",
       " '07e370c0-038d-44b9-966d-015230d6ba77_Basecall_Alignment_template',\n",
       " '07fd6ef2-ae7e-466d-b6f0-1c893ebb344e_Basecall_Alignment_template',\n",
       " '0804ae06-1818-4285-a957-0027d68f22c1_Basecall_Alignment_template',\n",
       " '0804bc7a-73e9-437a-96a0-568a45333965_Basecall_Alignment_template',\n",
       " '081a19fc-df6d-4684-8974-a8756c94afee_Basecall_Alignment_template',\n",
       " '081ecfca-7f52-4add-94bd-314d9b1d8528_Basecall_Alignment_template',\n",
       " '08201b2c-796f-4b36-a089-1fb57e860a7d_Basecall_Alignment_template',\n",
       " '082083aa-a621-42db-ad13-acb83c2ca58a_Basecall_Alignment_template',\n",
       " '082b1b32-f7a6-453a-bee8-0d30a53815fd_Basecall_Alignment_template',\n",
       " '08440546-01e6-4afa-a5f6-179001034afc_Basecall_Alignment_template',\n",
       " '08495aa5-6d63-4b90-99a7-b7d562e19970_Basecall_Alignment_template',\n",
       " '0857481d-6a59-44d1-993f-7fda8c61b8d1_Basecall_Alignment_template',\n",
       " '086256f2-66fd-4cbb-8cfe-8c2fc728f28e_Basecall_Alignment_template',\n",
       " '086560c5-92e7-42d6-b49d-eb847f4362bd_Basecall_Alignment_template',\n",
       " '086e90c0-7e1d-4161-b23d-45d0a22dcae9_Basecall_Alignment_template',\n",
       " '087e806e-bd65-4850-b65c-f6e658980cbe_Basecall_Alignment_template',\n",
       " '087f284e-cfd3-4107-bbd9-a19a0116cfd3_Basecall_Alignment_template',\n",
       " '0891403c-a4e8-4efb-a3c1-a98d187c572e_Basecall_Alignment_template',\n",
       " '089c53fa-43c6-4348-ad61-74e8825ebc2b_Basecall_Alignment_template',\n",
       " '08a57221-814e-4f17-b563-72b5ab20287d_Basecall_Alignment_template',\n",
       " '08b9f006-4763-4722-b199-3a08465afea6_Basecall_Alignment_template',\n",
       " '08bb1b3d-a5ca-41a6-a9de-f5a2c2f634f0_Basecall_Alignment_template',\n",
       " '08d302aa-494e-4bd6-bc40-3a92a4fe1c1a_Basecall_Alignment_template',\n",
       " '08d8d34f-ba40-4b49-889c-aaf99fdad66c_Basecall_Alignment_template',\n",
       " '08e83bcd-6f66-4faf-8163-bad4a481e0a7_Basecall_Alignment_template',\n",
       " '08ecfe73-f3e0-40b4-b33c-59b5b4451c78_Basecall_Alignment_template',\n",
       " '08eddd3e-05c2-4986-aec5-1499fc9c7e13_Basecall_Alignment_template',\n",
       " '08f41a17-96d7-4957-83eb-55718882fc25_Basecall_Alignment_template',\n",
       " '08f831d1-2101-458c-aadd-ed6be8956c33_Basecall_Alignment_template',\n",
       " '091a8cea-ed4c-484f-9e3f-1eb7537eb3f6_Basecall_Alignment_template',\n",
       " '091c5651-6998-4482-9ba5-b1eebe2ff154_Basecall_Alignment_template',\n",
       " '091c70f2-9a73-449b-b309-ada4681f4f09_Basecall_Alignment_template',\n",
       " '093f7772-8d7c-48cc-a230-89df5235a39f_Basecall_Alignment_template',\n",
       " '095d579c-ec75-41f7-a279-99d3fed5f18e_Basecall_Alignment_template',\n",
       " '095d70e3-5e83-4765-b394-609914d2c108_Basecall_Alignment_template',\n",
       " '09728b07-8aff-4741-b67c-2d1dfd3cf41b_Basecall_Alignment_template',\n",
       " '097f9ca1-ac7b-45e1-8d10-3fbbe33fff68_Basecall_Alignment_template',\n",
       " '09812771-2c1b-4616-9929-a74c5fba3a61_Basecall_Alignment_template',\n",
       " '0987855b-630f-4f53-98ba-2ef51dcb6707_Basecall_Alignment_template',\n",
       " '0990eb9b-27d5-447c-a05d-9b5517d7df38_Basecall_Alignment_template',\n",
       " '09994186-d188-42bd-8cd6-adc517310122_Basecall_Alignment_template',\n",
       " '09a2c1ca-6279-4a5f-bf9e-e464c5c75d40_Basecall_Alignment_template',\n",
       " '09a45753-ee38-414f-a193-cdf957010fdf_Basecall_Alignment_template',\n",
       " '09a579ac-a52b-463c-bc7e-8985096c44f7_Basecall_Alignment_template',\n",
       " '09aa3f0d-e4c3-4680-babc-ba061384dd4d_Basecall_Alignment_template',\n",
       " '09ab0156-e4f3-424c-affa-417e2872c235_Basecall_Alignment_template',\n",
       " '09adb34d-76ff-4774-bc69-c1238ef19b31_Basecall_Alignment_template',\n",
       " '09b14372-7755-4ff5-acac-1fe5ea9a30a1_Basecall_Alignment_template',\n",
       " '09b2cb54-0458-4aa1-84a4-10cfb43ddd2e_Basecall_Alignment_template',\n",
       " '09bce194-b0bc-4d7d-996b-7b4154a31064_Basecall_Alignment_template',\n",
       " '09bf9bcb-77a6-40b6-9ac6-dc187829237d_Basecall_Alignment_template',\n",
       " '09d127a2-eab2-47ea-9e4c-dbaea6618b68_Basecall_Alignment_template',\n",
       " '09dc36ec-7e11-4f64-a2d3-a60cc8fa1c53_Basecall_Alignment_template',\n",
       " '09e5e7de-2c1f-4c51-bc30-d2fb3979d9a5_Basecall_Alignment_template',\n",
       " '09e91015-88fe-4d31-ba33-ef54cfc7d6f8_Basecall_Alignment_template',\n",
       " '09f41883-76af-4900-8b19-54a71ae4f0bd_Basecall_Alignment_template',\n",
       " '09fe5c37-7f94-441d-9883-9c8eae9deeaf_Basecall_Alignment_template',\n",
       " '0a130d10-8e89-4f03-b1d0-35007ac60876_Basecall_Alignment_template',\n",
       " '0a195eb2-21c3-471e-9eb9-8b6f259ca1ff_Basecall_Alignment_template',\n",
       " '0a1c6066-c011-49dd-8b24-9fd973c4926e_Basecall_Alignment_template',\n",
       " '0a24ac05-9428-4bed-ad7b-2f65b33e9a90_Basecall_Alignment_template',\n",
       " '0a2a916f-7f58-4bdd-88df-d96187828cbc_Basecall_Alignment_template',\n",
       " '0a47d377-6055-47c8-b517-0a4cf9106553_Basecall_Alignment_template',\n",
       " '0a4f18e6-1973-4430-b10c-d4e4241e4d1d_Basecall_Alignment_template',\n",
       " '0a573ceb-5b08-42a7-881a-dadc486271b7_Basecall_Alignment_template',\n",
       " '0a5e7d3c-a7e7-46b5-bc40-2b65a1424db0_Basecall_Alignment_template',\n",
       " '0a744be1-4244-4c4c-8be0-d4b1b40ca840_Basecall_Alignment_template',\n",
       " '0a759910-34a6-44d1-a15a-b7b9310a1660_Basecall_Alignment_template',\n",
       " '0a7d2945-16f3-4d13-aeb9-bbef0911d2f0_Basecall_Alignment_template',\n",
       " '0a7faadc-2779-4b35-a917-4f02e205d3f6_Basecall_Alignment_template',\n",
       " '0a80dc44-2d51-4bbf-86a6-c0b7608d78f2_Basecall_Alignment_template',\n",
       " '0a81f862-c7ad-42a3-ba8e-310d3e43fede_Basecall_Alignment_template',\n",
       " '0a8294be-b65c-4aad-b25b-988849e285ff_Basecall_Alignment_template',\n",
       " '0a8a2c25-549e-4d86-825e-a128c907331b_Basecall_Alignment_template',\n",
       " '0a8b2f88-3b08-44e2-842a-bbfbb36b3e46_Basecall_Alignment_template',\n",
       " '0a8beb8f-0f6e-4400-93ae-846309e6246e_Basecall_Alignment_template',\n",
       " '0a93c1a7-3665-41a3-adff-2e280944ad35_Basecall_Alignment_template',\n",
       " '0a9f0c42-6709-472a-bbed-46ba440ab3a7_Basecall_Alignment_template',\n",
       " '0aa181cd-422b-4ac2-8e5b-529ecc68f8bb_Basecall_Alignment_template',\n",
       " '0aa246a1-8e91-4ef6-97b0-b21d18403544_Basecall_Alignment_template',\n",
       " '0aa3b7e1-f9a0-4e46-aefd-45f617901056_Basecall_Alignment_template',\n",
       " '0aa42659-f59f-4f2f-8148-a8ba7a2f3018_Basecall_Alignment_template',\n",
       " '0ab1d983-d1cb-4953-93e0-129b66eb1171_Basecall_Alignment_template',\n",
       " '0ab63e70-7583-45b7-9093-152d094eb40d_Basecall_Alignment_template',\n",
       " '0ab6b424-6056-4975-b98e-e00cd75f162b_Basecall_Alignment_template',\n",
       " '0ac93b93-ee94-47da-813a-f92848c97a6f_Basecall_Alignment_template',\n",
       " '0ad1ac96-6060-475b-aee3-cfc4848c7a39_Basecall_Alignment_template',\n",
       " '0ad40691-69c0-4830-8a40-621ac4ecc9a1_Basecall_Alignment_template',\n",
       " '0ad8b92b-1345-4880-80b0-7ee5b67248ea_Basecall_Alignment_template',\n",
       " '0adc8742-9cc4-4edc-9c5f-3b3dd80d138b_Basecall_Alignment_template',\n",
       " '0ae0abee-98df-4979-9da3-320a84e99e9f_Basecall_Alignment_template',\n",
       " '0aebfd50-a8db-424e-a829-846a10c3273e_Basecall_Alignment_template',\n",
       " '0af0a12b-d93b-43aa-a1c1-cf1f810a022a_Basecall_Alignment_template',\n",
       " '0af90c47-0a8a-4e91-8300-f63149296289_Basecall_Alignment_template',\n",
       " '0af947c9-0ece-419a-8c56-bd10bf209595_Basecall_Alignment_template',\n",
       " '0b0757d0-50df-4b0c-9218-0afa809301f6_Basecall_Alignment_template',\n",
       " '0b23cab4-7ebe-48f4-bd32-45d6e0868a82_Basecall_Alignment_template',\n",
       " '0b26abda-5b50-4da3-a8b2-3b0d9e44b24a_Basecall_Alignment_template',\n",
       " '0b454efa-e3f8-4e61-aac8-1b7d194c813c_Basecall_Alignment_template',\n",
       " '0b4a51e6-c0d9-42d5-b7ed-3bd50d66cf06_Basecall_Alignment_template',\n",
       " '0b50712e-8ff2-46e2-97b7-b839fd94c164_Basecall_Alignment_template',\n",
       " '0b577afa-5326-4e28-af21-6d6d367bf1ba_Basecall_Alignment_template',\n",
       " '0b646c14-5aa1-44a7-ac54-8e3d5c830d39_Basecall_Alignment_template',\n",
       " '0b6c9c13-78b8-44eb-8e31-7c84906021c9_Basecall_Alignment_template',\n",
       " '0b7586f0-0d78-43d4-8858-f587e48b8cf7_Basecall_Alignment_template',\n",
       " '0b7ae437-0d56-4225-8393-5fd324cc3bd9_Basecall_Alignment_template',\n",
       " '0b7b4a1b-4a01-4eb4-acfb-1629d35bad07_Basecall_Alignment_template',\n",
       " '0b7e84b0-5c54-4c69-a325-c0b254fa66c0_Basecall_Alignment_template',\n",
       " '0b903205-15e1-4536-a09e-f5506061ce56_Basecall_Alignment_template',\n",
       " '0b91ec5d-0a7c-45e2-9561-1c9cfaea979d_Basecall_Alignment_template',\n",
       " '0b9d5c2d-c4e8-4700-b053-8c0f5a363ac8_Basecall_Alignment_template',\n",
       " '0b9e70f7-99b1-47ac-93a8-08e3beddc083_Basecall_Alignment_template',\n",
       " '0ba12e20-f4a4-46c3-862a-69a002117f68_Basecall_Alignment_template',\n",
       " '0ba5a563-0106-4580-88c3-bb335bc1a0ba_Basecall_Alignment_template',\n",
       " '0bcccc4e-e7a6-45b6-849d-c9b187f6329e_Basecall_Alignment_template',\n",
       " '0bd58565-2acc-4ed6-abaa-acd5747a01ca_Basecall_Alignment_template',\n",
       " '0bdab209-c557-41be-9e4b-e35259a5af3f_Basecall_Alignment_template',\n",
       " '0bfdd927-a7e7-4156-a45b-e99244140254_Basecall_Alignment_template',\n",
       " '0c037bf0-67fd-401e-946d-e654d1f28a1e_Basecall_Alignment_template',\n",
       " '0c06387b-4306-4961-8778-612ab76763d8_Basecall_Alignment_template',\n",
       " '0c0c2bbc-33d5-40b6-8bba-409eb138d9d9_Basecall_Alignment_template',\n",
       " '0c0c65b9-dd00-4cb6-9b95-025e87b58d04_Basecall_Alignment_template',\n",
       " '0c249925-c04f-40ae-9414-7c7ca140f467_Basecall_Alignment_template',\n",
       " '0c24dba6-3a40-43fa-a556-1d3de8cb66b4_Basecall_Alignment_template',\n",
       " '0c31179b-22e3-49c5-aeca-0305d29b20ff_Basecall_Alignment_template',\n",
       " '0c323984-c732-4feb-82d5-68193588c740_Basecall_Alignment_template',\n",
       " '0c331e9d-6c2d-4fde-8510-17bb67183e7c_Basecall_Alignment_template',\n",
       " '0c3eaef1-3870-419e-8f91-226854a531e3_Basecall_Alignment_template',\n",
       " '0c405db6-50ad-41c1-8581-43f2948e5109_Basecall_Alignment_template',\n",
       " '0c417f4d-4d29-4db5-b29e-9f07f7a3913c_Basecall_Alignment_template',\n",
       " '0c458620-4f68-45b8-b3e6-c02739ff2591_Basecall_Alignment_template',\n",
       " '0c536527-bf03-474e-8ca8-f898eb89b573_Basecall_Alignment_template',\n",
       " '0c5c7bb8-f367-4f33-a9e0-cf9cf14312af_Basecall_Alignment_template',\n",
       " '0c5dfeb7-49a9-4bc9-b063-7fa14b3f5210_Basecall_Alignment_template',\n",
       " '0c62675f-e90c-48c9-84b3-d359d8ad2cd1_Basecall_Alignment_template',\n",
       " '0c683ff1-88c7-471f-8cf3-59a319e79a63_Basecall_Alignment_template',\n",
       " '0c70f73c-06b9-4e89-9b08-c5ad0ec93488_Basecall_Alignment_template',\n",
       " '0c7e80da-7806-4945-b6db-f326d382877f_Basecall_Alignment_template',\n",
       " '0c855886-2ca1-4dc4-b35f-74032faf8be0_Basecall_Alignment_template',\n",
       " '0c883557-75b4-49c2-a11d-b6cb66a27a92_Basecall_Alignment_template',\n",
       " '0c916a86-091b-45e2-ac9a-d137ba0392d7_Basecall_Alignment_template',\n",
       " '0c92f564-4e8b-4d41-ba63-b5afdc431b15_Basecall_Alignment_template',\n",
       " '0c9f4596-c46c-4245-9249-2df7296629b2_Basecall_Alignment_template',\n",
       " '0ca39cba-ec6e-44cc-bab8-54e1f0de5ee3_Basecall_Alignment_template',\n",
       " '0cba04f5-7d00-47e0-981a-3b754b861ea0_Basecall_Alignment_template',\n",
       " '0cbb843d-2c86-488d-8308-ee8b2198efbf_Basecall_Alignment_template',\n",
       " '0cbdea1e-91bd-4e1e-a5a5-0dec11ca70c7_Basecall_Alignment_template',\n",
       " '0cc1058b-22d3-4c65-894f-e3cd424e3666_Basecall_Alignment_template',\n",
       " '0cccfdb2-001f-44be-99e8-ed7be6eb8519_Basecall_Alignment_template',\n",
       " '0ccdfd4f-ce41-49dd-86d2-7168f48ef65f_Basecall_Alignment_template',\n",
       " '0cd215c6-b0d3-4ebc-989b-144efeb0672a_Basecall_Alignment_template',\n",
       " '0cd3076a-891a-4518-85fb-d5ad8bb91ece_Basecall_Alignment_template',\n",
       " '0cddb0f4-265b-4f92-935a-f7abf2256707_Basecall_Alignment_template',\n",
       " '0ced18f5-cee9-4211-aabc-f00147c3b369_Basecall_Alignment_template',\n",
       " '0cef1741-082f-443f-88e1-2caf32db6f5e_Basecall_Alignment_template',\n",
       " '0cf74ba7-10f5-45e7-941d-6ed79e7ab65f_Basecall_Alignment_template',\n",
       " '0cf7a06f-f970-4f5b-ab6d-91f8f226978e_Basecall_Alignment_template',\n",
       " '0d092bb8-0aed-4eb3-b2e6-760bbd54c3c5_Basecall_Alignment_template',\n",
       " '0d1efaa2-e189-4834-b13b-595f6161c758_Basecall_Alignment_template',\n",
       " '0d216774-4eec-4f97-86f4-98b4ef7cf4b0_Basecall_Alignment_template',\n",
       " '0d24cc62-c1e4-4f54-b999-d0a93e67263e_Basecall_Alignment_template',\n",
       " '0d2a7f95-e55b-4b14-8a0e-8b81f7d6e779_Basecall_Alignment_template',\n",
       " '0d2e08cc-85af-494c-872d-d88fb2bf2ed9_Basecall_Alignment_template',\n",
       " '0d419316-fd8e-4d60-b7a3-5a6b917733fc_Basecall_Alignment_template',\n",
       " '0d49f0f3-0e4a-4254-9aab-1e199df951d6_Basecall_Alignment_template',\n",
       " '0d4a64db-5082-4ef0-a564-11462e841bfe_Basecall_Alignment_template',\n",
       " '0d50476c-7e26-4a9b-84ff-7deb97769814_Basecall_Alignment_template',\n",
       " '0d6a98f2-dfec-49f8-ba30-4ac2af8db944_Basecall_Alignment_template',\n",
       " '0d750048-e205-4db6-9a61-408ad7228bd1_Basecall_Alignment_template',\n",
       " '0d80edf2-087b-4438-96f2-fc319ff4a09b_Basecall_Alignment_template',\n",
       " '0d811246-b7a2-4aef-9fa0-28acf5df93a5_Basecall_Alignment_template',\n",
       " '0d8aed18-2a89-4f55-845b-6b62b14dbc75_Basecall_Alignment_template',\n",
       " '0d93b429-92e8-473c-a47c-cc6d84b2dc4b_Basecall_Alignment_template',\n",
       " '0d98ef0a-0ba8-4b91-afb4-29cf68657d2b_Basecall_Alignment_template',\n",
       " '0d990426-83bb-43a3-b4fc-d839d513bf51_Basecall_Alignment_template',\n",
       " '0da11378-50e1-42e2-ba24-e33212ac00db_Basecall_Alignment_template',\n",
       " '0da9773f-e0ef-4711-9f44-0f2dbe65d0c1_Basecall_Alignment_template',\n",
       " '0daab4cf-0547-422d-8426-dcf2f3126d74_Basecall_Alignment_template',\n",
       " '0db03912-c87c-4667-905f-0a486d60fed1_Basecall_Alignment_template',\n",
       " '0db10a1b-8556-4a72-bf22-4aea22083f7b_Basecall_Alignment_template',\n",
       " '0db71be5-c308-45fa-87d2-54e7c72cd1ab_Basecall_Alignment_template',\n",
       " '0dbff32d-65c0-478b-b27b-52174e7e3db2_Basecall_Alignment_template',\n",
       " '0dc1dfc2-1f4b-41f3-acd6-ddb966cf4072_Basecall_Alignment_template',\n",
       " '0dc3ce5d-ff7a-4f77-8a3d-c80afa9b026d_Basecall_Alignment_template',\n",
       " '0dc527c0-2ac4-4d59-90a8-a1350159c158_Basecall_Alignment_template',\n",
       " '0dcd23bb-cbfd-422a-98cb-7dd9cbcdbea0_Basecall_Alignment_template',\n",
       " '0dd09506-9790-4a83-9703-a6d3d9f62870_Basecall_Alignment_template',\n",
       " '0dd9d14f-b8f1-4702-b468-43389b32e908_Basecall_Alignment_template',\n",
       " '0de0338a-fe48-456e-a7e6-e392af16d575_Basecall_Alignment_template',\n",
       " '0de28802-4dc3-44fe-9c45-fe86541acbed_Basecall_Alignment_template',\n",
       " '0de6ae2d-adb6-4dee-868b-6f2736e4efb5_Basecall_Alignment_template',\n",
       " '0de6faec-4ddb-432d-aba7-dff8bc021918_Basecall_Alignment_template',\n",
       " '0ded95c0-03f4-4a6f-9b74-4a4dd083ad22_Basecall_Alignment_template',\n",
       " '0df21557-3de7-4ddd-a58d-a0ace25346c5_Basecall_Alignment_template',\n",
       " '0e02f85f-b2a4-4d31-9f96-1be60928aefc_Basecall_Alignment_template',\n",
       " '0e047af8-0618-4b59-aa42-1e7b5cddab38_Basecall_Alignment_template',\n",
       " '0e05d845-38fb-404b-a6af-b3b58c6cb7a5_Basecall_Alignment_template',\n",
       " '0e07942d-7622-4303-a1e1-817e1aa68494_Basecall_Alignment_template',\n",
       " '0e1a0cb8-bfe0-4762-8080-51e6fc1f9d35_Basecall_Alignment_template',\n",
       " '0e255caa-1ca6-41ed-a72c-af403c0f4508_Basecall_Alignment_template',\n",
       " '0e287518-6b50-4e14-9022-3187b744eb65_Basecall_Alignment_template',\n",
       " '0e38a9de-7d67-40a7-af45-c990b436702c_Basecall_Alignment_template',\n",
       " '0e399f6f-4c37-4e4d-ac5f-7ccc977c2660_Basecall_Alignment_template',\n",
       " '0e3d4d35-3c9d-4599-ad6a-53f4ef43ed10_Basecall_Alignment_template',\n",
       " '0e3fb3d8-7394-4c4c-96b9-432a17f80637_Basecall_Alignment_template',\n",
       " '0e4328f9-412c-4e0b-a422-1778daaeaf85_Basecall_Alignment_template',\n",
       " '0e4b0d18-499d-4014-89c6-b7dfcb712757_Basecall_Alignment_template',\n",
       " '0e4be357-6e77-4620-a082-6477762739d1_Basecall_Alignment_template',\n",
       " '0e5ccb20-1102-4e6b-8c35-161ff453bdee_Basecall_Alignment_template',\n",
       " '0e63f1ae-bae1-4418-8cad-e7829b788bb8_Basecall_Alignment_template',\n",
       " '0e71bcef-5481-4a81-869a-f0e0d0b0091b_Basecall_Alignment_template',\n",
       " '0e75dd8b-a979-4cd6-bb7a-794355e609c2_Basecall_Alignment_template',\n",
       " '0e7a9fdb-cc70-4bec-9907-7af94fbb8db9_Basecall_Alignment_template',\n",
       " '0e85cfa6-c8f7-4a94-be44-eccb082f332a_Basecall_Alignment_template',\n",
       " '0e8af23b-b507-435b-8776-394f955663c8_Basecall_Alignment_template',\n",
       " '0e8d28d1-638b-4275-bbe7-1822e05ef903_Basecall_Alignment_template',\n",
       " '0ea48535-862b-45cd-938d-05ad0c098b74_Basecall_Alignment_template',\n",
       " '0ec4122a-f820-47a7-b554-98ae63f0a507_Basecall_Alignment_template',\n",
       " '0ecd9643-a3d7-4a22-bc4a-ef76da75e5bd_Basecall_Alignment_template',\n",
       " '0edbe740-33f7-4327-a9ee-4d79ee60a0ab_Basecall_Alignment_template',\n",
       " '0ee891ec-7037-406c-bd5a-9e19ae27da08_Basecall_Alignment_template',\n",
       " '0ef38855-bdcc-4bea-a9a3-768b2bf0fb1f_Basecall_Alignment_template',\n",
       " '0ef9d51a-9ee3-49ca-995b-29b2a53e64fb_Basecall_Alignment_template',\n",
       " '0f0790a9-3e05-4043-870b-09e727a9df66_Basecall_Alignment_template',\n",
       " '0f0dc86b-f850-4694-9872-254eab10cf51_Basecall_Alignment_template',\n",
       " '0f160ebb-de09-48cb-b09a-855fcdbd6635_Basecall_Alignment_template',\n",
       " '0f1d0c8d-21ea-4715-88b4-3b0e6bf53083_Basecall_Alignment_template',\n",
       " '0f1e137a-4931-4869-8bf7-fb882e82e278_Basecall_Alignment_template',\n",
       " '0f27f91a-f6fe-41f5-a0bd-c0d3a0beb819_Basecall_Alignment_template',\n",
       " '0f341959-3632-4f04-8b1d-e6b848579342_Basecall_Alignment_template',\n",
       " '0f366348-85ee-4b28-a9cf-278fffca03c2_Basecall_Alignment_template',\n",
       " '0f3da265-3aaa-47f6-932a-b04c9456ebb6_Basecall_Alignment_template',\n",
       " '0f4bd379-ae69-4690-92a8-348862bb29cc_Basecall_Alignment_template',\n",
       " '0f4d427f-f15a-41c7-a918-f5dfbf35bf9d_Basecall_Alignment_template',\n",
       " '0f565292-46cc-4a76-b891-e6442d8997e3_Basecall_Alignment_template',\n",
       " '0f5941a8-fc7f-4c9b-ae89-d7249012a300_Basecall_Alignment_template',\n",
       " '0f5a3fb1-e3d6-40dc-89f2-f375a60dffb7_Basecall_Alignment_template',\n",
       " '0f6354cd-3ef2-4036-ab30-2c7ae26cd375_Basecall_Alignment_template',\n",
       " '0f66d22e-c18d-43f0-a915-ab27c990eaf3_Basecall_Alignment_template',\n",
       " '0f6f1d7c-6f12-4069-bcbd-fd6cae47eae6_Basecall_Alignment_template',\n",
       " '0f762fbc-0757-459e-b82c-b348d96475a4_Basecall_Alignment_template',\n",
       " '0f78bfb7-b5e9-4420-ae3e-f8ba0415634d_Basecall_Alignment_template',\n",
       " '0f790117-e977-441f-a56d-df3c6667a604_Basecall_Alignment_template',\n",
       " '0f8023b5-7451-4934-9eed-df8d8a861061_Basecall_Alignment_template',\n",
       " '0f824cc4-f33b-4601-aa4f-b4832413d15f_Basecall_Alignment_template',\n",
       " '0f832beb-b6d1-49eb-844c-d27ed55ed22b_Basecall_Alignment_template',\n",
       " '0f8bc39d-e62d-4f4c-a07d-2caa9ad1846a_Basecall_Alignment_template',\n",
       " '0f8d13cb-4a69-4602-a508-b81ebbcc03a4_Basecall_Alignment_template',\n",
       " '0f904aa7-fcca-42fb-a540-0684b5960ec9_Basecall_Alignment_template',\n",
       " '0f95c4e3-080c-41cb-a98a-ab924b37104d_Basecall_Alignment_template',\n",
       " '0f97ec80-d137-4ffa-ba88-97fc428be03e_Basecall_Alignment_template',\n",
       " '0f98a510-63ff-4052-862c-a6a99bc6cfc4_Basecall_Alignment_template',\n",
       " '0fa41311-0462-422a-b87b-0cef8b60896b_Basecall_Alignment_template',\n",
       " '0fb50d36-2786-4391-8fc4-ddad5af75ec0_Basecall_Alignment_template',\n",
       " '0fb63f39-533d-40af-a052-db671cc0ea8b_Basecall_Alignment_template',\n",
       " '0fbabb62-7c6d-4497-baa9-55a50456d4eb_Basecall_Alignment_template',\n",
       " '0fc125c3-1d81-41a4-a177-20e3e5295561_Basecall_Alignment_template',\n",
       " '0fd3ded2-2fd6-4a0c-8101-04b167212566_Basecall_Alignment_template',\n",
       " '0fda3f4a-ec42-4a38-b706-251816a4a6f0_Basecall_Alignment_template',\n",
       " '0fe0c9b3-fa07-496f-b547-87e6b3f29de2_Basecall_Alignment_template',\n",
       " '0fe9ea3d-0f27-4f23-92aa-9d99c83c5567_Basecall_Alignment_template',\n",
       " '0feb8a30-f8dd-4145-9cb1-d950435ef7c1_Basecall_Alignment_template',\n",
       " '0ff128bf-5349-44a2-a60a-8edbb7e99f5e_Basecall_Alignment_template',\n",
       " '100a06ac-c3ad-4b63-ba0c-2f775652f063_Basecall_Alignment_template',\n",
       " '1013abf8-e05c-43d3-bcfc-ecae5a0320da_Basecall_Alignment_template',\n",
       " '101b24eb-bc75-4db5-9da8-b72ca811c22f_Basecall_Alignment_template',\n",
       " '101c0a6a-4228-4868-9e79-5f67bb32e1f1_Basecall_Alignment_template',\n",
       " '1026f492-e9c2-459d-bcda-2af0528a7fc7_Basecall_Alignment_template',\n",
       " '102e6d59-03f9-4148-94d7-fbf06577ca29_Basecall_Alignment_template',\n",
       " '10419a35-c8cb-48e5-bd55-7669a043e315_Basecall_Alignment_template',\n",
       " '1047146d-88ee-48ac-9497-3e7e1f04af5a_Basecall_Alignment_template',\n",
       " '105e8851-5d7a-4537-bdb5-4e668971a721_Basecall_Alignment_template',\n",
       " '10631f79-463e-4306-8518-03dada695a62_Basecall_Alignment_template',\n",
       " '106623dc-4e91-48ec-beaa-3a6c2f6a400d_Basecall_Alignment_template',\n",
       " '106d4c1d-fa1f-4666-a957-a30ba2e505dd_Basecall_Alignment_template',\n",
       " '106d53e8-db16-4f11-87f2-a3430eb5fbd3_Basecall_Alignment_template',\n",
       " '106ec47b-f61c-4b03-a514-4f74f53910d2_Basecall_Alignment_template',\n",
       " '1073cb0f-a2b1-44af-8c64-650b46b5f81c_Basecall_Alignment_template',\n",
       " '10a205c8-52a3-4936-aea7-9eb95db795ee_Basecall_Alignment_template',\n",
       " '10ac28e0-b30d-4c1e-984f-044417c6913d_Basecall_Alignment_template',\n",
       " '10b957a1-4b8e-492b-9c48-d2d8ed5dafb0_Basecall_Alignment_template',\n",
       " '10b9d13d-f16f-4b17-a018-b9477a6b8e8e_Basecall_Alignment_template',\n",
       " '10d04234-3f8a-4472-8565-06c26a0ae8a1_Basecall_Alignment_template',\n",
       " '10d107ad-64bf-4758-bd28-37b40b346d10_Basecall_Alignment_template',\n",
       " '10d148b1-9d12-44e0-acb0-0e02a7c68476_Basecall_Alignment_template',\n",
       " '10d37e93-fe44-4e68-8a33-7930773f0e76_Basecall_Alignment_template',\n",
       " '10e7d1a5-dfdd-45ac-8281-bed34b8f5f2b_Basecall_Alignment_template',\n",
       " '10ee0333-ba33-4d16-a1ff-e0310baa462c_Basecall_Alignment_template',\n",
       " '11046531-4743-44d7-b354-2b3cab716081_Basecall_Alignment_template',\n",
       " '1118bd49-d197-4c8a-9e97-28085920f6d6_Basecall_Alignment_template',\n",
       " '11255260-9650-4c70-8487-6785a27da5b3_Basecall_Alignment_template',\n",
       " '11294b06-d4b8-409d-b711-5ec741f7ec80_Basecall_Alignment_template',\n",
       " '1135bc2b-815e-4b1b-9fca-09372b7f2058_Basecall_Alignment_template',\n",
       " '11413ce4-ddad-4071-943e-11dfe080deb6_Basecall_Alignment_template',\n",
       " '11426a3c-5013-417f-9cb7-2a805432870b_Basecall_Alignment_template',\n",
       " '1159ae8c-4cfe-474f-86c7-69077267684f_Basecall_Alignment_template',\n",
       " '115caca6-1579-4fed-9f05-e393b9bb2d29_Basecall_Alignment_template',\n",
       " '11686be2-9e2f-4368-897b-a3fd6fdb686f_Basecall_Alignment_template',\n",
       " '116ba530-83fb-47c9-8d5d-ab8c57cb7c65_Basecall_Alignment_template',\n",
       " '118ca0a9-7c6b-4b2c-96ee-b123cb60afb3_Basecall_Alignment_template',\n",
       " '118d5855-47a5-4150-9d2c-98eb843af825_Basecall_Alignment_template',\n",
       " '118fae88-4744-45c7-8f4d-5da51bc97ab4_Basecall_Alignment_template',\n",
       " '11969a11-a5df-4b97-8894-621f9b98f682_Basecall_Alignment_template',\n",
       " '119b7f84-d9f3-4f9f-b37d-7db020791b1a_Basecall_Alignment_template',\n",
       " '119bfb09-1233-4f75-9731-da6e94c47d67_Basecall_Alignment_template',\n",
       " '119c650e-4741-4b32-9d57-97833ffe8094_Basecall_Alignment_template',\n",
       " '11a081db-67f7-4dd5-80de-ffec58ed1661_Basecall_Alignment_template',\n",
       " '11a541d4-05c9-4cac-9659-40b995a05523_Basecall_Alignment_template',\n",
       " '11a638cc-0859-4bf7-b6e2-50ce965d92ca_Basecall_Alignment_template',\n",
       " '11ae1ac6-4d53-496e-9f2f-8e5727a362db_Basecall_Alignment_template',\n",
       " '11b22a2d-1206-4f71-a72c-d91c52050670_Basecall_Alignment_template',\n",
       " '11b8a5fd-71cd-4f90-8f7e-fa47bbbd1271_Basecall_Alignment_template',\n",
       " '11ca1643-ec11-4542-8f0a-195da35a29d6_Basecall_Alignment_template',\n",
       " '11d044a9-3ef5-4087-9976-7ae51b09f05c_Basecall_Alignment_template',\n",
       " '11d1d3e6-1aca-46cd-8289-8509182e0957_Basecall_Alignment_template',\n",
       " '11db5935-2b47-49a4-9cec-5368f0dc062a_Basecall_Alignment_template',\n",
       " '11dbbbbf-53e4-4de0-b585-efe86f349f53_Basecall_Alignment_template',\n",
       " '11e015f2-df71-42da-aead-3f8a42a23231_Basecall_Alignment_template',\n",
       " '11e06342-25ba-40bc-b737-68e5e12da3a2_Basecall_Alignment_template',\n",
       " '11e84748-56d2-4cbe-aec4-a26c7fff980d_Basecall_Alignment_template',\n",
       " '11e9d2ea-4583-4203-a6bd-a814b5b414e6_Basecall_Alignment_template',\n",
       " '11e9df62-36fc-4160-85f5-e5f7bb7bc1d9_Basecall_Alignment_template',\n",
       " '11efab8c-2f7a-4820-8df8-2cbc12dba124_Basecall_Alignment_template',\n",
       " '11ff8c70-ef03-4b59-8ed0-e04475dc5d9f_Basecall_Alignment_template',\n",
       " '12015e97-b9fb-40f1-8309-fcff30594412_Basecall_Alignment_template',\n",
       " '120fbe83-0b87-4183-afc1-63519c4e30b3_Basecall_Alignment_template',\n",
       " '1233108e-739c-4f1f-8f2d-62c94afb9f60_Basecall_Alignment_template',\n",
       " '12375e0e-7a58-4074-9d37-dd32e3109459_Basecall_Alignment_template',\n",
       " '1252c360-6354-439e-9be6-b109d1f5b464_Basecall_Alignment_template',\n",
       " '125aef4d-980e-4a35-a5b6-c586293e512e_Basecall_Alignment_template',\n",
       " '126b3ccb-660e-42f4-9d0f-780f79952c07_Basecall_Alignment_template',\n",
       " '127346c8-e5d2-4690-bde8-4318e89f0329_Basecall_Alignment_template',\n",
       " '128d5b83-fa4d-4abe-a89e-8385f2d9cd19_Basecall_Alignment_template',\n",
       " '12a1d516-a058-4a51-8000-fa5661773efb_Basecall_Alignment_template',\n",
       " '12a57bcb-d181-4a9b-b100-b353b982a5a2_Basecall_Alignment_template',\n",
       " '12afbcfc-bec3-444f-96a5-9e01095c0604_Basecall_Alignment_template',\n",
       " '12b23965-c728-412e-bae4-7e363c22ead8_Basecall_Alignment_template',\n",
       " '12c673d5-ee0f-4988-abc6-a42b35faccb9_Basecall_Alignment_template',\n",
       " '12d20038-9504-4ae6-83e1-94f5828677bf_Basecall_Alignment_template',\n",
       " '12d98506-dbbc-4551-904a-889d7b4238c3_Basecall_Alignment_template',\n",
       " '12e9cff8-e435-428b-87f9-dd600639a9f6_Basecall_Alignment_template',\n",
       " '12f5d5b6-2eeb-4bde-b7f1-f4729d8b608b_Basecall_Alignment_template',\n",
       " '12f80132-48c5-41e1-afff-0fecf4a375bb_Basecall_Alignment_template',\n",
       " '12f83877-96a1-4d80-a9fc-e08e425a1675_Basecall_Alignment_template',\n",
       " '12fcf877-2243-4878-bbb2-2f8771bff518_Basecall_Alignment_template',\n",
       " '1305ff87-5779-4c88-975a-2eba33cc4eb1_Basecall_Alignment_template',\n",
       " '130a520b-c3ca-43be-a908-7e0514cc4010_Basecall_Alignment_template',\n",
       " '130ab7c6-4f88-486a-a688-57aeba61528c_Basecall_Alignment_template',\n",
       " '130cd0d4-5f08-49f9-9141-ff0d3d887e8e_Basecall_Alignment_template',\n",
       " '130e28f0-79be-4a52-a0ff-ca6db0e7700a_Basecall_Alignment_template',\n",
       " '131cdf79-e725-4daa-9d1a-7e53f749429b_Basecall_Alignment_template',\n",
       " '131e226a-631b-4f9d-8769-0f34c2050254_Basecall_Alignment_template',\n",
       " '1320d3d1-bb14-424a-8456-2872c4a92af0_Basecall_Alignment_template',\n",
       " '1332eecb-e6f3-4efa-bfd1-56d9c34deafe_Basecall_Alignment_template',\n",
       " '133652b6-6442-4125-9731-dbfd34fce2ee_Basecall_Alignment_template',\n",
       " '1340e102-8ac2-467a-9017-b9f57a099cb2_Basecall_Alignment_template',\n",
       " '1341ee14-49c0-49c8-8e50-83bf4b709129_Basecall_Alignment_template',\n",
       " '1343a01e-94a5-4e8f-bfc1-dd0a8607663b_Basecall_Alignment_template',\n",
       " '134409dc-9c5e-4b99-af14-f445786bd21a_Basecall_Alignment_template',\n",
       " '1350884a-f215-4b20-b8d0-1f5ec4d89639_Basecall_Alignment_template',\n",
       " '13591876-471e-4d59-9b2f-97cda8855e93_Basecall_Alignment_template',\n",
       " '1364084a-7418-479a-8f2b-454cf47418d5_Basecall_Alignment_template',\n",
       " '136c0d23-85f3-46c0-bf2d-8b9f3261180e_Basecall_Alignment_template',\n",
       " '137f8458-42f2-4034-8f78-5fab7d14a1f0_Basecall_Alignment_template',\n",
       " '13892223-868f-4518-af14-99fd36aede77_Basecall_Alignment_template',\n",
       " '139253de-7a80-4c49-bbdb-4923ccebc265_Basecall_Alignment_template',\n",
       " '1395c054-3968-4e11-a921-1863a551e2f2_Basecall_Alignment_template',\n",
       " '139964f8-afd5-476c-aa00-627268ae99e6_Basecall_Alignment_template',\n",
       " '13aed027-34ba-4a4a-a662-792d5d4e6174_Basecall_Alignment_template',\n",
       " '13aef77f-2600-45c7-8694-a448de586328_Basecall_Alignment_template',\n",
       " '13b5175c-97bc-4515-9218-1e1b28be131d_Basecall_Alignment_template',\n",
       " '13b58cae-8d2b-4ce3-bb36-a1f169a9a4fb_Basecall_Alignment_template',\n",
       " '13b9c3c6-0f6e-4547-84e6-e1b0decc90ab_Basecall_Alignment_template',\n",
       " '13c54ea4-9c4f-4364-a527-bc75c76e2591_Basecall_Alignment_template',\n",
       " '13cafeaa-4173-4fbf-a430-f1ce70947c6c_Basecall_Alignment_template',\n",
       " '13cc89c1-db68-4bf4-90dd-edbfdee9d1da_Basecall_Alignment_template',\n",
       " '13d52c9d-4815-44d3-9b88-5a6f2e09f411_Basecall_Alignment_template',\n",
       " '13d6abf2-20ac-4ff9-8f91-ea85a209bc52_Basecall_Alignment_template',\n",
       " '13e5eb18-1186-4d9c-a5f6-820838857572_Basecall_Alignment_template',\n",
       " '13e7bf9a-41b8-4d15-b629-beff6248fe07_Basecall_Alignment_template',\n",
       " '13e8050f-f2b0-42d0-a8ea-5aee15dc07b7_Basecall_Alignment_template',\n",
       " '13ebea35-78ed-4b79-8d8a-3e812604dbf6_Basecall_Alignment_template',\n",
       " '1402a2e6-4fa3-4a3c-a777-12d38fbfbf33_Basecall_Alignment_template',\n",
       " '140cf114-1dae-461c-a125-1d6a4a153f47_Basecall_Alignment_template',\n",
       " '140f3d55-f7b7-4237-9f35-902507fc8232_Basecall_Alignment_template',\n",
       " '141b30ae-59b8-4e58-ad38-803709182d8c_Basecall_Alignment_template',\n",
       " '141bd603-8080-4c40-9300-13d1224f6e5c_Basecall_Alignment_template',\n",
       " '142605ff-d17d-4bf3-95de-5821b0014ac4_Basecall_Alignment_template',\n",
       " '142797b6-f05c-49ac-8f29-330720796cfc_Basecall_Alignment_template',\n",
       " '1433e0d5-558b-4c74-b8fb-d31aa16add47_Basecall_Alignment_template',\n",
       " '1443ea35-b231-4e63-8132-cdd706fae21e_Basecall_Alignment_template',\n",
       " '144cd1ae-2d38-4c39-abdc-c9aedc145eb0_Basecall_Alignment_template',\n",
       " '144f65bb-71c7-4075-bc3a-b11378693a09_Basecall_Alignment_template',\n",
       " '14667cc1-ef9f-4878-8dbf-a0d69a583135_Basecall_Alignment_template',\n",
       " '146aa7ed-a8b9-4b25-b88d-9000293c3e00_Basecall_Alignment_template',\n",
       " '146ac4ec-c8c4-4fb7-a47b-141c90bdc528_Basecall_Alignment_template',\n",
       " '146e7b17-c830-42dc-b5de-3e0b5dbec15a_Basecall_Alignment_template',\n",
       " '147153bc-a705-4991-882d-dfa80ab3e03b_Basecall_Alignment_template',\n",
       " '1471f215-926b-4fe3-81aa-80f56a8dd4c0_Basecall_Alignment_template',\n",
       " '14877dc5-0bd0-4bd8-ad6d-3b61cbfbf135_Basecall_Alignment_template',\n",
       " '14945ad3-5f3b-4f23-9ee4-7984399f9d69_Basecall_Alignment_template',\n",
       " '1494ba19-bf21-4de7-a90c-9343811247df_Basecall_Alignment_template',\n",
       " '1494c2de-2514-4bb5-8a31-93be7b22a876_Basecall_Alignment_template',\n",
       " '149a2e2f-ca72-436c-8108-4addeeec2e87_Basecall_Alignment_template',\n",
       " '149e102f-f039-4265-8c36-22f5cf362b5c_Basecall_Alignment_template',\n",
       " '14a35d69-6ef8-493d-be9f-728eb6939710_Basecall_Alignment_template',\n",
       " '14a89ffe-9997-4b1f-9911-fabc43619c44_Basecall_Alignment_template',\n",
       " '14b69ce3-0669-4929-bdb9-772292a22e98_Basecall_Alignment_template',\n",
       " '14cc0a01-0a1b-4fc0-a2fc-daa18ebbf8c9_Basecall_Alignment_template',\n",
       " '14d490a1-226b-4866-8d10-9f7a8ed3d4f5_Basecall_Alignment_template',\n",
       " '14d8ba07-e020-4ff2-92fc-dc704f1d8f4c_Basecall_Alignment_template',\n",
       " '14e52606-6802-4084-b6f0-2a16e36818dd_Basecall_Alignment_template',\n",
       " '14e5ba47-5fcf-4ed8-b1fe-d9376e3a0770_Basecall_Alignment_template',\n",
       " '14f4b98b-4493-4851-8198-3edea2297c2c_Basecall_Alignment_template',\n",
       " '14f5b907-9ba2-44c4-812a-fff560c087ae_Basecall_Alignment_template',\n",
       " '150278d6-5971-4a3c-bda3-dc9d8539ea2b_Basecall_Alignment_template',\n",
       " '1509ee80-c2eb-4b6b-bcd9-d2ba2d59310f_Basecall_Alignment_template',\n",
       " '151be7f7-4f05-4333-9dac-882d4beda3a8_Basecall_Alignment_template',\n",
       " '151e443c-7571-40f7-bc4f-10e5de061514_Basecall_Alignment_template',\n",
       " '152f0ec6-ed23-466d-8b0c-33ce92a22d9e_Basecall_Alignment_template',\n",
       " '1531218f-f7db-4f1e-8675-e8e2721ec2be_Basecall_Alignment_template',\n",
       " '1532f390-3ca1-47eb-a1d0-dc8a71e8a655_Basecall_Alignment_template',\n",
       " '1566a8b5-f1c0-4dd0-8695-f09744755cba_Basecall_Alignment_template',\n",
       " '15675dff-6017-4fbd-943d-d0cd804b11f7_Basecall_Alignment_template',\n",
       " '156f57ab-30a5-4f5a-a47c-f68b583c498f_Basecall_Alignment_template',\n",
       " '1574b9d4-c907-4cae-9d7e-fb302b5da95f_Basecall_Alignment_template',\n",
       " '15820170-c38d-4acd-ae98-8a9c759954e3_Basecall_Alignment_template',\n",
       " '159b8429-ef06-4ecb-a047-eb4c3905b535_Basecall_Alignment_template',\n",
       " '15a40435-6af8-4a54-bfb8-298475fa8c4e_Basecall_Alignment_template',\n",
       " '15a45ced-09b2-4c0e-98f4-08aa2f5ad1e8_Basecall_Alignment_template',\n",
       " '15a806b3-8758-40ad-925a-7e5036fed448_Basecall_Alignment_template',\n",
       " '15ad8415-d904-4430-9ac3-bcbf745fb068_Basecall_Alignment_template',\n",
       " '15ae7d7a-eadb-428a-9d54-bf128b90bfe3_Basecall_Alignment_template',\n",
       " '15aeb8e9-86cc-4ebb-aa4c-6d8a8b2fda8a_Basecall_Alignment_template',\n",
       " '15b3da5b-1db5-460c-b087-97bebb79332d_Basecall_Alignment_template',\n",
       " '15bff093-418b-402f-9794-8a4870927b46_Basecall_Alignment_template',\n",
       " '15c386a1-1cc1-4599-b8a8-0d02abe9ec83_Basecall_Alignment_template',\n",
       " '15c682a8-0ce9-4448-940f-eeac45d8b378_Basecall_Alignment_template',\n",
       " '15d45314-7b1d-4d7c-ab59-1ccdef9469dc_Basecall_Alignment_template',\n",
       " '15e05da1-a187-4b6e-b467-6d0dff1975ff_Basecall_Alignment_template',\n",
       " '15edc7f8-84a7-489f-99da-6ea3fa65ae4a_Basecall_Alignment_template',\n",
       " '15f0c5a7-573f-4d9a-910a-ed99f5de8aea_Basecall_Alignment_template',\n",
       " '15f58389-4166-43c2-99c6-37d1cef30c8f_Basecall_Alignment_template',\n",
       " '16040bc6-a660-473d-b84d-40ae9eeb285f_Basecall_Alignment_template',\n",
       " '16050d0e-36e3-4681-be35-3bbb31dd6e94_Basecall_Alignment_template',\n",
       " '1605a67d-7f43-4d9c-adf1-9ae5cb16c998_Basecall_Alignment_template',\n",
       " '160cd259-4702-402a-b7b4-b28602a02f14_Basecall_Alignment_template',\n",
       " '16167e5a-f2c0-4154-9396-f4dee531be53_Basecall_Alignment_template',\n",
       " '16275658-e9e7-49db-aec1-66e046a99bb0_Basecall_Alignment_template',\n",
       " '162d441c-9a3f-4ee1-b3fa-03e405962664_Basecall_Alignment_template',\n",
       " '1639ad4a-6ae8-42ad-ab1d-3f81477f413c_Basecall_Alignment_template',\n",
       " '1646a2e5-e67c-4b8d-973a-c9adf0f80f51_Basecall_Alignment_template',\n",
       " '166bc1fe-2c67-4025-aeb8-1bd23cd4f524_Basecall_Alignment_template',\n",
       " '166daefd-155d-4a55-8c25-874a106613e2_Basecall_Alignment_template',\n",
       " '1677b251-11c4-41f4-952a-01a3ea08598e_Basecall_Alignment_template',\n",
       " '1684fcfb-f7d5-441c-846b-9b6c1bca4041_Basecall_Alignment_template',\n",
       " '168b2dcd-52e3-46ee-9e4b-e4b557b3fe0f_Basecall_Alignment_template',\n",
       " '16926ba5-7915-40fa-86b3-c15a7ac17a36_Basecall_Alignment_template',\n",
       " '16969afe-d4a7-4690-8e65-7e1d3ddfead8_Basecall_Alignment_template',\n",
       " '1698224c-a117-4eda-81e3-3aba96250482_Basecall_Alignment_template',\n",
       " '169917e6-b9ac-43e1-bf06-1603ab5a5f02_Basecall_Alignment_template',\n",
       " '1699c277-73db-4d62-b894-83896b209977_Basecall_Alignment_template',\n",
       " '169e2e6c-d7bf-43b7-92ac-755f798e3b4a_Basecall_Alignment_template',\n",
       " '169ea638-84ed-4fe6-9ceb-1e25f6d028ba_Basecall_Alignment_template',\n",
       " '16aa5509-f0b9-4114-bf8e-99449c89926e_Basecall_Alignment_template',\n",
       " '16b147bb-f6ea-4ad0-bbba-86d46fa18fca_Basecall_Alignment_template',\n",
       " '16b7516a-2457-432d-a43f-aac6a2fb3a11_Basecall_Alignment_template',\n",
       " '16c2aa3d-d431-4f1c-9ba9-6f58d46ed2b1_Basecall_Alignment_template',\n",
       " '16cb872d-7c67-49e8-8bc0-7807cf5bc81e_Basecall_Alignment_template',\n",
       " '16cd35eb-c5ad-44ea-90ea-6e8123a0cc86_Basecall_Alignment_template',\n",
       " '16d03bc8-1f4b-4c50-9374-04e2d2175553_Basecall_Alignment_template',\n",
       " '16d415b3-74c7-4309-9871-47b350585501_Basecall_Alignment_template',\n",
       " '16d9c0e5-9300-4f36-be01-cb7da67a5ba4_Basecall_Alignment_template',\n",
       " '17030463-7c5e-479b-8482-c9d20bdd0eca_Basecall_Alignment_template',\n",
       " '1704ed8c-9ce6-4f73-b026-9cb9f85a6321_Basecall_Alignment_template',\n",
       " '17083f06-441b-42de-b28e-03d1bf170a78_Basecall_Alignment_template',\n",
       " '1710250f-92e5-4942-86a4-ad8b0989e1c4_Basecall_Alignment_template',\n",
       " '1710b378-efa9-4888-94b3-bfd6e133791c_Basecall_Alignment_template',\n",
       " '171b3f35-2937-43c4-887d-b3e13076c3e3_Basecall_Alignment_template',\n",
       " '171e34f6-2460-4b4e-917a-24aae81ccc9f_Basecall_Alignment_template',\n",
       " '172a6509-6197-482d-b583-78f11be2110b_Basecall_Alignment_template',\n",
       " '173ed9f1-c2c6-45f7-b63c-d47cc5c294cb_Basecall_Alignment_template',\n",
       " '1741d5bf-cce8-4816-9c84-0b803a9d5ee2_Basecall_Alignment_template',\n",
       " '1745314a-43a2-4c4d-9a88-2ff1888243b2_Basecall_Alignment_template',\n",
       " '176d24f3-1993-4972-a5bd-c0279bda7edc_Basecall_Alignment_template',\n",
       " '17797dcc-2224-4f07-9eab-aa7c64abfab9_Basecall_Alignment_template',\n",
       " '178ef3c5-534e-446e-ab28-f9ff2a6065cf_Basecall_Alignment_template',\n",
       " '17930838-2bef-4b76-b9e3-54705d3cd2b9_Basecall_Alignment_template',\n",
       " '17957e2d-8b2e-416d-8786-dfe92628ac62_Basecall_Alignment_template',\n",
       " '17997cf6-3850-43b9-968e-afbe7325b3c9_Basecall_Alignment_template',\n",
       " '179c147a-c483-4609-830a-827dbce6eae6_Basecall_Alignment_template',\n",
       " '17a5f421-76b3-4e9a-ba22-53b55ed6155f_Basecall_Alignment_template',\n",
       " '17aec7a2-3ba7-406b-b1a3-a0a41aaf9aaf_Basecall_Alignment_template',\n",
       " '17c04b59-96df-46f2-af7b-30faf7dc4aa3_Basecall_Alignment_template',\n",
       " '17c5af97-24ef-4a09-9c0f-2f28865e83fc_Basecall_Alignment_template',\n",
       " '17e77136-4cfc-43e3-bb70-fd74eaf45e9d_Basecall_Alignment_template',\n",
       " '17eeb87a-94f0-40f0-a9cd-7baf69660693_Basecall_Alignment_template',\n",
       " '17f65084-1745-4b7e-9139-ca9fe1ce7413_Basecall_Alignment_template',\n",
       " '17f9d51e-30d7-47ac-9efd-523296ba6196_Basecall_Alignment_template',\n",
       " '17fac403-727e-441f-867f-0fb39b4a9a6e_Basecall_Alignment_template',\n",
       " '180f2acd-3e21-47f5-ad40-c3d98ed6993b_Basecall_Alignment_template',\n",
       " '1812c127-0794-421b-8850-2810f6dafc96_Basecall_Alignment_template',\n",
       " '181a141f-6366-4a19-9fed-e78d67801ad6_Basecall_Alignment_template',\n",
       " '181b3a65-4961-4373-a6bd-e491c32b786f_Basecall_Alignment_template',\n",
       " '1827bf06-35fd-43fe-b91c-0b2fe64fce78_Basecall_Alignment_template',\n",
       " '1835b53e-3f52-4791-9a5b-ec7779aa3392_Basecall_Alignment_template',\n",
       " '18371ba5-146f-4ac9-876a-fe69f14ad141_Basecall_Alignment_template',\n",
       " '183aa1e7-7047-44e6-9a79-5390804b7500_Basecall_Alignment_template',\n",
       " '18429b74-0582-4f66-ba84-03fa50d3a161_Basecall_Alignment_template',\n",
       " '18435c13-7078-41e3-b2cf-be7c87ba803a_Basecall_Alignment_template',\n",
       " '1845ed32-44b8-4418-8028-6b079130c755_Basecall_Alignment_template',\n",
       " '18533d84-5eab-4692-a7d6-7701a3b9185b_Basecall_Alignment_template',\n",
       " '185b43c2-cac0-4ed4-a8b7-8a70e832f354_Basecall_Alignment_template',\n",
       " '1868f27a-ce5c-437d-bb8e-6e7a5323b442_Basecall_Alignment_template',\n",
       " '186e2a86-1993-450a-9d0b-f19d6f87a0b1_Basecall_Alignment_template',\n",
       " '186f21e3-e916-4b18-994e-4b2e24cef7c0_Basecall_Alignment_template',\n",
       " '1874b821-a320-4890-8853-be1549bdb331_Basecall_Alignment_template',\n",
       " '18844763-5c03-471f-b00e-6bc789cfbec5_Basecall_Alignment_template',\n",
       " '18871efc-c0b4-4c31-865b-cce846dce6c3_Basecall_Alignment_template',\n",
       " '1889fd0a-d747-4079-9787-8127ae20a273_Basecall_Alignment_template',\n",
       " '188aaa96-7576-4453-a989-667609f9c38f_Basecall_Alignment_template',\n",
       " '189092f5-d4c7-4803-a91a-e319b2c13b1e_Basecall_Alignment_template',\n",
       " '18924fec-6dcc-46c0-8f8e-c76402d0fb9e_Basecall_Alignment_template',\n",
       " '18ac4552-5feb-4580-838f-dbc0bd5bedee_Basecall_Alignment_template',\n",
       " '18b1b909-186e-4f33-a285-1b5d15b9a7d5_Basecall_Alignment_template',\n",
       " '18b3e029-cf65-4857-a84d-ee1a1a97d3e3_Basecall_Alignment_template',\n",
       " '18cc21cd-2cd4-4135-b84e-e86fff60904f_Basecall_Alignment_template',\n",
       " '18ce5bfd-1526-405c-a852-e91ea662224f_Basecall_Alignment_template',\n",
       " '18d7e73f-f4bd-435a-9365-3b0b92623701_Basecall_Alignment_template',\n",
       " '18d96a83-c880-4389-9f22-fefd4fd59863_Basecall_Alignment_template',\n",
       " '18ed7b20-0e10-4714-91b6-1009a16acd8e_Basecall_Alignment_template',\n",
       " '191083b4-d0c9-4732-88df-706cab00fb16_Basecall_Alignment_template',\n",
       " '191d4df0-bb3d-45e2-a3d2-b690b7358c9a_Basecall_Alignment_template',\n",
       " '19306801-cde3-4f52-882d-24a5060f059e_Basecall_Alignment_template',\n",
       " '193565ad-ca9d-41d3-891d-4f33491c8616_Basecall_Alignment_template',\n",
       " '1938e8e8-bb61-40a6-83ed-beb8a3036c4a_Basecall_Alignment_template',\n",
       " '193b2ee4-8edd-46b5-a488-6b9ce0ccd506_Basecall_Alignment_template',\n",
       " '1942c4e5-2227-42ce-9577-ccc17923e1ee_Basecall_Alignment_template',\n",
       " '1947f723-ece9-463a-a96b-1722441a909e_Basecall_Alignment_template',\n",
       " '1964991e-01c8-4787-a4dc-71139ae52ab2_Basecall_Alignment_template',\n",
       " '19695d77-f82f-4826-aaf2-7df9eb0776af_Basecall_Alignment_template',\n",
       " '196a62bc-9296-4a14-9a22-eb773bc92116_Basecall_Alignment_template',\n",
       " '19711247-7604-426e-b1aa-450440268de5_Basecall_Alignment_template',\n",
       " '197a2442-056b-4d1b-af8d-3fd9c299d6a7_Basecall_Alignment_template',\n",
       " '197fcdb2-080f-487e-aaaf-fb5c61cb64ac_Basecall_Alignment_template',\n",
       " '198ef84e-a856-4f86-b6c9-eb272a08afcb_Basecall_Alignment_template',\n",
       " '199a8b47-e985-4d8d-98ba-39c506b17c26_Basecall_Alignment_template',\n",
       " '199ff31c-c3fe-4e68-88ed-46ae24a43410_Basecall_Alignment_template',\n",
       " '19a6f82e-27ef-422e-b9f1-736ee434483a_Basecall_Alignment_template',\n",
       " '19a9d4a1-28ac-413b-be7f-d50b3d1a17b9_Basecall_Alignment_template',\n",
       " '19ac5c56-ccf2-4eb3-9da9-0c37e9faea98_Basecall_Alignment_template',\n",
       " '19ac65e3-a491-474f-8cc8-ac3b54f07f15_Basecall_Alignment_template',\n",
       " '19adf722-ee25-4087-bf71-7fc07e6420a3_Basecall_Alignment_template',\n",
       " '19b0f979-8f2b-4d90-9eb8-788e88bd4735_Basecall_Alignment_template',\n",
       " '19bfa3d4-724d-4764-9b8f-be32f687be9a_Basecall_Alignment_template',\n",
       " '19c22d79-7897-40e7-9670-78be8a42212a_Basecall_Alignment_template',\n",
       " '19c56002-40fb-4c14-afb3-13aedef8c224_Basecall_Alignment_template',\n",
       " '19d0e2d5-391e-4e99-8c8b-51b6634f29e0_Basecall_Alignment_template',\n",
       " '19de9310-94a6-40b6-9a4a-98d3d7203e43_Basecall_Alignment_template',\n",
       " '19eaa21b-c4b2-4d92-a4ee-67729b6802cd_Basecall_Alignment_template',\n",
       " '19ec4569-118f-467b-b924-692f9d4463da_Basecall_Alignment_template',\n",
       " '19f54c7f-87ec-4ca9-a5da-b333932cad72_Basecall_Alignment_template',\n",
       " '19f7fa36-1df3-453e-92a8-4eb4b3bacd1a_Basecall_Alignment_template',\n",
       " '19fbb398-2045-4509-863f-372b39322989_Basecall_Alignment_template',\n",
       " '1a0d53c3-9d06-4d35-beb9-3764247849e8_Basecall_Alignment_template',\n",
       " '1a12907a-cb3f-454a-9e00-ae7340dad680_Basecall_Alignment_template',\n",
       " '1a1baae6-0b17-4092-91b7-fc03fc473598_Basecall_Alignment_template',\n",
       " '1a226294-f8f5-4e78-9335-ba5a5eaff28e_Basecall_Alignment_template',\n",
       " '1a24813a-8e0a-4a87-a432-e4d0811871c6_Basecall_Alignment_template',\n",
       " '1a4b21d4-da31-479a-9a11-170af3beec72_Basecall_Alignment_template',\n",
       " '1a53732c-25ac-406c-8eea-47cb83280ae6_Basecall_Alignment_template',\n",
       " '1a5dcbfa-ccd5-40a5-b777-6e4cf9c8eae5_Basecall_Alignment_template',\n",
       " '1a6a6f6c-5136-4ea1-bcb4-d2327344e38d_Basecall_Alignment_template',\n",
       " '1a6c4992-7135-4ad7-b824-17b8db4cb92d_Basecall_Alignment_template',\n",
       " '1a724d72-a7d2-4507-adb7-43e810bc8922_Basecall_Alignment_template',\n",
       " '1a73a348-d326-43df-9028-284e30086f67_Basecall_Alignment_template',\n",
       " '1a77de04-b31c-442e-b228-2279fcf7587d_Basecall_Alignment_template',\n",
       " '1a8bddba-0e7c-44e2-95ca-846e1d8f03aa_Basecall_Alignment_template',\n",
       " '1a8dc8b1-beb5-4667-8248-ef94abcbd186_Basecall_Alignment_template',\n",
       " '1a91fc58-b561-4348-99fa-157f9370465a_Basecall_Alignment_template',\n",
       " '1aa28b57-d9b7-4c02-8c7d-63e251b1e344_Basecall_Alignment_template',\n",
       " '1aa3963d-ad7a-4318-ab0b-1cf5ee99d5a3_Basecall_Alignment_template',\n",
       " '1aa668a8-e43a-4f4e-a130-7c697f93641a_Basecall_Alignment_template',\n",
       " '1aaa1973-4348-4d43-af7a-c28aa045445f_Basecall_Alignment_template',\n",
       " '1ab019a2-cc33-4de1-a3f4-3ae4f3861a48_Basecall_Alignment_template',\n",
       " '1ab4baa6-9f93-4b22-b26a-2a11bd4e3689_Basecall_Alignment_template',\n",
       " '1ab61112-534a-48b9-b8bc-029a822edab4_Basecall_Alignment_template',\n",
       " '1ac307fb-2d9c-400c-877d-9efa196c8ae4_Basecall_Alignment_template',\n",
       " '1ac4b4ab-d33c-40ea-8535-b8e8c4aa7eb1_Basecall_Alignment_template',\n",
       " '1ac85f8a-2a3d-4f5a-917e-f147ca5319e3_Basecall_Alignment_template',\n",
       " '1ae0190e-e4d5-464e-8024-84b7ea89aa59_Basecall_Alignment_template',\n",
       " '1ae52b32-b7c5-4495-8cf5-390d39a574c4_Basecall_Alignment_template',\n",
       " '1af3b82d-28b6-491c-b0b2-87a5c469ced3_Basecall_Alignment_template',\n",
       " '1af5b7bb-116e-48cf-887c-27b47f784db4_Basecall_Alignment_template',\n",
       " '1afa9867-6b4f-4ca9-8ecd-f0763da050f8_Basecall_Alignment_template',\n",
       " '1afb337e-4130-4ae5-9044-a3bf931b1f90_Basecall_Alignment_template',\n",
       " '1aff78ec-e308-4b50-b392-8e18ff40d9d4_Basecall_Alignment_template',\n",
       " '1b01ce9c-4c1e-4952-bb83-e7171ef32b9f_Basecall_Alignment_template',\n",
       " '1b0303e4-d86d-4ebb-8f04-f785f92350e3_Basecall_Alignment_template',\n",
       " '1b055c61-916c-423b-a057-29a098bb772c_Basecall_Alignment_template',\n",
       " '1b06c5f3-bb8f-4142-9dd9-bc940d2bcba9_Basecall_Alignment_template',\n",
       " '1b081db8-22fc-4726-84c8-8869544e3f43_Basecall_Alignment_template',\n",
       " '1b0b3e90-4afa-4e0b-b816-b9ac3e760c00_Basecall_Alignment_template',\n",
       " '1b20a83f-4070-4b8f-90f4-db2de28a016e_Basecall_Alignment_template',\n",
       " '1b43976d-d84c-4c97-8206-9db9088d2af6_Basecall_Alignment_template',\n",
       " '1b5eff6c-803c-43e7-ab31-1485e2ad9beb_Basecall_Alignment_template',\n",
       " '1b6dd689-43c8-445e-99eb-01bda0ebb0df_Basecall_Alignment_template',\n",
       " '1b872dd3-e91d-4c7f-bd91-d465cca22df8_Basecall_Alignment_template',\n",
       " '1b96e999-049b-47bb-8f61-ce72fddab1a5_Basecall_Alignment_template',\n",
       " '1b9bb1c4-3533-4e63-8704-7e6fa860ed0a_Basecall_Alignment_template',\n",
       " '1b9df229-136c-4906-a11d-c31694d9dad5_Basecall_Alignment_template',\n",
       " '1ba26d0d-2acf-4034-b36f-ff53e4e1f45b_Basecall_Alignment_template',\n",
       " '1ba30e42-ce85-43eb-ac59-073749fe42db_Basecall_Alignment_template',\n",
       " '1ba367c5-78e5-40fe-80fb-6a60177f3eaf_Basecall_Alignment_template',\n",
       " '1ba7ee22-0604-4dcf-b2b2-5ed3676a49ab_Basecall_Alignment_template',\n",
       " '1bbbbd9a-21c6-4915-810a-7a430f704b3c_Basecall_Alignment_template',\n",
       " '1bcb4ab0-0853-43cc-abcc-fc2879a46b22_Basecall_Alignment_template',\n",
       " '1bcca0fb-3aca-4bbd-abbe-210aeef59754_Basecall_Alignment_template',\n",
       " '1bcd06e1-1dca-4070-8304-06b738ba49bf_Basecall_Alignment_template',\n",
       " '1bd2134a-63b4-4e1f-8551-4aa4d342e82f_Basecall_Alignment_template',\n",
       " '1bd2745f-74f4-473d-9037-e53e96993c7e_Basecall_Alignment_template',\n",
       " '1bdbb584-a831-449c-b927-0d74b431bdba_Basecall_Alignment_template',\n",
       " '1be1cfaa-c291-48f0-9579-3a5f45317ca6_Basecall_Alignment_template',\n",
       " '1be53aee-e07b-413a-aff9-bc3bbfd59024_Basecall_Alignment_template',\n",
       " '1bf01f71-c17f-4d7b-9c1a-e3f5cc183c1e_Basecall_Alignment_template',\n",
       " '1bfaee8b-3f40-41c2-81b1-c4d56bae195c_Basecall_Alignment_template',\n",
       " '1c0e6845-1a5f-4670-be89-f52b62921ef1_Basecall_Alignment_template',\n",
       " '1c108769-e909-4f6f-a426-e2a6b4c08664_Basecall_Alignment_template',\n",
       " '1c113f2f-916f-42a9-83b6-01a6d3babfff_Basecall_Alignment_template',\n",
       " '1c195574-e49c-43be-8919-91435022cca4_Basecall_Alignment_template',\n",
       " '1c1bfeb4-d6de-4430-b9c3-8f23066155e1_Basecall_Alignment_template',\n",
       " '1c266d0b-5b8e-4f16-8f9f-0135509dbb1c_Basecall_Alignment_template',\n",
       " '1c2c11e0-b786-4a38-af52-206c0d67c517_Basecall_Alignment_template',\n",
       " '1c2f5d62-6c59-404f-822a-4fed305b3f77_Basecall_Alignment_template',\n",
       " '1c334123-45bd-48ff-bdea-2c2b2713b0d8_Basecall_Alignment_template',\n",
       " '1c355558-ee97-4d41-a28e-6a7a081c64ac_Basecall_Alignment_template',\n",
       " '1c3727b2-c1bc-4d83-b683-1a44ff474646_Basecall_Alignment_template',\n",
       " '1c37e67d-e248-482f-ac4f-a927be5af307_Basecall_Alignment_template',\n",
       " '1c470fd0-010f-4de1-bacc-7bfd7b6d319b_Basecall_Alignment_template',\n",
       " '1c5461f8-f133-41fc-b7d2-87d619a5afb9_Basecall_Alignment_template',\n",
       " '1c578a43-2880-424b-a8a6-b810f6e74b1d_Basecall_Alignment_template',\n",
       " '1c5cdb6a-c657-4bd6-864b-9c75f6a6b9cd_Basecall_Alignment_template',\n",
       " '1c6749e9-53f6-41ec-aca1-fc086a619f06_Basecall_Alignment_template',\n",
       " '1c691943-4a03-4c67-ba5b-7023c6b30273_Basecall_Alignment_template',\n",
       " '1c6d48f0-cc3f-433b-8746-2eb6a0378a6b_Basecall_Alignment_template',\n",
       " '1c76aedd-9e68-4fbb-88df-459413923279_Basecall_Alignment_template',\n",
       " '1c807c7a-2115-4f59-9a66-7db65e0663b5_Basecall_Alignment_template',\n",
       " '1c8331f7-7db5-4f4c-9668-e6e0542b54b9_Basecall_Alignment_template',\n",
       " '1c838c2a-2ffd-4181-9f8c-329359a5caf5_Basecall_Alignment_template',\n",
       " '1c861731-12ca-4763-bd74-33663dcb2d7d_Basecall_Alignment_template',\n",
       " '1c8b74eb-51e4-4d55-9c5f-912d6a70a087_Basecall_Alignment_template',\n",
       " '1c8bd82c-3a29-4323-9bc6-f9f8bac36843_Basecall_Alignment_template',\n",
       " '1c964e37-1e54-4c4d-a6e2-7ff562d9dbb9_Basecall_Alignment_template',\n",
       " '1c9dbd12-b3d4-4e4f-878d-790e74291c1c_Basecall_Alignment_template',\n",
       " '1ca89f7e-1ab8-4401-abc0-da4748ba23b8_Basecall_Alignment_template',\n",
       " '1ca9ca21-d138-4642-89f4-f00f21c8cc9d_Basecall_Alignment_template',\n",
       " '1caa920a-e9c8-43a0-bb9f-53728a659ff3_Basecall_Alignment_template',\n",
       " '1cacf3e7-4348-46bb-9bab-ec602adc5681_Basecall_Alignment_template',\n",
       " '1cb09ba5-e428-4300-9cc5-d65877ccd83f_Basecall_Alignment_template',\n",
       " '1cb90afc-559e-43d5-9158-3b53cc94ba8d_Basecall_Alignment_template',\n",
       " '1cb99058-4b51-418c-a466-43c4bc3cb4d5_Basecall_Alignment_template',\n",
       " '1cc448a9-9e5e-4ff5-b36f-eb59871ed96d_Basecall_Alignment_template',\n",
       " '1cc6a4c4-e8ae-4975-8786-0e9485847def_Basecall_Alignment_template',\n",
       " '1cc8d8ba-e7bf-463d-be41-066eab4db16b_Basecall_Alignment_template',\n",
       " '1ccd0bec-1b56-475a-8c4d-ba8db957ec09_Basecall_Alignment_template',\n",
       " '1cd062b2-9f17-44ec-bcf9-81e8bab4f0c7_Basecall_Alignment_template',\n",
       " '1cd2dbed-24b2-4506-86b8-8873c6a67480_Basecall_Alignment_template',\n",
       " '1cdf0270-cbbf-46d4-aa65-4576027a9c69_Basecall_Alignment_template',\n",
       " '1cdf31d5-37d7-4820-9475-f91933595d2f_Basecall_Alignment_template',\n",
       " '1cf00db4-3120-4088-a07f-622601f0e5bd_Basecall_Alignment_template',\n",
       " '1cf9c591-0ecf-4ee6-9f9e-a2408382f067_Basecall_Alignment_template',\n",
       " '1cfb9859-76a4-413b-a849-7e8e72ee1eb5_Basecall_Alignment_template',\n",
       " '1d18245c-fc27-4193-9b00-e955ec705dae_Basecall_Alignment_template',\n",
       " '1d1b1fad-0ad8-4efe-b06e-6e2dfed74f86_Basecall_Alignment_template',\n",
       " '1d2776cd-4602-4441-b6b9-1210520bac46_Basecall_Alignment_template',\n",
       " '1d306194-3bfa-4967-af6d-ad0020977bec_Basecall_Alignment_template',\n",
       " '1d306386-453c-48e9-950e-ace1e84d4368_Basecall_Alignment_template',\n",
       " '1d3c2f7c-786e-4597-adb7-6610e5bb7264_Basecall_Alignment_template',\n",
       " '1d3e79a2-c8a8-4647-b281-cbf23e6a0e29_Basecall_Alignment_template',\n",
       " '1d468be7-bb61-4da3-bb63-25e55289d545_Basecall_Alignment_template',\n",
       " '1d4bbbbc-f66c-4ed8-af6b-fb8ceb9c0436_Basecall_Alignment_template',\n",
       " '1d565cb1-8d30-45e6-927a-1fdb52703053_Basecall_Alignment_template',\n",
       " '1d60b126-16ee-4864-8ffa-c08298d8b49f_Basecall_Alignment_template',\n",
       " '1d612773-0f5b-4aac-ae5e-65257f4983ab_Basecall_Alignment_template',\n",
       " '1d6abfab-edcb-496a-a001-af2a2c9b8018_Basecall_Alignment_template',\n",
       " '1d6cccf7-3af1-4f09-b426-3979d695e0d9_Basecall_Alignment_template',\n",
       " '1d6f1f8f-3453-4414-8d55-ceebc444b5ed_Basecall_Alignment_template',\n",
       " '1d713ad7-83c5-48ab-a563-29c2676fa574_Basecall_Alignment_template',\n",
       " '1d78526b-9337-48ff-b25f-4db0989a7985_Basecall_Alignment_template',\n",
       " '1d810e1b-f742-4028-9d09-19735749be8c_Basecall_Alignment_template',\n",
       " '1d885b97-32da-4cc2-9397-2d3785742eae_Basecall_Alignment_template',\n",
       " '1d8988a7-0608-4218-9703-3148c2fb8a8e_Basecall_Alignment_template',\n",
       " '1d96edf8-9ec0-40ea-a6c7-6e2184e378f4_Basecall_Alignment_template',\n",
       " '1d9870bb-698f-4f2f-b5fa-3154ef1a7fde_Basecall_Alignment_template',\n",
       " '1da65dbc-afcb-4bbe-9997-c313eaf6f0e4_Basecall_Alignment_template',\n",
       " '1dacb813-d9c8-4792-9056-5b95d5ee2069_Basecall_Alignment_template',\n",
       " '1dadbddd-db37-4c94-b9d7-03ed94cf31d7_Basecall_Alignment_template',\n",
       " '1db4c095-a422-417e-8519-c7df77195027_Basecall_Alignment_template',\n",
       " '1dc48f31-5ae5-456c-bdd7-bc53ca1e0bd3_Basecall_Alignment_template',\n",
       " '1dd7cc47-b1f2-4b97-9a0f-48059a681fe9_Basecall_Alignment_template',\n",
       " '1ddf4a82-d429-401a-814f-a2996c501185_Basecall_Alignment_template',\n",
       " '1de39c83-345c-42f0-9222-13865274dd2f_Basecall_Alignment_template',\n",
       " '1df8e930-ffb1-4eaa-bea2-00c2e309a704_Basecall_Alignment_template',\n",
       " '1dfb023d-b2cc-4e25-8a63-a97a1d6959d0_Basecall_Alignment_template',\n",
       " '1dfdd491-2064-4a47-8401-38fa37da2bff_Basecall_Alignment_template',\n",
       " '1e09185a-c7d4-4800-893c-58c5733d82c6_Basecall_Alignment_template',\n",
       " '1e10d721-0192-450e-ab4a-8dee40ca563b_Basecall_Alignment_template',\n",
       " '1e13b594-073f-475b-a719-6416e5160147_Basecall_Alignment_template',\n",
       " '1e2a6f13-7ec7-48c6-a18e-8f97c46e5261_Basecall_Alignment_template',\n",
       " '1e2bee5c-bc4a-4a27-8e2a-8e20ea2197ca_Basecall_Alignment_template',\n",
       " '1e2dd329-8d3d-470b-93e9-8bd4b61402fd_Basecall_Alignment_template',\n",
       " '1e34f0c7-8d94-4ae3-b1f8-1cd7691749c1_Basecall_Alignment_template',\n",
       " '1e421e4f-2e8d-4ff5-9aaa-f93cd4f3b435_Basecall_Alignment_template',\n",
       " '1e442250-74d9-4486-9b30-c7696633da46_Basecall_Alignment_template',\n",
       " '1e4c42cf-2177-4681-b332-e5bdf908d23c_Basecall_Alignment_template',\n",
       " '1e56ece4-66e6-4bfa-86bb-3bc60eb93ba0_Basecall_Alignment_template',\n",
       " '1e5a5d51-9637-497a-ad68-c862d4983324_Basecall_Alignment_template',\n",
       " '1e70c225-6e44-4cfb-8952-876c4cf0e254_Basecall_Alignment_template',\n",
       " '1e71a2ad-63ef-4897-bab8-5e6d95234cea_Basecall_Alignment_template',\n",
       " '1e748d70-11c6-47c5-ba96-2768bc41d8b7_Basecall_Alignment_template',\n",
       " '1e79651a-c40e-4e9f-8864-c49f47165ae4_Basecall_Alignment_template',\n",
       " '1e80a09a-dbd0-4bb3-9bc9-7edc83048fe4_Basecall_Alignment_template',\n",
       " '1e8fb31e-30f2-4e72-b9c0-f7dbe0ef2285_Basecall_Alignment_template',\n",
       " '1e94c8ca-320e-47be-b5f0-0afdb904d3c1_Basecall_Alignment_template',\n",
       " '1e9d2412-f3ec-49e5-8f6b-66c2708ce32d_Basecall_Alignment_template',\n",
       " '1ea2bea1-5dae-406b-83e1-ec1aa9d98481_Basecall_Alignment_template',\n",
       " '1eaae407-a57f-43d7-b30e-e8bb06e69057_Basecall_Alignment_template',\n",
       " '1eaae75c-46ad-46d0-a8dd-7bbe9e96f715_Basecall_Alignment_template',\n",
       " '1ec2c5d3-28e0-49fc-9088-532551a9c604_Basecall_Alignment_template',\n",
       " '1ec85345-ff57-4fef-aaee-f21cd15a6d41_Basecall_Alignment_template',\n",
       " '1ededfa8-4cf0-45eb-8ee2-a80d666e854f_Basecall_Alignment_template',\n",
       " '1ef26b99-dabc-4f13-b1a6-132523d9428b_Basecall_Alignment_template',\n",
       " '1ef3e3f2-55b7-4af0-9e5e-18f331232ff9_Basecall_Alignment_template',\n",
       " '1ef454cd-6222-426e-8b01-0c1ec1ba0624_Basecall_Alignment_template',\n",
       " '1ef69e88-2712-4e49-b3cb-00e7ef1c2c01_Basecall_Alignment_template',\n",
       " '1efd6f4a-98be-4879-b0ac-81f8db8a5c44_Basecall_Alignment_template',\n",
       " '1efdae5d-cd45-4fc9-b1fd-9d9f26476bea_Basecall_Alignment_template',\n",
       " '1f0a9bf6-c8ab-4759-924b-c0cb467c4768_Basecall_Alignment_template',\n",
       " '1f0bfc2d-03be-446b-893f-9ceaba1b5b66_Basecall_Alignment_template',\n",
       " '1f18f309-dc69-4e2a-8e6f-7bfd9a651894_Basecall_Alignment_template',\n",
       " '1f1ee1fe-110a-473e-b5c2-92c93cf6e39f_Basecall_Alignment_template',\n",
       " '1f23b33a-0a73-4703-a47a-ad0ce9d6d28b_Basecall_Alignment_template',\n",
       " '1f278520-6b15-4357-82fc-1109fcd61ee6_Basecall_Alignment_template',\n",
       " '1f34fbec-5570-4a28-ace8-f25baf63bdee_Basecall_Alignment_template',\n",
       " '1f374c12-7a84-4b90-8dae-deb043f3b4fd_Basecall_Alignment_template',\n",
       " '1f3b79dd-595a-4414-9b1e-c9867ce53838_Basecall_Alignment_template',\n",
       " '1f43dddc-a756-44f9-be82-c76137b878ae_Basecall_Alignment_template',\n",
       " '1f484eb8-0a55-48d9-bafe-3533f71204ed_Basecall_Alignment_template',\n",
       " '1f48a686-77e6-4c8a-b093-2d050a24db18_Basecall_Alignment_template',\n",
       " '1f73c753-5dde-438a-9ccc-5d1b9f9b7f5c_Basecall_Alignment_template',\n",
       " '1f8413f4-4670-4089-af5b-88df48e42ebe_Basecall_Alignment_template',\n",
       " '1f94c57e-a3d6-4ac0-aa87-c74fc14a029f_Basecall_Alignment_template',\n",
       " '1f989ef4-3912-4b74-b06c-370dd02be2a0_Basecall_Alignment_template',\n",
       " '1fa62999-09d2-46da-8824-c18f330a5f75_Basecall_Alignment_template',\n",
       " '1fc635f3-8f18-4312-abe7-07a723cb5a88_Basecall_Alignment_template',\n",
       " '1fc73c2e-f54d-44a5-bddd-7c85927acdb3_Basecall_Alignment_template',\n",
       " '1fec54f6-4b3e-4545-9559-4c6c44e5c5c2_Basecall_Alignment_template',\n",
       " '1fef75e9-4516-403f-882d-8ee94c5998f0_Basecall_Alignment_template',\n",
       " '1ff3a2ed-f8bc-4050-a069-ae10aabcf935_Basecall_Alignment_template',\n",
       " '1ff74006-8851-4996-bba0-3d816855d0be_Basecall_Alignment_template',\n",
       " '2000307a-a6b4-4c12-a1a6-ca8ba8bcdcab_Basecall_Alignment_template',\n",
       " '2011c6d2-f5af-407d-8324-0ad76a931d73_Basecall_Alignment_template',\n",
       " '20259802-2153-4ec5-b515-20ed5411ea28_Basecall_Alignment_template',\n",
       " '203e97ec-714f-4edd-96cd-7d4147213cda_Basecall_Alignment_template',\n",
       " '205c5b47-e535-47e8-bff9-c4b31aafc019_Basecall_Alignment_template',\n",
       " '2062f6bf-17a4-4c2b-8b53-4337ed36dc22_Basecall_Alignment_template',\n",
       " '20682425-a042-46d2-8ad4-8f42df0ca5bc_Basecall_Alignment_template',\n",
       " '206d557f-52c8-44b1-8d67-4a24c89d6400_Basecall_Alignment_template',\n",
       " '20729359-f3a1-4eca-9d7f-2241ac621f83_Basecall_Alignment_template',\n",
       " '20737757-4563-4d0e-a0c2-eb375a3ae726_Basecall_Alignment_template',\n",
       " '2079af6f-e271-471b-8bca-96fd49b091cf_Basecall_Alignment_template',\n",
       " '207e0942-77f8-4520-80f5-68154eed4f84_Basecall_Alignment_template',\n",
       " '207ed363-baee-41d8-a219-368423d161c9_Basecall_Alignment_template',\n",
       " '209056fc-1716-40a4-928c-2d01f3bc9250_Basecall_Alignment_template',\n",
       " '209e329c-a2e8-4296-9955-8fcd7facb252_Basecall_Alignment_template',\n",
       " '20a4c8a6-8b68-4f0e-8ceb-f7746dcda33a_Basecall_Alignment_template',\n",
       " '20a6f374-ee11-4e50-b686-7e6d581b92f5_Basecall_Alignment_template',\n",
       " '20c128f9-dc27-4ed1-ba6f-aedef9bcb482_Basecall_Alignment_template',\n",
       " '20d0edfd-7bb5-4fef-a54f-560bcc2658c8_Basecall_Alignment_template',\n",
       " '20ddbf25-857f-4400-b0a2-ac02de9fba88_Basecall_Alignment_template',\n",
       " '20e19832-79f3-4589-ab59-594a8c057eb0_Basecall_Alignment_template',\n",
       " '20eb210c-f03e-4b93-b740-36594abb4cb8_Basecall_Alignment_template',\n",
       " '20ebcbc4-4424-401a-9db2-631d77df453e_Basecall_Alignment_template',\n",
       " '20f91b22-e22a-4f9a-8df6-9f2b3f8452c9_Basecall_Alignment_template',\n",
       " '2101a8f6-79ea-486b-9c28-c3d48194a285_Basecall_Alignment_template',\n",
       " ...]"
      ]
     },
     "execution_count": 601,
     "metadata": {},
     "output_type": "execute_result"
    }
   ],
   "source": [
    "blast_dfs_dict['BC01']['qseqid'].tolist()"
   ]
  },
  {
   "cell_type": "code",
   "execution_count": 602,
   "metadata": {
    "collapsed": false
   },
   "outputs": [
    {
     "name": "stdout",
     "output_type": "stream",
     "text": [
      "10480\n",
      "10480\n"
     ]
    },
    {
     "data": {
      "text/plain": [
       "10480"
      ]
     },
     "execution_count": 602,
     "metadata": {},
     "output_type": "execute_result"
    }
   ],
   "source": [
    "BC01_read_id_list_set = set(poretools_df.groupby('Barcode')['Read_id'].get_group('BC01').tolist())\n",
    "BC01_read_id_list = sorted(list(BC01_read_id_list_set))\n",
    "\n",
    "BC01_qseqid_list_set = set(blast_dfs_dict['BC01']['qseqid'].tolist())\n",
    "BC01_qseqid_list = sorted(list(BC01_qseqid_list_set))\n",
    "\n",
    "BC01_not_blasted_list = []\n",
    "for ids in BC01_read_id_list:\n",
    "    if ids not in BC01_qseqid_list:\n",
    "        BC01_not_blasted_list.append(ids)\n",
    "\n",
    "#Check to see if the not blasted list has the correct amount of entries (if they equal)\n",
    "print(len(BC01_not_blasted_list))\n",
    "print(len(BC01_read_id_list) - len(BC01_qseqid_list))\n",
    "\n",
    "#SHOULD BE 10479 as in original besthit blast file\n",
    "\n",
    "os.chdir('/home/gamran/data/')\n",
    "outdir = '/home/gamran/analysis/'\n",
    "os.curdir\n",
    "\n",
    "b_id = \"1212_1D_barcoding_Wagga_\"\n",
    "noblasthit_id = \".WW_19122016.noblasthit.fa\"\n",
    "noblasthit_file = b_id + \"BC01\" + noblasthit_id\n",
    "fa_file = b_id + \"BC01\" + \".fa\"\n",
    "\n",
    "#Filter the original fasta file to only include reads not blasted, export to new fasta file\n",
    "not_blasted_sequences = []\n",
    "for seq in SeqIO.parse(open('1212_1D_barcoding_Wagga_BC01.fa'), 'fasta'):\n",
    "    if seq.id in BC01_not_blasted_list:\n",
    "        not_blasted_sequences.append(seq)\n",
    "SeqIO.write(not_blasted_sequences, noblasthit_file, \"fasta\")\n"
   ]
  },
  {
   "cell_type": "code",
   "execution_count": 603,
   "metadata": {
    "collapsed": false
   },
   "outputs": [
    {
     "name": "stdout",
     "output_type": "stream",
     "text": [
      "12513\n",
      "12513\n"
     ]
    },
    {
     "data": {
      "text/plain": [
       "12513"
      ]
     },
     "execution_count": 603,
     "metadata": {},
     "output_type": "execute_result"
    }
   ],
   "source": [
    "BC02_read_id_list_set = set(poretools_df.groupby('Barcode')['Read_id'].get_group('BC02').tolist())\n",
    "BC02_read_id_list = sorted(list(BC02_read_id_list_set))\n",
    "\n",
    "BC02_qseqid_list_set = set(blast_dfs_dict['BC02']['qseqid'].tolist())\n",
    "BC02_qseqid_list = sorted(list(BC02_qseqid_list_set))\n",
    "\n",
    "BC02_not_blasted_list = []\n",
    "for ids in BC02_read_id_list:\n",
    "    if ids not in BC02_qseqid_list:\n",
    "        BC02_not_blasted_list.append(ids)\n",
    "\n",
    "#Check to see if the not blasted list has the correct amount of entries (if they equal)\n",
    "print(len(BC02_not_blasted_list))\n",
    "print(len(BC02_read_id_list) - len(BC02_qseqid_list))\n",
    "\n",
    "#SHOULD BE 10479 as in original besthit blast file\n",
    "\n",
    "os.chdir('/home/gamran/data/')\n",
    "outdir = '/home/gamran/analysis/'\n",
    "os.curdir\n",
    "\n",
    "b_id = \"1212_1D_barcoding_Wagga_\"\n",
    "noblasthit_id = \".WW_19122016.noblasthit.fa\"\n",
    "noblasthit_file = b_id + \"BC02\" + noblasthit_id\n",
    "fa_file = b_id + \"BC02\" + \".fa\"\n",
    "\n",
    "#Filter the original fasta file to only include reads not blasted, export to new fasta file\n",
    "not_blasted_sequences = []\n",
    "for seq in SeqIO.parse(open('1212_1D_barcoding_Wagga_BC02.fa'), 'fasta'):\n",
    "    if seq.id in BC02_not_blasted_list:\n",
    "        not_blasted_sequences.append(seq)\n",
    "SeqIO.write(not_blasted_sequences, noblasthit_file, \"fasta\")\n"
   ]
  },
  {
   "cell_type": "code",
   "execution_count": 604,
   "metadata": {
    "collapsed": false
   },
   "outputs": [
    {
     "name": "stdout",
     "output_type": "stream",
     "text": [
      "3307\n",
      "3307\n"
     ]
    },
    {
     "data": {
      "text/plain": [
       "3307"
      ]
     },
     "execution_count": 604,
     "metadata": {},
     "output_type": "execute_result"
    }
   ],
   "source": [
    "BC03_read_id_list_set = set(poretools_df.groupby('Barcode')['Read_id'].get_group('BC03').tolist())\n",
    "BC03_read_id_list = sorted(list(BC03_read_id_list_set))\n",
    "\n",
    "BC03_qseqid_list_set = set(blast_dfs_dict['BC03']['qseqid'].tolist())\n",
    "BC03_qseqid_list = sorted(list(BC03_qseqid_list_set))\n",
    "\n",
    "BC03_not_blasted_list = []\n",
    "for ids in BC03_read_id_list:\n",
    "    if ids not in BC03_qseqid_list:\n",
    "        BC03_not_blasted_list.append(ids)\n",
    "\n",
    "#Check to see if the not blasted list has the correct amount of entries (if they equal)\n",
    "print(len(BC03_not_blasted_list))\n",
    "print(len(BC03_read_id_list) - len(BC03_qseqid_list))\n",
    "\n",
    "#SHOULD BE 10479 as in original besthit blast file\n",
    "\n",
    "os.chdir('/home/gamran/data/')\n",
    "outdir = '/home/gamran/analysis/'\n",
    "os.curdir\n",
    "\n",
    "b_id = \"1212_1D_barcoding_Wagga_\"\n",
    "noblasthit_id = \".WW_19122016.noblasthit.fa\"\n",
    "noblasthit_file = b_id + \"BC03\" + noblasthit_id\n",
    "fa_file = b_id + \"BC03\" + \".fa\"\n",
    "\n",
    "#Filter the original fasta file to only include reads not blasted, export to new fasta file\n",
    "not_blasted_sequences = []\n",
    "for seq in SeqIO.parse(open('1212_1D_barcoding_Wagga_BC03.fa'), 'fasta'):\n",
    "    if seq.id in BC03_not_blasted_list:\n",
    "        not_blasted_sequences.append(seq)\n",
    "SeqIO.write(not_blasted_sequences, noblasthit_file, \"fasta\")\n"
   ]
  },
  {
   "cell_type": "code",
   "execution_count": 605,
   "metadata": {
    "collapsed": false
   },
   "outputs": [
    {
     "name": "stdout",
     "output_type": "stream",
     "text": [
      "12287\n",
      "12287\n"
     ]
    },
    {
     "data": {
      "text/plain": [
       "12287"
      ]
     },
     "execution_count": 605,
     "metadata": {},
     "output_type": "execute_result"
    }
   ],
   "source": [
    "BC04_read_id_list_set = set(poretools_df.groupby('Barcode')['Read_id'].get_group('BC04').tolist())\n",
    "BC04_read_id_list = sorted(list(BC04_read_id_list_set))\n",
    "\n",
    "BC04_qseqid_list_set = set(blast_dfs_dict['BC04']['qseqid'].tolist())\n",
    "BC04_qseqid_list = sorted(list(BC04_qseqid_list_set))\n",
    "\n",
    "BC04_not_blasted_list = []\n",
    "for ids in BC04_read_id_list:\n",
    "    if ids not in BC04_qseqid_list:\n",
    "        BC04_not_blasted_list.append(ids)\n",
    "\n",
    "#Check to see if the not blasted list has the correct amount of entries (if they equal)\n",
    "print(len(BC04_not_blasted_list))\n",
    "print(len(BC04_read_id_list) - len(BC04_qseqid_list))\n",
    "\n",
    "#SHOULD BE 10479 as in original besthit blast file\n",
    "\n",
    "os.chdir('/home/gamran/data/')\n",
    "outdir = '/home/gamran/analysis/'\n",
    "os.curdir\n",
    "\n",
    "b_id = \"1212_1D_barcoding_Wagga_\"\n",
    "noblasthit_id = \".WW_19122016.noblasthit.fa\"\n",
    "noblasthit_file = b_id + \"BC04\" + noblasthit_id\n",
    "fa_file = b_id + \"BC04\" + \".fa\"\n",
    "\n",
    "#Filter the original fasta file to only include reads not blasted, export to new fasta file\n",
    "not_blasted_sequences = []\n",
    "for seq in SeqIO.parse(open('1212_1D_barcoding_Wagga_BC04.fa'), 'fasta'):\n",
    "    if seq.id in BC04_not_blasted_list:\n",
    "        not_blasted_sequences.append(seq)\n",
    "SeqIO.write(not_blasted_sequences, noblasthit_file, \"fasta\")\n"
   ]
  },
  {
   "cell_type": "code",
   "execution_count": 606,
   "metadata": {
    "collapsed": false
   },
   "outputs": [
    {
     "name": "stdout",
     "output_type": "stream",
     "text": [
      "7859\n",
      "7859\n"
     ]
    },
    {
     "data": {
      "text/plain": [
       "7859"
      ]
     },
     "execution_count": 606,
     "metadata": {},
     "output_type": "execute_result"
    }
   ],
   "source": [
    "BC05_read_id_list_set = set(poretools_df.groupby('Barcode')['Read_id'].get_group('BC05').tolist())\n",
    "BC05_read_id_list = sorted(list(BC05_read_id_list_set))\n",
    "\n",
    "BC05_qseqid_list_set = set(blast_dfs_dict['BC05']['qseqid'].tolist())\n",
    "BC05_qseqid_list = sorted(list(BC05_qseqid_list_set))\n",
    "\n",
    "BC05_not_blasted_list = []\n",
    "for ids in BC05_read_id_list:\n",
    "    if ids not in BC05_qseqid_list:\n",
    "        BC05_not_blasted_list.append(ids)\n",
    "\n",
    "#Check to see if the not blasted list has the correct amount of entries (if they equal)\n",
    "print(len(BC05_not_blasted_list))\n",
    "print(len(BC05_read_id_list) - len(BC05_qseqid_list))\n",
    "\n",
    "#SHOULD BE 10479 as in original besthit blast file\n",
    "\n",
    "os.chdir('/home/gamran/data/')\n",
    "outdir = '/home/gamran/analysis/'\n",
    "os.curdir\n",
    "\n",
    "b_id = \"1212_1D_barcoding_Wagga_\"\n",
    "noblasthit_id = \".WW_19122016.noblasthit.fa\"\n",
    "noblasthit_file = b_id + \"BC05\" + noblasthit_id\n",
    "fa_file = b_id + \"BC05\" + \".fa\"\n",
    "\n",
    "#Filter the original fasta file to only include reads not blasted, export to new fasta file\n",
    "not_blasted_sequences = []\n",
    "for seq in SeqIO.parse(open('1212_1D_barcoding_Wagga_BC05.fa'), 'fasta'):\n",
    "    if seq.id in BC05_not_blasted_list:\n",
    "        not_blasted_sequences.append(seq)\n",
    "SeqIO.write(not_blasted_sequences, noblasthit_file, \"fasta\")\n"
   ]
  },
  {
   "cell_type": "code",
   "execution_count": 607,
   "metadata": {
    "collapsed": false
   },
   "outputs": [
    {
     "name": "stdout",
     "output_type": "stream",
     "text": [
      "29295\n",
      "29295\n"
     ]
    },
    {
     "data": {
      "text/plain": [
       "29295"
      ]
     },
     "execution_count": 607,
     "metadata": {},
     "output_type": "execute_result"
    }
   ],
   "source": [
    "BC06_read_id_list_set = set(poretools_df.groupby('Barcode')['Read_id'].get_group('BC06').tolist())\n",
    "BC06_read_id_list = sorted(list(BC06_read_id_list_set))\n",
    "\n",
    "BC06_qseqid_list_set = set(blast_dfs_dict['BC06']['qseqid'].tolist())\n",
    "BC06_qseqid_list = sorted(list(BC06_qseqid_list_set))\n",
    "\n",
    "BC06_not_blasted_list = []\n",
    "for ids in BC06_read_id_list:\n",
    "    if ids not in BC06_qseqid_list:\n",
    "        BC06_not_blasted_list.append(ids)\n",
    "\n",
    "#Check to see if the not blasted list has the correct amount of entries (if they equal)\n",
    "print(len(BC06_not_blasted_list))\n",
    "print(len(BC06_read_id_list) - len(BC06_qseqid_list))\n",
    "\n",
    "#SHOULD BE 10479 as in original besthit blast file\n",
    "\n",
    "os.chdir('/home/gamran/data/')\n",
    "outdir = '/home/gamran/analysis/'\n",
    "os.curdir\n",
    "\n",
    "b_id = \"1212_1D_barcoding_Wagga_\"\n",
    "noblasthit_id = \".WW_19122016.noblasthit.fa\"\n",
    "noblasthit_file = b_id + \"BC06\" + noblasthit_id\n",
    "fa_file = b_id + \"BC06\" + \".fa\"\n",
    "\n",
    "#Filter the original fasta file to only include reads not blasted, export to new fasta file\n",
    "not_blasted_sequences = []\n",
    "for seq in SeqIO.parse(open('1212_1D_barcoding_Wagga_BC06.fa'), 'fasta'):\n",
    "    if seq.id in BC06_not_blasted_list:\n",
    "        not_blasted_sequences.append(seq)\n",
    "SeqIO.write(not_blasted_sequences, noblasthit_file, \"fasta\")\n"
   ]
  },
  {
   "cell_type": "code",
   "execution_count": 630,
   "metadata": {
    "collapsed": false
   },
   "outputs": [
    {
     "data": {
      "text/plain": [
       "3057"
      ]
     },
     "execution_count": 630,
     "metadata": {},
     "output_type": "execute_result"
    }
   ],
   "source": []
  },
  {
   "cell_type": "code",
   "execution_count": 631,
   "metadata": {
    "collapsed": false
   },
   "outputs": [
    {
     "name": "stdout",
     "output_type": "stream",
     "text": [
      "318\n",
      "318\n"
     ]
    },
    {
     "data": {
      "text/plain": [
       "318"
      ]
     },
     "execution_count": 631,
     "metadata": {},
     "output_type": "execute_result"
    }
   ],
   "source": [
    "BC00_read_id_list_set = set(poretools_df.groupby('GoodorBad')['Read_id'].get_group('Bad-BC').tolist())\n",
    "BC00_read_id_list = sorted(list(BC00_read_id_list_set))\n",
    "\n",
    "BC00_qseqid_list_set = set(blast_dfs_dict['BC00']['qseqid'].tolist())\n",
    "BC00_qseqid_list = sorted(list(BC00_qseqid_list_set))\n",
    "\n",
    "BC00_not_blasted_list = []\n",
    "for ids in BC00_read_id_list:\n",
    "    if ids not in BC00_qseqid_list:\n",
    "        BC00_not_blasted_list.append(ids)\n",
    "\n",
    "#Check to see if the not blasted list has the correct amount of entries (if they equal)\n",
    "print(len(BC00_not_blasted_list))\n",
    "print(len(BC00_read_id_list) - len(BC00_qseqid_list))\n",
    "\n",
    "#SHOULD BE 10479 as in original besthit blast file\n",
    "\n",
    "os.chdir('/home/gamran/data/')\n",
    "outdir = '/home/gamran/analysis/'\n",
    "os.curdir\n",
    "\n",
    "b_id = \"1212_1D_barcoding_Wagga_\"\n",
    "noblasthit_id = \".WW_19122016.noblasthit.fa\"\n",
    "noblasthit_file = b_id + \"BC00\" + noblasthit_id\n",
    "fa_file = b_id + \"BC00\" + \".fa\"\n",
    "\n",
    "#Filter the original fasta file to only include reads not blasted, export to new fasta file\n",
    "not_blasted_sequences = []\n",
    "for seq in SeqIO.parse(open('1212_1D_barcoding_Wagga_BC00.fa'), 'fasta'):\n",
    "    if seq.id in BC00_not_blasted_list:\n",
    "        not_blasted_sequences.append(seq)\n",
    "SeqIO.write(not_blasted_sequences, noblasthit_file, \"fasta\")"
   ]
  },
  {
   "cell_type": "code",
   "execution_count": 632,
   "metadata": {
    "collapsed": false
   },
   "outputs": [
    {
     "name": "stdout",
     "output_type": "stream",
     "text": [
      "5406\n",
      "5406\n"
     ]
    },
    {
     "data": {
      "text/plain": [
       "5406"
      ]
     },
     "execution_count": 632,
     "metadata": {},
     "output_type": "execute_result"
    }
   ],
   "source": [
    "NB00_read_id_list_set = set(poretools_df.groupby('GoodorBad')['Read_id'].get_group('Bad-NB').tolist())\n",
    "NB00_read_id_list = sorted(list(NB00_read_id_list_set))\n",
    "\n",
    "NB00_qseqid_list_set = set(blast_dfs_dict['NB00']['qseqid'].tolist())\n",
    "NB00_qseqid_list = sorted(list(NB00_qseqid_list_set))\n",
    "\n",
    "NB00_not_blasted_list = []\n",
    "for ids in NB00_read_id_list:\n",
    "    if ids not in NB00_qseqid_list:\n",
    "        NB00_not_blasted_list.append(ids)\n",
    "\n",
    "#Check to see if the not blasted list has the correct amount of entries (if they equal)\n",
    "print(len(NB00_not_blasted_list))\n",
    "print(len(NB00_read_id_list) - len(NB00_qseqid_list))\n",
    "\n",
    "#SHOULD BE 10479 as in original besthit blast file\n",
    "\n",
    "os.chdir('/home/gamran/data/')\n",
    "outdir = '/home/gamran/analysis/'\n",
    "os.curdir\n",
    "\n",
    "b_id = \"1212_1D_barcoding_Wagga_\"\n",
    "noblasthit_id = \".WW_19122016.noblasthit.fa\"\n",
    "noblasthit_file = b_id + \"NB00\" + noblasthit_id\n",
    "fa_file = b_id + \"NB00\" + \".fa\"\n",
    "\n",
    "#Filter the original fasta file to only include reads not blasted, export to new fasta file\n",
    "not_blasted_sequences = []\n",
    "for seq in SeqIO.parse(open('1212_1D_barcoding_Wagga_NB00.fa'), 'fasta'):\n",
    "    if seq.id in NB00_not_blasted_list:\n",
    "        not_blasted_sequences.append(seq)\n",
    "SeqIO.write(not_blasted_sequences, noblasthit_file, \"fasta\")"
   ]
  },
  {
   "cell_type": "code",
   "execution_count": null,
   "metadata": {
    "collapsed": true
   },
   "outputs": [],
   "source": []
  },
  {
   "cell_type": "code",
   "execution_count": null,
   "metadata": {
    "collapsed": false
   },
   "outputs": [],
   "source": [
    "os.chdir('/home/gamran/data/')\n",
    "outdir = '/home/gamran/analysis/'\n",
    "os.curdir\n",
    "\n",
    "b_id = \"1212_1D_barcoding_Wagga_\"\n",
    "noblasthit_id = \".WW_19122016.noblasthit.fa\"\n",
    "noblasthit_file = b_id + \"BC01\" + noblasthit_id\n",
    "fa_file = b_id + \"BC01\" + \".fa\"\n",
    "\n",
    "#Filter the original fasta file to only include reads not blasted, export to new fasta file\n",
    "not_blasted_sequences = []\n",
    "for seq in SeqIO.parse(open('1212_1D_barcoding_Wagga_BC01.fa'), 'fasta'):\n",
    "    if seq.id in BC01_not_blasted_list:\n",
    "        not_blasted_sequences.append(seq)\n",
    "SeqIO.write(not_blasted_sequences, noblasthit_file, \"fasta\")\n",
    "\n"
   ]
  },
  {
   "cell_type": "code",
   "execution_count": 98,
   "metadata": {
    "collapsed": false
   },
   "outputs": [
    {
     "name": "stdout",
     "output_type": "stream",
     "text": [
      "7786\n",
      "7375\n"
     ]
    }
   ],
   "source": [
    "#Shows that some reads are being assigned to the same contig (duplicates)\n",
    "BC01_sseqid_list = sorted(BC01_b_poretools_df['sseqid'].tolist())\n",
    "print(len(BC01_sseqid_list))\n",
    "\n",
    "BC01_sseqid_ulist = sorted(list(set(BC01_b_poretools_df['sseqid'].tolist())))\n",
    "print(len(BC01_sseqid_ulist))\n",
    "\n",
    "#BC01_sseqid_list[0][0:4]\n",
    "#BC01_sseqid_list"
   ]
  },
  {
   "cell_type": "code",
   "execution_count": null,
   "metadata": {
    "collapsed": true
   },
   "outputs": [],
   "source": [
    "#Draft summary table - first blast run:\n",
    "#Rows defined by barcode:\n",
    "#Columns: "
   ]
  },
  {
   "cell_type": "code",
   "execution_count": null,
   "metadata": {
    "collapsed": true
   },
   "outputs": [],
   "source": []
  },
  {
   "cell_type": "code",
   "execution_count": null,
   "metadata": {
    "collapsed": true
   },
   "outputs": [],
   "source": []
  },
  {
   "cell_type": "code",
   "execution_count": null,
   "metadata": {
    "collapsed": true
   },
   "outputs": [],
   "source": []
  },
  {
   "cell_type": "code",
   "execution_count": null,
   "metadata": {
    "collapsed": true
   },
   "outputs": [],
   "source": [
    "poretools_df.iloc[:,-2:]"
   ]
  },
  {
   "cell_type": "code",
   "execution_count": null,
   "metadata": {
    "collapsed": false
   },
   "outputs": [],
   "source": [
    "plt.figure()\n",
    "grouped = poretools_df.groupby('Barcode')\n",
    "grouped"
   ]
  },
  {
   "cell_type": "code",
   "execution_count": null,
   "metadata": {
    "collapsed": true
   },
   "outputs": [],
   "source": [
    "poretools_df.groupby('Barcode').hist(bins=30)\n",
    "plt.legend()"
   ]
  },
  {
   "cell_type": "code",
   "execution_count": null,
   "metadata": {
    "collapsed": true
   },
   "outputs": [],
   "source": [
    "grouped.Length.plot(kind='bar')"
   ]
  },
  {
   "cell_type": "code",
   "execution_count": null,
   "metadata": {
    "collapsed": false
   },
   "outputs": [],
   "source": [
    "poretools_df.pivot_table('Length', 'Barcode')"
   ]
  },
  {
   "cell_type": "code",
   "execution_count": null,
   "metadata": {
    "collapsed": false
   },
   "outputs": [],
   "source": [
    "poretools_df.head()"
   ]
  },
  {
   "cell_type": "code",
   "execution_count": null,
   "metadata": {
    "collapsed": true
   },
   "outputs": [],
   "source": [
    "grouped.groups"
   ]
  },
  {
   "cell_type": "code",
   "execution_count": null,
   "metadata": {
    "collapsed": false
   },
   "outputs": [],
   "source": [
    "import pandas as pd\n",
    "from numpy.random import randint\n",
    "import matplotlib.pyplot as plt\n",
    "df = pd.DataFrame(randint(0,10,(200,6)),columns=list('abcdef'))\n",
    "df.head()"
   ]
  },
  {
   "cell_type": "code",
   "execution_count": null,
   "metadata": {
    "collapsed": false
   },
   "outputs": [],
   "source": [
    "grouped.head()"
   ]
  },
  {
   "cell_type": "code",
   "execution_count": null,
   "metadata": {
    "collapsed": false
   },
   "outputs": [],
   "source": [
    "plt.figure()\n",
    "grouped = poretools_df.groupby('Barcode')\n",
    "rowlength = grouped.ngroups/2\n",
    "\n",
    "fig, axs = plt.subplots(figsize=(15,12), \n",
    "                        nrows=2, ncols=int(rowlength),\n",
    "                        #sharex=True, # fix as above\n",
    "                        gridspec_kw=dict(hspace=0.4))\n",
    "\n",
    "plt.setp(axs, xticks=np.arange(0,poretools_df.iloc[:, 2].max()+1,3000))\n",
    "#plt.xlim(0,poretools_df.iloc[:, 2].max()+1)\n",
    "print(axs.flatten())\n",
    "\n",
    "keys = list(grouped.groups.keys())\n",
    "keys.sort()\n",
    "targets = zip(keys, axs.flatten())\n",
    "#print([z for z in targets])\n",
    "\n",
    "max_count_list = []\n",
    "for key in grouped.groups.keys():\n",
    "    max_count_list.append(np.histogram(grouped.Length.get_group(key), 50)[0].max())\n",
    "max_count_list.sort()\n",
    "for i, (key, ax) in enumerate(targets):\n",
    "    #print(i)\n",
    "    ax.hist(grouped.Length.get_group(key), bins=50)\n",
    "    ax.set_title('%s' %key)\n",
    "    ax.set_xlabel('Count')\n",
    "    ax.set_ylabel('Length')\n",
    "    _mean = grouped.Length.get_group(key).mean()\n",
    "    _count = grouped.Length.get_group(key).count()\n",
    "    ax.text(4000, 1400, r'mean = %sbp'%int(_mean))\n",
    "    ax.text(4000, 1000, r'count = %s'%int(_count))\n",
    "    ax.set_xlim(0,poretools_df.iloc[:, 2].max()+1)\n",
    "    ax.set_ylim(0, max_count_list[-1]+50)\n",
    "    #ax.xaxis()\n",
    "\n",
    "#poretools_df.groupby('Barcode')['Length'].hist( bins=50)"
   ]
  },
  {
   "cell_type": "code",
   "execution_count": null,
   "metadata": {
    "collapsed": false
   },
   "outputs": [],
   "source": [
    "keys = grouped.groups.keys()"
   ]
  },
  {
   "cell_type": "code",
   "execution_count": null,
   "metadata": {
    "collapsed": false
   },
   "outputs": [],
   "source": [
    "a = list(keys)\n",
    "a.sort()\n",
    "a"
   ]
  },
  {
   "cell_type": "code",
   "execution_count": null,
   "metadata": {
    "collapsed": false
   },
   "outputs": [],
   "source": [
    "max_count_list.sort()\n",
    "max_count_list[-1]"
   ]
  },
  {
   "cell_type": "code",
   "execution_count": null,
   "metadata": {
    "collapsed": false
   },
   "outputs": [],
   "source": [
    "np.histogram(grouped.Length.get_group('BC01'), 50)[0].max()"
   ]
  },
  {
   "cell_type": "code",
   "execution_count": null,
   "metadata": {
    "collapsed": false
   },
   "outputs": [],
   "source": [
    "plt.figure(figsize=(15,15))\n",
    "poretools_df.iloc[:, 2].hist(bins=50)\n",
    "plt.xlabel('read_length')\n",
    "plt.xticks(np.arange(0,poretools_df.iloc[:, 2].max()+1,1000))\n",
    "plt.ylabel('count')\n",
    "plt.title(_id + 'pass reads length distribution')\n",
    "plt.savefig(outdir + _id + \"_read_lenght.tiff\")"
   ]
  },
  {
   "cell_type": "code",
   "execution_count": null,
   "metadata": {
    "collapsed": false
   },
   "outputs": [],
   "source": [
    "poretools_df.iloc[:,2].mean()"
   ]
  },
  {
   "cell_type": "code",
   "execution_count": null,
   "metadata": {
    "collapsed": false
   },
   "outputs": [],
   "source": [
    "poretools_df.iloc[:,2].median()"
   ]
  },
  {
   "cell_type": "code",
   "execution_count": null,
   "metadata": {
    "collapsed": false
   },
   "outputs": [],
   "source": [
    "poretools_df.iloc[:,2].sum()"
   ]
  },
  {
   "cell_type": "code",
   "execution_count": null,
   "metadata": {
    "collapsed": false
   },
   "outputs": [],
   "source": [
    "poretools_df.iloc[:,2].max()"
   ]
  },
  {
   "cell_type": "code",
   "execution_count": null,
   "metadata": {
    "collapsed": false
   },
   "outputs": [],
   "source": [
    "!/Users/ben/.conda/envs/poretools/bin/python ../../nanopore-scripts/expand-cigar.py --bam v91_cns_gcoords_cur_ph_ctg.29092016_M.poretools.cbbu.pass.group1.sorted.bam --fasta v91_cns_gcoords_curs_ph_ctg.fa >  v91_cns_gcoords_cur_ph_ctg.29092016_M.poretools.cbbu.pass.group1.sorted.expanded.bam   "
   ]
  },
  {
   "cell_type": "code",
   "execution_count": null,
   "metadata": {
    "collapsed": false
   },
   "outputs": [],
   "source": [
    "!which python"
   ]
  },
  {
   "cell_type": "code",
   "execution_count": null,
   "metadata": {
    "collapsed": false
   },
   "outputs": [],
   "source": [
    "!/Users/ben/.conda/envs/poretools/bin/python ../../nanopore-scripts_BS/count_errors_BS.py v91_cns_gcoords_cur_ph_ctg.29092016_M.poretools.cbbu.pass.group1.sorted.expanded.bam > v91_cns_gcoords_cur_ph_ctg.29092016_M.poretools.cbbu.pass.group1.error_profile.txt    "
   ]
  },
  {
   "cell_type": "code",
   "execution_count": null,
   "metadata": {
    "collapsed": false
   },
   "outputs": [],
   "source": [
    "error_df  = pd.read_csv('v91_cns_gcoords_cur_ph_ctg.'+_id+'error_profile.txt', sep='\\t')"
   ]
  },
  {
   "cell_type": "code",
   "execution_count": null,
   "metadata": {
    "collapsed": false
   },
   "outputs": [],
   "source": [
    "error_g20_df[error_g20_df['read_len'] > 50000]"
   ]
  },
  {
   "cell_type": "code",
   "execution_count": null,
   "metadata": {
    "collapsed": false
   },
   "outputs": [],
   "source": [
    "error_df.head()"
   ]
  },
  {
   "cell_type": "code",
   "execution_count": null,
   "metadata": {
    "collapsed": true
   },
   "outputs": [],
   "source": [
    "error_df[\"%Identity\"] = (error_df['matches']/(error_df['matches']+error_df['deletions']+error_df['insertions']+error_df['mismatches'])*100)"
   ]
  },
  {
   "cell_type": "code",
   "execution_count": null,
   "metadata": {
    "collapsed": false
   },
   "outputs": [],
   "source": [
    "error_df['%Identity'].hist(bins=30)\n",
    "plt.xlim(20,100)"
   ]
  },
  {
   "cell_type": "code",
   "execution_count": null,
   "metadata": {
    "collapsed": false
   },
   "outputs": [],
   "source": [
    "error_df['%Identity'].median()"
   ]
  },
  {
   "cell_type": "code",
   "execution_count": null,
   "metadata": {
    "collapsed": false
   },
   "outputs": [],
   "source": [
    "error_df.count()"
   ]
  },
  {
   "cell_type": "code",
   "execution_count": null,
   "metadata": {
    "collapsed": false
   },
   "outputs": [],
   "source": [
    "error_df['%Identity'].mean()"
   ]
  },
  {
   "cell_type": "code",
   "execution_count": null,
   "metadata": {
    "collapsed": false
   },
   "outputs": [],
   "source": [
    "error_g20_df = error_df[error_df['%Identity'] > 20]"
   ]
  },
  {
   "cell_type": "code",
   "execution_count": null,
   "metadata": {
    "collapsed": false
   },
   "outputs": [],
   "source": [
    "error_g20_df['%Identity'].median()"
   ]
  },
  {
   "cell_type": "code",
   "execution_count": null,
   "metadata": {
    "collapsed": false
   },
   "outputs": [],
   "source": [
    "error_g20_df['%Identity'].mean()"
   ]
  },
  {
   "cell_type": "code",
   "execution_count": null,
   "metadata": {
    "collapsed": false
   },
   "outputs": [],
   "source": [
    "error_g20_df['%Identity'].hist(bins=30)\n",
    "plt.xlabel('%Identity')\n",
    "plt.ylabel('Count')\n",
    "plt.title('1D error rate Metichor calling')\n",
    "plt.savefig(outdir+_id+'1D_error_rate.tiff')"
   ]
  },
  {
   "cell_type": "code",
   "execution_count": null,
   "metadata": {
    "collapsed": false
   },
   "outputs": [],
   "source": [
    "error_g20_df['%Identity'].count()"
   ]
  },
  {
   "cell_type": "code",
   "execution_count": null,
   "metadata": {
    "collapsed": false
   },
   "outputs": [],
   "source": [
    "poretools_df[1].count()"
   ]
  },
  {
   "cell_type": "code",
   "execution_count": null,
   "metadata": {
    "collapsed": true
   },
   "outputs": [],
   "source": [
    "pc_mapping = error_g20_df['%Identity'].count()/poretools_df[1].count()*100"
   ]
  },
  {
   "cell_type": "code",
   "execution_count": null,
   "metadata": {
    "collapsed": false
   },
   "outputs": [],
   "source": [
    "pc_mapping"
   ]
  },
  {
   "cell_type": "code",
   "execution_count": null,
   "metadata": {
    "collapsed": false
   },
   "outputs": [],
   "source": [
    "error_g20_df['read_len'].max()"
   ]
  },
  {
   "cell_type": "code",
   "execution_count": null,
   "metadata": {
    "collapsed": false
   },
   "outputs": [],
   "source": [
    "plt.scatter(error_g20_df['read_len'], error_g20_df['%Identity'])\n",
    "plt.xlim(0,error_g20_df['read_len'].max()+10000)\n",
    "plt.xlabel('read_length')\n",
    "plt.ylabel('%Identity')\n",
    "plt.title('1D error rate Metichor calling')\n",
    "plt.xticks(np.arange(0,error_g20_df['read_len'].max()+10000,20000))\n",
    "plt.savefig(outdir+_id+'1D_error_rate_v2.tiff')"
   ]
  },
  {
   "cell_type": "code",
   "execution_count": null,
   "metadata": {
    "collapsed": false
   },
   "outputs": [],
   "source": [
    "error_g20_df['read_len'].hist(bins=20)\n",
    "plt.xlabel('read_length')\n",
    "plt.ylabel('count')"
   ]
  },
  {
   "cell_type": "code",
   "execution_count": null,
   "metadata": {
    "collapsed": false
   },
   "outputs": [],
   "source": [
    "error_g20_df['read_len'].mean()"
   ]
  },
  {
   "cell_type": "code",
   "execution_count": null,
   "metadata": {
    "collapsed": false
   },
   "outputs": [],
   "source": [
    "error_g20_df['read_len'].median()"
   ]
  },
  {
   "cell_type": "code",
   "execution_count": null,
   "metadata": {
    "collapsed": true
   },
   "outputs": [],
   "source": []
  },
  {
   "cell_type": "code",
   "execution_count": null,
   "metadata": {
    "collapsed": true
   },
   "outputs": [],
   "source": [
    "BC01_sseqid2label = {}\n",
    "for scaffold in BC01_sseqid_list:\n",
    "    if 'TGAC' in scaffold[0:4]:\n",
    "        BC01_sseqid2label[scaffold] = 'Wheat'\n",
    "    if 'Zymo' in scaffold[0:4]:\n",
    "        BC01_sseqid2label[scaffold] = 'Zymo'\n",
    "    if 'Ptri' in scaffold[0:4]:\n",
    "        BC01_sseqid2label[scaffold] = 'Ptri'\n",
    "    if '0000' in scaffold[0:4]:\n",
    "        BC01_sseqid2label[scaffold] = 'Pst1_WA'\n",
    "    if '0001' in scaffold[0:4]:\n",
    "        BC01_sseqid2label[scaffold] = 'Pst2_WA'\n",
    "\n",
    "len(BC01_sseqid2label)\n",
    "# NOTE: DICTIONARIES DO NOT RETAIN DUPLICATES\n",
    "\n",
    "BC01_sseqid2label_wheat = {k: v for k, v in BC01_sseqid2label.items() if v == 'Wheat'}\n",
    "len(BC01_sseqid2label_wheat)\n",
    "BC01_sseqid2label_zymo = {k: v for k, v in BC01_sseqid2label.items() if v == 'Zymo'}\n",
    "len(BC01_sseqid2label_zymo)"
   ]
  }
 ],
 "metadata": {
  "anaconda-cloud": {},
  "kernelspec": {
   "display_name": "Python [conda root]",
   "language": "python",
   "name": "conda-root-py"
  },
  "language_info": {
   "codemirror_mode": {
    "name": "ipython",
    "version": 3
   },
   "file_extension": ".py",
   "mimetype": "text/x-python",
   "name": "python",
   "nbconvert_exporter": "python",
   "pygments_lexer": "ipython3",
   "version": "3.5.2"
  }
 },
 "nbformat": 4,
 "nbformat_minor": 0
}
